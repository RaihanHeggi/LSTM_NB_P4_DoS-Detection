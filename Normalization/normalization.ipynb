{
 "cells": [
  {
   "cell_type": "code",
   "execution_count": 9,
   "metadata": {},
   "outputs": [],
   "source": [
    "import pandas as pd \n",
    "from sklearn.preprocessing import MinMaxScaler\n",
    "from sklearn.preprocessing import StandardScaler"
   ]
  },
  {
   "cell_type": "markdown",
   "metadata": {},
   "source": [
    "## Load Dataset "
   ]
  },
  {
   "cell_type": "code",
   "execution_count": 13,
   "metadata": {},
   "outputs": [],
   "source": [
    "df_full_feature = pd.read_csv('processed_dataset_10.csv',sep=',')\n",
    "df_chi_square = pd.read_csv('processed_dataset_chi_square.csv', sep=',')\n",
    "df_feature_selection = pd.read_csv('processed_dataset_5.csv',sep=',')\n",
    "df_slice = pd.read_csv('processed_dataset_slice.csv',sep=',')"
   ]
  },
  {
   "cell_type": "markdown",
   "metadata": {},
   "source": [
    "## Check Dataset "
   ]
  },
  {
   "cell_type": "code",
   "execution_count": 11,
   "metadata": {},
   "outputs": [
    {
     "data": {
      "text/html": [
       "<div>\n",
       "<style scoped>\n",
       "    .dataframe tbody tr th:only-of-type {\n",
       "        vertical-align: middle;\n",
       "    }\n",
       "\n",
       "    .dataframe tbody tr th {\n",
       "        vertical-align: top;\n",
       "    }\n",
       "\n",
       "    .dataframe thead th {\n",
       "        text-align: right;\n",
       "    }\n",
       "</style>\n",
       "<table border=\"1\" class=\"dataframe\">\n",
       "  <thead>\n",
       "    <tr style=\"text-align: right;\">\n",
       "      <th></th>\n",
       "      <th>src</th>\n",
       "      <th>dst</th>\n",
       "      <th>Protocol</th>\n",
       "      <th>pktrate</th>\n",
       "      <th>pktperflow</th>\n",
       "      <th>dur</th>\n",
       "      <th>dur_nsec</th>\n",
       "      <th>bytecount</th>\n",
       "      <th>pktcount</th>\n",
       "      <th>label</th>\n",
       "    </tr>\n",
       "  </thead>\n",
       "  <tbody>\n",
       "    <tr>\n",
       "      <th>0</th>\n",
       "      <td>0.0</td>\n",
       "      <td>16.0</td>\n",
       "      <td>3</td>\n",
       "      <td>451</td>\n",
       "      <td>13535</td>\n",
       "      <td>100</td>\n",
       "      <td>716000000</td>\n",
       "      <td>48294064</td>\n",
       "      <td>45304</td>\n",
       "      <td>0</td>\n",
       "    </tr>\n",
       "    <tr>\n",
       "      <th>1</th>\n",
       "      <td>0.0</td>\n",
       "      <td>16.0</td>\n",
       "      <td>3</td>\n",
       "      <td>451</td>\n",
       "      <td>13531</td>\n",
       "      <td>280</td>\n",
       "      <td>734000000</td>\n",
       "      <td>134737070</td>\n",
       "      <td>126395</td>\n",
       "      <td>0</td>\n",
       "    </tr>\n",
       "    <tr>\n",
       "      <th>2</th>\n",
       "      <td>10.0</td>\n",
       "      <td>16.0</td>\n",
       "      <td>3</td>\n",
       "      <td>451</td>\n",
       "      <td>13534</td>\n",
       "      <td>200</td>\n",
       "      <td>744000000</td>\n",
       "      <td>96294978</td>\n",
       "      <td>90333</td>\n",
       "      <td>0</td>\n",
       "    </tr>\n",
       "    <tr>\n",
       "      <th>3</th>\n",
       "      <td>10.0</td>\n",
       "      <td>16.0</td>\n",
       "      <td>3</td>\n",
       "      <td>451</td>\n",
       "      <td>13534</td>\n",
       "      <td>200</td>\n",
       "      <td>744000000</td>\n",
       "      <td>96294978</td>\n",
       "      <td>90333</td>\n",
       "      <td>0</td>\n",
       "    </tr>\n",
       "    <tr>\n",
       "      <th>4</th>\n",
       "      <td>10.0</td>\n",
       "      <td>16.0</td>\n",
       "      <td>3</td>\n",
       "      <td>451</td>\n",
       "      <td>13534</td>\n",
       "      <td>200</td>\n",
       "      <td>744000000</td>\n",
       "      <td>96294978</td>\n",
       "      <td>90333</td>\n",
       "      <td>0</td>\n",
       "    </tr>\n",
       "  </tbody>\n",
       "</table>\n",
       "</div>"
      ],
      "text/plain": [
       "    src   dst  Protocol  pktrate  pktperflow  dur   dur_nsec  bytecount  \\\n",
       "0   0.0  16.0         3      451       13535  100  716000000   48294064   \n",
       "1   0.0  16.0         3      451       13531  280  734000000  134737070   \n",
       "2  10.0  16.0         3      451       13534  200  744000000   96294978   \n",
       "3  10.0  16.0         3      451       13534  200  744000000   96294978   \n",
       "4  10.0  16.0         3      451       13534  200  744000000   96294978   \n",
       "\n",
       "   pktcount  label  \n",
       "0     45304      0  \n",
       "1    126395      0  \n",
       "2     90333      0  \n",
       "3     90333      0  \n",
       "4     90333      0  "
      ]
     },
     "execution_count": 11,
     "metadata": {},
     "output_type": "execute_result"
    }
   ],
   "source": [
    "df_full_feature.head(5)"
   ]
  },
  {
   "cell_type": "code",
   "execution_count": 12,
   "metadata": {},
   "outputs": [
    {
     "data": {
      "text/html": [
       "<div>\n",
       "<style scoped>\n",
       "    .dataframe tbody tr th:only-of-type {\n",
       "        vertical-align: middle;\n",
       "    }\n",
       "\n",
       "    .dataframe tbody tr th {\n",
       "        vertical-align: top;\n",
       "    }\n",
       "\n",
       "    .dataframe thead th {\n",
       "        text-align: right;\n",
       "    }\n",
       "</style>\n",
       "<table border=\"1\" class=\"dataframe\">\n",
       "  <thead>\n",
       "    <tr style=\"text-align: right;\">\n",
       "      <th></th>\n",
       "      <th>dst</th>\n",
       "      <th>src</th>\n",
       "      <th>Protocol</th>\n",
       "      <th>pktcount</th>\n",
       "      <th>pktcount.1</th>\n",
       "      <th>label</th>\n",
       "    </tr>\n",
       "  </thead>\n",
       "  <tbody>\n",
       "    <tr>\n",
       "      <th>0</th>\n",
       "      <td>16.0</td>\n",
       "      <td>0.0</td>\n",
       "      <td>3</td>\n",
       "      <td>45304</td>\n",
       "      <td>45304</td>\n",
       "      <td>0</td>\n",
       "    </tr>\n",
       "    <tr>\n",
       "      <th>1</th>\n",
       "      <td>16.0</td>\n",
       "      <td>0.0</td>\n",
       "      <td>3</td>\n",
       "      <td>126395</td>\n",
       "      <td>126395</td>\n",
       "      <td>0</td>\n",
       "    </tr>\n",
       "    <tr>\n",
       "      <th>2</th>\n",
       "      <td>16.0</td>\n",
       "      <td>10.0</td>\n",
       "      <td>3</td>\n",
       "      <td>90333</td>\n",
       "      <td>90333</td>\n",
       "      <td>0</td>\n",
       "    </tr>\n",
       "    <tr>\n",
       "      <th>3</th>\n",
       "      <td>16.0</td>\n",
       "      <td>10.0</td>\n",
       "      <td>3</td>\n",
       "      <td>90333</td>\n",
       "      <td>90333</td>\n",
       "      <td>0</td>\n",
       "    </tr>\n",
       "    <tr>\n",
       "      <th>4</th>\n",
       "      <td>16.0</td>\n",
       "      <td>10.0</td>\n",
       "      <td>3</td>\n",
       "      <td>90333</td>\n",
       "      <td>90333</td>\n",
       "      <td>0</td>\n",
       "    </tr>\n",
       "  </tbody>\n",
       "</table>\n",
       "</div>"
      ],
      "text/plain": [
       "    dst   src  Protocol  pktcount  pktcount.1  label\n",
       "0  16.0   0.0         3     45304       45304      0\n",
       "1  16.0   0.0         3    126395      126395      0\n",
       "2  16.0  10.0         3     90333       90333      0\n",
       "3  16.0  10.0         3     90333       90333      0\n",
       "4  16.0  10.0         3     90333       90333      0"
      ]
     },
     "execution_count": 12,
     "metadata": {},
     "output_type": "execute_result"
    }
   ],
   "source": [
    "df_chi_square.head(5)"
   ]
  },
  {
   "cell_type": "code",
   "execution_count": 15,
   "metadata": {},
   "outputs": [
    {
     "data": {
      "text/html": [
       "<div>\n",
       "<style scoped>\n",
       "    .dataframe tbody tr th:only-of-type {\n",
       "        vertical-align: middle;\n",
       "    }\n",
       "\n",
       "    .dataframe tbody tr th {\n",
       "        vertical-align: top;\n",
       "    }\n",
       "\n",
       "    .dataframe thead th {\n",
       "        text-align: right;\n",
       "    }\n",
       "</style>\n",
       "<table border=\"1\" class=\"dataframe\">\n",
       "  <thead>\n",
       "    <tr style=\"text-align: right;\">\n",
       "      <th></th>\n",
       "      <th>pktrate</th>\n",
       "      <th>pktperflow</th>\n",
       "      <th>Protocol</th>\n",
       "      <th>src</th>\n",
       "      <th>dst</th>\n",
       "      <th>label</th>\n",
       "    </tr>\n",
       "  </thead>\n",
       "  <tbody>\n",
       "    <tr>\n",
       "      <th>0</th>\n",
       "      <td>451</td>\n",
       "      <td>13535</td>\n",
       "      <td>3</td>\n",
       "      <td>0.0</td>\n",
       "      <td>16.0</td>\n",
       "      <td>0</td>\n",
       "    </tr>\n",
       "    <tr>\n",
       "      <th>1</th>\n",
       "      <td>451</td>\n",
       "      <td>13531</td>\n",
       "      <td>3</td>\n",
       "      <td>0.0</td>\n",
       "      <td>16.0</td>\n",
       "      <td>0</td>\n",
       "    </tr>\n",
       "    <tr>\n",
       "      <th>2</th>\n",
       "      <td>451</td>\n",
       "      <td>13534</td>\n",
       "      <td>3</td>\n",
       "      <td>10.0</td>\n",
       "      <td>16.0</td>\n",
       "      <td>0</td>\n",
       "    </tr>\n",
       "    <tr>\n",
       "      <th>3</th>\n",
       "      <td>451</td>\n",
       "      <td>13534</td>\n",
       "      <td>3</td>\n",
       "      <td>10.0</td>\n",
       "      <td>16.0</td>\n",
       "      <td>0</td>\n",
       "    </tr>\n",
       "    <tr>\n",
       "      <th>4</th>\n",
       "      <td>451</td>\n",
       "      <td>13534</td>\n",
       "      <td>3</td>\n",
       "      <td>10.0</td>\n",
       "      <td>16.0</td>\n",
       "      <td>0</td>\n",
       "    </tr>\n",
       "  </tbody>\n",
       "</table>\n",
       "</div>"
      ],
      "text/plain": [
       "   pktrate  pktperflow  Protocol   src   dst  label\n",
       "0      451       13535         3   0.0  16.0      0\n",
       "1      451       13531         3   0.0  16.0      0\n",
       "2      451       13534         3  10.0  16.0      0\n",
       "3      451       13534         3  10.0  16.0      0\n",
       "4      451       13534         3  10.0  16.0      0"
      ]
     },
     "execution_count": 15,
     "metadata": {},
     "output_type": "execute_result"
    }
   ],
   "source": [
    "df_feature_selection.head(5)"
   ]
  },
  {
   "cell_type": "code",
   "execution_count": 16,
   "metadata": {},
   "outputs": [
    {
     "data": {
      "text/html": [
       "<div>\n",
       "<style scoped>\n",
       "    .dataframe tbody tr th:only-of-type {\n",
       "        vertical-align: middle;\n",
       "    }\n",
       "\n",
       "    .dataframe tbody tr th {\n",
       "        vertical-align: top;\n",
       "    }\n",
       "\n",
       "    .dataframe thead th {\n",
       "        text-align: right;\n",
       "    }\n",
       "</style>\n",
       "<table border=\"1\" class=\"dataframe\">\n",
       "  <thead>\n",
       "    <tr style=\"text-align: right;\">\n",
       "      <th></th>\n",
       "      <th>dst</th>\n",
       "      <th>src</th>\n",
       "      <th>Protocol</th>\n",
       "      <th>bytecount</th>\n",
       "      <th>label</th>\n",
       "    </tr>\n",
       "  </thead>\n",
       "  <tbody>\n",
       "    <tr>\n",
       "      <th>0</th>\n",
       "      <td>16.0</td>\n",
       "      <td>0.0</td>\n",
       "      <td>3</td>\n",
       "      <td>48294064</td>\n",
       "      <td>0</td>\n",
       "    </tr>\n",
       "    <tr>\n",
       "      <th>1</th>\n",
       "      <td>16.0</td>\n",
       "      <td>0.0</td>\n",
       "      <td>3</td>\n",
       "      <td>134737070</td>\n",
       "      <td>0</td>\n",
       "    </tr>\n",
       "    <tr>\n",
       "      <th>2</th>\n",
       "      <td>16.0</td>\n",
       "      <td>10.0</td>\n",
       "      <td>3</td>\n",
       "      <td>96294978</td>\n",
       "      <td>0</td>\n",
       "    </tr>\n",
       "    <tr>\n",
       "      <th>3</th>\n",
       "      <td>16.0</td>\n",
       "      <td>10.0</td>\n",
       "      <td>3</td>\n",
       "      <td>96294978</td>\n",
       "      <td>0</td>\n",
       "    </tr>\n",
       "    <tr>\n",
       "      <th>4</th>\n",
       "      <td>16.0</td>\n",
       "      <td>10.0</td>\n",
       "      <td>3</td>\n",
       "      <td>96294978</td>\n",
       "      <td>0</td>\n",
       "    </tr>\n",
       "  </tbody>\n",
       "</table>\n",
       "</div>"
      ],
      "text/plain": [
       "    dst   src  Protocol  bytecount  label\n",
       "0  16.0   0.0         3   48294064      0\n",
       "1  16.0   0.0         3  134737070      0\n",
       "2  16.0  10.0         3   96294978      0\n",
       "3  16.0  10.0         3   96294978      0\n",
       "4  16.0  10.0         3   96294978      0"
      ]
     },
     "execution_count": 16,
     "metadata": {},
     "output_type": "execute_result"
    }
   ],
   "source": [
    "df_slice.head(5)"
   ]
  },
  {
   "cell_type": "markdown",
   "metadata": {},
   "source": [
    "## Standarisasi Proses"
   ]
  },
  {
   "cell_type": "markdown",
   "metadata": {},
   "source": [
    "Deklarasi Standard Scaler, merupakan sebuah scalling dengan menggunakan metode Standard Deviasi, untuk menggerjakan ini menggunakan bantuan dari library sklearn"
   ]
  },
  {
   "cell_type": "code",
   "execution_count": 17,
   "metadata": {},
   "outputs": [
    {
     "data": {
      "text/plain": [
       "StandardScaler()"
      ]
     },
     "execution_count": 17,
     "metadata": {},
     "output_type": "execute_result"
    }
   ],
   "source": [
    "std_scaler = StandardScaler()\n",
    "std_scaler"
   ]
  },
  {
   "cell_type": "markdown",
   "metadata": {},
   "source": [
    "Melakukan standarisasi dari dataset yang sudah disiapkan "
   ]
  },
  {
   "cell_type": "code",
   "execution_count": 30,
   "metadata": {},
   "outputs": [],
   "source": [
    "df_full_feature_std = pd.DataFrame(std_scaler.fit_transform(df_full_feature[0:8]), columns=df_full_feature.columns)\n",
    "df_chi_square_std = pd.DataFrame(std_scaler.fit_transform(df_chi_square[0:4]), columns=df_chi_square.columns)\n",
    "df_feature_selection_std = pd.DataFrame(std_scaler.fit_transform(df_feature_selection[0:4]), columns=df_feature_selection.columns)\n",
    "df_slice_std = pd.DataFrame(std_scaler.fit_transform(df_slice[0:3]), columns=df_slice.columns) "
   ]
  },
  {
   "cell_type": "code",
   "execution_count": 36,
   "metadata": {},
   "outputs": [],
   "source": [
    "df_full_feature_std['label'] = df_feature_selection['label'].astype('int')\n",
    "df_chi_square_std['label'] =  df_chi_square['label'].astype('int')\n",
    "df_feature_selection_std['label'] = df_feature_selection['label'].astype('int')\n",
    "df_slice_std['label'] = df_slice['label'].astype('int')"
   ]
  },
  {
   "cell_type": "markdown",
   "metadata": {},
   "source": [
    "simpan dataset yang sudah dilakukan standarisasi "
   ]
  },
  {
   "cell_type": "code",
   "execution_count": 37,
   "metadata": {},
   "outputs": [],
   "source": [
    "df_full_feature_std.to_csv(\"processed_dataset_10_std.csv\", sep=',', index=False)\n",
    "df_feature_selection_std.to_csv(\"processed_dataset_5_std.csv\", sep=',', index=False)\n",
    "df_chi_square_std.to_csv(\"processed_dataset_chi_square_std.csv\", sep=',', index=False)\n",
    "df_slice_std.to_csv('processed_dataset_slice_std.csv', sep=',', index=False)"
   ]
  },
  {
   "cell_type": "markdown",
   "metadata": {},
   "source": [
    "## Normalisasi Proses "
   ]
  },
  {
   "cell_type": "markdown",
   "metadata": {},
   "source": [
    "Proses normalisasi ini menggunakan rumus Min-Max Score, dilakukan dengan melakukan pembagian terhadap nilai max dan min dari suatu kolom, kemudian penggunaan Min-Max ini akan sangat terpengaruh dengan adanya outlier"
   ]
  },
  {
   "cell_type": "code",
   "execution_count": 44,
   "metadata": {},
   "outputs": [
    {
     "data": {
      "text/plain": [
       "MinMaxScaler()"
      ]
     },
     "execution_count": 44,
     "metadata": {},
     "output_type": "execute_result"
    }
   ],
   "source": [
    "norm_scaler = MinMaxScaler()\n",
    "norm_scaler"
   ]
  },
  {
   "cell_type": "markdown",
   "metadata": {},
   "source": [
    "melakukan normalisasi untuk dataset yang sudah disiapkan "
   ]
  },
  {
   "cell_type": "code",
   "execution_count": 46,
   "metadata": {},
   "outputs": [],
   "source": [
    "df_full_feature_norm = pd.DataFrame(norm_scaler.fit_transform(df_full_feature), columns=df_full_feature.columns)\n",
    "df_chi_square_norm = pd.DataFrame(norm_scaler.fit_transform(df_chi_square), columns=df_chi_square.columns)\n",
    "df_feature_selection_norm = pd.DataFrame(norm_scaler.fit_transform(df_feature_selection), columns=df_feature_selection.columns)\n",
    "df_slice_norm = pd.DataFrame(norm_scaler.fit_transform(df_slice), columns=df_slice.columns) "
   ]
  },
  {
   "cell_type": "code",
   "execution_count": 47,
   "metadata": {},
   "outputs": [],
   "source": [
    "df_full_feature_norm['label'] = df_feature_selection['label'].astype('int')\n",
    "df_chi_square_norm['label'] =  df_chi_square['label'].astype('int')\n",
    "df_feature_selection_norm['label'] = df_feature_selection['label'].astype('int')\n",
    "df_slice_norm ['label'] = df_slice['label'].astype('int')"
   ]
  },
  {
   "cell_type": "code",
   "execution_count": 49,
   "metadata": {},
   "outputs": [],
   "source": [
    "df_full_feature_norm.to_csv(\"processed_dataset_10_norm.csv\", sep=',', index=False)\n",
    "df_feature_selection_norm.to_csv(\"processed_dataset_5_norm.csv\", sep=',', index=False)\n",
    "df_chi_square_norm.to_csv(\"processed_dataset_chi_square_norm.csv\", sep=',', index=False)\n",
    "df_slice_norm.to_csv('processed_dataset_slice_norm.csv', sep=',', index=False)"
   ]
  }
 ],
 "metadata": {
  "interpreter": {
   "hash": "5d87b42201e74ac320bc00dce267d44f5f134edfec9046f67f672f289707ff6a"
  },
  "kernelspec": {
   "display_name": "Python 3.7.4 64-bit",
   "language": "python",
   "name": "python3"
  },
  "language_info": {
   "name": "python",
   "version": "3.7.4"
  },
  "orig_nbformat": 4
 },
 "nbformat": 4,
 "nbformat_minor": 2
}
