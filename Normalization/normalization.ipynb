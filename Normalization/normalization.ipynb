{
 "cells": [
  {
   "cell_type": "code",
   "execution_count": 2,
   "metadata": {},
   "outputs": [],
   "source": [
    "import pandas as pd \n",
    "from sklearn.preprocessing import MinMaxScaler\n",
    "from sklearn.preprocessing import StandardScaler"
   ]
  },
  {
   "cell_type": "markdown",
   "metadata": {},
   "source": [
    "## Load Dataset "
   ]
  },
  {
   "cell_type": "code",
   "execution_count": 3,
   "metadata": {},
   "outputs": [],
   "source": [
    "# Data Training\n",
    "# df_full_feature = pd.read_csv('processed_dataset_10.csv',sep=',')\n",
    "# df_chi_square = pd.read_csv('processed_dataset_chi_square.csv', sep=',')\n",
    "# df_feature_selection = pd.read_csv('processed_dataset_5.csv',sep=',')\n",
    "# df_slice = pd.read_csv('processed_dataset_slice.csv',sep=',')\n",
    "\n",
    "# Data Testing\n",
    "df_full_feature = pd.read_csv('test_processed_dataset_10.csv',sep=',')\n",
    "df_chi_square = pd.read_csv('test_processed_dataset_chi_square.csv', sep=',')\n",
    "df_feature_selection = pd.read_csv('test_processed_dataset_5.csv',sep=',')\n",
    "df_slice = pd.read_csv('test_processed_dataset_slice.csv',sep=',')"
   ]
  },
  {
   "cell_type": "markdown",
   "metadata": {},
   "source": [
    "## Check Dataset "
   ]
  },
  {
   "cell_type": "code",
   "execution_count": 4,
   "metadata": {},
   "outputs": [
    {
     "data": {
      "text/html": [
       "<div>\n",
       "<style scoped>\n",
       "    .dataframe tbody tr th:only-of-type {\n",
       "        vertical-align: middle;\n",
       "    }\n",
       "\n",
       "    .dataframe tbody tr th {\n",
       "        vertical-align: top;\n",
       "    }\n",
       "\n",
       "    .dataframe thead th {\n",
       "        text-align: right;\n",
       "    }\n",
       "</style>\n",
       "<table border=\"1\" class=\"dataframe\">\n",
       "  <thead>\n",
       "    <tr style=\"text-align: right;\">\n",
       "      <th></th>\n",
       "      <th>src</th>\n",
       "      <th>dst</th>\n",
       "      <th>Protocol</th>\n",
       "      <th>pktrate</th>\n",
       "      <th>pktperflow</th>\n",
       "      <th>dur</th>\n",
       "      <th>dur_nsec</th>\n",
       "      <th>bytecount</th>\n",
       "      <th>pktcount</th>\n",
       "      <th>label</th>\n",
       "    </tr>\n",
       "  </thead>\n",
       "  <tbody>\n",
       "    <tr>\n",
       "      <th>0</th>\n",
       "      <td>1.0</td>\n",
       "      <td>14.0</td>\n",
       "      <td>1</td>\n",
       "      <td>1</td>\n",
       "      <td>30</td>\n",
       "      <td>763</td>\n",
       "      <td>231000000</td>\n",
       "      <td>72716</td>\n",
       "      <td>742</td>\n",
       "      <td>0.0</td>\n",
       "    </tr>\n",
       "    <tr>\n",
       "      <th>1</th>\n",
       "      <td>15.0</td>\n",
       "      <td>13.0</td>\n",
       "      <td>2</td>\n",
       "      <td>0</td>\n",
       "      <td>0</td>\n",
       "      <td>18</td>\n",
       "      <td>617000000</td>\n",
       "      <td>358668</td>\n",
       "      <td>6642</td>\n",
       "      <td>1.0</td>\n",
       "    </tr>\n",
       "    <tr>\n",
       "      <th>2</th>\n",
       "      <td>0.0</td>\n",
       "      <td>15.0</td>\n",
       "      <td>3</td>\n",
       "      <td>450</td>\n",
       "      <td>13527</td>\n",
       "      <td>41</td>\n",
       "      <td>685000000</td>\n",
       "      <td>20603648</td>\n",
       "      <td>19328</td>\n",
       "      <td>0.0</td>\n",
       "    </tr>\n",
       "    <tr>\n",
       "      <th>3</th>\n",
       "      <td>13.0</td>\n",
       "      <td>5.0</td>\n",
       "      <td>2</td>\n",
       "      <td>266</td>\n",
       "      <td>7994</td>\n",
       "      <td>258</td>\n",
       "      <td>843000000</td>\n",
       "      <td>4005450</td>\n",
       "      <td>74175</td>\n",
       "      <td>1.0</td>\n",
       "    </tr>\n",
       "    <tr>\n",
       "      <th>4</th>\n",
       "      <td>17.0</td>\n",
       "      <td>13.0</td>\n",
       "      <td>3</td>\n",
       "      <td>450</td>\n",
       "      <td>13527</td>\n",
       "      <td>143</td>\n",
       "      <td>187000000</td>\n",
       "      <td>70324020</td>\n",
       "      <td>65970</td>\n",
       "      <td>0.0</td>\n",
       "    </tr>\n",
       "  </tbody>\n",
       "</table>\n",
       "</div>"
      ],
      "text/plain": [
       "    src   dst  Protocol  pktrate  pktperflow  dur   dur_nsec  bytecount  \\\n",
       "0   1.0  14.0         1        1          30  763  231000000      72716   \n",
       "1  15.0  13.0         2        0           0   18  617000000     358668   \n",
       "2   0.0  15.0         3      450       13527   41  685000000   20603648   \n",
       "3  13.0   5.0         2      266        7994  258  843000000    4005450   \n",
       "4  17.0  13.0         3      450       13527  143  187000000   70324020   \n",
       "\n",
       "   pktcount  label  \n",
       "0       742    0.0  \n",
       "1      6642    1.0  \n",
       "2     19328    0.0  \n",
       "3     74175    1.0  \n",
       "4     65970    0.0  "
      ]
     },
     "execution_count": 4,
     "metadata": {},
     "output_type": "execute_result"
    }
   ],
   "source": [
    "df_full_feature.head(5)"
   ]
  },
  {
   "cell_type": "code",
   "execution_count": 5,
   "metadata": {},
   "outputs": [
    {
     "data": {
      "text/html": [
       "<div>\n",
       "<style scoped>\n",
       "    .dataframe tbody tr th:only-of-type {\n",
       "        vertical-align: middle;\n",
       "    }\n",
       "\n",
       "    .dataframe tbody tr th {\n",
       "        vertical-align: top;\n",
       "    }\n",
       "\n",
       "    .dataframe thead th {\n",
       "        text-align: right;\n",
       "    }\n",
       "</style>\n",
       "<table border=\"1\" class=\"dataframe\">\n",
       "  <thead>\n",
       "    <tr style=\"text-align: right;\">\n",
       "      <th></th>\n",
       "      <th>dst</th>\n",
       "      <th>src</th>\n",
       "      <th>Protocol</th>\n",
       "      <th>pktcount</th>\n",
       "      <th>pktcount.1</th>\n",
       "      <th>label</th>\n",
       "    </tr>\n",
       "  </thead>\n",
       "  <tbody>\n",
       "    <tr>\n",
       "      <th>0</th>\n",
       "      <td>14.0</td>\n",
       "      <td>1.0</td>\n",
       "      <td>1</td>\n",
       "      <td>742</td>\n",
       "      <td>742</td>\n",
       "      <td>0.0</td>\n",
       "    </tr>\n",
       "    <tr>\n",
       "      <th>1</th>\n",
       "      <td>13.0</td>\n",
       "      <td>15.0</td>\n",
       "      <td>2</td>\n",
       "      <td>6642</td>\n",
       "      <td>6642</td>\n",
       "      <td>1.0</td>\n",
       "    </tr>\n",
       "    <tr>\n",
       "      <th>2</th>\n",
       "      <td>15.0</td>\n",
       "      <td>0.0</td>\n",
       "      <td>3</td>\n",
       "      <td>19328</td>\n",
       "      <td>19328</td>\n",
       "      <td>0.0</td>\n",
       "    </tr>\n",
       "    <tr>\n",
       "      <th>3</th>\n",
       "      <td>5.0</td>\n",
       "      <td>13.0</td>\n",
       "      <td>2</td>\n",
       "      <td>74175</td>\n",
       "      <td>74175</td>\n",
       "      <td>1.0</td>\n",
       "    </tr>\n",
       "    <tr>\n",
       "      <th>4</th>\n",
       "      <td>13.0</td>\n",
       "      <td>17.0</td>\n",
       "      <td>3</td>\n",
       "      <td>65970</td>\n",
       "      <td>65970</td>\n",
       "      <td>0.0</td>\n",
       "    </tr>\n",
       "  </tbody>\n",
       "</table>\n",
       "</div>"
      ],
      "text/plain": [
       "    dst   src  Protocol  pktcount  pktcount.1  label\n",
       "0  14.0   1.0         1       742         742    0.0\n",
       "1  13.0  15.0         2      6642        6642    1.0\n",
       "2  15.0   0.0         3     19328       19328    0.0\n",
       "3   5.0  13.0         2     74175       74175    1.0\n",
       "4  13.0  17.0         3     65970       65970    0.0"
      ]
     },
     "execution_count": 5,
     "metadata": {},
     "output_type": "execute_result"
    }
   ],
   "source": [
    "df_chi_square.head(5)"
   ]
  },
  {
   "cell_type": "code",
   "execution_count": 6,
   "metadata": {},
   "outputs": [
    {
     "data": {
      "text/html": [
       "<div>\n",
       "<style scoped>\n",
       "    .dataframe tbody tr th:only-of-type {\n",
       "        vertical-align: middle;\n",
       "    }\n",
       "\n",
       "    .dataframe tbody tr th {\n",
       "        vertical-align: top;\n",
       "    }\n",
       "\n",
       "    .dataframe thead th {\n",
       "        text-align: right;\n",
       "    }\n",
       "</style>\n",
       "<table border=\"1\" class=\"dataframe\">\n",
       "  <thead>\n",
       "    <tr style=\"text-align: right;\">\n",
       "      <th></th>\n",
       "      <th>pktrate</th>\n",
       "      <th>pktperflow</th>\n",
       "      <th>Protocol</th>\n",
       "      <th>src</th>\n",
       "      <th>dst</th>\n",
       "      <th>label</th>\n",
       "    </tr>\n",
       "  </thead>\n",
       "  <tbody>\n",
       "    <tr>\n",
       "      <th>0</th>\n",
       "      <td>1</td>\n",
       "      <td>30</td>\n",
       "      <td>1</td>\n",
       "      <td>1.0</td>\n",
       "      <td>14.0</td>\n",
       "      <td>0.0</td>\n",
       "    </tr>\n",
       "    <tr>\n",
       "      <th>1</th>\n",
       "      <td>0</td>\n",
       "      <td>0</td>\n",
       "      <td>2</td>\n",
       "      <td>15.0</td>\n",
       "      <td>13.0</td>\n",
       "      <td>1.0</td>\n",
       "    </tr>\n",
       "    <tr>\n",
       "      <th>2</th>\n",
       "      <td>450</td>\n",
       "      <td>13527</td>\n",
       "      <td>3</td>\n",
       "      <td>0.0</td>\n",
       "      <td>15.0</td>\n",
       "      <td>0.0</td>\n",
       "    </tr>\n",
       "    <tr>\n",
       "      <th>3</th>\n",
       "      <td>266</td>\n",
       "      <td>7994</td>\n",
       "      <td>2</td>\n",
       "      <td>13.0</td>\n",
       "      <td>5.0</td>\n",
       "      <td>1.0</td>\n",
       "    </tr>\n",
       "    <tr>\n",
       "      <th>4</th>\n",
       "      <td>450</td>\n",
       "      <td>13527</td>\n",
       "      <td>3</td>\n",
       "      <td>17.0</td>\n",
       "      <td>13.0</td>\n",
       "      <td>0.0</td>\n",
       "    </tr>\n",
       "  </tbody>\n",
       "</table>\n",
       "</div>"
      ],
      "text/plain": [
       "   pktrate  pktperflow  Protocol   src   dst  label\n",
       "0        1          30         1   1.0  14.0    0.0\n",
       "1        0           0         2  15.0  13.0    1.0\n",
       "2      450       13527         3   0.0  15.0    0.0\n",
       "3      266        7994         2  13.0   5.0    1.0\n",
       "4      450       13527         3  17.0  13.0    0.0"
      ]
     },
     "execution_count": 6,
     "metadata": {},
     "output_type": "execute_result"
    }
   ],
   "source": [
    "df_feature_selection.head(5)"
   ]
  },
  {
   "cell_type": "code",
   "execution_count": 7,
   "metadata": {},
   "outputs": [
    {
     "data": {
      "text/html": [
       "<div>\n",
       "<style scoped>\n",
       "    .dataframe tbody tr th:only-of-type {\n",
       "        vertical-align: middle;\n",
       "    }\n",
       "\n",
       "    .dataframe tbody tr th {\n",
       "        vertical-align: top;\n",
       "    }\n",
       "\n",
       "    .dataframe thead th {\n",
       "        text-align: right;\n",
       "    }\n",
       "</style>\n",
       "<table border=\"1\" class=\"dataframe\">\n",
       "  <thead>\n",
       "    <tr style=\"text-align: right;\">\n",
       "      <th></th>\n",
       "      <th>dst</th>\n",
       "      <th>src</th>\n",
       "      <th>Protocol</th>\n",
       "      <th>bytecount</th>\n",
       "      <th>label</th>\n",
       "    </tr>\n",
       "  </thead>\n",
       "  <tbody>\n",
       "    <tr>\n",
       "      <th>0</th>\n",
       "      <td>14.0</td>\n",
       "      <td>1.0</td>\n",
       "      <td>1</td>\n",
       "      <td>72716</td>\n",
       "      <td>0.0</td>\n",
       "    </tr>\n",
       "    <tr>\n",
       "      <th>1</th>\n",
       "      <td>13.0</td>\n",
       "      <td>15.0</td>\n",
       "      <td>2</td>\n",
       "      <td>358668</td>\n",
       "      <td>1.0</td>\n",
       "    </tr>\n",
       "    <tr>\n",
       "      <th>2</th>\n",
       "      <td>15.0</td>\n",
       "      <td>0.0</td>\n",
       "      <td>3</td>\n",
       "      <td>20603648</td>\n",
       "      <td>0.0</td>\n",
       "    </tr>\n",
       "    <tr>\n",
       "      <th>3</th>\n",
       "      <td>5.0</td>\n",
       "      <td>13.0</td>\n",
       "      <td>2</td>\n",
       "      <td>4005450</td>\n",
       "      <td>1.0</td>\n",
       "    </tr>\n",
       "    <tr>\n",
       "      <th>4</th>\n",
       "      <td>13.0</td>\n",
       "      <td>17.0</td>\n",
       "      <td>3</td>\n",
       "      <td>70324020</td>\n",
       "      <td>0.0</td>\n",
       "    </tr>\n",
       "  </tbody>\n",
       "</table>\n",
       "</div>"
      ],
      "text/plain": [
       "    dst   src  Protocol  bytecount  label\n",
       "0  14.0   1.0         1      72716    0.0\n",
       "1  13.0  15.0         2     358668    1.0\n",
       "2  15.0   0.0         3   20603648    0.0\n",
       "3   5.0  13.0         2    4005450    1.0\n",
       "4  13.0  17.0         3   70324020    0.0"
      ]
     },
     "execution_count": 7,
     "metadata": {},
     "output_type": "execute_result"
    }
   ],
   "source": [
    "df_slice.head(5)"
   ]
  },
  {
   "cell_type": "markdown",
   "metadata": {},
   "source": [
    "## Standarisasi Proses"
   ]
  },
  {
   "cell_type": "markdown",
   "metadata": {},
   "source": [
    "Deklarasi Standard Scaler, merupakan sebuah scalling dengan menggunakan metode Standard Deviasi, untuk menggerjakan ini menggunakan bantuan dari library sklearn"
   ]
  },
  {
   "cell_type": "code",
   "execution_count": 8,
   "metadata": {},
   "outputs": [
    {
     "data": {
      "text/plain": [
       "StandardScaler()"
      ]
     },
     "execution_count": 8,
     "metadata": {},
     "output_type": "execute_result"
    }
   ],
   "source": [
    "std_scaler = StandardScaler()\n",
    "std_scaler"
   ]
  },
  {
   "cell_type": "markdown",
   "metadata": {},
   "source": [
    "Melakukan standarisasi dari dataset yang sudah disiapkan "
   ]
  },
  {
   "cell_type": "code",
   "execution_count": 9,
   "metadata": {},
   "outputs": [],
   "source": [
    "df_full_feature_std = pd.DataFrame(std_scaler.fit_transform(df_full_feature[0:8]), columns=df_full_feature.columns)\n",
    "df_chi_square_std = pd.DataFrame(std_scaler.fit_transform(df_chi_square[0:4]), columns=df_chi_square.columns)\n",
    "df_feature_selection_std = pd.DataFrame(std_scaler.fit_transform(df_feature_selection[0:4]), columns=df_feature_selection.columns)\n",
    "df_slice_std = pd.DataFrame(std_scaler.fit_transform(df_slice[0:3]), columns=df_slice.columns) "
   ]
  },
  {
   "cell_type": "code",
   "execution_count": 10,
   "metadata": {},
   "outputs": [],
   "source": [
    "df_full_feature_std['label'] = df_feature_selection['label'].astype('int')\n",
    "df_chi_square_std['label'] =  df_chi_square['label'].astype('int')\n",
    "df_feature_selection_std['label'] = df_feature_selection['label'].astype('int')\n",
    "df_slice_std['label'] = df_slice['label'].astype('int')"
   ]
  },
  {
   "cell_type": "markdown",
   "metadata": {},
   "source": [
    "simpan dataset yang sudah dilakukan standarisasi "
   ]
  },
  {
   "cell_type": "code",
   "execution_count": 11,
   "metadata": {},
   "outputs": [],
   "source": [
    "# Data Training \n",
    "# df_full_feature_std.to_csv(\"processed_dataset_10_std.csv\", sep=',', index=False)\n",
    "# df_feature_selection_std.to_csv(\"processed_dataset_5_std.csv\", sep=',', index=False)\n",
    "# df_chi_square_std.to_csv(\"processed_dataset_chi_square_std.csv\", sep=',', index=False)\n",
    "# df_slice_std.to_csv('processed_dataset_slice_std.csv', sep=',', index=False)\n",
    "\n",
    "# Data Testing\n",
    "df_full_feature_std.to_csv(\"test_processed_dataset_10_std.csv\", sep=',', index=False)\n",
    "df_feature_selection_std.to_csv(\"test_processed_dataset_5_std.csv\", sep=',', index=False)\n",
    "df_chi_square_std.to_csv(\"test_processed_dataset_chi_square_std.csv\", sep=',', index=False)\n",
    "df_slice_std.to_csv('test_processed_dataset_slice_std.csv', sep=',', index=False)"
   ]
  },
  {
   "cell_type": "markdown",
   "metadata": {},
   "source": [
    "## Normalisasi Proses "
   ]
  },
  {
   "cell_type": "markdown",
   "metadata": {},
   "source": [
    "Proses normalisasi ini menggunakan rumus Min-Max Score, dilakukan dengan melakukan pembagian terhadap nilai max dan min dari suatu kolom, kemudian penggunaan Min-Max ini akan sangat terpengaruh dengan adanya outlier"
   ]
  },
  {
   "cell_type": "code",
   "execution_count": 12,
   "metadata": {},
   "outputs": [
    {
     "data": {
      "text/plain": [
       "MinMaxScaler()"
      ]
     },
     "execution_count": 12,
     "metadata": {},
     "output_type": "execute_result"
    }
   ],
   "source": [
    "norm_scaler = MinMaxScaler()\n",
    "norm_scaler"
   ]
  },
  {
   "cell_type": "markdown",
   "metadata": {},
   "source": [
    "melakukan normalisasi untuk dataset yang sudah disiapkan "
   ]
  },
  {
   "cell_type": "code",
   "execution_count": 13,
   "metadata": {},
   "outputs": [],
   "source": [
    "df_full_feature_norm = pd.DataFrame(norm_scaler.fit_transform(df_full_feature), columns=df_full_feature.columns)\n",
    "df_chi_square_norm = pd.DataFrame(norm_scaler.fit_transform(df_chi_square), columns=df_chi_square.columns)\n",
    "df_feature_selection_norm = pd.DataFrame(norm_scaler.fit_transform(df_feature_selection), columns=df_feature_selection.columns)\n",
    "df_slice_norm = pd.DataFrame(norm_scaler.fit_transform(df_slice), columns=df_slice.columns) "
   ]
  },
  {
   "cell_type": "code",
   "execution_count": 14,
   "metadata": {},
   "outputs": [],
   "source": [
    "df_full_feature_norm['label'] = df_feature_selection['label'].astype('int')\n",
    "df_chi_square_norm['label'] =  df_chi_square['label'].astype('int')\n",
    "df_feature_selection_norm['label'] = df_feature_selection['label'].astype('int')\n",
    "df_slice_norm ['label'] = df_slice['label'].astype('int')"
   ]
  },
  {
   "cell_type": "code",
   "execution_count": 16,
   "metadata": {},
   "outputs": [],
   "source": [
    "# Data Training \n",
    "# df_full_feature_norm.to_csv(\"processed_dataset_10_norm.csv\", sep=',', index=False)\n",
    "# df_feature_selection_norm.to_csv(\"processed_dataset_5_norm.csv\", sep=',', index=False)\n",
    "# df_chi_square_norm.to_csv(\"processed_dataset_chi_square_norm.csv\", sep=',', index=False)\n",
    "# df_slice_norm.to_csv('processed_dataset_slice_norm.csv', sep=',', index=False)\n",
    "\n",
    "# Data Testing\n",
    "df_full_feature_norm.to_csv(\"test_processed_dataset_10_norm.csv\", sep=',', index=False)\n",
    "df_feature_selection_norm.to_csv(\"test_processed_dataset_5_norm.csv\", sep=',', index=False)\n",
    "df_chi_square_norm.to_csv(\"test_processed_dataset_chi_square_norm.csv\", sep=',', index=False)\n",
    "df_slice_norm.to_csv('test_processed_dataset_slice_norm.csv', sep=',', index=False)"
   ]
  },
  {
   "cell_type": "code",
   "execution_count": null,
   "metadata": {},
   "outputs": [],
   "source": []
  }
 ],
 "metadata": {
  "interpreter": {
   "hash": "5d87b42201e74ac320bc00dce267d44f5f134edfec9046f67f672f289707ff6a"
  },
  "kernelspec": {
   "display_name": "Python 3.7.4 64-bit",
   "language": "python",
   "name": "python3"
  },
  "language_info": {
   "codemirror_mode": {
    "name": "ipython",
    "version": 3
   },
   "file_extension": ".py",
   "mimetype": "text/x-python",
   "name": "python",
   "nbconvert_exporter": "python",
   "pygments_lexer": "ipython3",
   "version": "3.7.4"
  },
  "orig_nbformat": 4
 },
 "nbformat": 4,
 "nbformat_minor": 2
}
