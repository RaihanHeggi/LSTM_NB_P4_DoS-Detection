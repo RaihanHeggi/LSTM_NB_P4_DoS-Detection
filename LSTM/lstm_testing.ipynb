{
 "cells": [
  {
   "cell_type": "code",
   "execution_count": 1,
   "metadata": {},
   "outputs": [],
   "source": [
    "import pandas as pd \n",
    "import matplotlib.pyplot as plt \n",
    "import seaborn as sn \n",
    "import numpy as np \n",
    "from keras.models import load_model\n",
    "from sklearn.model_selection import cross_val_score\n",
    "from sklearn.metrics import confusion_matrix\n",
    "from sklearn.metrics import accuracy_score, precision_score\n",
    "from sklearn.metrics import classification_report\n",
    "from sklearn.metrics import confusion_matrix\n",
    "from sklearn.model_selection import train_test_split\n",
    "from sklearn.preprocessing import LabelEncoder"
   ]
  },
  {
   "cell_type": "code",
   "execution_count": 2,
   "metadata": {},
   "outputs": [],
   "source": [
    "df_full_feature = pd.read_csv('../Dataset/Normalisasi/processed_dataset_slice_norm.csv',sep=',')"
   ]
  },
  {
   "cell_type": "code",
   "execution_count": 3,
   "metadata": {},
   "outputs": [
    {
     "data": {
      "text/plain": [
       "<tensorflow.python.keras.engine.sequential.Sequential at 0x2165f5b3148>"
      ]
     },
     "execution_count": 3,
     "metadata": {},
     "output_type": "execute_result"
    }
   ],
   "source": [
    "lstm_full_model = load_model('lstm_slice.h5')\n",
    "lstm_full_model"
   ]
  },
  {
   "cell_type": "code",
   "execution_count": 4,
   "metadata": {},
   "outputs": [
    {
     "data": {
      "text/html": [
       "<div>\n",
       "<style scoped>\n",
       "    .dataframe tbody tr th:only-of-type {\n",
       "        vertical-align: middle;\n",
       "    }\n",
       "\n",
       "    .dataframe tbody tr th {\n",
       "        vertical-align: top;\n",
       "    }\n",
       "\n",
       "    .dataframe thead th {\n",
       "        text-align: right;\n",
       "    }\n",
       "</style>\n",
       "<table border=\"1\" class=\"dataframe\">\n",
       "  <thead>\n",
       "    <tr style=\"text-align: right;\">\n",
       "      <th></th>\n",
       "      <th>dst</th>\n",
       "      <th>src</th>\n",
       "      <th>Protocol</th>\n",
       "      <th>bytecount</th>\n",
       "    </tr>\n",
       "  </thead>\n",
       "  <tbody>\n",
       "    <tr>\n",
       "      <th>0</th>\n",
       "      <td>0.647059</td>\n",
       "      <td>0.055556</td>\n",
       "      <td>0.0</td>\n",
       "      <td>0.000640</td>\n",
       "    </tr>\n",
       "    <tr>\n",
       "      <th>1</th>\n",
       "      <td>0.705882</td>\n",
       "      <td>0.333333</td>\n",
       "      <td>0.5</td>\n",
       "      <td>0.081254</td>\n",
       "    </tr>\n",
       "    <tr>\n",
       "      <th>2</th>\n",
       "      <td>0.882353</td>\n",
       "      <td>0.555556</td>\n",
       "      <td>0.0</td>\n",
       "      <td>0.000534</td>\n",
       "    </tr>\n",
       "    <tr>\n",
       "      <th>3</th>\n",
       "      <td>0.941176</td>\n",
       "      <td>0.833333</td>\n",
       "      <td>0.5</td>\n",
       "      <td>0.014585</td>\n",
       "    </tr>\n",
       "    <tr>\n",
       "      <th>4</th>\n",
       "      <td>0.647059</td>\n",
       "      <td>0.111111</td>\n",
       "      <td>1.0</td>\n",
       "      <td>0.618070</td>\n",
       "    </tr>\n",
       "  </tbody>\n",
       "</table>\n",
       "</div>"
      ],
      "text/plain": [
       "        dst       src  Protocol  bytecount\n",
       "0  0.647059  0.055556       0.0   0.000640\n",
       "1  0.705882  0.333333       0.5   0.081254\n",
       "2  0.882353  0.555556       0.0   0.000534\n",
       "3  0.941176  0.833333       0.5   0.014585\n",
       "4  0.647059  0.111111       1.0   0.618070"
      ]
     },
     "execution_count": 4,
     "metadata": {},
     "output_type": "execute_result"
    }
   ],
   "source": [
    "# Dataset Full Feature\n",
    "full_feature_x = df_full_feature[df_full_feature.columns[:4]]\n",
    "full_feature_y = df_full_feature['label']\n",
    "\n",
    "full_feature_x.head(5)"
   ]
  },
  {
   "cell_type": "code",
   "execution_count": 23,
   "metadata": {},
   "outputs": [
    {
     "data": {
      "text/plain": [
       "(50540, 4, 1)"
      ]
     },
     "execution_count": 23,
     "metadata": {},
     "output_type": "execute_result"
    }
   ],
   "source": [
    "x_train,x_test,y_train,full_feature_y = train_test_split(full_feature_x,full_feature_y,test_size=0.30,random_state=9)\n",
    "\n",
    "x_train_awal = x_train\n",
    "x_test_awal = x_test\n",
    "y_train_awal = y_train\n",
    "y_test_awal = y_test\n",
    "\n",
    "x_train = x_train.to_numpy()\n",
    "x_test = x_test.to_numpy()\n",
    "x_train = np.reshape(x_train, (x_train.shape[0], x_train.shape[1], 1))\n",
    "x_test = np.reshape(x_test, (x_test.shape[0], x_test.shape[1], 1))\n",
    "x_train.shape"
   ]
  },
  {
   "cell_type": "code",
   "execution_count": 25,
   "metadata": {},
   "outputs": [
    {
     "name": "stdout",
     "output_type": "stream",
     "text": [
      "Epoch 1/10\n",
      "1580/1580 [==============================] - 15s 9ms/step - loss: 0.2258 - accuracy: 0.8779 - mean_squared_error: 0.4130 - mean_absolute_error: 0.4636\n",
      "Epoch 2/10\n",
      "1580/1580 [==============================] - 14s 9ms/step - loss: 0.2261 - accuracy: 0.8790 - mean_squared_error: 0.4131 - mean_absolute_error: 0.4636: 3s - loss: 0.2256 - accuracy: 0.8788 \n",
      "Epoch 3/10\n",
      "1580/1580 [==============================] - 14s 9ms/step - loss: 0.2245 - accuracy: 0.8801 - mean_squared_error: 0.4131 - mean_absolute_error: 0.4636\n",
      "Epoch 4/10\n",
      "1580/1580 [==============================] - 14s 9ms/step - loss: 0.2264 - accuracy: 0.8766 - mean_squared_error: 0.4132 - mean_absolute_error: 0.4636\n",
      "Epoch 5/10\n",
      "1580/1580 [==============================] - 14s 9ms/step - loss: 0.2293 - accuracy: 0.8779 - mean_squared_error: 0.4121 - mean_absolute_error: 0.4636\n",
      "Epoch 6/10\n",
      "1580/1580 [==============================] - 13s 8ms/step - loss: 0.2224 - accuracy: 0.8815 - mean_squared_error: 0.4136 - mean_absolute_error: 0.4636\n",
      "Epoch 7/10\n",
      "1580/1580 [==============================] - 14s 9ms/step - loss: 0.2281 - accuracy: 0.8787 - mean_squared_error: 0.4128 - mean_absolute_error: 0.4636\n",
      "Epoch 8/10\n",
      "1580/1580 [==============================] - 13s 8ms/step - loss: 0.2230 - accuracy: 0.8819 - mean_squared_error: 0.4132 - mean_absolute_error: 0.4636\n",
      "Epoch 9/10\n",
      "1580/1580 [==============================] - 14s 9ms/step - loss: 0.2207 - accuracy: 0.8818 - mean_squared_error: 0.4139 - mean_absolute_error: 0.4636\n",
      "Epoch 10/10\n",
      "1580/1580 [==============================] - 13s 9ms/step - loss: 0.2212 - accuracy: 0.8812 - mean_squared_error: 0.4140 - mean_absolute_error: 0.4636\n"
     ]
    },
    {
     "data": {
      "text/plain": [
       "<tensorflow.python.keras.callbacks.History at 0x1cf531f1f88>"
      ]
     },
     "execution_count": 25,
     "metadata": {},
     "output_type": "execute_result"
    }
   ],
   "source": [
    "lstm_full_model.fit(x_train, y_train, epochs=10)"
   ]
  },
  {
   "cell_type": "code",
   "execution_count": 26,
   "metadata": {},
   "outputs": [
    {
     "data": {
      "text/plain": [
       "array([[9.9999380e-01, 6.2281715e-06, 2.0753749e-23],\n",
       "       [9.8934913e-01, 1.0650852e-02, 4.5778092e-16],\n",
       "       [1.5719733e-07, 9.9999988e-01, 3.0682618e-33],\n",
       "       ...,\n",
       "       [1.3170725e-04, 9.9986827e-01, 1.7323264e-26],\n",
       "       [1.5188462e-01, 8.4811544e-01, 4.6311869e-15],\n",
       "       [1.2685916e-04, 9.9987316e-01, 5.2905631e-27]], dtype=float32)"
      ]
     },
     "execution_count": 26,
     "metadata": {},
     "output_type": "execute_result"
    }
   ],
   "source": [
    "y_pred_train = lstm_full_model.predict(x_train)\n",
    "y_pred_train"
   ]
  },
  {
   "cell_type": "code",
   "execution_count": 21,
   "metadata": {},
   "outputs": [],
   "source": [
    "def calculate_precision(TP, FP):\n",
    "    return TP/(TP+FP)\n",
    "\n",
    "\n",
    "def calculate_fnr(TP, FP, FN):\n",
    "    return FN/(TP+FP)\n",
    "    "
   ]
  },
  {
   "cell_type": "code",
   "execution_count": 30,
   "metadata": {},
   "outputs": [
    {
     "name": "stdout",
     "output_type": "stream",
     "text": [
      "[[16699  3052]\n",
      " [ 2712 28077]]\n",
      "              precision    recall  f1-score   support\n",
      "\n",
      "           0       0.90      0.91      0.91     30789\n",
      "           1       0.86      0.85      0.85     19751\n",
      "\n",
      "    accuracy                           0.89     50540\n",
      "   macro avg       0.88      0.88      0.88     50540\n",
      "weighted avg       0.89      0.89      0.89     50540\n",
      "\n",
      "Accuracy: 88.5951721408785\n",
      "Precision 86.02854051826284\n",
      "False Negative Rate 15.723043635052289\n"
     ]
    }
   ],
   "source": [
    "y_pred_train = [np.argmax(element) for element in y_pred_train]\n",
    "cm = confusion_matrix(y_train, y_pred_train, labels=[1,0])\n",
    "TP = cm[0][0]\n",
    "FP = cm[1][0]\n",
    "FN = cm[0][1]\n",
    "TN = cm[1][1]\n",
    "\n",
    "print(cm)\n",
    "print(classification_report(y_train, y_pred_train))\n",
    "print(\"Accuracy:\",accuracy_score(y_train, y_pred_train)*100)\n",
    "print(\"Precision\",(calculate_precision(TP,FP))*100)\n",
    "print(\"False Negative Rate\", (calculate_fnr(TP,FP,FN))*100)\n"
   ]
  },
  {
   "cell_type": "code",
   "execution_count": 32,
   "metadata": {},
   "outputs": [
    {
     "data": {
      "text/plain": [
       "array([[4.3321484e-01, 5.6678516e-01, 6.1818911e-10],\n",
       "       [9.6160442e-01, 3.8395595e-02, 7.3492094e-11],\n",
       "       [2.7360086e-06, 9.9999726e-01, 1.6576646e-31],\n",
       "       ...,\n",
       "       [9.9999475e-01, 5.2965388e-06, 7.1553007e-35],\n",
       "       [3.2870933e-06, 9.9999666e-01, 2.3123538e-28],\n",
       "       [9.9999428e-01, 5.7800066e-06, 8.5276490e-35]], dtype=float32)"
      ]
     },
     "execution_count": 32,
     "metadata": {},
     "output_type": "execute_result"
    }
   ],
   "source": [
    "y_pred_val = lstm_full_model.predict(x_test)\n",
    "y_pred_val"
   ]
  },
  {
   "cell_type": "code",
   "execution_count": 33,
   "metadata": {},
   "outputs": [
    {
     "name": "stdout",
     "output_type": "stream",
     "text": [
      "[[ 7049  1382]\n",
      " [ 1241 11989]]\n",
      "              precision    recall  f1-score   support\n",
      "\n",
      "           0       0.90      0.91      0.90     13230\n",
      "           1       0.85      0.84      0.84      8431\n",
      "\n",
      "    accuracy                           0.88     21661\n",
      "   macro avg       0.87      0.87      0.87     21661\n",
      "weighted avg       0.88      0.88      0.88     21661\n",
      "\n",
      "Accuracy: 87.89067910068788\n",
      "Precision 85.0301568154403\n",
      "False Negative Rate 16.670687575392037\n"
     ]
    }
   ],
   "source": [
    "y_pred_val = [np.argmax(element) for element in y_pred_val]\n",
    "cm = confusion_matrix(y_test, y_pred_val, labels=[1,0])\n",
    "TP = cm[0][0]\n",
    "FP = cm[1][0]\n",
    "FN = cm[0][1]\n",
    "TN = cm[1][1]\n",
    "\n",
    "print(cm)\n",
    "print(classification_report(y_test, y_pred_val))\n",
    "print(\"Accuracy:\",accuracy_score(y_test, y_pred_val)*100)\n",
    "print(\"Precision\",(calculate_precision(TP,FP))*100)\n",
    "print(\"False Negative Rate\", (calculate_fnr(TP,FP,FN))*100)"
   ]
  },
  {
   "cell_type": "markdown",
   "metadata": {},
   "source": [
    "## Testing Dataset"
   ]
  },
  {
   "cell_type": "code",
   "execution_count": 5,
   "metadata": {},
   "outputs": [],
   "source": [
    "test_full_feature = pd.read_csv('../Dataset/Normalisasi/test_processed_dataset_slice_norm.csv',sep=',')"
   ]
  },
  {
   "cell_type": "code",
   "execution_count": 9,
   "metadata": {},
   "outputs": [
    {
     "data": {
      "text/html": [
       "<div>\n",
       "<style scoped>\n",
       "    .dataframe tbody tr th:only-of-type {\n",
       "        vertical-align: middle;\n",
       "    }\n",
       "\n",
       "    .dataframe tbody tr th {\n",
       "        vertical-align: top;\n",
       "    }\n",
       "\n",
       "    .dataframe thead th {\n",
       "        text-align: right;\n",
       "    }\n",
       "</style>\n",
       "<table border=\"1\" class=\"dataframe\">\n",
       "  <thead>\n",
       "    <tr style=\"text-align: right;\">\n",
       "      <th></th>\n",
       "      <th>dst</th>\n",
       "      <th>src</th>\n",
       "      <th>Protocol</th>\n",
       "      <th>bytecount</th>\n",
       "    </tr>\n",
       "  </thead>\n",
       "  <tbody>\n",
       "    <tr>\n",
       "      <th>0</th>\n",
       "      <td>0.647059</td>\n",
       "      <td>0.055556</td>\n",
       "      <td>0.0</td>\n",
       "      <td>0.000640</td>\n",
       "    </tr>\n",
       "    <tr>\n",
       "      <th>1</th>\n",
       "      <td>0.705882</td>\n",
       "      <td>0.333333</td>\n",
       "      <td>0.5</td>\n",
       "      <td>0.081254</td>\n",
       "    </tr>\n",
       "    <tr>\n",
       "      <th>2</th>\n",
       "      <td>0.882353</td>\n",
       "      <td>0.555556</td>\n",
       "      <td>0.0</td>\n",
       "      <td>0.000534</td>\n",
       "    </tr>\n",
       "    <tr>\n",
       "      <th>3</th>\n",
       "      <td>0.941176</td>\n",
       "      <td>0.833333</td>\n",
       "      <td>0.5</td>\n",
       "      <td>0.014585</td>\n",
       "    </tr>\n",
       "    <tr>\n",
       "      <th>4</th>\n",
       "      <td>0.647059</td>\n",
       "      <td>0.111111</td>\n",
       "      <td>1.0</td>\n",
       "      <td>0.618070</td>\n",
       "    </tr>\n",
       "  </tbody>\n",
       "</table>\n",
       "</div>"
      ],
      "text/plain": [
       "        dst       src  Protocol  bytecount\n",
       "0  0.647059  0.055556       0.0   0.000640\n",
       "1  0.705882  0.333333       0.5   0.081254\n",
       "2  0.882353  0.555556       0.0   0.000534\n",
       "3  0.941176  0.833333       0.5   0.014585\n",
       "4  0.647059  0.111111       1.0   0.618070"
      ]
     },
     "execution_count": 9,
     "metadata": {},
     "output_type": "execute_result"
    }
   ],
   "source": [
    "# Dataset Full Feature\n",
    "full_feature_x = df_full_feature[df_full_feature.columns[:4]]\n",
    "full_feature_y = df_full_feature['label']\n",
    "\n",
    "full_feature_x.head(5)"
   ]
  },
  {
   "cell_type": "code",
   "execution_count": 14,
   "metadata": {},
   "outputs": [
    {
     "data": {
      "text/plain": [
       "array([[[6.47058824e-01],\n",
       "        [5.55555556e-02],\n",
       "        [0.00000000e+00],\n",
       "        [6.40109284e-04]],\n",
       "\n",
       "       [[7.05882353e-01],\n",
       "        [3.33333333e-01],\n",
       "        [5.00000000e-01],\n",
       "        [8.12536148e-02]],\n",
       "\n",
       "       [[8.82352941e-01],\n",
       "        [5.55555556e-01],\n",
       "        [0.00000000e+00],\n",
       "        [5.33535418e-04]],\n",
       "\n",
       "       ...,\n",
       "\n",
       "       [[8.82352941e-01],\n",
       "        [1.66666667e-01],\n",
       "        [0.00000000e+00],\n",
       "        [1.03909520e-04]],\n",
       "\n",
       "       [[7.64705882e-01],\n",
       "        [9.44444444e-01],\n",
       "        [1.00000000e+00],\n",
       "        [2.82570275e-01]],\n",
       "\n",
       "       [[9.41176471e-01],\n",
       "        [7.22222222e-01],\n",
       "        [1.00000000e+00],\n",
       "        [6.21212636e-01]]])"
      ]
     },
     "execution_count": 14,
     "metadata": {},
     "output_type": "execute_result"
    }
   ],
   "source": [
    "full_feature_x = full_feature_x.to_numpy()\n",
    "full_feature_x = np.reshape(full_feature_x, (full_feature_x.shape[0], full_feature_x.shape[1], 1))\n",
    "full_feature_x"
   ]
  },
  {
   "cell_type": "code",
   "execution_count": 18,
   "metadata": {},
   "outputs": [
    {
     "data": {
      "text/plain": [
       "array([[9.9999857e-01, 1.4143640e-06, 3.5144482e-33],\n",
       "       [8.5350327e-02, 9.1464967e-01, 2.7224068e-19],\n",
       "       [9.9999571e-01, 4.3207697e-06, 2.9391574e-33],\n",
       "       ...,\n",
       "       [9.9999201e-01, 8.0182317e-06, 7.7147588e-32],\n",
       "       [7.3427802e-01, 2.6572204e-01, 2.4470814e-12],\n",
       "       [9.9944252e-01, 5.5748888e-04, 1.0543759e-19]], dtype=float32)"
      ]
     },
     "execution_count": 18,
     "metadata": {},
     "output_type": "execute_result"
    }
   ],
   "source": [
    "test_pred = lstm_full_model.predict(full_feature_x)\n",
    "test_pred"
   ]
  },
  {
   "cell_type": "code",
   "execution_count": 22,
   "metadata": {},
   "outputs": [
    {
     "name": "stdout",
     "output_type": "stream",
     "text": [
      "[[25000  3182]\n",
      " [ 5068 38951]]\n",
      "              precision    recall  f1-score   support\n",
      "\n",
      "           0       0.92      0.88      0.90     44019\n",
      "           1       0.83      0.89      0.86     28182\n",
      "\n",
      "    accuracy                           0.89     72201\n",
      "   macro avg       0.88      0.89      0.88     72201\n",
      "weighted avg       0.89      0.89      0.89     72201\n",
      "\n",
      "Accuracy: 88.57356546308223\n",
      "Precision 83.14487162431821\n",
      "False Negative Rate 10.582679260343223\n"
     ]
    }
   ],
   "source": [
    "pred_test = [np.argmax(element) for element in test_pred]\n",
    "cm = confusion_matrix(full_feature_y, pred_test, labels=[1,0])\n",
    "TP = cm[0][0]\n",
    "FP = cm[1][0]\n",
    "FN = cm[0][1]\n",
    "TN = cm[1][1]\n",
    "\n",
    "print(cm)\n",
    "print(classification_report(full_feature_y, pred_test))\n",
    "print(\"Accuracy:\",accuracy_score(full_feature_y, pred_test)*100)\n",
    "print(\"Precision\",(calculate_precision(TP,FP))*100)\n",
    "print(\"False Negative Rate\", (calculate_fnr(TP,FP,FN))*100)"
   ]
  },
  {
   "cell_type": "code",
   "execution_count": null,
   "metadata": {},
   "outputs": [],
   "source": []
  }
 ],
 "metadata": {
  "interpreter": {
   "hash": "5d87b42201e74ac320bc00dce267d44f5f134edfec9046f67f672f289707ff6a"
  },
  "kernelspec": {
   "display_name": "Python 3.7.4 64-bit",
   "language": "python",
   "name": "python3"
  },
  "language_info": {
   "codemirror_mode": {
    "name": "ipython",
    "version": 3
   },
   "file_extension": ".py",
   "mimetype": "text/x-python",
   "name": "python",
   "nbconvert_exporter": "python",
   "pygments_lexer": "ipython3",
   "version": "3.7.4"
  },
  "orig_nbformat": 4
 },
 "nbformat": 4,
 "nbformat_minor": 2
}
