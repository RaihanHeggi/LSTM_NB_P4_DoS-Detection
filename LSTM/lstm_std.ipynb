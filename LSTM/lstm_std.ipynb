{
 "cells": [
  {
   "cell_type": "code",
   "execution_count": 2,
   "metadata": {},
   "outputs": [],
   "source": [
    "import pandas as pd \n",
    "import seaborn as sn \n",
    "import matplotlib.pyplot as plt \n",
    "import numpy as np \n",
    "from keras.models import Sequential\n",
    "from keras.layers import Dense, LSTM, Dropout\n",
    "from sklearn.model_selection import cross_val_score\n",
    "from sklearn.metrics import confusion_matrix\n",
    "from sklearn.metrics import accuracy_score\n",
    "from sklearn.metrics import classification_report\n",
    "from sklearn.metrics import confusion_matrix\n",
    "from sklearn.model_selection import train_test_split"
   ]
  },
  {
   "cell_type": "markdown",
   "metadata": {},
   "source": [
    "### Load Dataset"
   ]
  },
  {
   "cell_type": "code",
   "execution_count": 3,
   "metadata": {},
   "outputs": [],
   "source": [
    "df_full_feature = pd.read_csv('../Dataset/Standarisasi/processed_dataset_10_std.csv',sep=',')\n",
    "df_chi_square = pd.read_csv('../Dataset/Standarisasi/processed_dataset_chi_square_std.csv', sep=',')\n",
    "df_feature_selection = pd.read_csv('../Dataset/Standarisasi/processed_dataset_5_std.csv',sep=',')\n",
    "df_slice = pd.read_csv('../Dataset/Standarisasi/processed_dataset_slice_std.csv',sep=',')"
   ]
  },
  {
   "cell_type": "markdown",
   "metadata": {},
   "source": [
    "### Splitting Data"
   ]
  },
  {
   "cell_type": "code",
   "execution_count": 4,
   "metadata": {},
   "outputs": [
    {
     "data": {
      "text/html": [
       "<div>\n",
       "<style scoped>\n",
       "    .dataframe tbody tr th:only-of-type {\n",
       "        vertical-align: middle;\n",
       "    }\n",
       "\n",
       "    .dataframe tbody tr th {\n",
       "        vertical-align: top;\n",
       "    }\n",
       "\n",
       "    .dataframe thead th {\n",
       "        text-align: right;\n",
       "    }\n",
       "</style>\n",
       "<table border=\"1\" class=\"dataframe\">\n",
       "  <thead>\n",
       "    <tr style=\"text-align: right;\">\n",
       "      <th></th>\n",
       "      <th>src</th>\n",
       "      <th>dst</th>\n",
       "      <th>Protocol</th>\n",
       "      <th>pktrate</th>\n",
       "      <th>pktperflow</th>\n",
       "      <th>dur</th>\n",
       "      <th>dur_nsec</th>\n",
       "      <th>bytecount</th>\n",
       "      <th>pktcount</th>\n",
       "    </tr>\n",
       "  </thead>\n",
       "  <tbody>\n",
       "    <tr>\n",
       "      <th>0</th>\n",
       "      <td>-1.333061</td>\n",
       "      <td>-0.029423</td>\n",
       "      <td>-1.097155</td>\n",
       "      <td>-1.165007</td>\n",
       "      <td>-1.162827</td>\n",
       "      <td>2.354770</td>\n",
       "      <td>-0.814311</td>\n",
       "      <td>-0.781169</td>\n",
       "      <td>-1.000332</td>\n",
       "    </tr>\n",
       "    <tr>\n",
       "      <th>1</th>\n",
       "      <td>-0.521867</td>\n",
       "      <td>0.163403</td>\n",
       "      <td>0.089775</td>\n",
       "      <td>1.548708</td>\n",
       "      <td>1.548762</td>\n",
       "      <td>0.227232</td>\n",
       "      <td>-1.249944</td>\n",
       "      <td>-0.537869</td>\n",
       "      <td>3.240156</td>\n",
       "    </tr>\n",
       "    <tr>\n",
       "      <th>2</th>\n",
       "      <td>0.127088</td>\n",
       "      <td>0.741880</td>\n",
       "      <td>-1.097155</td>\n",
       "      <td>-1.159696</td>\n",
       "      <td>-1.162650</td>\n",
       "      <td>1.779375</td>\n",
       "      <td>-0.785508</td>\n",
       "      <td>-0.781491</td>\n",
       "      <td>-1.003410</td>\n",
       "    </tr>\n",
       "    <tr>\n",
       "      <th>3</th>\n",
       "      <td>0.938282</td>\n",
       "      <td>0.934706</td>\n",
       "      <td>0.089775</td>\n",
       "      <td>0.587490</td>\n",
       "      <td>0.588241</td>\n",
       "      <td>-0.788588</td>\n",
       "      <td>0.578995</td>\n",
       "      <td>-0.739081</td>\n",
       "      <td>-0.393352</td>\n",
       "    </tr>\n",
       "    <tr>\n",
       "      <th>4</th>\n",
       "      <td>-1.170822</td>\n",
       "      <td>-0.029423</td>\n",
       "      <td>1.276704</td>\n",
       "      <td>0.290096</td>\n",
       "      <td>0.287957</td>\n",
       "      <td>-0.117295</td>\n",
       "      <td>0.424183</td>\n",
       "      <td>1.082301</td>\n",
       "      <td>0.660084</td>\n",
       "    </tr>\n",
       "  </tbody>\n",
       "</table>\n",
       "</div>"
      ],
      "text/plain": [
       "        src       dst  Protocol   pktrate  pktperflow       dur  dur_nsec  \\\n",
       "0 -1.333061 -0.029423 -1.097155 -1.165007   -1.162827  2.354770 -0.814311   \n",
       "1 -0.521867  0.163403  0.089775  1.548708    1.548762  0.227232 -1.249944   \n",
       "2  0.127088  0.741880 -1.097155 -1.159696   -1.162650  1.779375 -0.785508   \n",
       "3  0.938282  0.934706  0.089775  0.587490    0.588241 -0.788588  0.578995   \n",
       "4 -1.170822 -0.029423  1.276704  0.290096    0.287957 -0.117295  0.424183   \n",
       "\n",
       "   bytecount  pktcount  \n",
       "0  -0.781169 -1.000332  \n",
       "1  -0.537869  3.240156  \n",
       "2  -0.781491 -1.003410  \n",
       "3  -0.739081 -0.393352  \n",
       "4   1.082301  0.660084  "
      ]
     },
     "execution_count": 4,
     "metadata": {},
     "output_type": "execute_result"
    }
   ],
   "source": [
    "# Dataset Full Feature\n",
    "full_feature_x = df_full_feature[df_full_feature.columns[:9]]\n",
    "full_feature_y = df_full_feature['label']\n",
    "\n",
    "full_feature_x.head(5)"
   ]
  },
  {
   "cell_type": "code",
   "execution_count": 5,
   "metadata": {},
   "outputs": [
    {
     "data": {
      "text/html": [
       "<div>\n",
       "<style scoped>\n",
       "    .dataframe tbody tr th:only-of-type {\n",
       "        vertical-align: middle;\n",
       "    }\n",
       "\n",
       "    .dataframe tbody tr th {\n",
       "        vertical-align: top;\n",
       "    }\n",
       "\n",
       "    .dataframe thead th {\n",
       "        text-align: right;\n",
       "    }\n",
       "</style>\n",
       "<table border=\"1\" class=\"dataframe\">\n",
       "  <thead>\n",
       "    <tr style=\"text-align: right;\">\n",
       "      <th></th>\n",
       "      <th>dst</th>\n",
       "      <th>src</th>\n",
       "      <th>Protocol</th>\n",
       "      <th>pktcount</th>\n",
       "      <th>pktcount.1</th>\n",
       "    </tr>\n",
       "  </thead>\n",
       "  <tbody>\n",
       "    <tr>\n",
       "      <th>0</th>\n",
       "      <td>-0.029423</td>\n",
       "      <td>-1.333061</td>\n",
       "      <td>-1.097155</td>\n",
       "      <td>-1.000332</td>\n",
       "      <td>-1.000332</td>\n",
       "    </tr>\n",
       "    <tr>\n",
       "      <th>1</th>\n",
       "      <td>0.163403</td>\n",
       "      <td>-0.521867</td>\n",
       "      <td>0.089775</td>\n",
       "      <td>3.240156</td>\n",
       "      <td>3.240156</td>\n",
       "    </tr>\n",
       "    <tr>\n",
       "      <th>2</th>\n",
       "      <td>0.741880</td>\n",
       "      <td>0.127088</td>\n",
       "      <td>-1.097155</td>\n",
       "      <td>-1.003410</td>\n",
       "      <td>-1.003410</td>\n",
       "    </tr>\n",
       "    <tr>\n",
       "      <th>3</th>\n",
       "      <td>0.934706</td>\n",
       "      <td>0.938282</td>\n",
       "      <td>0.089775</td>\n",
       "      <td>-0.393352</td>\n",
       "      <td>-0.393352</td>\n",
       "    </tr>\n",
       "    <tr>\n",
       "      <th>4</th>\n",
       "      <td>-0.029423</td>\n",
       "      <td>-1.170822</td>\n",
       "      <td>1.276704</td>\n",
       "      <td>0.660084</td>\n",
       "      <td>0.660084</td>\n",
       "    </tr>\n",
       "  </tbody>\n",
       "</table>\n",
       "</div>"
      ],
      "text/plain": [
       "        dst       src  Protocol  pktcount  pktcount.1\n",
       "0 -0.029423 -1.333061 -1.097155 -1.000332   -1.000332\n",
       "1  0.163403 -0.521867  0.089775  3.240156    3.240156\n",
       "2  0.741880  0.127088 -1.097155 -1.003410   -1.003410\n",
       "3  0.934706  0.938282  0.089775 -0.393352   -0.393352\n",
       "4 -0.029423 -1.170822  1.276704  0.660084    0.660084"
      ]
     },
     "execution_count": 5,
     "metadata": {},
     "output_type": "execute_result"
    }
   ],
   "source": [
    "# Dataset Chi Square \n",
    "chi_square_x = df_chi_square[df_chi_square.columns[:5]]\n",
    "chi_square_y = df_chi_square['label']\n",
    "\n",
    "chi_square_x.head(5)"
   ]
  },
  {
   "cell_type": "code",
   "execution_count": 6,
   "metadata": {},
   "outputs": [
    {
     "data": {
      "text/html": [
       "<div>\n",
       "<style scoped>\n",
       "    .dataframe tbody tr th:only-of-type {\n",
       "        vertical-align: middle;\n",
       "    }\n",
       "\n",
       "    .dataframe tbody tr th {\n",
       "        vertical-align: top;\n",
       "    }\n",
       "\n",
       "    .dataframe thead th {\n",
       "        text-align: right;\n",
       "    }\n",
       "</style>\n",
       "<table border=\"1\" class=\"dataframe\">\n",
       "  <thead>\n",
       "    <tr style=\"text-align: right;\">\n",
       "      <th></th>\n",
       "      <th>pktrate</th>\n",
       "      <th>pktperflow</th>\n",
       "      <th>Protocol</th>\n",
       "      <th>src</th>\n",
       "      <th>dst</th>\n",
       "    </tr>\n",
       "  </thead>\n",
       "  <tbody>\n",
       "    <tr>\n",
       "      <th>0</th>\n",
       "      <td>-1.165007</td>\n",
       "      <td>-1.162827</td>\n",
       "      <td>-1.097155</td>\n",
       "      <td>-1.333061</td>\n",
       "      <td>-0.029423</td>\n",
       "    </tr>\n",
       "    <tr>\n",
       "      <th>1</th>\n",
       "      <td>1.548708</td>\n",
       "      <td>1.548762</td>\n",
       "      <td>0.089775</td>\n",
       "      <td>-0.521867</td>\n",
       "      <td>0.163403</td>\n",
       "    </tr>\n",
       "    <tr>\n",
       "      <th>2</th>\n",
       "      <td>-1.159696</td>\n",
       "      <td>-1.162650</td>\n",
       "      <td>-1.097155</td>\n",
       "      <td>0.127088</td>\n",
       "      <td>0.741880</td>\n",
       "    </tr>\n",
       "    <tr>\n",
       "      <th>3</th>\n",
       "      <td>0.587490</td>\n",
       "      <td>0.588241</td>\n",
       "      <td>0.089775</td>\n",
       "      <td>0.938282</td>\n",
       "      <td>0.934706</td>\n",
       "    </tr>\n",
       "    <tr>\n",
       "      <th>4</th>\n",
       "      <td>0.290096</td>\n",
       "      <td>0.287957</td>\n",
       "      <td>1.276704</td>\n",
       "      <td>-1.170822</td>\n",
       "      <td>-0.029423</td>\n",
       "    </tr>\n",
       "  </tbody>\n",
       "</table>\n",
       "</div>"
      ],
      "text/plain": [
       "    pktrate  pktperflow  Protocol       src       dst\n",
       "0 -1.165007   -1.162827 -1.097155 -1.333061 -0.029423\n",
       "1  1.548708    1.548762  0.089775 -0.521867  0.163403\n",
       "2 -1.159696   -1.162650 -1.097155  0.127088  0.741880\n",
       "3  0.587490    0.588241  0.089775  0.938282  0.934706\n",
       "4  0.290096    0.287957  1.276704 -1.170822 -0.029423"
      ]
     },
     "execution_count": 6,
     "metadata": {},
     "output_type": "execute_result"
    }
   ],
   "source": [
    "# Dataset Feature Selection\n",
    "feature_selection_x = df_feature_selection[df_feature_selection.columns[:5]]\n",
    "feature_selection_y = df_feature_selection['label']\n",
    "\n",
    "feature_selection_x.head(5)"
   ]
  },
  {
   "cell_type": "code",
   "execution_count": 7,
   "metadata": {},
   "outputs": [
    {
     "data": {
      "text/html": [
       "<div>\n",
       "<style scoped>\n",
       "    .dataframe tbody tr th:only-of-type {\n",
       "        vertical-align: middle;\n",
       "    }\n",
       "\n",
       "    .dataframe tbody tr th {\n",
       "        vertical-align: top;\n",
       "    }\n",
       "\n",
       "    .dataframe thead th {\n",
       "        text-align: right;\n",
       "    }\n",
       "</style>\n",
       "<table border=\"1\" class=\"dataframe\">\n",
       "  <thead>\n",
       "    <tr style=\"text-align: right;\">\n",
       "      <th></th>\n",
       "      <th>dst</th>\n",
       "      <th>src</th>\n",
       "      <th>Protocol</th>\n",
       "      <th>bytecount</th>\n",
       "    </tr>\n",
       "  </thead>\n",
       "  <tbody>\n",
       "    <tr>\n",
       "      <th>0</th>\n",
       "      <td>-0.029423</td>\n",
       "      <td>-1.333061</td>\n",
       "      <td>-1.097155</td>\n",
       "      <td>-0.781169</td>\n",
       "    </tr>\n",
       "    <tr>\n",
       "      <th>1</th>\n",
       "      <td>0.163403</td>\n",
       "      <td>-0.521867</td>\n",
       "      <td>0.089775</td>\n",
       "      <td>-0.537869</td>\n",
       "    </tr>\n",
       "    <tr>\n",
       "      <th>2</th>\n",
       "      <td>0.741880</td>\n",
       "      <td>0.127088</td>\n",
       "      <td>-1.097155</td>\n",
       "      <td>-0.781491</td>\n",
       "    </tr>\n",
       "    <tr>\n",
       "      <th>3</th>\n",
       "      <td>0.934706</td>\n",
       "      <td>0.938282</td>\n",
       "      <td>0.089775</td>\n",
       "      <td>-0.739081</td>\n",
       "    </tr>\n",
       "    <tr>\n",
       "      <th>4</th>\n",
       "      <td>-0.029423</td>\n",
       "      <td>-1.170822</td>\n",
       "      <td>1.276704</td>\n",
       "      <td>1.082301</td>\n",
       "    </tr>\n",
       "  </tbody>\n",
       "</table>\n",
       "</div>"
      ],
      "text/plain": [
       "        dst       src  Protocol  bytecount\n",
       "0 -0.029423 -1.333061 -1.097155  -0.781169\n",
       "1  0.163403 -0.521867  0.089775  -0.537869\n",
       "2  0.741880  0.127088 -1.097155  -0.781491\n",
       "3  0.934706  0.938282  0.089775  -0.739081\n",
       "4 -0.029423 -1.170822  1.276704   1.082301"
      ]
     },
     "execution_count": 7,
     "metadata": {},
     "output_type": "execute_result"
    }
   ],
   "source": [
    "# Dataset Slice\n",
    "slice_x = df_slice[df_slice.columns[:4]]\n",
    "slice_y= df_slice['label']\n",
    "\n",
    "slice_x.head(5)"
   ]
  },
  {
   "cell_type": "markdown",
   "metadata": {},
   "source": [
    "### Full Model"
   ]
  },
  {
   "cell_type": "code",
   "execution_count": 14,
   "metadata": {},
   "outputs": [
    {
     "data": {
      "text/plain": [
       "(50540, 9, 1)"
      ]
     },
     "execution_count": 14,
     "metadata": {},
     "output_type": "execute_result"
    }
   ],
   "source": [
    "#Splitting Data \n",
    "\n",
    "x_train,x_test,y_train,y_test = train_test_split(full_feature_x,full_feature_y,test_size=0.30,random_state=9)\n",
    "\n",
    "x_train = x_train.to_numpy()\n",
    "x_test = x_test.to_numpy()\n",
    "x_train = np.reshape(x_train, (x_train.shape[0], x_train.shape[1], 1))\n",
    "x_test = np.reshape(x_test, (x_test.shape[0], x_test.shape[1], 1))\n",
    "x_train.shape\n"
   ]
  },
  {
   "cell_type": "code",
   "execution_count": 15,
   "metadata": {},
   "outputs": [
    {
     "name": "stdout",
     "output_type": "stream",
     "text": [
      "Epoch 1/10\n",
      "1580/1580 [==============================] - 19s 11ms/step - loss: 0.5047 - accuracy: 0.7522 - mean_squared_error: 0.3477 - mean_absolute_error: 0.4636\n",
      "Epoch 2/10\n",
      "1580/1580 [==============================] - 17s 11ms/step - loss: 0.1817 - accuracy: 0.9190 - mean_squared_error: 0.4267 - mean_absolute_error: 0.4644\n",
      "Epoch 3/10\n",
      "1580/1580 [==============================] - 18s 11ms/step - loss: 0.1521 - accuracy: 0.9331 - mean_squared_error: 0.4332 - mean_absolute_error: 0.4640\n",
      "Epoch 4/10\n",
      "1580/1580 [==============================] - 18s 11ms/step - loss: 0.1293 - accuracy: 0.9416 - mean_squared_error: 0.4374 - mean_absolute_error: 0.4639\n",
      "Epoch 5/10\n",
      "1580/1580 [==============================] - 19s 12ms/step - loss: 0.1191 - accuracy: 0.9486 - mean_squared_error: 0.4391 - mean_absolute_error: 0.4632 - ETA: 4s - loss: \n",
      "Epoch 6/10\n",
      "1580/1580 [==============================] - 18s 12ms/step - loss: 0.1097 - accuracy: 0.9526 - mean_squared_error: 0.4411 - mean_absolute_error: 0.4635\n",
      "Epoch 7/10\n",
      "1580/1580 [==============================] - 19s 12ms/step - loss: 0.0998 - accuracy: 0.9581 - mean_squared_error: 0.4432 - mean_absolute_error: 0.4630\n",
      "Epoch 8/10\n",
      "1580/1580 [==============================] - 19s 12ms/step - loss: 0.0988 - accuracy: 0.9568 - mean_squared_error: 0.4431 - mean_absolute_error: 0.4633\n",
      "Epoch 9/10\n",
      "1580/1580 [==============================] - 20s 13ms/step - loss: 0.0889 - accuracy: 0.9614 - mean_squared_error: 0.4456 - mean_absolute_error: 0.4637\n",
      "Epoch 10/10\n",
      "1580/1580 [==============================] - 20s 13ms/step - loss: 0.0877 - accuracy: 0.9613 - mean_squared_error: 0.4466 - mean_absolute_error: 0.4644\n"
     ]
    },
    {
     "data": {
      "text/plain": [
       "<tensorflow.python.keras.callbacks.History at 0x2b5d889efc8>"
      ]
     },
     "execution_count": 15,
     "metadata": {},
     "output_type": "execute_result"
    }
   ],
   "source": [
    "model_full = Sequential()\n",
    "model_full.add(LSTM(100, input_shape=(x_train.shape[1],1), return_sequences=True))\n",
    "model_full.add(Dropout(0.5))\n",
    "model_full.add(LSTM(32, return_sequences=False))\n",
    "model_full.add(Dense(10, activation='relu'))\n",
    "model_full.add(Dense(3, activation='softmax'))\n",
    "\n",
    "model_full.compile(optimizer=\"adam\",loss=\"sparse_categorical_crossentropy\", metrics=['accuracy','MeanSquaredError', 'MeanAbsoluteError'])\n",
    "model_full.fit(x_train, y_train, epochs=10)\n"
   ]
  },
  {
   "cell_type": "code",
   "execution_count": 16,
   "metadata": {},
   "outputs": [],
   "source": [
    "y_pred_train = model_full.predict(x_train)\n",
    "y_pred_val = model_full.predict(x_test)"
   ]
  },
  {
   "cell_type": "code",
   "execution_count": 17,
   "metadata": {},
   "outputs": [
    {
     "name": "stdout",
     "output_type": "stream",
     "text": [
      "[[18986   765]\n",
      " [  997 29792]]\n",
      "              precision    recall  f1-score   support\n",
      "\n",
      "           0       0.97      0.97      0.97     30789\n",
      "           1       0.95      0.96      0.96     19751\n",
      "\n",
      "    accuracy                           0.97     50540\n",
      "   macro avg       0.96      0.96      0.96     50540\n",
      "weighted avg       0.97      0.97      0.97     50540\n",
      "\n",
      "Accuracy: 96.51365255243371\n",
      "Precision 95.01075914527348\n",
      "False Negative Rate 3.8282540159135263\n"
     ]
    }
   ],
   "source": [
    "y_pred_train = [np.argmax(element) for element in y_pred_train]\n",
    "cm = confusion_matrix(y_train, y_pred_train, labels=[1,0])\n",
    "TP = cm[0][0]\n",
    "FP = cm[1][0]\n",
    "FN = cm[0][1]\n",
    "TN = cm[1][1]\n",
    "\n",
    "print(cm)\n",
    "print(classification_report(y_train, y_pred_train))\n",
    "print(\"Accuracy:\",accuracy_score(y_train, y_pred_train)*100)\n",
    "print(\"Precision\",(calculate_precision(TP,FP))*100)\n",
    "print(\"False Negative Rate\", (calculate_fnr(TP,FP,FN))*100)\n"
   ]
  },
  {
   "cell_type": "code",
   "execution_count": 18,
   "metadata": {},
   "outputs": [
    {
     "name": "stdout",
     "output_type": "stream",
     "text": [
      "[[ 8103   328]\n",
      " [  474 12756]]\n",
      "              precision    recall  f1-score   support\n",
      "\n",
      "           0       0.97      0.96      0.97     13230\n",
      "           1       0.94      0.96      0.95      8431\n",
      "\n",
      "    accuracy                           0.96     21661\n",
      "   macro avg       0.96      0.96      0.96     21661\n",
      "weighted avg       0.96      0.96      0.96     21661\n",
      "\n",
      "Accuracy: 96.29749319052675\n",
      "Precision 94.4735921650927\n",
      "False Negative Rate 3.8241809490497847\n"
     ]
    }
   ],
   "source": [
    "y_pred_val = [np.argmax(element) for element in y_pred_val]\n",
    "cm = confusion_matrix(y_test, y_pred_val, labels=[1,0])\n",
    "TP = cm[0][0]\n",
    "FP = cm[1][0]\n",
    "FN = cm[0][1]\n",
    "TN = cm[1][1]\n",
    "\n",
    "print(cm)\n",
    "print(classification_report(y_test, y_pred_val))\n",
    "print(\"Accuracy:\",accuracy_score(y_test, y_pred_val)*100)\n",
    "print(\"Precision\",(calculate_precision(TP,FP))*100)\n",
    "print(\"False Negative Rate\", (calculate_fnr(TP,FP,FN))*100)"
   ]
  },
  {
   "cell_type": "markdown",
   "metadata": {},
   "source": [
    "### Chi Square Model"
   ]
  },
  {
   "cell_type": "code",
   "execution_count": 19,
   "metadata": {},
   "outputs": [
    {
     "data": {
      "text/plain": [
       "(50540, 5, 1)"
      ]
     },
     "execution_count": 19,
     "metadata": {},
     "output_type": "execute_result"
    }
   ],
   "source": [
    "#Splitting Data \n",
    "\n",
    "x_train,x_test,y_train,y_test = train_test_split(chi_square_x,chi_square_y,test_size=0.30,random_state=9)\n",
    "\n",
    "x_train = x_train.to_numpy()\n",
    "x_test = x_test.to_numpy()\n",
    "x_train = np.reshape(x_train, (x_train.shape[0], x_train.shape[1], 1))\n",
    "x_test = np.reshape(x_test, (x_test.shape[0], x_test.shape[1], 1))\n",
    "x_train.shape"
   ]
  },
  {
   "cell_type": "code",
   "execution_count": 20,
   "metadata": {},
   "outputs": [
    {
     "name": "stdout",
     "output_type": "stream",
     "text": [
      "Epoch 1/10\n",
      "1580/1580 [==============================] - 17s 9ms/step - loss: 0.5680 - accuracy: 0.6788 - mean_squared_error: 0.3310 - mean_absolute_error: 0.4630\n",
      "Epoch 2/10\n",
      "1580/1580 [==============================] - 15s 9ms/step - loss: 0.4254 - accuracy: 0.7459 - mean_squared_error: 0.3641 - mean_absolute_error: 0.4632\n",
      "Epoch 3/10\n",
      "1580/1580 [==============================] - 15s 9ms/step - loss: 0.4155 - accuracy: 0.7582 - mean_squared_error: 0.3673 - mean_absolute_error: 0.4634\n",
      "Epoch 4/10\n",
      "1580/1580 [==============================] - 15s 10ms/step - loss: 0.4020 - accuracy: 0.7681 - mean_squared_error: 0.3708 - mean_absolute_error: 0.4638\n",
      "Epoch 5/10\n",
      "1580/1580 [==============================] - 16s 10ms/step - loss: 0.3946 - accuracy: 0.7739 - mean_squared_error: 0.3728 - mean_absolute_error: 0.4634\n",
      "Epoch 6/10\n",
      "1580/1580 [==============================] - 16s 10ms/step - loss: 0.3814 - accuracy: 0.7839 - mean_squared_error: 0.3766 - mean_absolute_error: 0.4644\n",
      "Epoch 7/10\n",
      "1580/1580 [==============================] - 16s 10ms/step - loss: 0.3801 - accuracy: 0.7843 - mean_squared_error: 0.3770 - mean_absolute_error: 0.4646 2s - loss: 0.3805 - accuracy: 0.7840 - mean_square\n",
      "Epoch 8/10\n",
      "1580/1580 [==============================] - 15s 10ms/step - loss: 0.3732 - accuracy: 0.7867 - mean_squared_error: 0.3786 - mean_absolute_error: 0.4645\n",
      "Epoch 9/10\n",
      "1580/1580 [==============================] - 15s 9ms/step - loss: 0.3655 - accuracy: 0.7894 - mean_squared_error: 0.3781 - mean_absolute_error: 0.4627\n",
      "Epoch 10/10\n",
      "1580/1580 [==============================] - 15s 9ms/step - loss: 0.3586 - accuracy: 0.7966 - mean_squared_error: 0.3800 - mean_absolute_error: 0.4632\n"
     ]
    },
    {
     "data": {
      "text/plain": [
       "<tensorflow.python.keras.callbacks.History at 0x2b5e66ce408>"
      ]
     },
     "execution_count": 20,
     "metadata": {},
     "output_type": "execute_result"
    }
   ],
   "source": [
    "model_chi = Sequential()\n",
    "model_chi.add(LSTM(100, input_shape=(x_train.shape[1],1), return_sequences=True))\n",
    "model_chi.add(Dropout(0.5))\n",
    "model_chi.add(LSTM(32, return_sequences=False))\n",
    "model_chi.add(Dense(10, activation='relu'))\n",
    "model_chi.add(Dense(3, activation='softmax'))\n",
    "\n",
    "model_chi.compile(optimizer=\"adam\",loss=\"sparse_categorical_crossentropy\", metrics=['accuracy','MeanSquaredError', 'MeanAbsoluteError'])\n",
    "model_chi.fit(x_train, y_train, epochs=10)\n"
   ]
  },
  {
   "cell_type": "code",
   "execution_count": 21,
   "metadata": {},
   "outputs": [],
   "source": [
    "y_pred_train = model_chi.predict(x_train)\n",
    "y_pred_test = model_chi.predict(x_test)"
   ]
  },
  {
   "cell_type": "code",
   "execution_count": 22,
   "metadata": {},
   "outputs": [
    {
     "name": "stdout",
     "output_type": "stream",
     "text": [
      "[[14535  5216]\n",
      " [ 3865 26924]]\n",
      "              precision    recall  f1-score   support\n",
      "\n",
      "           0       0.84      0.87      0.86     30789\n",
      "           1       0.79      0.74      0.76     19751\n",
      "\n",
      "    accuracy                           0.82     50540\n",
      "   macro avg       0.81      0.81      0.81     50540\n",
      "weighted avg       0.82      0.82      0.82     50540\n",
      "\n",
      "Accuracy: 82.03205381875742\n",
      "Precision 78.9945652173913\n",
      "False Negative Rate 28.347826086956523\n"
     ]
    }
   ],
   "source": [
    "y_pred_train = [np.argmax(element) for element in y_pred_train]\n",
    "cm = confusion_matrix(y_train, y_pred_train, labels=[1,0])\n",
    "TP = cm[0][0]\n",
    "FP = cm[1][0]\n",
    "FN = cm[0][1]\n",
    "TN = cm[1][1]\n",
    "\n",
    "print(cm)\n",
    "print(classification_report(y_train, y_pred_train))\n",
    "print(\"Accuracy:\",accuracy_score(y_train, y_pred_train)*100)\n",
    "print(\"Precision\",(calculate_precision(TP,FP))*100)\n",
    "print(\"False Negative Rate\", (calculate_fnr(TP,FP,FN))*100)\n"
   ]
  },
  {
   "cell_type": "code",
   "execution_count": 23,
   "metadata": {},
   "outputs": [
    {
     "name": "stdout",
     "output_type": "stream",
     "text": [
      "[[    0  8431]\n",
      " [    0 13230]]\n",
      "              precision    recall  f1-score   support\n",
      "\n",
      "           0       0.61      1.00      0.76     13230\n",
      "           1       0.00      0.00      0.00      8431\n",
      "\n",
      "    accuracy                           0.61     21661\n",
      "   macro avg       0.31      0.50      0.38     21661\n",
      "weighted avg       0.37      0.61      0.46     21661\n",
      "\n",
      "Accuracy: 61.07751258021329\n",
      "Precision nan\n",
      "False Negative Rate inf\n"
     ]
    },
    {
     "name": "stderr",
     "output_type": "stream",
     "text": [
      "c:\\Users\\user\\AppData\\Local\\Programs\\Python\\Python37\\lib\\site-packages\\sklearn\\metrics\\_classification.py:1221: UndefinedMetricWarning: Precision and F-score are ill-defined and being set to 0.0 in labels with no predicted samples. Use `zero_division` parameter to control this behavior.\n",
      "  _warn_prf(average, modifier, msg_start, len(result))\n",
      "c:\\Users\\user\\AppData\\Local\\Programs\\Python\\Python37\\lib\\site-packages\\ipykernel_launcher.py:2: RuntimeWarning: invalid value encountered in longlong_scalars\n",
      "  \n",
      "c:\\Users\\user\\AppData\\Local\\Programs\\Python\\Python37\\lib\\site-packages\\ipykernel_launcher.py:6: RuntimeWarning: divide by zero encountered in longlong_scalars\n",
      "  \n"
     ]
    }
   ],
   "source": [
    "y_pred_val = [np.argmax(element) for element in y_pred_val]\n",
    "cm = confusion_matrix(y_test, y_pred_val, labels=[1,0])\n",
    "TP = cm[0][0]\n",
    "FP = cm[1][0]\n",
    "FN = cm[0][1]\n",
    "TN = cm[1][1]\n",
    "\n",
    "print(cm)\n",
    "print(classification_report(y_test, y_pred_val))\n",
    "print(\"Accuracy:\",accuracy_score(y_test, y_pred_val)*100)\n",
    "print(\"Precision\",(calculate_precision(TP,FP))*100)\n",
    "print(\"False Negative Rate\", (calculate_fnr(TP,FP,FN))*100)"
   ]
  },
  {
   "cell_type": "markdown",
   "metadata": {},
   "source": [
    "### Feature Selection Model"
   ]
  },
  {
   "cell_type": "code",
   "execution_count": 8,
   "metadata": {},
   "outputs": [
    {
     "data": {
      "text/plain": [
       "(50540, 5, 1)"
      ]
     },
     "execution_count": 8,
     "metadata": {},
     "output_type": "execute_result"
    }
   ],
   "source": [
    "#Splitting Data \n",
    "\n",
    "x_train,x_test,y_train,y_test = train_test_split(feature_selection_x,feature_selection_y,test_size=0.30,random_state=9)\n",
    "\n",
    "x_train = x_train.to_numpy()\n",
    "x_test = x_test.to_numpy()\n",
    "x_train = np.reshape(x_train, (x_train.shape[0], x_train.shape[1], 1))\n",
    "x_test = np.reshape(x_test, (x_test.shape[0], x_test.shape[1], 1))\n",
    "x_train.shape"
   ]
  },
  {
   "cell_type": "code",
   "execution_count": 9,
   "metadata": {},
   "outputs": [
    {
     "name": "stdout",
     "output_type": "stream",
     "text": [
      "Epoch 1/10\n",
      "1580/1580 [==============================] - 16s 8ms/step - loss: 0.5388 - accuracy: 0.7859 - mean_squared_error: 0.3475 - mean_absolute_error: 0.4627\n",
      "Epoch 2/10\n",
      "1580/1580 [==============================] - 12s 8ms/step - loss: 0.2794 - accuracy: 0.8947 - mean_squared_error: 0.4074 - mean_absolute_error: 0.4643\n",
      "Epoch 3/10\n",
      "1580/1580 [==============================] - 12s 8ms/step - loss: 0.2364 - accuracy: 0.9089 - mean_squared_error: 0.4165 - mean_absolute_error: 0.4630\n",
      "Epoch 4/10\n",
      "1580/1580 [==============================] - 12s 8ms/step - loss: 0.2258 - accuracy: 0.9105 - mean_squared_error: 0.4186 - mean_absolute_error: 0.4629\n",
      "Epoch 5/10\n",
      "1580/1580 [==============================] - 12s 7ms/step - loss: 0.2190 - accuracy: 0.9110 - mean_squared_error: 0.4202 - mean_absolute_error: 0.4638\n",
      "Epoch 6/10\n",
      "1580/1580 [==============================] - 12s 7ms/step - loss: 0.2151 - accuracy: 0.9150 - mean_squared_error: 0.4203 - mean_absolute_error: 0.4629\n",
      "Epoch 7/10\n",
      "1580/1580 [==============================] - 12s 7ms/step - loss: 0.2150 - accuracy: 0.9150 - mean_squared_error: 0.4212 - mean_absolute_error: 0.4636\n",
      "Epoch 8/10\n",
      "1580/1580 [==============================] - 12s 7ms/step - loss: 0.2064 - accuracy: 0.9188 - mean_squared_error: 0.4223 - mean_absolute_error: 0.4631\n",
      "Epoch 9/10\n",
      "1580/1580 [==============================] - 12s 8ms/step - loss: 0.2049 - accuracy: 0.9196 - mean_squared_error: 0.4229 - mean_absolute_error: 0.4635\n",
      "Epoch 10/10\n",
      "1580/1580 [==============================] - 12s 8ms/step - loss: 0.2010 - accuracy: 0.9237 - mean_squared_error: 0.4239 - mean_absolute_error: 0.4637\n"
     ]
    },
    {
     "data": {
      "text/plain": [
       "<tensorflow.python.keras.callbacks.History at 0x2b5d8b1f608>"
      ]
     },
     "execution_count": 9,
     "metadata": {},
     "output_type": "execute_result"
    }
   ],
   "source": [
    "model_feature = Sequential()\n",
    "model_feature.add(LSTM(100, input_shape=(x_train.shape[1],1), return_sequences=True))\n",
    "model_feature.add(Dropout(0.5))\n",
    "model_feature.add(LSTM(32, return_sequences=False))\n",
    "model_feature.add(Dense(10, activation='relu'))\n",
    "model_feature.add(Dense(3, activation='softmax'))\n",
    "\n",
    "model_feature.compile(optimizer=\"adam\",loss=\"sparse_categorical_crossentropy\", metrics=['accuracy','MeanSquaredError', 'MeanAbsoluteError'])\n",
    "model_feature.fit(x_train, y_train, epochs=10)\n"
   ]
  },
  {
   "cell_type": "code",
   "execution_count": 10,
   "metadata": {},
   "outputs": [],
   "source": [
    "y_pred_train = model_feature.predict(x_train)\n",
    "y_pred_val = model_feature.predict(x_test)"
   ]
  },
  {
   "cell_type": "code",
   "execution_count": 11,
   "metadata": {},
   "outputs": [],
   "source": [
    "def calculate_precision(TP, FP):\n",
    "    return TP/(TP+FP)\n",
    "\n",
    "\n",
    "def calculate_fnr(TP, FP, FN):\n",
    "    return FN/(TP+FP)\n",
    "    "
   ]
  },
  {
   "cell_type": "code",
   "execution_count": 12,
   "metadata": {},
   "outputs": [
    {
     "name": "stdout",
     "output_type": "stream",
     "text": [
      "[[17680  2071]\n",
      " [ 1803 28986]]\n",
      "              precision    recall  f1-score   support\n",
      "\n",
      "           0       0.93      0.94      0.94     30789\n",
      "           1       0.91      0.90      0.90     19751\n",
      "\n",
      "    accuracy                           0.92     50540\n",
      "   macro avg       0.92      0.92      0.92     50540\n",
      "weighted avg       0.92      0.92      0.92     50540\n",
      "\n",
      "Accuracy: 92.33478432924417\n",
      "Precision 90.74577837088744\n",
      "False Negative Rate 10.629779808037776\n"
     ]
    }
   ],
   "source": [
    "y_pred_train = [np.argmax(element) for element in y_pred_train]\n",
    "cm = confusion_matrix(y_train, y_pred_train, labels=[1,0])\n",
    "TP = cm[0][0]\n",
    "FP = cm[1][0]\n",
    "FN = cm[0][1]\n",
    "TN = cm[1][1]\n",
    "\n",
    "print(cm)\n",
    "print(classification_report(y_train, y_pred_train))\n",
    "print(\"Accuracy:\",accuracy_score(y_train, y_pred_train)*100)\n",
    "print(\"Precision\",(calculate_precision(TP,FP))*100)\n",
    "print(\"False Negative Rate\", (calculate_fnr(TP,FP,FN))*100)\n"
   ]
  },
  {
   "cell_type": "code",
   "execution_count": 13,
   "metadata": {},
   "outputs": [
    {
     "name": "stdout",
     "output_type": "stream",
     "text": [
      "[[ 7566   865]\n",
      " [  814 12416]]\n",
      "              precision    recall  f1-score   support\n",
      "\n",
      "           0       0.93      0.94      0.94     13230\n",
      "           1       0.90      0.90      0.90      8431\n",
      "\n",
      "    accuracy                           0.92     21661\n",
      "   macro avg       0.92      0.92      0.92     21661\n",
      "weighted avg       0.92      0.92      0.92     21661\n",
      "\n",
      "Accuracy: 92.24874197867135\n",
      "Precision 90.28639618138425\n",
      "False Negative Rate 10.322195704057279\n"
     ]
    }
   ],
   "source": [
    "y_pred_val = [np.argmax(element) for element in y_pred_val]\n",
    "cm = confusion_matrix(y_test, y_pred_val, labels=[1,0])\n",
    "TP = cm[0][0]\n",
    "FP = cm[1][0]\n",
    "FN = cm[0][1]\n",
    "TN = cm[1][1]\n",
    "\n",
    "print(cm)\n",
    "print(classification_report(y_test, y_pred_val))\n",
    "print(\"Accuracy:\",accuracy_score(y_test, y_pred_val)*100)\n",
    "print(\"Precision\",(calculate_precision(TP,FP))*100)\n",
    "print(\"False Negative Rate\", (calculate_fnr(TP,FP,FN))*100)"
   ]
  },
  {
   "cell_type": "markdown",
   "metadata": {},
   "source": [
    "### Slice Model"
   ]
  },
  {
   "cell_type": "code",
   "execution_count": 28,
   "metadata": {},
   "outputs": [
    {
     "data": {
      "text/plain": [
       "(50540, 4, 1)"
      ]
     },
     "execution_count": 28,
     "metadata": {},
     "output_type": "execute_result"
    }
   ],
   "source": [
    "#Splitting Data \n",
    "\n",
    "x_train,x_test,y_train,y_test = train_test_split(slice_x,slice_y,test_size=0.30,random_state=9)\n",
    "\n",
    "x_train = x_train.to_numpy()\n",
    "x_test = x_test.to_numpy()\n",
    "x_train = np.reshape(x_train, (x_train.shape[0], x_train.shape[1], 1))\n",
    "x_test = np.reshape(x_test, (x_test.shape[0], x_test.shape[1], 1))\n",
    "x_train.shape"
   ]
  },
  {
   "cell_type": "code",
   "execution_count": 29,
   "metadata": {},
   "outputs": [
    {
     "name": "stdout",
     "output_type": "stream",
     "text": [
      "Epoch 1/50\n",
      "1580/1580 [==============================] - 13s 7ms/step - loss: 0.5195 - accuracy: 0.6867 - mean_squared_error: 0.3138 - mean_absolute_error: 0.5000\n",
      "Epoch 2/50\n",
      "1580/1580 [==============================] - 12s 7ms/step - loss: 0.3920 - accuracy: 0.7733 - mean_squared_error: 0.3639 - mean_absolute_error: 0.5000\n",
      "Epoch 3/50\n",
      "1580/1580 [==============================] - 11s 7ms/step - loss: 0.3792 - accuracy: 0.7826 - mean_squared_error: 0.3690 - mean_absolute_error: 0.5000\n",
      "Epoch 4/50\n",
      "1580/1580 [==============================] - 12s 7ms/step - loss: 0.3646 - accuracy: 0.7924 - mean_squared_error: 0.3747 - mean_absolute_error: 0.5000\n",
      "Epoch 5/50\n",
      "1580/1580 [==============================] - 13s 8ms/step - loss: 0.3605 - accuracy: 0.7980 - mean_squared_error: 0.3765 - mean_absolute_error: 0.5000\n",
      "Epoch 6/50\n",
      "1580/1580 [==============================] - 13s 8ms/step - loss: 0.3522 - accuracy: 0.8018 - mean_squared_error: 0.3798 - mean_absolute_error: 0.5000\n",
      "Epoch 7/50\n",
      "1580/1580 [==============================] - ETA: 0s - loss: 0.3460 - accuracy: 0.8079 - mean_squared_error: 0.3815 - mean_absolute_error: 0.500 - 12s 8ms/step - loss: 0.3460 - accuracy: 0.8080 - mean_squared_error: 0.3815 - mean_absolute_error: 0.5000\n",
      "Epoch 8/50\n",
      "1580/1580 [==============================] - 12s 8ms/step - loss: 0.3411 - accuracy: 0.8099 - mean_squared_error: 0.3845 - mean_absolute_error: 0.5000\n",
      "Epoch 9/50\n",
      "1580/1580 [==============================] - 13s 8ms/step - loss: 0.3357 - accuracy: 0.8146 - mean_squared_error: 0.3860 - mean_absolute_error: 0.5000\n",
      "Epoch 10/50\n",
      "1580/1580 [==============================] - 13s 8ms/step - loss: 0.3290 - accuracy: 0.8234 - mean_squared_error: 0.3883 - mean_absolute_error: 0.5000\n",
      "Epoch 11/50\n",
      "1580/1580 [==============================] - 12s 8ms/step - loss: 0.3021 - accuracy: 0.8461 - mean_squared_error: 0.3989 - mean_absolute_error: 0.5000\n",
      "Epoch 12/50\n",
      "1580/1580 [==============================] - 22s 14ms/step - loss: 0.2844 - accuracy: 0.8506 - mean_squared_error: 0.4041 - mean_absolute_error: 0.5000 11s - loss: 0.28 - ETA: 10s - loss: 0.2842 - accuracy: 0.8508 - mean_squared_error: 0.4039 - mean_absolute_error: 0. - ETA: 10s - loss:  - ETA: 0s - loss: 0.2845 - accuracy: 0.8505 - mean_squared_error: 0.4041 - mean_absolute_e\n",
      "Epoch 13/50\n",
      "1580/1580 [==============================] - 15s 10ms/step - loss: 0.2757 - accuracy: 0.8514 - mean_squared_error: 0.4069 - mean_absolute_error: 0.5000\n",
      "Epoch 14/50\n",
      "1580/1580 [==============================] - 16s 10ms/step - loss: 0.2759 - accuracy: 0.8525 - mean_squared_error: 0.4082 - mean_absolute_error: 0.5000\n",
      "Epoch 15/50\n",
      "1580/1580 [==============================] - 13s 8ms/step - loss: 0.2633 - accuracy: 0.8620 - mean_squared_error: 0.4115 - mean_absolute_error: 0.5000\n",
      "Epoch 16/50\n",
      "1580/1580 [==============================] - 13s 8ms/step - loss: 0.2574 - accuracy: 0.8650 - mean_squared_error: 0.4137 - mean_absolute_error: 0.5000\n",
      "Epoch 17/50\n",
      "1580/1580 [==============================] - 16s 10ms/step - loss: 0.2568 - accuracy: 0.8640 - mean_squared_error: 0.4134 - mean_absolute_error: 0.5000\n",
      "Epoch 18/50\n",
      "1580/1580 [==============================] - 14s 9ms/step - loss: 0.2528 - accuracy: 0.8648 - mean_squared_error: 0.4149 - mean_absolute_error: 0.5000\n",
      "Epoch 19/50\n",
      "1580/1580 [==============================] - 14s 9ms/step - loss: 0.2484 - accuracy: 0.8657 - mean_squared_error: 0.4164 - mean_absolute_error: 0.5000\n",
      "Epoch 20/50\n",
      "1580/1580 [==============================] - 14s 9ms/step - loss: 0.2446 - accuracy: 0.8710 - mean_squared_error: 0.4176 - mean_absolute_error: 0.5000\n",
      "Epoch 21/50\n",
      "1580/1580 [==============================] - 14s 9ms/step - loss: 0.2468 - accuracy: 0.8666 - mean_squared_error: 0.4176 - mean_absolute_error: 0.5000\n",
      "Epoch 22/50\n",
      "1580/1580 [==============================] - 14s 9ms/step - loss: 0.2411 - accuracy: 0.8724 - mean_squared_error: 0.4190 - mean_absolute_error: 0.5000\n",
      "Epoch 23/50\n",
      "1580/1580 [==============================] - 14s 9ms/step - loss: 0.2398 - accuracy: 0.8710 - mean_squared_error: 0.4191 - mean_absolute_error: 0.5000\n",
      "Epoch 24/50\n",
      "1580/1580 [==============================] - 14s 9ms/step - loss: 0.2379 - accuracy: 0.8736 - mean_squared_error: 0.4204 - mean_absolute_error: 0.5000\n",
      "Epoch 25/50\n",
      "1580/1580 [==============================] - 12s 8ms/step - loss: 0.2366 - accuracy: 0.8731 - mean_squared_error: 0.4204 - mean_absolute_error: 0.5000\n",
      "Epoch 26/50\n",
      "1580/1580 [==============================] - 12s 7ms/step - loss: 0.2348 - accuracy: 0.8745 - mean_squared_error: 0.4211 - mean_absolute_error: 0.5000\n",
      "Epoch 27/50\n",
      "1580/1580 [==============================] - 12s 7ms/step - loss: 0.2315 - accuracy: 0.8771 - mean_squared_error: 0.4227 - mean_absolute_error: 0.5000\n",
      "Epoch 28/50\n",
      "1580/1580 [==============================] - 11s 7ms/step - loss: 0.2323 - accuracy: 0.8758 - mean_squared_error: 0.4218 - mean_absolute_error: 0.5000\n",
      "Epoch 29/50\n",
      "1580/1580 [==============================] - 11s 7ms/step - loss: 0.2330 - accuracy: 0.8730 - mean_squared_error: 0.4221 - mean_absolute_error: 0.5000\n",
      "Epoch 30/50\n",
      "1580/1580 [==============================] - 11s 7ms/step - loss: 0.2321 - accuracy: 0.8769 - mean_squared_error: 0.4218 - mean_absolute_error: 0.5000\n",
      "Epoch 31/50\n",
      "1580/1580 [==============================] - 11s 7ms/step - loss: 0.2284 - accuracy: 0.8793 - mean_squared_error: 0.4234 - mean_absolute_error: 0.5000\n",
      "Epoch 32/50\n",
      "1580/1580 [==============================] - 11s 7ms/step - loss: 0.2270 - accuracy: 0.8787 - mean_squared_error: 0.4230 - mean_absolute_error: 0.5000\n",
      "Epoch 33/50\n",
      "1580/1580 [==============================] - 11s 7ms/step - loss: 0.2295 - accuracy: 0.8781 - mean_squared_error: 0.4225 - mean_absolute_error: 0.5000\n",
      "Epoch 34/50\n",
      "1580/1580 [==============================] - 10s 7ms/step - loss: 0.2328 - accuracy: 0.8735 - mean_squared_error: 0.4223 - mean_absolute_error: 0.5000\n",
      "Epoch 35/50\n",
      "1580/1580 [==============================] - 11s 7ms/step - loss: 0.2283 - accuracy: 0.8776 - mean_squared_error: 0.4232 - mean_absolute_error: 0.5000\n",
      "Epoch 36/50\n",
      "1580/1580 [==============================] - 11s 7ms/step - loss: 0.2305 - accuracy: 0.8794 - mean_squared_error: 0.4236 - mean_absolute_error: 0.5000\n",
      "Epoch 37/50\n",
      "1580/1580 [==============================] - 11s 7ms/step - loss: 0.2288 - accuracy: 0.8765 - mean_squared_error: 0.4229 - mean_absolute_error: 0.5000\n",
      "Epoch 38/50\n",
      "1580/1580 [==============================] - 10s 7ms/step - loss: 0.2259 - accuracy: 0.8764 - mean_squared_error: 0.4239 - mean_absolute_error: 0.5000\n",
      "Epoch 39/50\n",
      "1580/1580 [==============================] - 11s 7ms/step - loss: 0.2243 - accuracy: 0.8789 - mean_squared_error: 0.4237 - mean_absolute_error: 0.5000\n",
      "Epoch 40/50\n",
      "1580/1580 [==============================] - 11s 7ms/step - loss: 0.2226 - accuracy: 0.8802 - mean_squared_error: 0.4250 - mean_absolute_error: 0.5000\n",
      "Epoch 41/50\n",
      "1580/1580 [==============================] - 11s 7ms/step - loss: 0.2226 - accuracy: 0.8803 - mean_squared_error: 0.4244 - mean_absolute_error: 0.5000\n",
      "Epoch 42/50\n",
      "1580/1580 [==============================] - 11s 7ms/step - loss: 0.2282 - accuracy: 0.8746 - mean_squared_error: 0.4246 - mean_absolute_error: 0.5000\n",
      "Epoch 43/50\n",
      "1580/1580 [==============================] - 11s 7ms/step - loss: 0.2224 - accuracy: 0.8789 - mean_squared_error: 0.4248 - mean_absolute_error: 0.5000\n",
      "Epoch 44/50\n",
      "1580/1580 [==============================] - 11s 7ms/step - loss: 0.2208 - accuracy: 0.8799 - mean_squared_error: 0.4257 - mean_absolute_error: 0.5000\n",
      "Epoch 45/50\n",
      "1580/1580 [==============================] - 12s 7ms/step - loss: 0.2216 - accuracy: 0.8821 - mean_squared_error: 0.4254 - mean_absolute_error: 0.5000\n",
      "Epoch 46/50\n",
      "1580/1580 [==============================] - 12s 8ms/step - loss: 0.2237 - accuracy: 0.8815 - mean_squared_error: 0.4249 - mean_absolute_error: 0.5000\n",
      "Epoch 47/50\n",
      "1580/1580 [==============================] - 12s 7ms/step - loss: 0.2216 - accuracy: 0.8793 - mean_squared_error: 0.4256 - mean_absolute_error: 0.5000\n",
      "Epoch 48/50\n",
      "1580/1580 [==============================] - 12s 7ms/step - loss: 0.2258 - accuracy: 0.8787 - mean_squared_error: 0.4251 - mean_absolute_error: 0.5000\n",
      "Epoch 49/50\n",
      "1580/1580 [==============================] - 12s 7ms/step - loss: 0.2187 - accuracy: 0.8838 - mean_squared_error: 0.4264 - mean_absolute_error: 0.5000\n",
      "Epoch 50/50\n",
      "1580/1580 [==============================] - 13s 8ms/step - loss: 0.2223 - accuracy: 0.8809 - mean_squared_error: 0.4247 - mean_absolute_error: 0.5000\n"
     ]
    },
    {
     "data": {
      "text/plain": [
       "<tensorflow.python.keras.callbacks.History at 0x1de8b544a88>"
      ]
     },
     "execution_count": 29,
     "metadata": {},
     "output_type": "execute_result"
    }
   ],
   "source": [
    "model_slice = Sequential()\n",
    "model_slice.add(LSTM(100, input_shape=(x_train.shape[1],1), return_sequences=True))\n",
    "model_slice.add(Dropout(0.5))\n",
    "model_slice.add(LSTM(32, return_sequences=False))\n",
    "model_slice.add(Dense(10, activation='relu'))\n",
    "model_slice.add(Dense(2, activation='softmax'))\n",
    "#model_slice.add(Dense(3, activation='softmax'))\n",
    "\n",
    "model_slice.compile(optimizer=\"adam\",loss=\"sparse_categorical_crossentropy\", metrics=['accuracy','MeanSquaredError', 'MeanAbsoluteError'])\n",
    "model_slice.fit(x_train, y_train, epochs=50)\n"
   ]
  },
  {
   "cell_type": "code",
   "execution_count": 30,
   "metadata": {},
   "outputs": [],
   "source": [
    "y_pred_train = model_slice.predict(x_train)\n",
    "y_pred_val = model_slice.predict(x_test)"
   ]
  },
  {
   "cell_type": "code",
   "execution_count": 31,
   "metadata": {},
   "outputs": [],
   "source": [
    "def calculate_precision(TP, FP):\n",
    "    return TP/(TP+FP)\n",
    "\n",
    "\n",
    "def calculate_fnr(TP, FP, FN):\n",
    "    return FN/(TP+FP)\n",
    "    "
   ]
  },
  {
   "cell_type": "code",
   "execution_count": 32,
   "metadata": {},
   "outputs": [
    {
     "name": "stdout",
     "output_type": "stream",
     "text": [
      "[[17052  2699]\n",
      " [ 2903 27886]]\n",
      "              precision    recall  f1-score   support\n",
      "\n",
      "           0       0.91      0.91      0.91     30789\n",
      "           1       0.85      0.86      0.86     19751\n",
      "\n",
      "    accuracy                           0.89     50540\n",
      "   macro avg       0.88      0.88      0.88     50540\n",
      "weighted avg       0.89      0.89      0.89     50540\n",
      "\n",
      "Accuracy: 88.91571032845272\n",
      "Precision 85.45226760210474\n",
      "False Negative Rate 13.525432222500628\n"
     ]
    }
   ],
   "source": [
    "y_pred_train = [np.argmax(element) for element in y_pred_train]\n",
    "cm = confusion_matrix(y_train, y_pred_train, labels=[1,0])\n",
    "TP = cm[0][0]\n",
    "FP = cm[1][0]\n",
    "FN = cm[0][1]\n",
    "TN = cm[1][1]\n",
    "\n",
    "print(cm)\n",
    "print(classification_report(y_train, y_pred_train))\n",
    "print(\"Accuracy:\",accuracy_score(y_train, y_pred_train)*100)\n",
    "print(\"Precision\",(calculate_precision(TP,FP))*100)\n",
    "print(\"False Negative Rate\", (calculate_fnr(TP,FP,FN))*100)\n"
   ]
  },
  {
   "cell_type": "code",
   "execution_count": 33,
   "metadata": {},
   "outputs": [
    {
     "name": "stdout",
     "output_type": "stream",
     "text": [
      "[[ 7199  1232]\n",
      " [ 1350 11880]]\n",
      "              precision    recall  f1-score   support\n",
      "\n",
      "           0       0.91      0.90      0.90     13230\n",
      "           1       0.84      0.85      0.85      8431\n",
      "\n",
      "    accuracy                           0.88     21661\n",
      "   macro avg       0.87      0.88      0.87     21661\n",
      "weighted avg       0.88      0.88      0.88     21661\n",
      "\n",
      "Accuracy: 88.07995937399012\n",
      "Precision 84.208679377705\n",
      "False Negative Rate 14.411042227161072\n"
     ]
    }
   ],
   "source": [
    "y_pred_val = [np.argmax(element) for element in y_pred_val]\n",
    "cm = confusion_matrix(y_test, y_pred_val, labels=[1,0])\n",
    "TP = cm[0][0]\n",
    "FP = cm[1][0]\n",
    "FN = cm[0][1]\n",
    "TN = cm[1][1]\n",
    "\n",
    "print(cm)\n",
    "print(classification_report(y_test, y_pred_val))\n",
    "print(\"Accuracy:\",accuracy_score(y_test, y_pred_val)*100)\n",
    "print(\"Precision\",(calculate_precision(TP,FP))*100)\n",
    "print(\"False Negative Rate\", (calculate_fnr(TP,FP,FN))*100)"
   ]
  },
  {
   "cell_type": "code",
   "execution_count": null,
   "metadata": {},
   "outputs": [],
   "source": []
  }
 ],
 "metadata": {
  "interpreter": {
   "hash": "8c2dc7f55a4afb133f9671f18548a683b80d7f864af89313bd9839ac682f147f"
  },
  "kernelspec": {
   "display_name": "Python 3.7.4 64-bit",
   "language": "python",
   "name": "python3"
  },
  "language_info": {
   "codemirror_mode": {
    "name": "ipython",
    "version": 3
   },
   "file_extension": ".py",
   "mimetype": "text/x-python",
   "name": "python",
   "nbconvert_exporter": "python",
   "pygments_lexer": "ipython3",
   "version": "3.7.4"
  },
  "orig_nbformat": 4
 },
 "nbformat": 4,
 "nbformat_minor": 2
}
