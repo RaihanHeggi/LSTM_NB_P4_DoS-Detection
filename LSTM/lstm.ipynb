{
 "cells": [
  {
   "cell_type": "code",
   "execution_count": 1,
   "metadata": {},
   "outputs": [],
   "source": [
    "import pandas as pd \n",
    "import seaborn as sn \n",
    "import matplotlib.pyplot as plt \n",
    "import numpy as np \n",
    "from keras.models import Sequential\n",
    "from keras.layers import Dense, LSTM, Dropout\n",
    "from sklearn.model_selection import cross_val_score\n",
    "from sklearn.metrics import confusion_matrix\n",
    "from sklearn.metrics import accuracy_score\n",
    "from sklearn.metrics import classification_report\n",
    "from sklearn.metrics import confusion_matrix\n",
    "from sklearn.model_selection import train_test_split"
   ]
  },
  {
   "cell_type": "markdown",
   "metadata": {},
   "source": [
    "### Loading Dataset "
   ]
  },
  {
   "cell_type": "code",
   "execution_count": 2,
   "metadata": {},
   "outputs": [],
   "source": [
    "df_full_feature = pd.read_csv('../Dataset/Normalisasi/processed_dataset_10_norm.csv',sep=',')\n",
    "df_chi_square = pd.read_csv('../Dataset/Normalisasi/processed_dataset_chi_square_norm.csv', sep=',')\n",
    "df_feature_selection = pd.read_csv('../Dataset/Normalisasi/processed_dataset_5_norm.csv',sep=',')\n",
    "df_slice = pd.read_csv('../Dataset/Normalisasi/processed_dataset_slice_norm.csv',sep=',')"
   ]
  },
  {
   "cell_type": "markdown",
   "metadata": {},
   "source": [
    "### Splitting Variable"
   ]
  },
  {
   "cell_type": "code",
   "execution_count": 3,
   "metadata": {},
   "outputs": [
    {
     "data": {
      "text/html": [
       "<div>\n",
       "<style scoped>\n",
       "    .dataframe tbody tr th:only-of-type {\n",
       "        vertical-align: middle;\n",
       "    }\n",
       "\n",
       "    .dataframe tbody tr th {\n",
       "        vertical-align: top;\n",
       "    }\n",
       "\n",
       "    .dataframe thead th {\n",
       "        text-align: right;\n",
       "    }\n",
       "</style>\n",
       "<table border=\"1\" class=\"dataframe\">\n",
       "  <thead>\n",
       "    <tr style=\"text-align: right;\">\n",
       "      <th></th>\n",
       "      <th>src</th>\n",
       "      <th>dst</th>\n",
       "      <th>Protocol</th>\n",
       "      <th>pktrate</th>\n",
       "      <th>pktperflow</th>\n",
       "      <th>dur</th>\n",
       "      <th>dur_nsec</th>\n",
       "      <th>bytecount</th>\n",
       "      <th>pktcount</th>\n",
       "    </tr>\n",
       "  </thead>\n",
       "  <tbody>\n",
       "    <tr>\n",
       "      <th>0</th>\n",
       "      <td>0.055556</td>\n",
       "      <td>0.647059</td>\n",
       "      <td>0.0</td>\n",
       "      <td>0.000000</td>\n",
       "      <td>0.001511</td>\n",
       "      <td>0.522594</td>\n",
       "      <td>0.235235</td>\n",
       "      <td>0.000640</td>\n",
       "      <td>0.003696</td>\n",
       "    </tr>\n",
       "    <tr>\n",
       "      <th>1</th>\n",
       "      <td>0.333333</td>\n",
       "      <td>0.705882</td>\n",
       "      <td>0.5</td>\n",
       "      <td>0.799687</td>\n",
       "      <td>0.799583</td>\n",
       "      <td>0.204147</td>\n",
       "      <td>0.114114</td>\n",
       "      <td>0.081254</td>\n",
       "      <td>0.851453</td>\n",
       "    </tr>\n",
       "    <tr>\n",
       "      <th>2</th>\n",
       "      <td>0.555556</td>\n",
       "      <td>0.882353</td>\n",
       "      <td>0.0</td>\n",
       "      <td>0.001565</td>\n",
       "      <td>0.001563</td>\n",
       "      <td>0.436470</td>\n",
       "      <td>0.243243</td>\n",
       "      <td>0.000534</td>\n",
       "      <td>0.003081</td>\n",
       "    </tr>\n",
       "    <tr>\n",
       "      <th>3</th>\n",
       "      <td>0.833333</td>\n",
       "      <td>0.941176</td>\n",
       "      <td>0.5</td>\n",
       "      <td>0.516432</td>\n",
       "      <td>0.516884</td>\n",
       "      <td>0.052100</td>\n",
       "      <td>0.622623</td>\n",
       "      <td>0.014585</td>\n",
       "      <td>0.125043</td>\n",
       "    </tr>\n",
       "    <tr>\n",
       "      <th>4</th>\n",
       "      <td>0.111111</td>\n",
       "      <td>0.647059</td>\n",
       "      <td>1.0</td>\n",
       "      <td>0.428795</td>\n",
       "      <td>0.428504</td>\n",
       "      <td>0.152578</td>\n",
       "      <td>0.579580</td>\n",
       "      <td>0.618070</td>\n",
       "      <td>0.335646</td>\n",
       "    </tr>\n",
       "  </tbody>\n",
       "</table>\n",
       "</div>"
      ],
      "text/plain": [
       "        src       dst  Protocol   pktrate  pktperflow       dur  dur_nsec  \\\n",
       "0  0.055556  0.647059       0.0  0.000000    0.001511  0.522594  0.235235   \n",
       "1  0.333333  0.705882       0.5  0.799687    0.799583  0.204147  0.114114   \n",
       "2  0.555556  0.882353       0.0  0.001565    0.001563  0.436470  0.243243   \n",
       "3  0.833333  0.941176       0.5  0.516432    0.516884  0.052100  0.622623   \n",
       "4  0.111111  0.647059       1.0  0.428795    0.428504  0.152578  0.579580   \n",
       "\n",
       "   bytecount  pktcount  \n",
       "0   0.000640  0.003696  \n",
       "1   0.081254  0.851453  \n",
       "2   0.000534  0.003081  \n",
       "3   0.014585  0.125043  \n",
       "4   0.618070  0.335646  "
      ]
     },
     "execution_count": 3,
     "metadata": {},
     "output_type": "execute_result"
    }
   ],
   "source": [
    "# Dataset Full Feature\n",
    "full_feature_x = df_full_feature[df_full_feature.columns[:9]]\n",
    "full_feature_y = df_full_feature['label']\n",
    "\n",
    "full_feature_x.head(5)"
   ]
  },
  {
   "cell_type": "code",
   "execution_count": 4,
   "metadata": {},
   "outputs": [
    {
     "data": {
      "text/html": [
       "<div>\n",
       "<style scoped>\n",
       "    .dataframe tbody tr th:only-of-type {\n",
       "        vertical-align: middle;\n",
       "    }\n",
       "\n",
       "    .dataframe tbody tr th {\n",
       "        vertical-align: top;\n",
       "    }\n",
       "\n",
       "    .dataframe thead th {\n",
       "        text-align: right;\n",
       "    }\n",
       "</style>\n",
       "<table border=\"1\" class=\"dataframe\">\n",
       "  <thead>\n",
       "    <tr style=\"text-align: right;\">\n",
       "      <th></th>\n",
       "      <th>dst</th>\n",
       "      <th>src</th>\n",
       "      <th>Protocol</th>\n",
       "      <th>pktcount</th>\n",
       "      <th>pktcount.1</th>\n",
       "    </tr>\n",
       "  </thead>\n",
       "  <tbody>\n",
       "    <tr>\n",
       "      <th>0</th>\n",
       "      <td>0.647059</td>\n",
       "      <td>0.055556</td>\n",
       "      <td>0.0</td>\n",
       "      <td>0.003696</td>\n",
       "      <td>0.003696</td>\n",
       "    </tr>\n",
       "    <tr>\n",
       "      <th>1</th>\n",
       "      <td>0.705882</td>\n",
       "      <td>0.333333</td>\n",
       "      <td>0.5</td>\n",
       "      <td>0.851453</td>\n",
       "      <td>0.851453</td>\n",
       "    </tr>\n",
       "    <tr>\n",
       "      <th>2</th>\n",
       "      <td>0.882353</td>\n",
       "      <td>0.555556</td>\n",
       "      <td>0.0</td>\n",
       "      <td>0.003081</td>\n",
       "      <td>0.003081</td>\n",
       "    </tr>\n",
       "    <tr>\n",
       "      <th>3</th>\n",
       "      <td>0.941176</td>\n",
       "      <td>0.833333</td>\n",
       "      <td>0.5</td>\n",
       "      <td>0.125043</td>\n",
       "      <td>0.125043</td>\n",
       "    </tr>\n",
       "    <tr>\n",
       "      <th>4</th>\n",
       "      <td>0.647059</td>\n",
       "      <td>0.111111</td>\n",
       "      <td>1.0</td>\n",
       "      <td>0.335646</td>\n",
       "      <td>0.335646</td>\n",
       "    </tr>\n",
       "  </tbody>\n",
       "</table>\n",
       "</div>"
      ],
      "text/plain": [
       "        dst       src  Protocol  pktcount  pktcount.1\n",
       "0  0.647059  0.055556       0.0  0.003696    0.003696\n",
       "1  0.705882  0.333333       0.5  0.851453    0.851453\n",
       "2  0.882353  0.555556       0.0  0.003081    0.003081\n",
       "3  0.941176  0.833333       0.5  0.125043    0.125043\n",
       "4  0.647059  0.111111       1.0  0.335646    0.335646"
      ]
     },
     "execution_count": 4,
     "metadata": {},
     "output_type": "execute_result"
    }
   ],
   "source": [
    "# Dataset Chi Square \n",
    "chi_square_x = df_chi_square[df_chi_square.columns[:5]]\n",
    "chi_square_y = df_chi_square['label']\n",
    "\n",
    "chi_square_x.head(5)"
   ]
  },
  {
   "cell_type": "code",
   "execution_count": 5,
   "metadata": {},
   "outputs": [
    {
     "data": {
      "text/html": [
       "<div>\n",
       "<style scoped>\n",
       "    .dataframe tbody tr th:only-of-type {\n",
       "        vertical-align: middle;\n",
       "    }\n",
       "\n",
       "    .dataframe tbody tr th {\n",
       "        vertical-align: top;\n",
       "    }\n",
       "\n",
       "    .dataframe thead th {\n",
       "        text-align: right;\n",
       "    }\n",
       "</style>\n",
       "<table border=\"1\" class=\"dataframe\">\n",
       "  <thead>\n",
       "    <tr style=\"text-align: right;\">\n",
       "      <th></th>\n",
       "      <th>pktrate</th>\n",
       "      <th>pktperflow</th>\n",
       "      <th>Protocol</th>\n",
       "      <th>src</th>\n",
       "      <th>dst</th>\n",
       "    </tr>\n",
       "  </thead>\n",
       "  <tbody>\n",
       "    <tr>\n",
       "      <th>0</th>\n",
       "      <td>0.000000</td>\n",
       "      <td>0.001511</td>\n",
       "      <td>0.0</td>\n",
       "      <td>0.055556</td>\n",
       "      <td>0.647059</td>\n",
       "    </tr>\n",
       "    <tr>\n",
       "      <th>1</th>\n",
       "      <td>0.799687</td>\n",
       "      <td>0.799583</td>\n",
       "      <td>0.5</td>\n",
       "      <td>0.333333</td>\n",
       "      <td>0.705882</td>\n",
       "    </tr>\n",
       "    <tr>\n",
       "      <th>2</th>\n",
       "      <td>0.001565</td>\n",
       "      <td>0.001563</td>\n",
       "      <td>0.0</td>\n",
       "      <td>0.555556</td>\n",
       "      <td>0.882353</td>\n",
       "    </tr>\n",
       "    <tr>\n",
       "      <th>3</th>\n",
       "      <td>0.516432</td>\n",
       "      <td>0.516884</td>\n",
       "      <td>0.5</td>\n",
       "      <td>0.833333</td>\n",
       "      <td>0.941176</td>\n",
       "    </tr>\n",
       "    <tr>\n",
       "      <th>4</th>\n",
       "      <td>0.428795</td>\n",
       "      <td>0.428504</td>\n",
       "      <td>1.0</td>\n",
       "      <td>0.111111</td>\n",
       "      <td>0.647059</td>\n",
       "    </tr>\n",
       "  </tbody>\n",
       "</table>\n",
       "</div>"
      ],
      "text/plain": [
       "    pktrate  pktperflow  Protocol       src       dst\n",
       "0  0.000000    0.001511       0.0  0.055556  0.647059\n",
       "1  0.799687    0.799583       0.5  0.333333  0.705882\n",
       "2  0.001565    0.001563       0.0  0.555556  0.882353\n",
       "3  0.516432    0.516884       0.5  0.833333  0.941176\n",
       "4  0.428795    0.428504       1.0  0.111111  0.647059"
      ]
     },
     "execution_count": 5,
     "metadata": {},
     "output_type": "execute_result"
    }
   ],
   "source": [
    "# Dataset Feature Selection\n",
    "feature_selection_x = df_feature_selection[df_feature_selection.columns[:5]]\n",
    "feature_selection_y = df_feature_selection['label']\n",
    "\n",
    "feature_selection_x.head(5)"
   ]
  },
  {
   "cell_type": "code",
   "execution_count": 6,
   "metadata": {},
   "outputs": [
    {
     "data": {
      "text/html": [
       "<div>\n",
       "<style scoped>\n",
       "    .dataframe tbody tr th:only-of-type {\n",
       "        vertical-align: middle;\n",
       "    }\n",
       "\n",
       "    .dataframe tbody tr th {\n",
       "        vertical-align: top;\n",
       "    }\n",
       "\n",
       "    .dataframe thead th {\n",
       "        text-align: right;\n",
       "    }\n",
       "</style>\n",
       "<table border=\"1\" class=\"dataframe\">\n",
       "  <thead>\n",
       "    <tr style=\"text-align: right;\">\n",
       "      <th></th>\n",
       "      <th>dst</th>\n",
       "      <th>src</th>\n",
       "      <th>Protocol</th>\n",
       "      <th>bytecount</th>\n",
       "    </tr>\n",
       "  </thead>\n",
       "  <tbody>\n",
       "    <tr>\n",
       "      <th>0</th>\n",
       "      <td>0.647059</td>\n",
       "      <td>0.055556</td>\n",
       "      <td>0.0</td>\n",
       "      <td>0.000640</td>\n",
       "    </tr>\n",
       "    <tr>\n",
       "      <th>1</th>\n",
       "      <td>0.705882</td>\n",
       "      <td>0.333333</td>\n",
       "      <td>0.5</td>\n",
       "      <td>0.081254</td>\n",
       "    </tr>\n",
       "    <tr>\n",
       "      <th>2</th>\n",
       "      <td>0.882353</td>\n",
       "      <td>0.555556</td>\n",
       "      <td>0.0</td>\n",
       "      <td>0.000534</td>\n",
       "    </tr>\n",
       "    <tr>\n",
       "      <th>3</th>\n",
       "      <td>0.941176</td>\n",
       "      <td>0.833333</td>\n",
       "      <td>0.5</td>\n",
       "      <td>0.014585</td>\n",
       "    </tr>\n",
       "    <tr>\n",
       "      <th>4</th>\n",
       "      <td>0.647059</td>\n",
       "      <td>0.111111</td>\n",
       "      <td>1.0</td>\n",
       "      <td>0.618070</td>\n",
       "    </tr>\n",
       "  </tbody>\n",
       "</table>\n",
       "</div>"
      ],
      "text/plain": [
       "        dst       src  Protocol  bytecount\n",
       "0  0.647059  0.055556       0.0   0.000640\n",
       "1  0.705882  0.333333       0.5   0.081254\n",
       "2  0.882353  0.555556       0.0   0.000534\n",
       "3  0.941176  0.833333       0.5   0.014585\n",
       "4  0.647059  0.111111       1.0   0.618070"
      ]
     },
     "execution_count": 6,
     "metadata": {},
     "output_type": "execute_result"
    }
   ],
   "source": [
    "# Dataset Slice\n",
    "slice_x = df_slice[df_slice.columns[:4]]\n",
    "slice_y= df_slice['label']\n",
    "\n",
    "slice_x.head(5)"
   ]
  },
  {
   "cell_type": "markdown",
   "metadata": {},
   "source": [
    "### Full Model "
   ]
  },
  {
   "cell_type": "code",
   "execution_count": 10,
   "metadata": {},
   "outputs": [
    {
     "data": {
      "text/plain": [
       "(50540, 9, 1)"
      ]
     },
     "execution_count": 10,
     "metadata": {},
     "output_type": "execute_result"
    }
   ],
   "source": [
    "#Splitting Data \n",
    "\n",
    "x_train,x_test,y_train,y_test = train_test_split(full_feature_x,full_feature_y,test_size=0.30,random_state=9)\n",
    "\n",
    "x_train = x_train.to_numpy()\n",
    "x_test = x_test.to_numpy()\n",
    "x_train = np.reshape(x_train, (x_train.shape[0], x_train.shape[1], 1))\n",
    "x_test = np.reshape(x_test, (x_test.shape[0], x_test.shape[1], 1))\n",
    "x_train.shape\n"
   ]
  },
  {
   "cell_type": "code",
   "execution_count": 8,
   "metadata": {},
   "outputs": [
    {
     "name": "stdout",
     "output_type": "stream",
     "text": [
      "Epoch 1/10\n",
      "1580/1580 [==============================] - 94s 54ms/step - loss: 0.5998 - accuracy: 0.6709 - mean_squared_error: 0.3263 - mean_absolute_error: 0.4635A: 1: - ETA: 12s - loss: 0.6163 - accuracy: 0.65 - ETA: 5s\n",
      "Epoch 2/10\n",
      "1580/1580 [==============================] - 56s 35ms/step - loss: 0.2367 - accuracy: 0.9037 - mean_squared_error: 0.4128 - mean_absolute_error: 0.4637A: 2:14 - l - ETA: 50s - loss: 0.2553 - accuracy: 0.8977 - mean_squared_error: 0.4071 - - ETA: 48s - loss: 0.2544 - accuracy: 0.8980 - mean_squared_error - ETA: 37s - loss: 0.2503 - accuracy: 0.8995 - mean_squared_error: 0.4 - ETA: 7s - loss: 0.2397 - accuracy: 0.9028 - mean_squared_error: 0.4119 - mean_absolute - ETA: 6s - loss: 0.2391 - accuracy: 0.903\n",
      "Epoch 3/10\n",
      "1580/1580 [==============================] - 33s 21ms/step - loss: 0.1902 - accuracy: 0.9163 - mean_squared_error: 0.4252 - mean_absolute_error: 0.4634\n",
      "Epoch 4/10\n",
      "1580/1580 [==============================] - 48s 30ms/step - loss: 0.1773 - accuracy: 0.9213 - mean_squared_error: 0.4272 - mean_absolute_error: 0.4630\n",
      "Epoch 5/10\n",
      "1580/1580 [==============================] - 49s 31ms/step - loss: 0.1728 - accuracy: 0.9222 - mean_squared_error: 0.4287 - mean_absolute_error: 0.4634A: 13s - loss: 0.1746 - accuracy: 0.9214 - mean_squared_error: 0.42 - ETA: 12s - loss: 0.1744 - accuracy: 0.9215 - mean_sq\n",
      "Epoch 6/10\n",
      "1580/1580 [==============================] - 47s 30ms/step - loss: 0.1587 - accuracy: 0.9287 - mean_squared_error: 0.4314 - mean_absolute_error: 0.4636 4s - loss: 0.1586 - accuracy: 0.9288 - mean_squared_error: 0.4314 - - ETA: 2s - loss: 0.1587 - accuracy: 0.9288 - mean_squared_error: 0.4314 - mean_absolut - ETA: 1s - loss: 0.1587 - accuracy: 0.9287 - mean_squared_error: 0.43\n",
      "Epoch 7/10\n",
      "1580/1580 [==============================] - 38s 24ms/step - loss: 0.1501 - accuracy: 0.9321 - mean_squared_error: 0.4320 - mean_absolute_error: 0.4625 7s - ETA: 1s - loss: 0.1499 - accuracy: 0.9322 - mean_squared_error:\n",
      "Epoch 8/10\n",
      "1580/1580 [==============================] - 34s 21ms/step - loss: 0.1483 - accuracy: 0.9342 - mean_squared_error: 0.4322 - mean_absolute_error: 0.4631 8s - loss: 0.1485 - accuracy: 0.9343 - mea - ETA: 5s - loss: 0\n",
      "Epoch 9/10\n",
      "1580/1580 [==============================] - 44s 28ms/step - loss: 0.1392 - accuracy: 0.9399 - mean_squared_error: 0.4347 - mean_absolute_error: 0.4632 11s - loss: 0.1380 - accuracy: 0.9407 - mean_squared_e - ETA: 10s - loss: 0.1381 - accu - ETA: 7s - loss: 0.1385 - accuracy: 0.9404 - mean_squar\n",
      "Epoch 10/10\n",
      "1580/1580 [==============================] - 37s 24ms/step - loss: 0.1398 - accuracy: 0.9374 - mean_squared_error: 0.4350 - mean_absolute_error: 0.4638 29s - loss: 0.1408 - accuracy: 0.9354 - mean_squared_error: 0.4341 - m - ETA: 28s - loss: 0.1407 - accuracy: 0.9355 - mean_squared_error - ETA: 27s - loss: 0.14 - ETA: 24s - loss: 0.1404 - accuracy: 0.9360 - mean_squared_error: 0.4345 - mean_absolute_error: 0.46 - ETA: 24s - loss: 0.1404 - accuracy: 0.9360 - mean_sq - ETA: 6s - loss: 0.1400 - accuracy: \n"
     ]
    },
    {
     "data": {
      "text/plain": [
       "<tensorflow.python.keras.callbacks.History at 0x1b514916648>"
      ]
     },
     "execution_count": 8,
     "metadata": {},
     "output_type": "execute_result"
    }
   ],
   "source": [
    "model_full = Sequential()\n",
    "model_full.add(LSTM(100, input_shape=(x_train.shape[1],1), return_sequences=True))\n",
    "model_full.add(Dropout(0.5))\n",
    "model_full.add(LSTM(32, return_sequences=False))\n",
    "model_full.add(Dense(10, activation='relu'))\n",
    "model_full.add(Dense(3, activation='softmax'))\n",
    "\n",
    "model_full.compile(optimizer=\"adam\",loss=\"sparse_categorical_crossentropy\", metrics=['accuracy','MeanSquaredError', 'MeanAbsoluteError'])\n",
    "model_full.fit(x_train, y_train, epochs=10)\n"
   ]
  },
  {
   "cell_type": "code",
   "execution_count": 11,
   "metadata": {},
   "outputs": [],
   "source": [
    "y_pred_train = model_full.predict(x_train)\n",
    "y_pred_test = model_full.predict(x_test)"
   ]
  },
  {
   "cell_type": "code",
   "execution_count": 12,
   "metadata": {},
   "outputs": [
    {
     "name": "stdout",
     "output_type": "stream",
     "text": [
      "[[29027  1762]\n",
      " [ 1010 18741]]\n",
      "              precision    recall  f1-score   support\n",
      "\n",
      "           0       0.97      0.94      0.95     30789\n",
      "           1       0.91      0.95      0.93     19751\n",
      "\n",
      "    accuracy                           0.95     50540\n",
      "   macro avg       0.94      0.95      0.94     50540\n",
      "weighted avg       0.95      0.95      0.95     50540\n",
      "\n",
      "Accuracy: 94.51523545706371\n"
     ]
    }
   ],
   "source": [
    "import warnings\n",
    "warnings.filterwarnings('ignore')\n",
    "y_pred_train = [np.argmax(element) for element in y_pred_train]\n",
    "print(confusion_matrix(y_train, y_pred_train))\n",
    "print(classification_report(y_train, y_pred_train))\n",
    "print(\"Accuracy:\",accuracy_score(y_train, y_pred_train)*100)\n"
   ]
  },
  {
   "cell_type": "code",
   "execution_count": 13,
   "metadata": {},
   "outputs": [
    {
     "name": "stdout",
     "output_type": "stream",
     "text": [
      "[[12444   786]\n",
      " [  450  7981]]\n",
      "              precision    recall  f1-score   support\n",
      "\n",
      "           0       0.97      0.94      0.95     13230\n",
      "           1       0.91      0.95      0.93      8431\n",
      "\n",
      "    accuracy                           0.94     21661\n",
      "   macro avg       0.94      0.94      0.94     21661\n",
      "weighted avg       0.94      0.94      0.94     21661\n",
      "\n",
      "Accuracy: 94.29389224874198\n"
     ]
    }
   ],
   "source": [
    "warnings.filterwarnings('ignore')\n",
    "y_pred_test = [np.argmax(element) for element in y_pred_test]\n",
    "print(confusion_matrix(y_test, y_pred_test))\n",
    "print(classification_report(y_test, y_pred_test))\n",
    "print(\"Accuracy:\",accuracy_score(y_test, y_pred_test)*100)"
   ]
  },
  {
   "cell_type": "markdown",
   "metadata": {},
   "source": [
    "Belajar Lagi Mengenai Komponen LSTM dan Kemudian Mengenai Konsep Reshaping Dari LSTM"
   ]
  },
  {
   "cell_type": "code",
   "execution_count": null,
   "metadata": {},
   "outputs": [],
   "source": []
  }
 ],
 "metadata": {
  "interpreter": {
   "hash": "5d87b42201e74ac320bc00dce267d44f5f134edfec9046f67f672f289707ff6a"
  },
  "kernelspec": {
   "display_name": "Python 3.7.4 64-bit",
   "language": "python",
   "name": "python3"
  },
  "language_info": {
   "codemirror_mode": {
    "name": "ipython",
    "version": 3
   },
   "file_extension": ".py",
   "mimetype": "text/x-python",
   "name": "python",
   "nbconvert_exporter": "python",
   "pygments_lexer": "ipython3",
   "version": "3.7.4"
  },
  "orig_nbformat": 4
 },
 "nbformat": 4,
 "nbformat_minor": 2
}
