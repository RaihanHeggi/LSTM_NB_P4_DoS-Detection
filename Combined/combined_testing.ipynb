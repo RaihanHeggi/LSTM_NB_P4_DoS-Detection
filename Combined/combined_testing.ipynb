{
 "cells": [
  {
   "cell_type": "code",
   "execution_count": 1,
   "metadata": {},
   "outputs": [],
   "source": [
    "import pandas as pd \n",
    "import matplotlib.pyplot as plt \n",
    "import seaborn as sn \n",
    "import numpy as np \n",
    "import joblib\n",
    "from keras.models import load_model\n",
    "from sklearn.naive_bayes import GaussianNB, MultinomialNB\n",
    "from sklearn.model_selection import cross_val_score\n",
    "from sklearn.metrics import confusion_matrix\n",
    "from sklearn.metrics import accuracy_score\n",
    "from sklearn.metrics import classification_report\n",
    "from sklearn.metrics import confusion_matrix\n",
    "from sklearn.model_selection import train_test_split\n",
    "from sklearn.preprocessing import LabelEncoder"
   ]
  },
  {
   "cell_type": "code",
   "execution_count": 2,
   "metadata": {},
   "outputs": [],
   "source": [
    "df_slice = pd.read_csv('../Dataset/Normalisasi/processed_dataset_slice_norm.csv',sep=',')"
   ]
  },
  {
   "cell_type": "code",
   "execution_count": 3,
   "metadata": {},
   "outputs": [
    {
     "data": {
      "text/plain": [
       "<tensorflow.python.keras.engine.sequential.Sequential at 0x1bc758e1808>"
      ]
     },
     "execution_count": 3,
     "metadata": {},
     "output_type": "execute_result"
    }
   ],
   "source": [
    "lstm_model =  load_model('lstm_slice.h5')\n",
    "lstm_model"
   ]
  },
  {
   "cell_type": "code",
   "execution_count": 4,
   "metadata": {},
   "outputs": [
    {
     "data": {
      "text/plain": [
       "GaussianNB(var_smoothing=0.732596542821523)"
      ]
     },
     "execution_count": 4,
     "metadata": {},
     "output_type": "execute_result"
    }
   ],
   "source": [
    "naive_bayes_model = joblib.load('naive_bayes_final.pkl')\n",
    "naive_bayes_model"
   ]
  },
  {
   "cell_type": "markdown",
   "metadata": {},
   "source": [
    "## Training Phase"
   ]
  },
  {
   "cell_type": "code",
   "execution_count": 5,
   "metadata": {},
   "outputs": [
    {
     "data": {
      "text/html": [
       "<div>\n",
       "<style scoped>\n",
       "    .dataframe tbody tr th:only-of-type {\n",
       "        vertical-align: middle;\n",
       "    }\n",
       "\n",
       "    .dataframe tbody tr th {\n",
       "        vertical-align: top;\n",
       "    }\n",
       "\n",
       "    .dataframe thead th {\n",
       "        text-align: right;\n",
       "    }\n",
       "</style>\n",
       "<table border=\"1\" class=\"dataframe\">\n",
       "  <thead>\n",
       "    <tr style=\"text-align: right;\">\n",
       "      <th></th>\n",
       "      <th>dst</th>\n",
       "      <th>src</th>\n",
       "      <th>Protocol</th>\n",
       "      <th>bytecount</th>\n",
       "    </tr>\n",
       "  </thead>\n",
       "  <tbody>\n",
       "    <tr>\n",
       "      <th>0</th>\n",
       "      <td>0.647059</td>\n",
       "      <td>0.055556</td>\n",
       "      <td>0.0</td>\n",
       "      <td>0.000640</td>\n",
       "    </tr>\n",
       "    <tr>\n",
       "      <th>1</th>\n",
       "      <td>0.705882</td>\n",
       "      <td>0.333333</td>\n",
       "      <td>0.5</td>\n",
       "      <td>0.081254</td>\n",
       "    </tr>\n",
       "    <tr>\n",
       "      <th>2</th>\n",
       "      <td>0.882353</td>\n",
       "      <td>0.555556</td>\n",
       "      <td>0.0</td>\n",
       "      <td>0.000534</td>\n",
       "    </tr>\n",
       "    <tr>\n",
       "      <th>3</th>\n",
       "      <td>0.941176</td>\n",
       "      <td>0.833333</td>\n",
       "      <td>0.5</td>\n",
       "      <td>0.014585</td>\n",
       "    </tr>\n",
       "    <tr>\n",
       "      <th>4</th>\n",
       "      <td>0.647059</td>\n",
       "      <td>0.111111</td>\n",
       "      <td>1.0</td>\n",
       "      <td>0.618070</td>\n",
       "    </tr>\n",
       "  </tbody>\n",
       "</table>\n",
       "</div>"
      ],
      "text/plain": [
       "        dst       src  Protocol  bytecount\n",
       "0  0.647059  0.055556       0.0   0.000640\n",
       "1  0.705882  0.333333       0.5   0.081254\n",
       "2  0.882353  0.555556       0.0   0.000534\n",
       "3  0.941176  0.833333       0.5   0.014585\n",
       "4  0.647059  0.111111       1.0   0.618070"
      ]
     },
     "execution_count": 5,
     "metadata": {},
     "output_type": "execute_result"
    }
   ],
   "source": [
    "slice_x = df_slice[df_slice.columns[:4]]\n",
    "slice_y= df_slice['label']\n",
    "\n",
    "slice_x.head(5)"
   ]
  },
  {
   "cell_type": "code",
   "execution_count": 6,
   "metadata": {},
   "outputs": [
    {
     "data": {
      "text/plain": [
       "(50540, 4, 1)"
      ]
     },
     "execution_count": 6,
     "metadata": {},
     "output_type": "execute_result"
    }
   ],
   "source": [
    "x_train,x_test,y_train,y_test = train_test_split(slice_x,slice_y,test_size=0.30,random_state=9)\n",
    "\n",
    "x_train_awal = x_train\n",
    "x_test_awal = x_test\n",
    "y_train_awal = y_train\n",
    "y_test_awal = y_test\n",
    "\n",
    "x_train = x_train.to_numpy()\n",
    "x_test = x_test.to_numpy()\n",
    "x_train = np.reshape(x_train, (x_train.shape[0], x_train.shape[1], 1))\n",
    "x_test = np.reshape(x_test, (x_test.shape[0], x_test.shape[1], 1))\n",
    "x_train.shape"
   ]
  },
  {
   "cell_type": "code",
   "execution_count": 7,
   "metadata": {},
   "outputs": [
    {
     "name": "stdout",
     "output_type": "stream",
     "text": [
      "Epoch 1/10\n",
      "1580/1580 [==============================] - 13s 7ms/step - loss: 0.2427 - accuracy: 0.8715 - mean_squared_error: 0.4181 - mean_absolute_error: 0.5000\n",
      "Epoch 2/10\n",
      "1580/1580 [==============================] - 11s 7ms/step - loss: 0.2366 - accuracy: 0.8747 - mean_squared_error: 0.4195 - mean_absolute_error: 0.5000\n",
      "Epoch 3/10\n",
      "1580/1580 [==============================] - 11s 7ms/step - loss: 0.2358 - accuracy: 0.8746 - mean_squared_error: 0.4198 - mean_absolute_error: 0.5000\n",
      "Epoch 4/10\n",
      "1580/1580 [==============================] - 11s 7ms/step - loss: 0.2345 - accuracy: 0.8753 - mean_squared_error: 0.4206 - mean_absolute_error: 0.5000\n",
      "Epoch 5/10\n",
      "1580/1580 [==============================] - 11s 7ms/step - loss: 0.2413 - accuracy: 0.8726 - mean_squared_error: 0.4183 - mean_absolute_error: 0.5000\n",
      "Epoch 6/10\n",
      "1580/1580 [==============================] - 11s 7ms/step - loss: 0.2385 - accuracy: 0.8751 - mean_squared_error: 0.4198 - mean_absolute_error: 0.5000\n",
      "Epoch 7/10\n",
      "1580/1580 [==============================] - 11s 7ms/step - loss: 0.2335 - accuracy: 0.8773 - mean_squared_error: 0.4213 - mean_absolute_error: 0.5000\n",
      "Epoch 8/10\n",
      "1580/1580 [==============================] - 11s 7ms/step - loss: 0.2314 - accuracy: 0.8758 - mean_squared_error: 0.4217 - mean_absolute_error: 0.5000\n",
      "Epoch 9/10\n",
      "1580/1580 [==============================] - 11s 7ms/step - loss: 0.2298 - accuracy: 0.8787 - mean_squared_error: 0.4222 - mean_absolute_error: 0.5000\n",
      "Epoch 10/10\n",
      "1580/1580 [==============================] - 12s 8ms/step - loss: 0.2285 - accuracy: 0.8782 - mean_squared_error: 0.4224 - mean_absolute_error: 0.5000\n"
     ]
    },
    {
     "data": {
      "text/plain": [
       "<tensorflow.python.keras.callbacks.History at 0x1bc772f5f48>"
      ]
     },
     "execution_count": 7,
     "metadata": {},
     "output_type": "execute_result"
    }
   ],
   "source": [
    "lstm_model.fit(x_train, y_train, epochs=10)"
   ]
  },
  {
   "cell_type": "code",
   "execution_count": 8,
   "metadata": {},
   "outputs": [],
   "source": [
    "def calculate_precision(TP, FP):\n",
    "    return TP/(TP+FP)\n",
    "\n",
    "\n",
    "def calculate_fnr(TP, FP, FN):\n",
    "    return FN/(TP+FP)"
   ]
  },
  {
   "cell_type": "markdown",
   "metadata": {},
   "source": [
    "### Training Phase LSTM Result"
   ]
  },
  {
   "cell_type": "code",
   "execution_count": 9,
   "metadata": {},
   "outputs": [
    {
     "data": {
      "text/plain": [
       "array([[9.8930830e-01, 1.0691730e-02],\n",
       "       [9.8909318e-01, 1.0906791e-02],\n",
       "       [1.7070136e-07, 9.9999988e-01],\n",
       "       ...,\n",
       "       [2.3915224e-04, 9.9976081e-01],\n",
       "       [9.7239979e-02, 9.0276003e-01],\n",
       "       [9.5366022e-06, 9.9999046e-01]], dtype=float32)"
      ]
     },
     "execution_count": 9,
     "metadata": {},
     "output_type": "execute_result"
    }
   ],
   "source": [
    "y_pred_train = lstm_model.predict(x_train)\n",
    "y_pred_train"
   ]
  },
  {
   "cell_type": "code",
   "execution_count": 10,
   "metadata": {},
   "outputs": [
    {
     "data": {
      "text/plain": [
       "[0.9893083,\n",
       " 0.9890932,\n",
       " 1.7070136e-07,\n",
       " 0.066908814,\n",
       " 0.9999995,\n",
       " 0.01146323,\n",
       " 0.9893083,\n",
       " 0.9893083,\n",
       " 0.35105678,\n",
       " 1.0]"
      ]
     },
     "execution_count": 10,
     "metadata": {},
     "output_type": "execute_result"
    }
   ],
   "source": [
    "y_pred_train_1 = [x[0] for x in y_pred_train]\n",
    "y_pred_train_2 = [x[1] for x in y_pred_train]\n",
    "\n",
    "y_pred_train_1[:10]"
   ]
  },
  {
   "cell_type": "code",
   "execution_count": 11,
   "metadata": {},
   "outputs": [
    {
     "name": "stderr",
     "output_type": "stream",
     "text": [
      "c:\\Users\\user\\AppData\\Local\\Programs\\Python\\Python37\\lib\\site-packages\\ipykernel_launcher.py:2: SettingWithCopyWarning: \n",
      "A value is trying to be set on a copy of a slice from a DataFrame.\n",
      "Try using .loc[row_indexer,col_indexer] = value instead\n",
      "\n",
      "See the caveats in the documentation: https://pandas.pydata.org/pandas-docs/stable/user_guide/indexing.html#returning-a-view-versus-a-copy\n",
      "  \n",
      "c:\\Users\\user\\AppData\\Local\\Programs\\Python\\Python37\\lib\\site-packages\\ipykernel_launcher.py:3: SettingWithCopyWarning: \n",
      "A value is trying to be set on a copy of a slice from a DataFrame.\n",
      "Try using .loc[row_indexer,col_indexer] = value instead\n",
      "\n",
      "See the caveats in the documentation: https://pandas.pydata.org/pandas-docs/stable/user_guide/indexing.html#returning-a-view-versus-a-copy\n",
      "  This is separate from the ipykernel package so we can avoid doing imports until\n",
      "c:\\Users\\user\\AppData\\Local\\Programs\\Python\\Python37\\lib\\site-packages\\ipykernel_launcher.py:4: SettingWithCopyWarning: \n",
      "A value is trying to be set on a copy of a slice from a DataFrame.\n",
      "Try using .loc[row_indexer,col_indexer] = value instead\n",
      "\n",
      "See the caveats in the documentation: https://pandas.pydata.org/pandas-docs/stable/user_guide/indexing.html#returning-a-view-versus-a-copy\n",
      "  after removing the cwd from sys.path.\n"
     ]
    },
    {
     "data": {
      "text/html": [
       "<div>\n",
       "<style scoped>\n",
       "    .dataframe tbody tr th:only-of-type {\n",
       "        vertical-align: middle;\n",
       "    }\n",
       "\n",
       "    .dataframe tbody tr th {\n",
       "        vertical-align: top;\n",
       "    }\n",
       "\n",
       "    .dataframe thead th {\n",
       "        text-align: right;\n",
       "    }\n",
       "</style>\n",
       "<table border=\"1\" class=\"dataframe\">\n",
       "  <thead>\n",
       "    <tr style=\"text-align: right;\">\n",
       "      <th></th>\n",
       "      <th>dst</th>\n",
       "      <th>src</th>\n",
       "      <th>Protocol</th>\n",
       "      <th>bytecount</th>\n",
       "      <th>lstm_result_1</th>\n",
       "      <th>lstm_result_2</th>\n",
       "      <th>label</th>\n",
       "    </tr>\n",
       "  </thead>\n",
       "  <tbody>\n",
       "    <tr>\n",
       "      <th>52757</th>\n",
       "      <td>0.882353</td>\n",
       "      <td>0.000000</td>\n",
       "      <td>1.0</td>\n",
       "      <td>0.532565</td>\n",
       "      <td>9.893083e-01</td>\n",
       "      <td>1.069173e-02</td>\n",
       "      <td>0</td>\n",
       "    </tr>\n",
       "    <tr>\n",
       "      <th>28936</th>\n",
       "      <td>0.941176</td>\n",
       "      <td>0.111111</td>\n",
       "      <td>1.0</td>\n",
       "      <td>0.848030</td>\n",
       "      <td>9.890932e-01</td>\n",
       "      <td>1.090679e-02</td>\n",
       "      <td>0</td>\n",
       "    </tr>\n",
       "    <tr>\n",
       "      <th>17678</th>\n",
       "      <td>0.882353</td>\n",
       "      <td>0.555556</td>\n",
       "      <td>0.0</td>\n",
       "      <td>0.562899</td>\n",
       "      <td>1.707014e-07</td>\n",
       "      <td>9.999999e-01</td>\n",
       "      <td>1</td>\n",
       "    </tr>\n",
       "    <tr>\n",
       "      <th>54228</th>\n",
       "      <td>0.705882</td>\n",
       "      <td>0.111111</td>\n",
       "      <td>0.5</td>\n",
       "      <td>0.068673</td>\n",
       "      <td>6.690881e-02</td>\n",
       "      <td>9.330912e-01</td>\n",
       "      <td>0</td>\n",
       "    </tr>\n",
       "    <tr>\n",
       "      <th>16503</th>\n",
       "      <td>0.882353</td>\n",
       "      <td>0.166667</td>\n",
       "      <td>0.0</td>\n",
       "      <td>0.000123</td>\n",
       "      <td>9.999995e-01</td>\n",
       "      <td>5.003606e-07</td>\n",
       "      <td>0</td>\n",
       "    </tr>\n",
       "    <tr>\n",
       "      <th>...</th>\n",
       "      <td>...</td>\n",
       "      <td>...</td>\n",
       "      <td>...</td>\n",
       "      <td>...</td>\n",
       "      <td>...</td>\n",
       "      <td>...</td>\n",
       "      <td>...</td>\n",
       "    </tr>\n",
       "    <tr>\n",
       "      <th>42747</th>\n",
       "      <td>0.647059</td>\n",
       "      <td>0.111111</td>\n",
       "      <td>1.0</td>\n",
       "      <td>0.976527</td>\n",
       "      <td>3.566773e-01</td>\n",
       "      <td>6.433227e-01</td>\n",
       "      <td>1</td>\n",
       "    </tr>\n",
       "    <tr>\n",
       "      <th>22584</th>\n",
       "      <td>0.000000</td>\n",
       "      <td>0.888889</td>\n",
       "      <td>0.0</td>\n",
       "      <td>0.000423</td>\n",
       "      <td>1.000000e+00</td>\n",
       "      <td>2.124992e-09</td>\n",
       "      <td>0</td>\n",
       "    </tr>\n",
       "    <tr>\n",
       "      <th>65462</th>\n",
       "      <td>0.941176</td>\n",
       "      <td>0.055556</td>\n",
       "      <td>1.0</td>\n",
       "      <td>0.241881</td>\n",
       "      <td>2.391522e-04</td>\n",
       "      <td>9.997608e-01</td>\n",
       "      <td>1</td>\n",
       "    </tr>\n",
       "    <tr>\n",
       "      <th>66037</th>\n",
       "      <td>0.941176</td>\n",
       "      <td>0.722222</td>\n",
       "      <td>0.5</td>\n",
       "      <td>0.068629</td>\n",
       "      <td>9.723998e-02</td>\n",
       "      <td>9.027600e-01</td>\n",
       "      <td>0</td>\n",
       "    </tr>\n",
       "    <tr>\n",
       "      <th>55934</th>\n",
       "      <td>0.941176</td>\n",
       "      <td>0.055556</td>\n",
       "      <td>1.0</td>\n",
       "      <td>0.920631</td>\n",
       "      <td>9.536602e-06</td>\n",
       "      <td>9.999905e-01</td>\n",
       "      <td>1</td>\n",
       "    </tr>\n",
       "  </tbody>\n",
       "</table>\n",
       "<p>50540 rows × 7 columns</p>\n",
       "</div>"
      ],
      "text/plain": [
       "            dst       src  Protocol  bytecount  lstm_result_1  lstm_result_2  \\\n",
       "52757  0.882353  0.000000       1.0   0.532565   9.893083e-01   1.069173e-02   \n",
       "28936  0.941176  0.111111       1.0   0.848030   9.890932e-01   1.090679e-02   \n",
       "17678  0.882353  0.555556       0.0   0.562899   1.707014e-07   9.999999e-01   \n",
       "54228  0.705882  0.111111       0.5   0.068673   6.690881e-02   9.330912e-01   \n",
       "16503  0.882353  0.166667       0.0   0.000123   9.999995e-01   5.003606e-07   \n",
       "...         ...       ...       ...        ...            ...            ...   \n",
       "42747  0.647059  0.111111       1.0   0.976527   3.566773e-01   6.433227e-01   \n",
       "22584  0.000000  0.888889       0.0   0.000423   1.000000e+00   2.124992e-09   \n",
       "65462  0.941176  0.055556       1.0   0.241881   2.391522e-04   9.997608e-01   \n",
       "66037  0.941176  0.722222       0.5   0.068629   9.723998e-02   9.027600e-01   \n",
       "55934  0.941176  0.055556       1.0   0.920631   9.536602e-06   9.999905e-01   \n",
       "\n",
       "       label  \n",
       "52757      0  \n",
       "28936      0  \n",
       "17678      1  \n",
       "54228      0  \n",
       "16503      0  \n",
       "...      ...  \n",
       "42747      1  \n",
       "22584      0  \n",
       "65462      1  \n",
       "66037      0  \n",
       "55934      1  \n",
       "\n",
       "[50540 rows x 7 columns]"
      ]
     },
     "execution_count": 11,
     "metadata": {},
     "output_type": "execute_result"
    }
   ],
   "source": [
    "df_x_train = x_train_awal\n",
    "df_x_train['lstm_result_1'] = y_pred_train_1\n",
    "df_x_train['lstm_result_2'] = y_pred_train_2\n",
    "df_x_train['label'] = y_train\n",
    "df_x_train"
   ]
  },
  {
   "cell_type": "code",
   "execution_count": 12,
   "metadata": {},
   "outputs": [
    {
     "data": {
      "text/plain": [
       "array([[3.8413101e-01, 6.1586905e-01],\n",
       "       [9.6287465e-01, 3.7125379e-02],\n",
       "       [3.3288403e-10, 1.0000000e+00],\n",
       "       ...,\n",
       "       [1.0000000e+00, 1.3080459e-10],\n",
       "       [2.4469322e-14, 1.0000000e+00],\n",
       "       [1.0000000e+00, 1.0682798e-11]], dtype=float32)"
      ]
     },
     "execution_count": 12,
     "metadata": {},
     "output_type": "execute_result"
    }
   ],
   "source": [
    "y_test_pred = lstm_model.predict(x_test)\n",
    "y_test_pred_1 = [x[0] for x in y_test_pred]\n",
    "y_test_pred_2 = [x[1] for x in y_test_pred]\n",
    "\n",
    "y_test_pred"
   ]
  },
  {
   "cell_type": "code",
   "execution_count": 13,
   "metadata": {},
   "outputs": [
    {
     "name": "stderr",
     "output_type": "stream",
     "text": [
      "c:\\Users\\user\\AppData\\Local\\Programs\\Python\\Python37\\lib\\site-packages\\ipykernel_launcher.py:2: SettingWithCopyWarning: \n",
      "A value is trying to be set on a copy of a slice from a DataFrame.\n",
      "Try using .loc[row_indexer,col_indexer] = value instead\n",
      "\n",
      "See the caveats in the documentation: https://pandas.pydata.org/pandas-docs/stable/user_guide/indexing.html#returning-a-view-versus-a-copy\n",
      "  \n",
      "c:\\Users\\user\\AppData\\Local\\Programs\\Python\\Python37\\lib\\site-packages\\ipykernel_launcher.py:3: SettingWithCopyWarning: \n",
      "A value is trying to be set on a copy of a slice from a DataFrame.\n",
      "Try using .loc[row_indexer,col_indexer] = value instead\n",
      "\n",
      "See the caveats in the documentation: https://pandas.pydata.org/pandas-docs/stable/user_guide/indexing.html#returning-a-view-versus-a-copy\n",
      "  This is separate from the ipykernel package so we can avoid doing imports until\n",
      "c:\\Users\\user\\AppData\\Local\\Programs\\Python\\Python37\\lib\\site-packages\\ipykernel_launcher.py:4: SettingWithCopyWarning: \n",
      "A value is trying to be set on a copy of a slice from a DataFrame.\n",
      "Try using .loc[row_indexer,col_indexer] = value instead\n",
      "\n",
      "See the caveats in the documentation: https://pandas.pydata.org/pandas-docs/stable/user_guide/indexing.html#returning-a-view-versus-a-copy\n",
      "  after removing the cwd from sys.path.\n"
     ]
    },
    {
     "data": {
      "text/html": [
       "<div>\n",
       "<style scoped>\n",
       "    .dataframe tbody tr th:only-of-type {\n",
       "        vertical-align: middle;\n",
       "    }\n",
       "\n",
       "    .dataframe tbody tr th {\n",
       "        vertical-align: top;\n",
       "    }\n",
       "\n",
       "    .dataframe thead th {\n",
       "        text-align: right;\n",
       "    }\n",
       "</style>\n",
       "<table border=\"1\" class=\"dataframe\">\n",
       "  <thead>\n",
       "    <tr style=\"text-align: right;\">\n",
       "      <th></th>\n",
       "      <th>dst</th>\n",
       "      <th>src</th>\n",
       "      <th>Protocol</th>\n",
       "      <th>bytecount</th>\n",
       "      <th>lstm_result_1</th>\n",
       "      <th>lstm_result_2</th>\n",
       "      <th>label</th>\n",
       "    </tr>\n",
       "  </thead>\n",
       "  <tbody>\n",
       "    <tr>\n",
       "      <th>11713</th>\n",
       "      <td>0.764706</td>\n",
       "      <td>0.555556</td>\n",
       "      <td>1.0</td>\n",
       "      <td>0.477935</td>\n",
       "      <td>3.841310e-01</td>\n",
       "      <td>6.158690e-01</td>\n",
       "      <td>0</td>\n",
       "    </tr>\n",
       "    <tr>\n",
       "      <th>52924</th>\n",
       "      <td>0.647059</td>\n",
       "      <td>0.388889</td>\n",
       "      <td>0.5</td>\n",
       "      <td>0.105974</td>\n",
       "      <td>9.628747e-01</td>\n",
       "      <td>3.712538e-02</td>\n",
       "      <td>0</td>\n",
       "    </tr>\n",
       "    <tr>\n",
       "      <th>4045</th>\n",
       "      <td>0.647059</td>\n",
       "      <td>0.055556</td>\n",
       "      <td>0.0</td>\n",
       "      <td>0.826409</td>\n",
       "      <td>3.328840e-10</td>\n",
       "      <td>1.000000e+00</td>\n",
       "      <td>1</td>\n",
       "    </tr>\n",
       "    <tr>\n",
       "      <th>54476</th>\n",
       "      <td>0.294118</td>\n",
       "      <td>1.000000</td>\n",
       "      <td>0.0</td>\n",
       "      <td>0.000046</td>\n",
       "      <td>9.999999e-01</td>\n",
       "      <td>1.346240e-07</td>\n",
       "      <td>0</td>\n",
       "    </tr>\n",
       "    <tr>\n",
       "      <th>19341</th>\n",
       "      <td>0.647059</td>\n",
       "      <td>0.111111</td>\n",
       "      <td>1.0</td>\n",
       "      <td>0.977027</td>\n",
       "      <td>3.565980e-01</td>\n",
       "      <td>6.434021e-01</td>\n",
       "      <td>1</td>\n",
       "    </tr>\n",
       "    <tr>\n",
       "      <th>...</th>\n",
       "      <td>...</td>\n",
       "      <td>...</td>\n",
       "      <td>...</td>\n",
       "      <td>...</td>\n",
       "      <td>...</td>\n",
       "      <td>...</td>\n",
       "      <td>...</td>\n",
       "    </tr>\n",
       "    <tr>\n",
       "      <th>21721</th>\n",
       "      <td>0.176471</td>\n",
       "      <td>0.777778</td>\n",
       "      <td>0.0</td>\n",
       "      <td>0.000421</td>\n",
       "      <td>1.000000e+00</td>\n",
       "      <td>6.792612e-09</td>\n",
       "      <td>0</td>\n",
       "    </tr>\n",
       "    <tr>\n",
       "      <th>55392</th>\n",
       "      <td>0.941176</td>\n",
       "      <td>0.000000</td>\n",
       "      <td>1.0</td>\n",
       "      <td>0.717873</td>\n",
       "      <td>9.893083e-01</td>\n",
       "      <td>1.069173e-02</td>\n",
       "      <td>0</td>\n",
       "    </tr>\n",
       "    <tr>\n",
       "      <th>30108</th>\n",
       "      <td>0.941176</td>\n",
       "      <td>0.888889</td>\n",
       "      <td>0.0</td>\n",
       "      <td>0.000481</td>\n",
       "      <td>1.000000e+00</td>\n",
       "      <td>1.308046e-10</td>\n",
       "      <td>0</td>\n",
       "    </tr>\n",
       "    <tr>\n",
       "      <th>49565</th>\n",
       "      <td>0.176471</td>\n",
       "      <td>0.888889</td>\n",
       "      <td>0.0</td>\n",
       "      <td>0.263331</td>\n",
       "      <td>2.446932e-14</td>\n",
       "      <td>1.000000e+00</td>\n",
       "      <td>1</td>\n",
       "    </tr>\n",
       "    <tr>\n",
       "      <th>54607</th>\n",
       "      <td>1.000000</td>\n",
       "      <td>0.888889</td>\n",
       "      <td>0.0</td>\n",
       "      <td>0.000319</td>\n",
       "      <td>1.000000e+00</td>\n",
       "      <td>1.068280e-11</td>\n",
       "      <td>0</td>\n",
       "    </tr>\n",
       "  </tbody>\n",
       "</table>\n",
       "<p>21661 rows × 7 columns</p>\n",
       "</div>"
      ],
      "text/plain": [
       "            dst       src  Protocol  bytecount  lstm_result_1  lstm_result_2  \\\n",
       "11713  0.764706  0.555556       1.0   0.477935   3.841310e-01   6.158690e-01   \n",
       "52924  0.647059  0.388889       0.5   0.105974   9.628747e-01   3.712538e-02   \n",
       "4045   0.647059  0.055556       0.0   0.826409   3.328840e-10   1.000000e+00   \n",
       "54476  0.294118  1.000000       0.0   0.000046   9.999999e-01   1.346240e-07   \n",
       "19341  0.647059  0.111111       1.0   0.977027   3.565980e-01   6.434021e-01   \n",
       "...         ...       ...       ...        ...            ...            ...   \n",
       "21721  0.176471  0.777778       0.0   0.000421   1.000000e+00   6.792612e-09   \n",
       "55392  0.941176  0.000000       1.0   0.717873   9.893083e-01   1.069173e-02   \n",
       "30108  0.941176  0.888889       0.0   0.000481   1.000000e+00   1.308046e-10   \n",
       "49565  0.176471  0.888889       0.0   0.263331   2.446932e-14   1.000000e+00   \n",
       "54607  1.000000  0.888889       0.0   0.000319   1.000000e+00   1.068280e-11   \n",
       "\n",
       "       label  \n",
       "11713      0  \n",
       "52924      0  \n",
       "4045       1  \n",
       "54476      0  \n",
       "19341      1  \n",
       "...      ...  \n",
       "21721      0  \n",
       "55392      0  \n",
       "30108      0  \n",
       "49565      1  \n",
       "54607      0  \n",
       "\n",
       "[21661 rows x 7 columns]"
      ]
     },
     "execution_count": 13,
     "metadata": {},
     "output_type": "execute_result"
    }
   ],
   "source": [
    "df_x_test = x_test_awal\n",
    "df_x_test['lstm_result_1'] = y_test_pred_1\n",
    "df_x_test['lstm_result_2'] = y_test_pred_2\n",
    "df_x_test['label'] = y_test\n",
    "df_x_test"
   ]
  },
  {
   "cell_type": "code",
   "execution_count": 14,
   "metadata": {},
   "outputs": [],
   "source": [
    "df_x_train.to_csv('data_latih_combined.csv', sep=',', index=False)\n",
    "df_x_test.to_csv('data_test_combined.csv',sep=',', index=False)"
   ]
  },
  {
   "cell_type": "markdown",
   "metadata": {},
   "source": [
    "### Naive Bayes Section"
   ]
  },
  {
   "cell_type": "code",
   "execution_count": 15,
   "metadata": {},
   "outputs": [
    {
     "data": {
      "text/plain": [
       "GaussianNB(var_smoothing=0.732596542821523)"
      ]
     },
     "execution_count": 15,
     "metadata": {},
     "output_type": "execute_result"
    }
   ],
   "source": [
    "nb_classifier = joblib.load('naive_bayes_final.pkl')\n",
    "nb_classifier"
   ]
  },
  {
   "cell_type": "code",
   "execution_count": 16,
   "metadata": {},
   "outputs": [],
   "source": [
    "df_train = pd.read_csv('data_latih_combined.csv', sep=',')\n",
    "df_test = pd.read_csv('data_test_combined.csv', sep=',')"
   ]
  },
  {
   "cell_type": "code",
   "execution_count": 17,
   "metadata": {},
   "outputs": [
    {
     "data": {
      "image/png": "[encoded data removed]",
      "text/plain": [
       "<Figure size 1440x720 with 2 Axes>"
      ]
     },
     "metadata": {
      "needs_background": "light"
     },
     "output_type": "display_data"
    }
   ],
   "source": [
    "#Heatmap\n",
    "\n",
    "fig = plt.figure(figsize=(20,10))\n",
    "corrMatrix = df_train.corr()\n",
    "sn.heatmap(corrMatrix,annot=True,cmap ='RdYlGn')\n",
    "plt.show()"
   ]
  },
  {
   "cell_type": "code",
   "execution_count": 22,
   "metadata": {},
   "outputs": [],
   "source": [
    "x_train = df_train[['Protocol', 'lstm_result_1','lstm_result_2']]\n",
    "y_train = df_train['label']\n",
    "\n",
    "x_test = df_test[['Protocol', 'lstm_result_1','lstm_result_2']]\n",
    "y_test = df_test['label']"
   ]
  },
  {
   "cell_type": "code",
   "execution_count": 23,
   "metadata": {},
   "outputs": [
    {
     "data": {
      "text/plain": [
       "GaussianNB(var_smoothing=0.732596542821523)"
      ]
     },
     "execution_count": 23,
     "metadata": {},
     "output_type": "execute_result"
    }
   ],
   "source": [
    "nb_classifier.fit(x_train, y_train)"
   ]
  },
  {
   "cell_type": "code",
   "execution_count": 24,
   "metadata": {},
   "outputs": [],
   "source": [
    "x_train,x_val,y_train,y_val = train_test_split(x_train,y_train,test_size=0.30,random_state=9)"
   ]
  },
  {
   "cell_type": "code",
   "execution_count": 26,
   "metadata": {},
   "outputs": [],
   "source": [
    "train_pred = nb_classifier.predict(x_train)\n",
    "val_pred = nb_classifier.predict(x_val)\n",
    "test_pred = nb_classifier.predict(x_test)"
   ]
  },
  {
   "cell_type": "code",
   "execution_count": 40,
   "metadata": {},
   "outputs": [
    {
     "name": "stdout",
     "output_type": "stream",
     "text": [
      "[[17032  2719]\n",
      " [ 2955 27834]]\n",
      "              precision    recall  f1-score   support\n",
      "\n",
      "           0       0.91      0.90      0.91     30789\n",
      "           1       0.85      0.86      0.86     19751\n",
      "\n",
      "    accuracy                           0.89     50540\n",
      "   macro avg       0.88      0.88      0.88     50540\n",
      "weighted avg       0.89      0.89      0.89     50540\n",
      "\n",
      "Accuracy: 88.77324891175307\n",
      "Precision 85.21539000350228\n",
      "False Negative Rate 13.603842497623456\n"
     ]
    }
   ],
   "source": [
    "cm = confusion_matrix(y_train, train_pred, labels=[1,0])\n",
    "TP = cm[0][0]\n",
    "FP = cm[1][0]\n",
    "FN = cm[0][1]\n",
    "TN = cm[1][1]\n",
    "\n",
    "print(cm)\n",
    "print(classification_report(y_train, train_pred))\n",
    "print(\"Accuracy:\",accuracy_score(y_train, train_pred)*100)\n",
    "print(\"Precision\",(calculate_precision(TP,FP))*100)\n",
    "print(\"False Negative Rate\", (calculate_fnr(TP,FP,FN))*100)"
   ]
  },
  {
   "cell_type": "code",
   "execution_count": 27,
   "metadata": {},
   "outputs": [
    {
     "name": "stdout",
     "output_type": "stream",
     "text": [
      "[[5207  681]\n",
      " [1111 8163]]\n",
      "              precision    recall  f1-score   support\n",
      "\n",
      "           0       0.92      0.88      0.90      9274\n",
      "           1       0.82      0.88      0.85      5888\n",
      "\n",
      "    accuracy                           0.88     15162\n",
      "   macro avg       0.87      0.88      0.88     15162\n",
      "weighted avg       0.88      0.88      0.88     15162\n",
      "\n",
      "Accuracy: 88.18097876269621\n",
      "Precision 82.4153213042102\n",
      "False Negative Rate 10.778727445394113\n"
     ]
    }
   ],
   "source": [
    "cm = confusion_matrix(y_val, val_pred, labels=[1,0])\n",
    "TP = cm[0][0]\n",
    "FP = cm[1][0]\n",
    "FN = cm[0][1]\n",
    "TN = cm[1][1]\n",
    "\n",
    "print(cm)\n",
    "print(classification_report(y_val, val_pred))\n",
    "print(\"Accuracy:\",accuracy_score(y_val, val_pred)*100)\n",
    "print(\"Precision\",(calculate_precision(TP,FP))*100)\n",
    "print(\"False Negative Rate\", (calculate_fnr(TP,FP,FN))*100)"
   ]
  },
  {
   "cell_type": "code",
   "execution_count": 41,
   "metadata": {},
   "outputs": [
    {
     "name": "stdout",
     "output_type": "stream",
     "text": [
      "[[ 7189  1242]\n",
      " [ 1353 11877]]\n",
      "              precision    recall  f1-score   support\n",
      "\n",
      "           0       0.91      0.90      0.90     13230\n",
      "           1       0.84      0.85      0.85      8431\n",
      "\n",
      "    accuracy                           0.88     21661\n",
      "   macro avg       0.87      0.88      0.87     21661\n",
      "weighted avg       0.88      0.88      0.88     21661\n",
      "\n",
      "Accuracy: 88.01994367757722\n",
      "Precision 84.16061812221962\n",
      "False Negative Rate 14.539920393350503\n"
     ]
    }
   ],
   "source": [
    "cm = confusion_matrix(y_test, test_pred, labels=[1,0])\n",
    "TP = cm[0][0]\n",
    "FP = cm[1][0]\n",
    "FN = cm[0][1]\n",
    "TN = cm[1][1]\n",
    "\n",
    "print(cm)\n",
    "print(classification_report(y_test, test_pred))\n",
    "print(\"Accuracy:\",accuracy_score(y_test, test_pred)*100)\n",
    "print(\"Precision\",(calculate_precision(TP,FP))*100)\n",
    "print(\"False Negative Rate\", (calculate_fnr(TP,FP,FN))*100)"
   ]
  }
 ],
 "metadata": {
  "interpreter": {
   "hash": "8c2dc7f55a4afb133f9671f18548a683b80d7f864af89313bd9839ac682f147f"
  },
  "kernelspec": {
   "display_name": "Python 3.7.4 64-bit",
   "language": "python",
   "name": "python3"
  },
  "language_info": {
   "codemirror_mode": {
    "name": "ipython",
    "version": 3
   },
   "file_extension": ".py",
   "mimetype": "text/x-python",
   "name": "python",
   "nbconvert_exporter": "python",
   "pygments_lexer": "ipython3",
   "version": "3.7.4"
  },
  "orig_nbformat": 4
 },
 "nbformat": 4,
 "nbformat_minor": 2
}
