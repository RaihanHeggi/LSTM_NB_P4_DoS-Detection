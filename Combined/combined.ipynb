{
 "cells": [
  {
   "cell_type": "code",
   "execution_count": 123,
   "metadata": {},
   "outputs": [],
   "source": [
    "import pandas as pd \n",
    "import matplotlib.pyplot as plt \n",
    "import seaborn as sn \n",
    "import numpy as np \n",
    "from keras.models import load_model\n",
    "from sklearn.naive_bayes import GaussianNB, MultinomialNB\n",
    "from sklearn.model_selection import cross_val_score\n",
    "from sklearn.metrics import confusion_matrix\n",
    "from sklearn.metrics import accuracy_score\n",
    "from sklearn.metrics import classification_report\n",
    "from sklearn.metrics import confusion_matrix\n",
    "from sklearn.model_selection import train_test_split\n",
    "from sklearn.preprocessing import LabelEncoder"
   ]
  },
  {
   "cell_type": "code",
   "execution_count": 2,
   "metadata": {},
   "outputs": [],
   "source": [
    "df_slice = pd.read_csv('../Dataset/Normalisasi/processed_dataset_slice_norm.csv',sep=',')"
   ]
  },
  {
   "cell_type": "code",
   "execution_count": 3,
   "metadata": {},
   "outputs": [
    {
     "data": {
      "text/html": [
       "<div>\n",
       "<style scoped>\n",
       "    .dataframe tbody tr th:only-of-type {\n",
       "        vertical-align: middle;\n",
       "    }\n",
       "\n",
       "    .dataframe tbody tr th {\n",
       "        vertical-align: top;\n",
       "    }\n",
       "\n",
       "    .dataframe thead th {\n",
       "        text-align: right;\n",
       "    }\n",
       "</style>\n",
       "<table border=\"1\" class=\"dataframe\">\n",
       "  <thead>\n",
       "    <tr style=\"text-align: right;\">\n",
       "      <th></th>\n",
       "      <th>dst</th>\n",
       "      <th>src</th>\n",
       "      <th>Protocol</th>\n",
       "      <th>bytecount</th>\n",
       "    </tr>\n",
       "  </thead>\n",
       "  <tbody>\n",
       "    <tr>\n",
       "      <th>0</th>\n",
       "      <td>0.647059</td>\n",
       "      <td>0.055556</td>\n",
       "      <td>0.0</td>\n",
       "      <td>0.000640</td>\n",
       "    </tr>\n",
       "    <tr>\n",
       "      <th>1</th>\n",
       "      <td>0.705882</td>\n",
       "      <td>0.333333</td>\n",
       "      <td>0.5</td>\n",
       "      <td>0.081254</td>\n",
       "    </tr>\n",
       "    <tr>\n",
       "      <th>2</th>\n",
       "      <td>0.882353</td>\n",
       "      <td>0.555556</td>\n",
       "      <td>0.0</td>\n",
       "      <td>0.000534</td>\n",
       "    </tr>\n",
       "    <tr>\n",
       "      <th>3</th>\n",
       "      <td>0.941176</td>\n",
       "      <td>0.833333</td>\n",
       "      <td>0.5</td>\n",
       "      <td>0.014585</td>\n",
       "    </tr>\n",
       "    <tr>\n",
       "      <th>4</th>\n",
       "      <td>0.647059</td>\n",
       "      <td>0.111111</td>\n",
       "      <td>1.0</td>\n",
       "      <td>0.618070</td>\n",
       "    </tr>\n",
       "  </tbody>\n",
       "</table>\n",
       "</div>"
      ],
      "text/plain": [
       "        dst       src  Protocol  bytecount\n",
       "0  0.647059  0.055556       0.0   0.000640\n",
       "1  0.705882  0.333333       0.5   0.081254\n",
       "2  0.882353  0.555556       0.0   0.000534\n",
       "3  0.941176  0.833333       0.5   0.014585\n",
       "4  0.647059  0.111111       1.0   0.618070"
      ]
     },
     "execution_count": 3,
     "metadata": {},
     "output_type": "execute_result"
    }
   ],
   "source": [
    "slice_x = df_slice[df_slice.columns[:4]]\n",
    "slice_y= df_slice['label']\n",
    "\n",
    "slice_x.head(5)"
   ]
  },
  {
   "cell_type": "markdown",
   "metadata": {},
   "source": [
    "## Load Model"
   ]
  },
  {
   "cell_type": "code",
   "execution_count": 6,
   "metadata": {},
   "outputs": [
    {
     "data": {
      "text/plain": [
       "<tensorflow.python.keras.engine.sequential.Sequential at 0x1657d7f2108>"
      ]
     },
     "execution_count": 6,
     "metadata": {},
     "output_type": "execute_result"
    }
   ],
   "source": [
    "lstm_model = load_model('lstm_slice.h5')\n",
    "lstm_model"
   ]
  },
  {
   "cell_type": "code",
   "execution_count": 21,
   "metadata": {},
   "outputs": [
    {
     "data": {
      "text/plain": [
       "(50540, 4, 1)"
      ]
     },
     "execution_count": 21,
     "metadata": {},
     "output_type": "execute_result"
    }
   ],
   "source": [
    "x_train,x_test,y_train,y_test = train_test_split(slice_x,slice_y,test_size=0.30,random_state=9)\n",
    "\n",
    "x_train_awal = x_train\n",
    "x_test_awal = x_test\n",
    "y_train_awal = y_train\n",
    "y_test_awal = y_test\n",
    "\n",
    "x_train = x_train.to_numpy()\n",
    "x_test = x_test.to_numpy()\n",
    "x_train = np.reshape(x_train, (x_train.shape[0], x_train.shape[1], 1))\n",
    "x_test = np.reshape(x_test, (x_test.shape[0], x_test.shape[1], 1))\n",
    "x_train.shape"
   ]
  },
  {
   "cell_type": "code",
   "execution_count": 9,
   "metadata": {},
   "outputs": [
    {
     "name": "stdout",
     "output_type": "stream",
     "text": [
      "Epoch 1/10\n",
      "1580/1580 [==============================] - 12s 7ms/step - loss: 0.2241 - accuracy: 0.8803 - mean_squared_error: 0.4133 - mean_absolute_error: 0.4636\n",
      "Epoch 2/10\n",
      "1580/1580 [==============================] - 14s 9ms/step - loss: 0.2258 - accuracy: 0.8799 - mean_squared_error: 0.4131 - mean_absolute_error: 0.4636\n",
      "Epoch 3/10\n",
      "1580/1580 [==============================] - 12s 8ms/step - loss: 0.2234 - accuracy: 0.8810 - mean_squared_error: 0.4134 - mean_absolute_error: 0.4636\n",
      "Epoch 4/10\n",
      "1580/1580 [==============================] - 13s 8ms/step - loss: 0.2244 - accuracy: 0.8792 - mean_squared_error: 0.4133 - mean_absolute_error: 0.4636\n",
      "Epoch 5/10\n",
      "1580/1580 [==============================] - 13s 8ms/step - loss: 0.2250 - accuracy: 0.8808 - mean_squared_error: 0.4134 - mean_absolute_error: 0.4636\n",
      "Epoch 6/10\n",
      "1580/1580 [==============================] - 13s 8ms/step - loss: 0.2226 - accuracy: 0.8816 - mean_squared_error: 0.4135 - mean_absolute_error: 0.4636\n",
      "Epoch 7/10\n",
      "1580/1580 [==============================] - 13s 8ms/step - loss: 0.2225 - accuracy: 0.8816 - mean_squared_error: 0.4136 - mean_absolute_error: 0.4636\n",
      "Epoch 8/10\n",
      "1580/1580 [==============================] - 13s 8ms/step - loss: 0.2224 - accuracy: 0.8821 - mean_squared_error: 0.4136 - mean_absolute_error: 0.4636\n",
      "Epoch 9/10\n",
      "1580/1580 [==============================] - 14s 9ms/step - loss: 0.2363 - accuracy: 0.8773 - mean_squared_error: 0.4126 - mean_absolute_error: 0.4636\n",
      "Epoch 10/10\n",
      "1580/1580 [==============================] - 15s 10ms/step - loss: 0.2427 - accuracy: 0.8717 - mean_squared_error: 0.4088 - mean_absolute_error: 0.4636\n"
     ]
    },
    {
     "data": {
      "text/plain": [
       "<tensorflow.python.keras.callbacks.History at 0x1657ed5a488>"
      ]
     },
     "execution_count": 9,
     "metadata": {},
     "output_type": "execute_result"
    }
   ],
   "source": [
    "lstm_model.fit(x_train, y_train, epochs=10)"
   ]
  },
  {
   "cell_type": "code",
   "execution_count": 59,
   "metadata": {},
   "outputs": [
    {
     "data": {
      "text/plain": [
       "array([[9.9991632e-01, 8.3732615e-05, 1.9376903e-20],\n",
       "       [9.9326199e-01, 6.7380099e-03, 1.2927471e-16],\n",
       "       [5.2889018e-06, 9.9999475e-01, 2.6599975e-34],\n",
       "       ...,\n",
       "       [3.1800169e-04, 9.9968207e-01, 3.1936225e-27],\n",
       "       [2.1885833e-01, 7.8114164e-01, 5.0855236e-17],\n",
       "       [2.5509350e-04, 9.9974495e-01, 4.4683120e-28]], dtype=float32)"
      ]
     },
     "execution_count": 59,
     "metadata": {},
     "output_type": "execute_result"
    }
   ],
   "source": [
    "y_pred_train = lstm_model.predict(x_train)\n",
    "y_pred_train"
   ]
  },
  {
   "cell_type": "code",
   "execution_count": 68,
   "metadata": {},
   "outputs": [
    {
     "data": {
      "text/html": [
       "<div>\n",
       "<style scoped>\n",
       "    .dataframe tbody tr th:only-of-type {\n",
       "        vertical-align: middle;\n",
       "    }\n",
       "\n",
       "    .dataframe tbody tr th {\n",
       "        vertical-align: top;\n",
       "    }\n",
       "\n",
       "    .dataframe thead th {\n",
       "        text-align: right;\n",
       "    }\n",
       "</style>\n",
       "<table border=\"1\" class=\"dataframe\">\n",
       "  <thead>\n",
       "    <tr style=\"text-align: right;\">\n",
       "      <th></th>\n",
       "      <th>dst</th>\n",
       "      <th>src</th>\n",
       "      <th>Protocol</th>\n",
       "      <th>bytecount</th>\n",
       "      <th>lstm_result</th>\n",
       "      <th>label</th>\n",
       "    </tr>\n",
       "  </thead>\n",
       "  <tbody>\n",
       "    <tr>\n",
       "      <th>52757</th>\n",
       "      <td>0.882353</td>\n",
       "      <td>0.000000</td>\n",
       "      <td>1.0</td>\n",
       "      <td>0.532565</td>\n",
       "      <td>0.999916</td>\n",
       "      <td>0</td>\n",
       "    </tr>\n",
       "    <tr>\n",
       "      <th>28936</th>\n",
       "      <td>0.941176</td>\n",
       "      <td>0.111111</td>\n",
       "      <td>1.0</td>\n",
       "      <td>0.848030</td>\n",
       "      <td>0.993262</td>\n",
       "      <td>0</td>\n",
       "    </tr>\n",
       "    <tr>\n",
       "      <th>17678</th>\n",
       "      <td>0.882353</td>\n",
       "      <td>0.555556</td>\n",
       "      <td>0.0</td>\n",
       "      <td>0.562899</td>\n",
       "      <td>0.000005</td>\n",
       "      <td>1</td>\n",
       "    </tr>\n",
       "    <tr>\n",
       "      <th>54228</th>\n",
       "      <td>0.705882</td>\n",
       "      <td>0.111111</td>\n",
       "      <td>0.5</td>\n",
       "      <td>0.068673</td>\n",
       "      <td>0.142433</td>\n",
       "      <td>0</td>\n",
       "    </tr>\n",
       "    <tr>\n",
       "      <th>16503</th>\n",
       "      <td>0.882353</td>\n",
       "      <td>0.166667</td>\n",
       "      <td>0.0</td>\n",
       "      <td>0.000123</td>\n",
       "      <td>0.999976</td>\n",
       "      <td>0</td>\n",
       "    </tr>\n",
       "    <tr>\n",
       "      <th>...</th>\n",
       "      <td>...</td>\n",
       "      <td>...</td>\n",
       "      <td>...</td>\n",
       "      <td>...</td>\n",
       "      <td>...</td>\n",
       "      <td>...</td>\n",
       "    </tr>\n",
       "    <tr>\n",
       "      <th>42747</th>\n",
       "      <td>0.647059</td>\n",
       "      <td>0.111111</td>\n",
       "      <td>1.0</td>\n",
       "      <td>0.976527</td>\n",
       "      <td>0.382491</td>\n",
       "      <td>1</td>\n",
       "    </tr>\n",
       "    <tr>\n",
       "      <th>22584</th>\n",
       "      <td>0.000000</td>\n",
       "      <td>0.888889</td>\n",
       "      <td>0.0</td>\n",
       "      <td>0.000423</td>\n",
       "      <td>0.999935</td>\n",
       "      <td>0</td>\n",
       "    </tr>\n",
       "    <tr>\n",
       "      <th>65462</th>\n",
       "      <td>0.941176</td>\n",
       "      <td>0.055556</td>\n",
       "      <td>1.0</td>\n",
       "      <td>0.241881</td>\n",
       "      <td>0.000318</td>\n",
       "      <td>1</td>\n",
       "    </tr>\n",
       "    <tr>\n",
       "      <th>66037</th>\n",
       "      <td>0.941176</td>\n",
       "      <td>0.722222</td>\n",
       "      <td>0.5</td>\n",
       "      <td>0.068629</td>\n",
       "      <td>0.218858</td>\n",
       "      <td>0</td>\n",
       "    </tr>\n",
       "    <tr>\n",
       "      <th>55934</th>\n",
       "      <td>0.941176</td>\n",
       "      <td>0.055556</td>\n",
       "      <td>1.0</td>\n",
       "      <td>0.920631</td>\n",
       "      <td>0.000255</td>\n",
       "      <td>1</td>\n",
       "    </tr>\n",
       "  </tbody>\n",
       "</table>\n",
       "<p>50540 rows × 6 columns</p>\n",
       "</div>"
      ],
      "text/plain": [
       "            dst       src  Protocol  bytecount  lstm_result  label\n",
       "52757  0.882353  0.000000       1.0   0.532565     0.999916      0\n",
       "28936  0.941176  0.111111       1.0   0.848030     0.993262      0\n",
       "17678  0.882353  0.555556       0.0   0.562899     0.000005      1\n",
       "54228  0.705882  0.111111       0.5   0.068673     0.142433      0\n",
       "16503  0.882353  0.166667       0.0   0.000123     0.999976      0\n",
       "...         ...       ...       ...        ...          ...    ...\n",
       "42747  0.647059  0.111111       1.0   0.976527     0.382491      1\n",
       "22584  0.000000  0.888889       0.0   0.000423     0.999935      0\n",
       "65462  0.941176  0.055556       1.0   0.241881     0.000318      1\n",
       "66037  0.941176  0.722222       0.5   0.068629     0.218858      0\n",
       "55934  0.941176  0.055556       1.0   0.920631     0.000255      1\n",
       "\n",
       "[50540 rows x 6 columns]"
      ]
     },
     "execution_count": 68,
     "metadata": {},
     "output_type": "execute_result"
    }
   ],
   "source": [
    "df_x_train = x_train_awal\n",
    "df_x_train['lstm_result'] = y_pred_train\n",
    "df_x_train['label'] = y_train\n",
    "df_x_train"
   ]
  },
  {
   "cell_type": "code",
   "execution_count": 69,
   "metadata": {},
   "outputs": [
    {
     "data": {
      "text/html": [
       "<div>\n",
       "<style scoped>\n",
       "    .dataframe tbody tr th:only-of-type {\n",
       "        vertical-align: middle;\n",
       "    }\n",
       "\n",
       "    .dataframe tbody tr th {\n",
       "        vertical-align: top;\n",
       "    }\n",
       "\n",
       "    .dataframe thead th {\n",
       "        text-align: right;\n",
       "    }\n",
       "</style>\n",
       "<table border=\"1\" class=\"dataframe\">\n",
       "  <thead>\n",
       "    <tr style=\"text-align: right;\">\n",
       "      <th></th>\n",
       "      <th>dst</th>\n",
       "      <th>src</th>\n",
       "      <th>Protocol</th>\n",
       "      <th>bytecount</th>\n",
       "      <th>lstm_result</th>\n",
       "      <th>label</th>\n",
       "    </tr>\n",
       "  </thead>\n",
       "  <tbody>\n",
       "    <tr>\n",
       "      <th>11713</th>\n",
       "      <td>0.764706</td>\n",
       "      <td>0.555556</td>\n",
       "      <td>1.0</td>\n",
       "      <td>0.477935</td>\n",
       "      <td>0.452476</td>\n",
       "      <td>0</td>\n",
       "    </tr>\n",
       "    <tr>\n",
       "      <th>52924</th>\n",
       "      <td>0.647059</td>\n",
       "      <td>0.388889</td>\n",
       "      <td>0.5</td>\n",
       "      <td>0.105974</td>\n",
       "      <td>0.986359</td>\n",
       "      <td>0</td>\n",
       "    </tr>\n",
       "    <tr>\n",
       "      <th>4045</th>\n",
       "      <td>0.647059</td>\n",
       "      <td>0.055556</td>\n",
       "      <td>0.0</td>\n",
       "      <td>0.826409</td>\n",
       "      <td>0.000016</td>\n",
       "      <td>1</td>\n",
       "    </tr>\n",
       "    <tr>\n",
       "      <th>54476</th>\n",
       "      <td>0.294118</td>\n",
       "      <td>1.000000</td>\n",
       "      <td>0.0</td>\n",
       "      <td>0.000046</td>\n",
       "      <td>0.999987</td>\n",
       "      <td>0</td>\n",
       "    </tr>\n",
       "    <tr>\n",
       "      <th>19341</th>\n",
       "      <td>0.647059</td>\n",
       "      <td>0.111111</td>\n",
       "      <td>1.0</td>\n",
       "      <td>0.977027</td>\n",
       "      <td>0.382294</td>\n",
       "      <td>1</td>\n",
       "    </tr>\n",
       "    <tr>\n",
       "      <th>...</th>\n",
       "      <td>...</td>\n",
       "      <td>...</td>\n",
       "      <td>...</td>\n",
       "      <td>...</td>\n",
       "      <td>...</td>\n",
       "      <td>...</td>\n",
       "    </tr>\n",
       "    <tr>\n",
       "      <th>21721</th>\n",
       "      <td>0.176471</td>\n",
       "      <td>0.777778</td>\n",
       "      <td>0.0</td>\n",
       "      <td>0.000421</td>\n",
       "      <td>0.999985</td>\n",
       "      <td>0</td>\n",
       "    </tr>\n",
       "    <tr>\n",
       "      <th>55392</th>\n",
       "      <td>0.941176</td>\n",
       "      <td>0.000000</td>\n",
       "      <td>1.0</td>\n",
       "      <td>0.717873</td>\n",
       "      <td>0.999902</td>\n",
       "      <td>0</td>\n",
       "    </tr>\n",
       "    <tr>\n",
       "      <th>30108</th>\n",
       "      <td>0.941176</td>\n",
       "      <td>0.888889</td>\n",
       "      <td>0.0</td>\n",
       "      <td>0.000481</td>\n",
       "      <td>0.999995</td>\n",
       "      <td>0</td>\n",
       "    </tr>\n",
       "    <tr>\n",
       "      <th>49565</th>\n",
       "      <td>0.176471</td>\n",
       "      <td>0.888889</td>\n",
       "      <td>0.0</td>\n",
       "      <td>0.263331</td>\n",
       "      <td>0.000069</td>\n",
       "      <td>1</td>\n",
       "    </tr>\n",
       "    <tr>\n",
       "      <th>54607</th>\n",
       "      <td>1.000000</td>\n",
       "      <td>0.888889</td>\n",
       "      <td>0.0</td>\n",
       "      <td>0.000319</td>\n",
       "      <td>0.999991</td>\n",
       "      <td>0</td>\n",
       "    </tr>\n",
       "  </tbody>\n",
       "</table>\n",
       "<p>21661 rows × 6 columns</p>\n",
       "</div>"
      ],
      "text/plain": [
       "            dst       src  Protocol  bytecount  lstm_result  label\n",
       "11713  0.764706  0.555556       1.0   0.477935     0.452476      0\n",
       "52924  0.647059  0.388889       0.5   0.105974     0.986359      0\n",
       "4045   0.647059  0.055556       0.0   0.826409     0.000016      1\n",
       "54476  0.294118  1.000000       0.0   0.000046     0.999987      0\n",
       "19341  0.647059  0.111111       1.0   0.977027     0.382294      1\n",
       "...         ...       ...       ...        ...          ...    ...\n",
       "21721  0.176471  0.777778       0.0   0.000421     0.999985      0\n",
       "55392  0.941176  0.000000       1.0   0.717873     0.999902      0\n",
       "30108  0.941176  0.888889       0.0   0.000481     0.999995      0\n",
       "49565  0.176471  0.888889       0.0   0.263331     0.000069      1\n",
       "54607  1.000000  0.888889       0.0   0.000319     0.999991      0\n",
       "\n",
       "[21661 rows x 6 columns]"
      ]
     },
     "execution_count": 69,
     "metadata": {},
     "output_type": "execute_result"
    }
   ],
   "source": [
    "y_test_pred = lstm_model.predict(x_test)\n",
    "df_x_test = x_test_awal\n",
    "df_x_test['lstm_result'] = y_test_pred\n",
    "df_x_test['label'] = y_test\n",
    "df_x_test"
   ]
  },
  {
   "cell_type": "code",
   "execution_count": 70,
   "metadata": {},
   "outputs": [],
   "source": [
    "df_x_train.to_csv('data_latih.csv', sep=',', index=False)\n",
    "df_x_test.to_csv('data_test.csv',sep=',', index=False)"
   ]
  },
  {
   "cell_type": "markdown",
   "metadata": {},
   "source": [
    "## Naive Bayes Model"
   ]
  },
  {
   "cell_type": "code",
   "execution_count": null,
   "metadata": {},
   "outputs": [
    {
     "data": {
      "text/plain": [
       "GaussianNB()"
      ]
     },
     "execution_count": 12,
     "metadata": {},
     "output_type": "execute_result"
    }
   ],
   "source": [
    "nb_classifier = GaussianNB()\n",
    "nb_classifier\n"
   ]
  },
  {
   "cell_type": "code",
   "execution_count": 72,
   "metadata": {},
   "outputs": [],
   "source": [
    "df_train = pd.read_csv('data_latih.csv', sep=',')\n",
    "df_test = pd.read_csv('data_test.csv', sep=',')"
   ]
  },
  {
   "cell_type": "code",
   "execution_count": 90,
   "metadata": {},
   "outputs": [
    {
     "data": {
      "image/png": "[encoded data removed]",
      "text/plain": [
       "<Figure size 1440x720 with 2 Axes>"
      ]
     },
     "metadata": {
      "needs_background": "light"
     },
     "output_type": "display_data"
    }
   ],
   "source": [
    "#Heatmap\n",
    "\n",
    "fig = plt.figure(figsize=(20,10))\n",
    "corrMatrix = df_train.corr()\n",
    "sn.heatmap(corrMatrix,annot=True,cmap ='RdYlGn')\n",
    "plt.show()"
   ]
  },
  {
   "cell_type": "code",
   "execution_count": 96,
   "metadata": {},
   "outputs": [],
   "source": [
    "x_train = df_train[['Protocol', 'lstm_result']]\n",
    "y_train = df_train['label']\n",
    "\n",
    "x_test = df_test[['Protocol', 'lstm_result']]\n",
    "y_test = df_test['label']"
   ]
  },
  {
   "cell_type": "code",
   "execution_count": 97,
   "metadata": {},
   "outputs": [
    {
     "data": {
      "text/plain": [
       "GaussianNB()"
      ]
     },
     "execution_count": 97,
     "metadata": {},
     "output_type": "execute_result"
    }
   ],
   "source": [
    "nb_classifier.fit(x_train, y_train)"
   ]
  },
  {
   "cell_type": "code",
   "execution_count": 98,
   "metadata": {},
   "outputs": [],
   "source": [
    "train_pred = nb_classifier.predict(x_train)\n",
    "test_pred = nb_classifier.predict(x_test)"
   ]
  },
  {
   "cell_type": "code",
   "execution_count": 99,
   "metadata": {},
   "outputs": [
    {
     "name": "stdout",
     "output_type": "stream",
     "text": [
      "[[30789     0]\n",
      " [19751     0]]\n",
      "              precision    recall  f1-score   support\n",
      "\n",
      "           0       0.61      1.00      0.76     30789\n",
      "           1       0.00      0.00      0.00     19751\n",
      "\n",
      "    accuracy                           0.61     50540\n",
      "   macro avg       0.30      0.50      0.38     50540\n",
      "weighted avg       0.37      0.61      0.46     50540\n",
      "\n",
      "Accuracy: 60.9200633161852\n"
     ]
    }
   ],
   "source": [
    "import warnings\n",
    "warnings.filterwarnings('ignore')\n",
    "y_pred_train = [np.argmax(element) for element in train_pred]\n",
    "print(confusion_matrix(y_train, y_pred_train))\n",
    "print(classification_report(y_train, y_pred_train))\n",
    "print(\"Accuracy:\",accuracy_score(y_train, y_pred_train)*100)\n"
   ]
  },
  {
   "cell_type": "code",
   "execution_count": 100,
   "metadata": {},
   "outputs": [
    {
     "name": "stdout",
     "output_type": "stream",
     "text": [
      "[[13230     0]\n",
      " [ 8431     0]]\n",
      "              precision    recall  f1-score   support\n",
      "\n",
      "           0       0.61      1.00      0.76     13230\n",
      "           1       0.00      0.00      0.00      8431\n",
      "\n",
      "    accuracy                           0.61     21661\n",
      "   macro avg       0.31      0.50      0.38     21661\n",
      "weighted avg       0.37      0.61      0.46     21661\n",
      "\n",
      "Accuracy: 61.07751258021329\n"
     ]
    }
   ],
   "source": [
    "warnings.filterwarnings('ignore')\n",
    "y_pred_test = [np.argmax(element) for element in test_pred]\n",
    "print(confusion_matrix(y_test, y_pred_test))\n",
    "print(classification_report(y_test, y_pred_test))\n",
    "print(\"Accuracy:\",accuracy_score(y_test, y_pred_test)*100)"
   ]
  },
  {
   "cell_type": "code",
   "execution_count": 125,
   "metadata": {},
   "outputs": [],
   "source": [
    "import joblib\n",
    "from sklearn.model_selection import GridSearchCV, StratifiedKFold"
   ]
  },
  {
   "cell_type": "code",
   "execution_count": 135,
   "metadata": {},
   "outputs": [
    {
     "name": "stdout",
     "output_type": "stream",
     "text": [
      "Fitting 10 folds for each of 1000 candidates, totalling 10000 fits\n"
     ]
    },
    {
     "name": "stderr",
     "output_type": "stream",
     "text": [
      "[Parallel(n_jobs=1)]: Using backend SequentialBackend with 1 concurrent workers.\n"
     ]
    },
    {
     "name": "stdout",
     "output_type": "stream",
     "text": [
      "GaussianNB(var_smoothing=0.5831305113526223)\n"
     ]
    },
    {
     "name": "stderr",
     "output_type": "stream",
     "text": [
      "[Parallel(n_jobs=1)]: Done 10000 out of 10000 | elapsed:  4.6min finished\n"
     ]
    }
   ],
   "source": [
    "param_grid_nb = {\n",
    "    'var_smoothing': np.logspace(0,-9, num=1000)\n",
    "}\n",
    "\n",
    "NB_Feature_Grid = GridSearchCV(estimator=GaussianNB(), param_grid=param_grid_nb, scoring='accuracy' ,verbose=1, cv=10, n_jobs=1)\n",
    "NB_Feature_Grid.fit(x_train, y_train)\n",
    "print(NB_Feature_Grid.best_estimator_)\n"
   ]
  },
  {
   "cell_type": "code",
   "execution_count": 136,
   "metadata": {},
   "outputs": [
    {
     "name": "stdout",
     "output_type": "stream",
     "text": [
      "0.8917688959240208\n"
     ]
    }
   ],
   "source": [
    "print(NB_Feature_Grid.best_score_)"
   ]
  },
  {
   "cell_type": "code",
   "execution_count": 138,
   "metadata": {},
   "outputs": [
    {
     "data": {
      "text/plain": [
       "GaussianNB(var_smoothing=0.5831305113526223)"
      ]
     },
     "execution_count": 138,
     "metadata": {},
     "output_type": "execute_result"
    }
   ],
   "source": [
    "best_estimator = NB_Feature_Grid.best_estimator_\n",
    "best_estimator"
   ]
  },
  {
   "cell_type": "code",
   "execution_count": 139,
   "metadata": {},
   "outputs": [
    {
     "data": {
      "text/plain": [
       "['naive_bayes_final.pkl']"
      ]
     },
     "execution_count": 139,
     "metadata": {},
     "output_type": "execute_result"
    }
   ],
   "source": [
    "#Save Best Estimator \n",
    "joblib.dump(best_estimator, 'naive_bayes_final.pkl')"
   ]
  },
  {
   "cell_type": "code",
   "execution_count": 142,
   "metadata": {},
   "outputs": [],
   "source": [
    "best_nb = best_estimator\n",
    "train_pred = best_nb.predict(x_train)\n",
    "test_pred = best_nb.predict(x_test)"
   ]
  },
  {
   "cell_type": "code",
   "execution_count": 146,
   "metadata": {},
   "outputs": [
    {
     "name": "stdout",
     "output_type": "stream",
     "text": [
      "[[27491  3298]\n",
      " [ 2176 17575]]\n",
      "              precision    recall  f1-score   support\n",
      "\n",
      "           0       0.93      0.89      0.91     30789\n",
      "           1       0.84      0.89      0.87     19751\n",
      "\n",
      "    accuracy                           0.89     50540\n",
      "   macro avg       0.88      0.89      0.89     50540\n",
      "weighted avg       0.89      0.89      0.89     50540\n",
      "\n",
      "Accuracy: 89.16897506925207\n"
     ]
    }
   ],
   "source": [
    "print(confusion_matrix(y_train, train_pred))\n",
    "print(classification_report(y_train, train_pred))\n",
    "print(\"Accuracy:\",accuracy_score(y_train, train_pred)*100)\n"
   ]
  },
  {
   "cell_type": "code",
   "execution_count": 147,
   "metadata": {},
   "outputs": [
    {
     "name": "stdout",
     "output_type": "stream",
     "text": [
      "[[11735  1495]\n",
      " [ 1014  7417]]\n",
      "              precision    recall  f1-score   support\n",
      "\n",
      "           0       0.92      0.89      0.90     13230\n",
      "           1       0.83      0.88      0.86      8431\n",
      "\n",
      "    accuracy                           0.88     21661\n",
      "   macro avg       0.88      0.88      0.88     21661\n",
      "weighted avg       0.89      0.88      0.88     21661\n",
      "\n",
      "Accuracy: 88.41697059230876\n"
     ]
    }
   ],
   "source": [
    "print(confusion_matrix(y_test, test_pred))\n",
    "print(classification_report(y_test, test_pred))\n",
    "print(\"Accuracy:\",accuracy_score(y_test, test_pred)*100)"
   ]
  }
 ],
 "metadata": {
  "interpreter": {
   "hash": "5d87b42201e74ac320bc00dce267d44f5f134edfec9046f67f672f289707ff6a"
  },
  "kernelspec": {
   "display_name": "Python 3.7.4 64-bit",
   "language": "python",
   "name": "python3"
  },
  "language_info": {
   "codemirror_mode": {
    "name": "ipython",
    "version": 3
   },
   "file_extension": ".py",
   "mimetype": "text/x-python",
   "name": "python",
   "nbconvert_exporter": "python",
   "pygments_lexer": "ipython3",
   "version": "3.7.4"
  },
  "orig_nbformat": 4
 },
 "nbformat": 4,
 "nbformat_minor": 2
}
