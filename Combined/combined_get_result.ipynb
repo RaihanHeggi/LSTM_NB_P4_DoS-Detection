{
 "cells": [
  {
   "cell_type": "code",
   "execution_count": 1,
   "metadata": {},
   "outputs": [],
   "source": [
    "import pandas as pd \n",
    "import matplotlib.pyplot as plt \n",
    "import seaborn as sn \n",
    "import numpy as np \n",
    "from keras.models import load_model\n",
    "from sklearn.naive_bayes import GaussianNB, MultinomialNB\n",
    "from sklearn.model_selection import cross_val_score\n",
    "from sklearn.metrics import confusion_matrix\n",
    "from sklearn.metrics import accuracy_score\n",
    "from sklearn.metrics import classification_report\n",
    "from sklearn.metrics import confusion_matrix\n",
    "from sklearn.model_selection import train_test_split\n",
    "from sklearn.preprocessing import LabelEncoder"
   ]
  },
  {
   "cell_type": "code",
   "execution_count": 2,
   "metadata": {},
   "outputs": [],
   "source": [
    "df_slice = pd.read_csv('../Dataset/Normalisasi/processed_dataset_slice_norm.csv',sep=',')"
   ]
  },
  {
   "cell_type": "code",
   "execution_count": 3,
   "metadata": {},
   "outputs": [
    {
     "data": {
      "text/html": [
       "<div>\n",
       "<style scoped>\n",
       "    .dataframe tbody tr th:only-of-type {\n",
       "        vertical-align: middle;\n",
       "    }\n",
       "\n",
       "    .dataframe tbody tr th {\n",
       "        vertical-align: top;\n",
       "    }\n",
       "\n",
       "    .dataframe thead th {\n",
       "        text-align: right;\n",
       "    }\n",
       "</style>\n",
       "<table border=\"1\" class=\"dataframe\">\n",
       "  <thead>\n",
       "    <tr style=\"text-align: right;\">\n",
       "      <th></th>\n",
       "      <th>dst</th>\n",
       "      <th>src</th>\n",
       "      <th>Protocol</th>\n",
       "      <th>bytecount</th>\n",
       "    </tr>\n",
       "  </thead>\n",
       "  <tbody>\n",
       "    <tr>\n",
       "      <th>0</th>\n",
       "      <td>0.647059</td>\n",
       "      <td>0.055556</td>\n",
       "      <td>0.0</td>\n",
       "      <td>0.000640</td>\n",
       "    </tr>\n",
       "    <tr>\n",
       "      <th>1</th>\n",
       "      <td>0.705882</td>\n",
       "      <td>0.333333</td>\n",
       "      <td>0.5</td>\n",
       "      <td>0.081254</td>\n",
       "    </tr>\n",
       "    <tr>\n",
       "      <th>2</th>\n",
       "      <td>0.882353</td>\n",
       "      <td>0.555556</td>\n",
       "      <td>0.0</td>\n",
       "      <td>0.000534</td>\n",
       "    </tr>\n",
       "    <tr>\n",
       "      <th>3</th>\n",
       "      <td>0.941176</td>\n",
       "      <td>0.833333</td>\n",
       "      <td>0.5</td>\n",
       "      <td>0.014585</td>\n",
       "    </tr>\n",
       "    <tr>\n",
       "      <th>4</th>\n",
       "      <td>0.647059</td>\n",
       "      <td>0.111111</td>\n",
       "      <td>1.0</td>\n",
       "      <td>0.618070</td>\n",
       "    </tr>\n",
       "  </tbody>\n",
       "</table>\n",
       "</div>"
      ],
      "text/plain": [
       "        dst       src  Protocol  bytecount\n",
       "0  0.647059  0.055556       0.0   0.000640\n",
       "1  0.705882  0.333333       0.5   0.081254\n",
       "2  0.882353  0.555556       0.0   0.000534\n",
       "3  0.941176  0.833333       0.5   0.014585\n",
       "4  0.647059  0.111111       1.0   0.618070"
      ]
     },
     "execution_count": 3,
     "metadata": {},
     "output_type": "execute_result"
    }
   ],
   "source": [
    "slice_x = df_slice[df_slice.columns[:4]]\n",
    "slice_y= df_slice['label']\n",
    "\n",
    "slice_x.head(5)"
   ]
  },
  {
   "cell_type": "code",
   "execution_count": 4,
   "metadata": {},
   "outputs": [
    {
     "data": {
      "text/plain": [
       "<tensorflow.python.keras.engine.sequential.Sequential at 0x1b6905b5488>"
      ]
     },
     "execution_count": 4,
     "metadata": {},
     "output_type": "execute_result"
    }
   ],
   "source": [
    "lstm_model = load_model('lstm_slice.h5')\n",
    "lstm_model"
   ]
  },
  {
   "cell_type": "code",
   "execution_count": 5,
   "metadata": {},
   "outputs": [
    {
     "data": {
      "text/plain": [
       "(50540, 4, 1)"
      ]
     },
     "execution_count": 5,
     "metadata": {},
     "output_type": "execute_result"
    }
   ],
   "source": [
    "x_train,x_test,y_train,y_test = train_test_split(slice_x,slice_y,test_size=0.30,random_state=9)\n",
    "\n",
    "x_train_awal = x_train\n",
    "x_test_awal = x_test\n",
    "y_train_awal = y_train\n",
    "y_test_awal = y_test\n",
    "\n",
    "x_train = x_train.to_numpy()\n",
    "x_test = x_test.to_numpy()\n",
    "x_train = np.reshape(x_train, (x_train.shape[0], x_train.shape[1], 1))\n",
    "x_test = np.reshape(x_test, (x_test.shape[0], x_test.shape[1], 1))\n",
    "x_train.shape"
   ]
  },
  {
   "cell_type": "code",
   "execution_count": 6,
   "metadata": {},
   "outputs": [
    {
     "name": "stdout",
     "output_type": "stream",
     "text": [
      "Epoch 1/10\n",
      "1580/1580 [==============================] - 15s 8ms/step - loss: 0.2379 - accuracy: 0.8729 - mean_squared_error: 0.4189 - mean_absolute_error: 0.5000\n",
      "Epoch 2/10\n",
      "1580/1580 [==============================] - 12s 8ms/step - loss: 0.2357 - accuracy: 0.8745 - mean_squared_error: 0.4199 - mean_absolute_error: 0.5000\n",
      "Epoch 3/10\n",
      "1580/1580 [==============================] - 13s 8ms/step - loss: 0.2359 - accuracy: 0.8734 - mean_squared_error: 0.4200 - mean_absolute_error: 0.5000\n",
      "Epoch 4/10\n",
      "1580/1580 [==============================] - 14s 9ms/step - loss: 0.2341 - accuracy: 0.8762 - mean_squared_error: 0.4206 - mean_absolute_error: 0.5000\n",
      "Epoch 5/10\n",
      "1580/1580 [==============================] - 14s 9ms/step - loss: 0.2336 - accuracy: 0.8760 - mean_squared_error: 0.4211 - mean_absolute_error: 0.5000\n",
      "Epoch 6/10\n",
      "1580/1580 [==============================] - 14s 9ms/step - loss: 0.2324 - accuracy: 0.8770 - mean_squared_error: 0.4212 - mean_absolute_error: 0.5000\n",
      "Epoch 7/10\n",
      "1580/1580 [==============================] - 14s 9ms/step - loss: 0.2300 - accuracy: 0.8777 - mean_squared_error: 0.4220 - mean_absolute_error: 0.5000\n",
      "Epoch 8/10\n",
      "1580/1580 [==============================] - 14s 9ms/step - loss: 0.2320 - accuracy: 0.8759 - mean_squared_error: 0.4215 - mean_absolute_error: 0.5000\n",
      "Epoch 9/10\n",
      "1580/1580 [==============================] - 14s 9ms/step - loss: 0.2290 - accuracy: 0.8782 - mean_squared_error: 0.4222 - mean_absolute_error: 0.5000\n",
      "Epoch 10/10\n",
      "1580/1580 [==============================] - 14s 9ms/step - loss: 0.2304 - accuracy: 0.8770 - mean_squared_error: 0.4222 - mean_absolute_error: 0.5000\n"
     ]
    }
   ],
   "source": [
    "history = lstm_model.fit(x_train, y_train, epochs=10)"
   ]
  },
  {
   "cell_type": "code",
   "execution_count": 7,
   "metadata": {},
   "outputs": [
    {
     "data": {
      "text/plain": [
       "array([[9.8976809e-01, 1.0231958e-02],\n",
       "       [9.6565628e-01, 3.4343742e-02],\n",
       "       [1.2785038e-07, 9.9999988e-01],\n",
       "       ...,\n",
       "       [2.7119444e-04, 9.9972874e-01],\n",
       "       [8.9439794e-02, 9.1056025e-01],\n",
       "       [4.8425477e-07, 9.9999952e-01]], dtype=float32)"
      ]
     },
     "execution_count": 7,
     "metadata": {},
     "output_type": "execute_result"
    }
   ],
   "source": [
    "y_pred_train = lstm_model.predict(x_train)\n",
    "y_pred_train"
   ]
  },
  {
   "cell_type": "code",
   "execution_count": 8,
   "metadata": {},
   "outputs": [],
   "source": [
    "y_pred_train_1 = [x[0] for x in y_pred_train]\n",
    "y_pred_train_2 = [x[1] for x in y_pred_train]\n"
   ]
  },
  {
   "cell_type": "code",
   "execution_count": 9,
   "metadata": {},
   "outputs": [
    {
     "name": "stderr",
     "output_type": "stream",
     "text": [
      "c:\\Users\\user\\AppData\\Local\\Programs\\Python\\Python37\\lib\\site-packages\\ipykernel_launcher.py:2: SettingWithCopyWarning: \n",
      "A value is trying to be set on a copy of a slice from a DataFrame.\n",
      "Try using .loc[row_indexer,col_indexer] = value instead\n",
      "\n",
      "See the caveats in the documentation: https://pandas.pydata.org/pandas-docs/stable/user_guide/indexing.html#returning-a-view-versus-a-copy\n",
      "  \n",
      "c:\\Users\\user\\AppData\\Local\\Programs\\Python\\Python37\\lib\\site-packages\\ipykernel_launcher.py:3: SettingWithCopyWarning: \n",
      "A value is trying to be set on a copy of a slice from a DataFrame.\n",
      "Try using .loc[row_indexer,col_indexer] = value instead\n",
      "\n",
      "See the caveats in the documentation: https://pandas.pydata.org/pandas-docs/stable/user_guide/indexing.html#returning-a-view-versus-a-copy\n",
      "  This is separate from the ipykernel package so we can avoid doing imports until\n",
      "c:\\Users\\user\\AppData\\Local\\Programs\\Python\\Python37\\lib\\site-packages\\ipykernel_launcher.py:4: SettingWithCopyWarning: \n",
      "A value is trying to be set on a copy of a slice from a DataFrame.\n",
      "Try using .loc[row_indexer,col_indexer] = value instead\n",
      "\n",
      "See the caveats in the documentation: https://pandas.pydata.org/pandas-docs/stable/user_guide/indexing.html#returning-a-view-versus-a-copy\n",
      "  after removing the cwd from sys.path.\n"
     ]
    },
    {
     "data": {
      "text/html": [
       "<div>\n",
       "<style scoped>\n",
       "    .dataframe tbody tr th:only-of-type {\n",
       "        vertical-align: middle;\n",
       "    }\n",
       "\n",
       "    .dataframe tbody tr th {\n",
       "        vertical-align: top;\n",
       "    }\n",
       "\n",
       "    .dataframe thead th {\n",
       "        text-align: right;\n",
       "    }\n",
       "</style>\n",
       "<table border=\"1\" class=\"dataframe\">\n",
       "  <thead>\n",
       "    <tr style=\"text-align: right;\">\n",
       "      <th></th>\n",
       "      <th>dst</th>\n",
       "      <th>src</th>\n",
       "      <th>Protocol</th>\n",
       "      <th>bytecount</th>\n",
       "      <th>lstm_result_1</th>\n",
       "      <th>lstm_result_2</th>\n",
       "      <th>label</th>\n",
       "    </tr>\n",
       "  </thead>\n",
       "  <tbody>\n",
       "    <tr>\n",
       "      <th>52757</th>\n",
       "      <td>0.882353</td>\n",
       "      <td>0.000000</td>\n",
       "      <td>1.0</td>\n",
       "      <td>0.532565</td>\n",
       "      <td>9.897681e-01</td>\n",
       "      <td>1.023196e-02</td>\n",
       "      <td>0</td>\n",
       "    </tr>\n",
       "    <tr>\n",
       "      <th>28936</th>\n",
       "      <td>0.941176</td>\n",
       "      <td>0.111111</td>\n",
       "      <td>1.0</td>\n",
       "      <td>0.848030</td>\n",
       "      <td>9.656563e-01</td>\n",
       "      <td>3.434374e-02</td>\n",
       "      <td>0</td>\n",
       "    </tr>\n",
       "    <tr>\n",
       "      <th>17678</th>\n",
       "      <td>0.882353</td>\n",
       "      <td>0.555556</td>\n",
       "      <td>0.0</td>\n",
       "      <td>0.562899</td>\n",
       "      <td>1.278504e-07</td>\n",
       "      <td>9.999999e-01</td>\n",
       "      <td>1</td>\n",
       "    </tr>\n",
       "    <tr>\n",
       "      <th>54228</th>\n",
       "      <td>0.705882</td>\n",
       "      <td>0.111111</td>\n",
       "      <td>0.5</td>\n",
       "      <td>0.068673</td>\n",
       "      <td>8.140892e-02</td>\n",
       "      <td>9.185911e-01</td>\n",
       "      <td>0</td>\n",
       "    </tr>\n",
       "    <tr>\n",
       "      <th>16503</th>\n",
       "      <td>0.882353</td>\n",
       "      <td>0.166667</td>\n",
       "      <td>0.0</td>\n",
       "      <td>0.000123</td>\n",
       "      <td>9.999084e-01</td>\n",
       "      <td>9.150620e-05</td>\n",
       "      <td>0</td>\n",
       "    </tr>\n",
       "    <tr>\n",
       "      <th>...</th>\n",
       "      <td>...</td>\n",
       "      <td>...</td>\n",
       "      <td>...</td>\n",
       "      <td>...</td>\n",
       "      <td>...</td>\n",
       "      <td>...</td>\n",
       "      <td>...</td>\n",
       "    </tr>\n",
       "    <tr>\n",
       "      <th>42747</th>\n",
       "      <td>0.647059</td>\n",
       "      <td>0.111111</td>\n",
       "      <td>1.0</td>\n",
       "      <td>0.976527</td>\n",
       "      <td>3.638223e-01</td>\n",
       "      <td>6.361777e-01</td>\n",
       "      <td>1</td>\n",
       "    </tr>\n",
       "    <tr>\n",
       "      <th>22584</th>\n",
       "      <td>0.000000</td>\n",
       "      <td>0.888889</td>\n",
       "      <td>0.0</td>\n",
       "      <td>0.000423</td>\n",
       "      <td>9.999992e-01</td>\n",
       "      <td>7.921227e-07</td>\n",
       "      <td>0</td>\n",
       "    </tr>\n",
       "    <tr>\n",
       "      <th>65462</th>\n",
       "      <td>0.941176</td>\n",
       "      <td>0.055556</td>\n",
       "      <td>1.0</td>\n",
       "      <td>0.241881</td>\n",
       "      <td>2.711944e-04</td>\n",
       "      <td>9.997287e-01</td>\n",
       "      <td>1</td>\n",
       "    </tr>\n",
       "    <tr>\n",
       "      <th>66037</th>\n",
       "      <td>0.941176</td>\n",
       "      <td>0.722222</td>\n",
       "      <td>0.5</td>\n",
       "      <td>0.068629</td>\n",
       "      <td>8.943979e-02</td>\n",
       "      <td>9.105603e-01</td>\n",
       "      <td>0</td>\n",
       "    </tr>\n",
       "    <tr>\n",
       "      <th>55934</th>\n",
       "      <td>0.941176</td>\n",
       "      <td>0.055556</td>\n",
       "      <td>1.0</td>\n",
       "      <td>0.920631</td>\n",
       "      <td>4.842548e-07</td>\n",
       "      <td>9.999995e-01</td>\n",
       "      <td>1</td>\n",
       "    </tr>\n",
       "  </tbody>\n",
       "</table>\n",
       "<p>50540 rows × 7 columns</p>\n",
       "</div>"
      ],
      "text/plain": [
       "            dst       src  Protocol  bytecount  lstm_result_1  lstm_result_2  \\\n",
       "52757  0.882353  0.000000       1.0   0.532565   9.897681e-01   1.023196e-02   \n",
       "28936  0.941176  0.111111       1.0   0.848030   9.656563e-01   3.434374e-02   \n",
       "17678  0.882353  0.555556       0.0   0.562899   1.278504e-07   9.999999e-01   \n",
       "54228  0.705882  0.111111       0.5   0.068673   8.140892e-02   9.185911e-01   \n",
       "16503  0.882353  0.166667       0.0   0.000123   9.999084e-01   9.150620e-05   \n",
       "...         ...       ...       ...        ...            ...            ...   \n",
       "42747  0.647059  0.111111       1.0   0.976527   3.638223e-01   6.361777e-01   \n",
       "22584  0.000000  0.888889       0.0   0.000423   9.999992e-01   7.921227e-07   \n",
       "65462  0.941176  0.055556       1.0   0.241881   2.711944e-04   9.997287e-01   \n",
       "66037  0.941176  0.722222       0.5   0.068629   8.943979e-02   9.105603e-01   \n",
       "55934  0.941176  0.055556       1.0   0.920631   4.842548e-07   9.999995e-01   \n",
       "\n",
       "       label  \n",
       "52757      0  \n",
       "28936      0  \n",
       "17678      1  \n",
       "54228      0  \n",
       "16503      0  \n",
       "...      ...  \n",
       "42747      1  \n",
       "22584      0  \n",
       "65462      1  \n",
       "66037      0  \n",
       "55934      1  \n",
       "\n",
       "[50540 rows x 7 columns]"
      ]
     },
     "execution_count": 9,
     "metadata": {},
     "output_type": "execute_result"
    }
   ],
   "source": [
    "df_x_train = x_train_awal\n",
    "df_x_train['lstm_result_1'] = y_pred_train_1\n",
    "df_x_train['lstm_result_2'] = y_pred_train_2\n",
    "df_x_train['label'] = y_train\n",
    "df_x_train"
   ]
  },
  {
   "cell_type": "code",
   "execution_count": 10,
   "metadata": {},
   "outputs": [
    {
     "data": {
      "text/plain": [
       "array([[3.8319957e-01, 6.1680043e-01],\n",
       "       [9.1681349e-01, 8.3186448e-02],\n",
       "       [3.0002179e-10, 1.0000000e+00],\n",
       "       ...,\n",
       "       [1.0000000e+00, 2.5892630e-09],\n",
       "       [2.5507235e-14, 1.0000000e+00],\n",
       "       [1.0000000e+00, 5.7467531e-10]], dtype=float32)"
      ]
     },
     "execution_count": 10,
     "metadata": {},
     "output_type": "execute_result"
    }
   ],
   "source": [
    "y_test_pred = lstm_model.predict(x_test)\n",
    "y_test_pred_1 = [x[0] for x in y_test_pred]\n",
    "y_test_pred_2 = [x[1] for x in y_test_pred]\n",
    "\n",
    "y_test_pred"
   ]
  },
  {
   "cell_type": "code",
   "execution_count": 11,
   "metadata": {},
   "outputs": [
    {
     "name": "stderr",
     "output_type": "stream",
     "text": [
      "c:\\Users\\user\\AppData\\Local\\Programs\\Python\\Python37\\lib\\site-packages\\ipykernel_launcher.py:2: SettingWithCopyWarning: \n",
      "A value is trying to be set on a copy of a slice from a DataFrame.\n",
      "Try using .loc[row_indexer,col_indexer] = value instead\n",
      "\n",
      "See the caveats in the documentation: https://pandas.pydata.org/pandas-docs/stable/user_guide/indexing.html#returning-a-view-versus-a-copy\n",
      "  \n",
      "c:\\Users\\user\\AppData\\Local\\Programs\\Python\\Python37\\lib\\site-packages\\ipykernel_launcher.py:3: SettingWithCopyWarning: \n",
      "A value is trying to be set on a copy of a slice from a DataFrame.\n",
      "Try using .loc[row_indexer,col_indexer] = value instead\n",
      "\n",
      "See the caveats in the documentation: https://pandas.pydata.org/pandas-docs/stable/user_guide/indexing.html#returning-a-view-versus-a-copy\n",
      "  This is separate from the ipykernel package so we can avoid doing imports until\n",
      "c:\\Users\\user\\AppData\\Local\\Programs\\Python\\Python37\\lib\\site-packages\\ipykernel_launcher.py:4: SettingWithCopyWarning: \n",
      "A value is trying to be set on a copy of a slice from a DataFrame.\n",
      "Try using .loc[row_indexer,col_indexer] = value instead\n",
      "\n",
      "See the caveats in the documentation: https://pandas.pydata.org/pandas-docs/stable/user_guide/indexing.html#returning-a-view-versus-a-copy\n",
      "  after removing the cwd from sys.path.\n"
     ]
    },
    {
     "data": {
      "text/html": [
       "<div>\n",
       "<style scoped>\n",
       "    .dataframe tbody tr th:only-of-type {\n",
       "        vertical-align: middle;\n",
       "    }\n",
       "\n",
       "    .dataframe tbody tr th {\n",
       "        vertical-align: top;\n",
       "    }\n",
       "\n",
       "    .dataframe thead th {\n",
       "        text-align: right;\n",
       "    }\n",
       "</style>\n",
       "<table border=\"1\" class=\"dataframe\">\n",
       "  <thead>\n",
       "    <tr style=\"text-align: right;\">\n",
       "      <th></th>\n",
       "      <th>dst</th>\n",
       "      <th>src</th>\n",
       "      <th>Protocol</th>\n",
       "      <th>bytecount</th>\n",
       "      <th>lstm_result_1</th>\n",
       "      <th>lstm_result_2</th>\n",
       "      <th>label</th>\n",
       "    </tr>\n",
       "  </thead>\n",
       "  <tbody>\n",
       "    <tr>\n",
       "      <th>11713</th>\n",
       "      <td>0.764706</td>\n",
       "      <td>0.555556</td>\n",
       "      <td>1.0</td>\n",
       "      <td>0.477935</td>\n",
       "      <td>3.831996e-01</td>\n",
       "      <td>6.168004e-01</td>\n",
       "      <td>0</td>\n",
       "    </tr>\n",
       "    <tr>\n",
       "      <th>52924</th>\n",
       "      <td>0.647059</td>\n",
       "      <td>0.388889</td>\n",
       "      <td>0.5</td>\n",
       "      <td>0.105974</td>\n",
       "      <td>9.168135e-01</td>\n",
       "      <td>8.318645e-02</td>\n",
       "      <td>0</td>\n",
       "    </tr>\n",
       "    <tr>\n",
       "      <th>4045</th>\n",
       "      <td>0.647059</td>\n",
       "      <td>0.055556</td>\n",
       "      <td>0.0</td>\n",
       "      <td>0.826409</td>\n",
       "      <td>3.000218e-10</td>\n",
       "      <td>1.000000e+00</td>\n",
       "      <td>1</td>\n",
       "    </tr>\n",
       "    <tr>\n",
       "      <th>54476</th>\n",
       "      <td>0.294118</td>\n",
       "      <td>1.000000</td>\n",
       "      <td>0.0</td>\n",
       "      <td>0.000046</td>\n",
       "      <td>1.000000e+00</td>\n",
       "      <td>1.951766e-09</td>\n",
       "      <td>0</td>\n",
       "    </tr>\n",
       "    <tr>\n",
       "      <th>19341</th>\n",
       "      <td>0.647059</td>\n",
       "      <td>0.111111</td>\n",
       "      <td>1.0</td>\n",
       "      <td>0.977027</td>\n",
       "      <td>3.637102e-01</td>\n",
       "      <td>6.362898e-01</td>\n",
       "      <td>1</td>\n",
       "    </tr>\n",
       "    <tr>\n",
       "      <th>...</th>\n",
       "      <td>...</td>\n",
       "      <td>...</td>\n",
       "      <td>...</td>\n",
       "      <td>...</td>\n",
       "      <td>...</td>\n",
       "      <td>...</td>\n",
       "      <td>...</td>\n",
       "    </tr>\n",
       "    <tr>\n",
       "      <th>21721</th>\n",
       "      <td>0.176471</td>\n",
       "      <td>0.777778</td>\n",
       "      <td>0.0</td>\n",
       "      <td>0.000421</td>\n",
       "      <td>1.000000e+00</td>\n",
       "      <td>1.756028e-09</td>\n",
       "      <td>0</td>\n",
       "    </tr>\n",
       "    <tr>\n",
       "      <th>55392</th>\n",
       "      <td>0.941176</td>\n",
       "      <td>0.000000</td>\n",
       "      <td>1.0</td>\n",
       "      <td>0.717873</td>\n",
       "      <td>9.897681e-01</td>\n",
       "      <td>1.023196e-02</td>\n",
       "      <td>0</td>\n",
       "    </tr>\n",
       "    <tr>\n",
       "      <th>30108</th>\n",
       "      <td>0.941176</td>\n",
       "      <td>0.888889</td>\n",
       "      <td>0.0</td>\n",
       "      <td>0.000481</td>\n",
       "      <td>1.000000e+00</td>\n",
       "      <td>2.589263e-09</td>\n",
       "      <td>0</td>\n",
       "    </tr>\n",
       "    <tr>\n",
       "      <th>49565</th>\n",
       "      <td>0.176471</td>\n",
       "      <td>0.888889</td>\n",
       "      <td>0.0</td>\n",
       "      <td>0.263331</td>\n",
       "      <td>2.550724e-14</td>\n",
       "      <td>1.000000e+00</td>\n",
       "      <td>1</td>\n",
       "    </tr>\n",
       "    <tr>\n",
       "      <th>54607</th>\n",
       "      <td>1.000000</td>\n",
       "      <td>0.888889</td>\n",
       "      <td>0.0</td>\n",
       "      <td>0.000319</td>\n",
       "      <td>1.000000e+00</td>\n",
       "      <td>5.746753e-10</td>\n",
       "      <td>0</td>\n",
       "    </tr>\n",
       "  </tbody>\n",
       "</table>\n",
       "<p>21661 rows × 7 columns</p>\n",
       "</div>"
      ],
      "text/plain": [
       "            dst       src  Protocol  bytecount  lstm_result_1  lstm_result_2  \\\n",
       "11713  0.764706  0.555556       1.0   0.477935   3.831996e-01   6.168004e-01   \n",
       "52924  0.647059  0.388889       0.5   0.105974   9.168135e-01   8.318645e-02   \n",
       "4045   0.647059  0.055556       0.0   0.826409   3.000218e-10   1.000000e+00   \n",
       "54476  0.294118  1.000000       0.0   0.000046   1.000000e+00   1.951766e-09   \n",
       "19341  0.647059  0.111111       1.0   0.977027   3.637102e-01   6.362898e-01   \n",
       "...         ...       ...       ...        ...            ...            ...   \n",
       "21721  0.176471  0.777778       0.0   0.000421   1.000000e+00   1.756028e-09   \n",
       "55392  0.941176  0.000000       1.0   0.717873   9.897681e-01   1.023196e-02   \n",
       "30108  0.941176  0.888889       0.0   0.000481   1.000000e+00   2.589263e-09   \n",
       "49565  0.176471  0.888889       0.0   0.263331   2.550724e-14   1.000000e+00   \n",
       "54607  1.000000  0.888889       0.0   0.000319   1.000000e+00   5.746753e-10   \n",
       "\n",
       "       label  \n",
       "11713      0  \n",
       "52924      0  \n",
       "4045       1  \n",
       "54476      0  \n",
       "19341      1  \n",
       "...      ...  \n",
       "21721      0  \n",
       "55392      0  \n",
       "30108      0  \n",
       "49565      1  \n",
       "54607      0  \n",
       "\n",
       "[21661 rows x 7 columns]"
      ]
     },
     "execution_count": 11,
     "metadata": {},
     "output_type": "execute_result"
    }
   ],
   "source": [
    "df_x_test = x_test_awal\n",
    "df_x_test['lstm_result_1'] = y_test_pred_1\n",
    "df_x_test['lstm_result_2'] = y_test_pred_2\n",
    "df_x_test['label'] = y_test\n",
    "df_x_test"
   ]
  },
  {
   "cell_type": "code",
   "execution_count": 12,
   "metadata": {},
   "outputs": [],
   "source": [
    "df_x_train.to_csv('data_latih_2.csv', sep=',', index=False)\n",
    "df_x_test.to_csv('data_test_2.csv',sep=',', index=False)"
   ]
  },
  {
   "cell_type": "code",
   "execution_count": 13,
   "metadata": {},
   "outputs": [
    {
     "data": {
      "text/plain": [
       "GaussianNB()"
      ]
     },
     "execution_count": 13,
     "metadata": {},
     "output_type": "execute_result"
    }
   ],
   "source": [
    "nb_classifier = GaussianNB()\n",
    "nb_classifier\n"
   ]
  },
  {
   "cell_type": "code",
   "execution_count": 14,
   "metadata": {},
   "outputs": [],
   "source": [
    "df_train = pd.read_csv('data_latih_2.csv', sep=',')\n",
    "df_test = pd.read_csv('data_test_2.csv', sep=',')"
   ]
  },
  {
   "cell_type": "code",
   "execution_count": 15,
   "metadata": {},
   "outputs": [],
   "source": [
    "x_train = df_train[['src','dst','Protocol', 'lstm_result_1','lstm_result_2']]\n",
    "y_train = df_train['label']\n",
    "\n",
    "x_test = df_test[['src','dst','Protocol', 'lstm_result_1','lstm_result_2']]\n",
    "y_test = df_test['label']"
   ]
  },
  {
   "cell_type": "code",
   "execution_count": 16,
   "metadata": {},
   "outputs": [],
   "source": [
    "import joblib\n",
    "from sklearn.model_selection import GridSearchCV, StratifiedKFold"
   ]
  },
  {
   "cell_type": "code",
   "execution_count": 43,
   "metadata": {},
   "outputs": [
    {
     "name": "stdout",
     "output_type": "stream",
     "text": [
      "Fitting 10 folds for each of 100 candidates, totalling 1000 fits\n"
     ]
    },
    {
     "name": "stderr",
     "output_type": "stream",
     "text": [
      "[Parallel(n_jobs=1)]: Using backend SequentialBackend with 1 concurrent workers.\n"
     ]
    },
    {
     "name": "stdout",
     "output_type": "stream",
     "text": [
      "GaussianNB(var_smoothing=0.03511191734215131)\n"
     ]
    },
    {
     "name": "stderr",
     "output_type": "stream",
     "text": [
      "[Parallel(n_jobs=1)]: Done 1000 out of 1000 | elapsed:   56.2s finished\n"
     ]
    }
   ],
   "source": [
    "param_grid_nb = {\n",
    "    'var_smoothing': np.logspace(0,-9, num=100)\n",
    "}\n",
    "\n",
    "NB_Feature_Grid = GridSearchCV(estimator=GaussianNB(), param_grid=param_grid_nb, return_train_score=True ,scoring='accuracy' ,verbose=1, cv=10, n_jobs=1)\n",
    "NB_Feature_Grid.fit(x_train, y_train)\n",
    "print(NB_Feature_Grid.best_estimator_)\n"
   ]
  },
  {
   "cell_type": "code",
   "execution_count": 18,
   "metadata": {},
   "outputs": [
    {
     "data": {
      "text/plain": [
       "0.8904827859121488"
      ]
     },
     "execution_count": 18,
     "metadata": {},
     "output_type": "execute_result"
    }
   ],
   "source": [
    "NB_Feature_Grid.best_score_"
   ]
  },
  {
   "cell_type": "code",
   "execution_count": 19,
   "metadata": {},
   "outputs": [
    {
     "data": {
      "text/html": [
       "<div>\n",
       "<style scoped>\n",
       "    .dataframe tbody tr th:only-of-type {\n",
       "        vertical-align: middle;\n",
       "    }\n",
       "\n",
       "    .dataframe tbody tr th {\n",
       "        vertical-align: top;\n",
       "    }\n",
       "\n",
       "    .dataframe thead th {\n",
       "        text-align: right;\n",
       "    }\n",
       "</style>\n",
       "<table border=\"1\" class=\"dataframe\">\n",
       "  <thead>\n",
       "    <tr style=\"text-align: right;\">\n",
       "      <th></th>\n",
       "      <th>mean_fit_time</th>\n",
       "      <th>std_fit_time</th>\n",
       "      <th>mean_score_time</th>\n",
       "      <th>std_score_time</th>\n",
       "      <th>param_var_smoothing</th>\n",
       "      <th>params</th>\n",
       "      <th>split0_test_score</th>\n",
       "      <th>split1_test_score</th>\n",
       "      <th>split2_test_score</th>\n",
       "      <th>split3_test_score</th>\n",
       "      <th>...</th>\n",
       "      <th>split2_train_score</th>\n",
       "      <th>split3_train_score</th>\n",
       "      <th>split4_train_score</th>\n",
       "      <th>split5_train_score</th>\n",
       "      <th>split6_train_score</th>\n",
       "      <th>split7_train_score</th>\n",
       "      <th>split8_train_score</th>\n",
       "      <th>split9_train_score</th>\n",
       "      <th>mean_train_score</th>\n",
       "      <th>std_train_score</th>\n",
       "    </tr>\n",
       "  </thead>\n",
       "  <tbody>\n",
       "    <tr>\n",
       "      <th>0</th>\n",
       "      <td>0.023724</td>\n",
       "      <td>0.003027</td>\n",
       "      <td>0.004272</td>\n",
       "      <td>0.000634</td>\n",
       "      <td>1</td>\n",
       "      <td>{'var_smoothing': 1.0}</td>\n",
       "      <td>0.892165</td>\n",
       "      <td>0.889592</td>\n",
       "      <td>0.889790</td>\n",
       "      <td>0.882271</td>\n",
       "      <td>...</td>\n",
       "      <td>0.888889</td>\n",
       "      <td>0.889768</td>\n",
       "      <td>0.888735</td>\n",
       "      <td>0.889065</td>\n",
       "      <td>0.888977</td>\n",
       "      <td>0.888537</td>\n",
       "      <td>0.888823</td>\n",
       "      <td>0.888691</td>\n",
       "      <td>0.888882</td>\n",
       "      <td>0.000334</td>\n",
       "    </tr>\n",
       "    <tr>\n",
       "      <th>1</th>\n",
       "      <td>0.021338</td>\n",
       "      <td>0.003487</td>\n",
       "      <td>0.003812</td>\n",
       "      <td>0.001195</td>\n",
       "      <td>0.811131</td>\n",
       "      <td>{'var_smoothing': 0.8111308307896871}</td>\n",
       "      <td>0.893748</td>\n",
       "      <td>0.887812</td>\n",
       "      <td>0.890186</td>\n",
       "      <td>0.883063</td>\n",
       "      <td>...</td>\n",
       "      <td>0.888889</td>\n",
       "      <td>0.889658</td>\n",
       "      <td>0.888933</td>\n",
       "      <td>0.889395</td>\n",
       "      <td>0.888691</td>\n",
       "      <td>0.888889</td>\n",
       "      <td>0.889285</td>\n",
       "      <td>0.888493</td>\n",
       "      <td>0.889003</td>\n",
       "      <td>0.000370</td>\n",
       "    </tr>\n",
       "    <tr>\n",
       "      <th>2</th>\n",
       "      <td>0.023418</td>\n",
       "      <td>0.004692</td>\n",
       "      <td>0.004718</td>\n",
       "      <td>0.000658</td>\n",
       "      <td>0.657933</td>\n",
       "      <td>{'var_smoothing': 0.657933224657568}</td>\n",
       "      <td>0.892560</td>\n",
       "      <td>0.886031</td>\n",
       "      <td>0.888603</td>\n",
       "      <td>0.880689</td>\n",
       "      <td>...</td>\n",
       "      <td>0.887592</td>\n",
       "      <td>0.888295</td>\n",
       "      <td>0.889043</td>\n",
       "      <td>0.887790</td>\n",
       "      <td>0.887746</td>\n",
       "      <td>0.888977</td>\n",
       "      <td>0.886998</td>\n",
       "      <td>0.887790</td>\n",
       "      <td>0.887906</td>\n",
       "      <td>0.000640</td>\n",
       "    </tr>\n",
       "    <tr>\n",
       "      <th>3</th>\n",
       "      <td>0.021440</td>\n",
       "      <td>0.003615</td>\n",
       "      <td>0.004646</td>\n",
       "      <td>0.000782</td>\n",
       "      <td>0.53367</td>\n",
       "      <td>{'var_smoothing': 0.533669923120631}</td>\n",
       "      <td>0.892165</td>\n",
       "      <td>0.887020</td>\n",
       "      <td>0.887812</td>\n",
       "      <td>0.882271</td>\n",
       "      <td>...</td>\n",
       "      <td>0.887548</td>\n",
       "      <td>0.888141</td>\n",
       "      <td>0.887064</td>\n",
       "      <td>0.888867</td>\n",
       "      <td>0.887724</td>\n",
       "      <td>0.887350</td>\n",
       "      <td>0.888757</td>\n",
       "      <td>0.887482</td>\n",
       "      <td>0.887763</td>\n",
       "      <td>0.000601</td>\n",
       "    </tr>\n",
       "    <tr>\n",
       "      <th>4</th>\n",
       "      <td>0.029944</td>\n",
       "      <td>0.007264</td>\n",
       "      <td>0.005441</td>\n",
       "      <td>0.001186</td>\n",
       "      <td>0.432876</td>\n",
       "      <td>{'var_smoothing': 0.43287612810830584}</td>\n",
       "      <td>0.893748</td>\n",
       "      <td>0.886427</td>\n",
       "      <td>0.888603</td>\n",
       "      <td>0.884052</td>\n",
       "      <td>...</td>\n",
       "      <td>0.888647</td>\n",
       "      <td>0.889153</td>\n",
       "      <td>0.888581</td>\n",
       "      <td>0.888691</td>\n",
       "      <td>0.888735</td>\n",
       "      <td>0.888317</td>\n",
       "      <td>0.888867</td>\n",
       "      <td>0.888515</td>\n",
       "      <td>0.888645</td>\n",
       "      <td>0.000305</td>\n",
       "    </tr>\n",
       "  </tbody>\n",
       "</table>\n",
       "<p>5 rows × 31 columns</p>\n",
       "</div>"
      ],
      "text/plain": [
       "   mean_fit_time  std_fit_time  mean_score_time  std_score_time  \\\n",
       "0       0.023724      0.003027         0.004272        0.000634   \n",
       "1       0.021338      0.003487         0.003812        0.001195   \n",
       "2       0.023418      0.004692         0.004718        0.000658   \n",
       "3       0.021440      0.003615         0.004646        0.000782   \n",
       "4       0.029944      0.007264         0.005441        0.001186   \n",
       "\n",
       "  param_var_smoothing                                  params  \\\n",
       "0                   1                  {'var_smoothing': 1.0}   \n",
       "1            0.811131   {'var_smoothing': 0.8111308307896871}   \n",
       "2            0.657933    {'var_smoothing': 0.657933224657568}   \n",
       "3             0.53367    {'var_smoothing': 0.533669923120631}   \n",
       "4            0.432876  {'var_smoothing': 0.43287612810830584}   \n",
       "\n",
       "   split0_test_score  split1_test_score  split2_test_score  split3_test_score  \\\n",
       "0           0.892165           0.889592           0.889790           0.882271   \n",
       "1           0.893748           0.887812           0.890186           0.883063   \n",
       "2           0.892560           0.886031           0.888603           0.880689   \n",
       "3           0.892165           0.887020           0.887812           0.882271   \n",
       "4           0.893748           0.886427           0.888603           0.884052   \n",
       "\n",
       "   ...  split2_train_score  split3_train_score  split4_train_score  \\\n",
       "0  ...            0.888889            0.889768            0.888735   \n",
       "1  ...            0.888889            0.889658            0.888933   \n",
       "2  ...            0.887592            0.888295            0.889043   \n",
       "3  ...            0.887548            0.888141            0.887064   \n",
       "4  ...            0.888647            0.889153            0.888581   \n",
       "\n",
       "   split5_train_score  split6_train_score  split7_train_score  \\\n",
       "0            0.889065            0.888977            0.888537   \n",
       "1            0.889395            0.888691            0.888889   \n",
       "2            0.887790            0.887746            0.888977   \n",
       "3            0.888867            0.887724            0.887350   \n",
       "4            0.888691            0.888735            0.888317   \n",
       "\n",
       "   split8_train_score  split9_train_score  mean_train_score  std_train_score  \n",
       "0            0.888823            0.888691          0.888882         0.000334  \n",
       "1            0.889285            0.888493          0.889003         0.000370  \n",
       "2            0.886998            0.887790          0.887906         0.000640  \n",
       "3            0.888757            0.887482          0.887763         0.000601  \n",
       "4            0.888867            0.888515          0.888645         0.000305  \n",
       "\n",
       "[5 rows x 31 columns]"
      ]
     },
     "execution_count": 19,
     "metadata": {},
     "output_type": "execute_result"
    }
   ],
   "source": [
    "grid_cv_data = pd.DataFrame(NB_Feature_Grid.cv_results_)\n",
    "grid_cv_data.head(5)"
   ]
  },
  {
   "cell_type": "code",
   "execution_count": 20,
   "metadata": {},
   "outputs": [],
   "source": [
    "test_value = grid_cv_data.mean_test_score.unique()\n",
    "iteration = 0 \n",
    "test_mean_value = []\n",
    "for x in test_value:\n",
    "    if (iteration <= 10):\n",
    "        test_mean_value.append(x*100)\n",
    "        iteration +=1 \n",
    "    else:\n",
    "        break"
   ]
  },
  {
   "cell_type": "code",
   "execution_count": 21,
   "metadata": {},
   "outputs": [],
   "source": [
    "\n",
    "train_value = grid_cv_data.mean_train_score.unique()\n",
    "iteration = 0 \n",
    "train_mean_value = []\n",
    "for x in test_value:\n",
    "    if (iteration <= 10):\n",
    "        train_mean_value.append(x*100)\n",
    "        iteration +=1 \n",
    "    else:\n",
    "        break"
   ]
  },
  {
   "cell_type": "code",
   "execution_count": 37,
   "metadata": {},
   "outputs": [],
   "source": [
    "alphas = [x for x in range(100)]"
   ]
  },
  {
   "cell_type": "code",
   "execution_count": 41,
   "metadata": {},
   "outputs": [
    {
     "data": {
      "image/png": "[encoded data removed]",
      "text/plain": [
       "<Figure size 1440x720 with 1 Axes>"
      ]
     },
     "metadata": {
      "needs_background": "light"
     },
     "output_type": "display_data"
    }
   ],
   "source": [
    "train_scores_mean = grid_cv_data[\"mean_train_score\"]\n",
    "test_scores_mean = grid_cv_data[\"mean_test_score\"]\n",
    "\n",
    "plt.figure(figsize=(20,10))\n",
    "plt.title('Naive Bayes Model')\n",
    "plt.xlabel('Iteration')\n",
    "plt.ylabel('Score')\n",
    "# plot train scores\n",
    "plt.semilogx(alphas, train_scores_mean, label='Mean Train score',\n",
    "             color='black')\n",
    "plt.semilogx(alphas, test_scores_mean,\n",
    "             label='Mean Test score', color='red', linestyle='dotted')\n",
    "\n",
    "plt.legend(loc='best')\n",
    "plt.show()"
   ]
  },
  {
   "cell_type": "code",
   "execution_count": 24,
   "metadata": {},
   "outputs": [
    {
     "name": "stdout",
     "output_type": "stream",
     "text": [
      "Naive Bayes GaussianNB cv score:  [0.89354966 0.89038385 0.89315394 0.88880095 0.88919668 0.87969925\n",
      " 0.88761377 0.88603087 0.89750693 0.88919668 0.88484369 0.90185991\n",
      " 0.89275821 0.89236249 0.89196676 0.88998813 0.89275821 0.89473684\n",
      " 0.88365651 0.88880095]\n",
      "Naive Bayes GaussianNB cv score:  [0.88745387 0.88273315 0.87719298 0.86980609 0.90489381 0.88457987\n",
      " 0.86611265 0.90212373 0.86518929 0.88919668 0.87996307 0.89473684\n",
      " 0.87626962 0.88734995 0.89012004 0.87072946 0.87534626 0.87811634\n",
      " 0.90212373 0.8744229 ]\n"
     ]
    }
   ],
   "source": [
    "from sklearn.model_selection import KFold\n",
    "\n",
    "kfold = KFold(n_splits=20, random_state=10, shuffle=True)\n",
    "gaussion_nb = GaussianNB()\n",
    "gaussion_nb.fit(x_train,y_train)\n",
    "cv_train = cross_val_score(gaussion_nb, x_train, y_train, cv=kfold, scoring='accuracy')\n",
    "cv_test = cross_val_score(gaussion_nb, x_test, y_test, cv=kfold, scoring='accuracy')\n",
    "print('Naive Bayes GaussianNB cv score: ', cv_train)\n",
    "print('Naive Bayes GaussianNB cv score: ', cv_test)"
   ]
  },
  {
   "cell_type": "code",
   "execution_count": 46,
   "metadata": {},
   "outputs": [],
   "source": [
    "alphas = [x for x in range(10)] "
   ]
  },
  {
   "cell_type": "code",
   "execution_count": 49,
   "metadata": {},
   "outputs": [
    {
     "data": {
      "image/png": "[encoded data removed]",
      "text/plain": [
       "<Figure size 360x360 with 1 Axes>"
      ]
     },
     "metadata": {
      "needs_background": "light"
     },
     "output_type": "display_data"
    }
   ],
   "source": [
    "plt.figure(figsize=(5,5))\n",
    "plt.title('Naive Bayes Model', fontsize=12)\n",
    "plt.xlabel('Iteration', fontsize=12)\n",
    "plt.ylabel('Score', fontsize=12)\n",
    "\n",
    "plt.plot(alphas, train_mean_value[1:11], label='Train Accuracy',\n",
    "             color='navy')\n",
    "plt.legend(loc='best')\n",
    "plt.show()"
   ]
  },
  {
   "cell_type": "code",
   "execution_count": 27,
   "metadata": {},
   "outputs": [
    {
     "data": {
      "text/plain": [
       "<Figure size 360x360 with 0 Axes>"
      ]
     },
     "metadata": {},
     "output_type": "display_data"
    },
    {
     "data": {
      "image/png": "[encoded data removed]",
      "text/plain": [
       "<Figure size 432x288 with 1 Axes>"
      ]
     },
     "metadata": {
      "needs_background": "light"
     },
     "output_type": "display_data"
    },
    {
     "data": {
      "image/png": "[encoded data removed]",
      "text/plain": [
       "<Figure size 432x288 with 1 Axes>"
      ]
     },
     "metadata": {
      "needs_background": "light"
     },
     "output_type": "display_data"
    }
   ],
   "source": [
    "from sklearn.metrics import plot_roc_curve\n",
    "\n",
    "plt.figure(figsize=(5,5))\n",
    "plot_roc_curve(gaussion_nb, x_train, y_train)\n",
    "plt.show()\n",
    "\n",
    "plot_roc_curve(gaussion_nb, x_test, y_test)\n",
    "plt.show()"
   ]
  },
  {
   "cell_type": "code",
   "execution_count": 29,
   "metadata": {},
   "outputs": [
    {
     "data": {
      "text/html": [
       "<div>\n",
       "<style scoped>\n",
       "    .dataframe tbody tr th:only-of-type {\n",
       "        vertical-align: middle;\n",
       "    }\n",
       "\n",
       "    .dataframe tbody tr th {\n",
       "        vertical-align: top;\n",
       "    }\n",
       "\n",
       "    .dataframe thead th {\n",
       "        text-align: right;\n",
       "    }\n",
       "</style>\n",
       "<table border=\"1\" class=\"dataframe\">\n",
       "  <thead>\n",
       "    <tr style=\"text-align: right;\">\n",
       "      <th></th>\n",
       "      <th>loss</th>\n",
       "      <th>accuracy</th>\n",
       "      <th>mean_squared_error</th>\n",
       "      <th>mean_absolute_error</th>\n",
       "    </tr>\n",
       "  </thead>\n",
       "  <tbody>\n",
       "    <tr>\n",
       "      <th>0</th>\n",
       "      <td>0.237898</td>\n",
       "      <td>0.872873</td>\n",
       "      <td>0.418946</td>\n",
       "      <td>0.5</td>\n",
       "    </tr>\n",
       "    <tr>\n",
       "      <th>1</th>\n",
       "      <td>0.235708</td>\n",
       "      <td>0.874535</td>\n",
       "      <td>0.419868</td>\n",
       "      <td>0.5</td>\n",
       "    </tr>\n",
       "    <tr>\n",
       "      <th>2</th>\n",
       "      <td>0.235925</td>\n",
       "      <td>0.873427</td>\n",
       "      <td>0.420006</td>\n",
       "      <td>0.5</td>\n",
       "    </tr>\n",
       "    <tr>\n",
       "      <th>3</th>\n",
       "      <td>0.234111</td>\n",
       "      <td>0.876197</td>\n",
       "      <td>0.420642</td>\n",
       "      <td>0.5</td>\n",
       "    </tr>\n",
       "    <tr>\n",
       "      <th>4</th>\n",
       "      <td>0.233554</td>\n",
       "      <td>0.876019</td>\n",
       "      <td>0.421055</td>\n",
       "      <td>0.5</td>\n",
       "    </tr>\n",
       "    <tr>\n",
       "      <th>5</th>\n",
       "      <td>0.232352</td>\n",
       "      <td>0.876989</td>\n",
       "      <td>0.421205</td>\n",
       "      <td>0.5</td>\n",
       "    </tr>\n",
       "    <tr>\n",
       "      <th>6</th>\n",
       "      <td>0.229958</td>\n",
       "      <td>0.877721</td>\n",
       "      <td>0.422040</td>\n",
       "      <td>0.5</td>\n",
       "    </tr>\n",
       "    <tr>\n",
       "      <th>7</th>\n",
       "      <td>0.232003</td>\n",
       "      <td>0.875861</td>\n",
       "      <td>0.421454</td>\n",
       "      <td>0.5</td>\n",
       "    </tr>\n",
       "    <tr>\n",
       "      <th>8</th>\n",
       "      <td>0.229025</td>\n",
       "      <td>0.878195</td>\n",
       "      <td>0.422205</td>\n",
       "      <td>0.5</td>\n",
       "    </tr>\n",
       "    <tr>\n",
       "      <th>9</th>\n",
       "      <td>0.230400</td>\n",
       "      <td>0.877048</td>\n",
       "      <td>0.422222</td>\n",
       "      <td>0.5</td>\n",
       "    </tr>\n",
       "  </tbody>\n",
       "</table>\n",
       "</div>"
      ],
      "text/plain": [
       "       loss  accuracy  mean_squared_error  mean_absolute_error\n",
       "0  0.237898  0.872873            0.418946                  0.5\n",
       "1  0.235708  0.874535            0.419868                  0.5\n",
       "2  0.235925  0.873427            0.420006                  0.5\n",
       "3  0.234111  0.876197            0.420642                  0.5\n",
       "4  0.233554  0.876019            0.421055                  0.5\n",
       "5  0.232352  0.876989            0.421205                  0.5\n",
       "6  0.229958  0.877721            0.422040                  0.5\n",
       "7  0.232003  0.875861            0.421454                  0.5\n",
       "8  0.229025  0.878195            0.422205                  0.5\n",
       "9  0.230400  0.877048            0.422222                  0.5"
      ]
     },
     "execution_count": 29,
     "metadata": {},
     "output_type": "execute_result"
    }
   ],
   "source": [
    "df_history = pd.DataFrame(history.history)\n",
    "df_history"
   ]
  },
  {
   "cell_type": "code",
   "execution_count": 56,
   "metadata": {},
   "outputs": [
    {
     "data": {
      "image/png": "[encoded data removed]",
      "text/plain": [
       "<Figure size 720x360 with 1 Axes>"
      ]
     },
     "metadata": {
      "needs_background": "light"
     },
     "output_type": "display_data"
    }
   ],
   "source": [
    "plt.figure(figsize=(10,5))\n",
    "plt.title('Model Training', fontsize=12)\n",
    "plt.xlabel('Iteration', fontsize=12)\n",
    "plt.ylabel('Accuracy', fontsize=12)\n",
    "\n",
    "plt.plot(alphas, df_history['accuracy']*100, label='LSTM Accuracy',color='black', linestyle='--')\n",
    "plt.plot(alphas, train_mean_value[1:11], label='Naive Bayes Accuracy', color='red', linestyle=\"dotted\")\n",
    "plt.legend(loc='best')\n",
    "plt.show()"
   ]
  },
  {
   "cell_type": "code",
   "execution_count": null,
   "metadata": {},
   "outputs": [],
   "source": [
    "plt.figure(figsize=(5,5))\n",
    "plt.title('Model Performance', fontsize=12)\n",
    "plt.xlabel('Iteration', fontsize=12)\n",
    "plt.ylabel('Score', fontsize=12)\n",
    "\n",
    "plt.plot(alphas, df_history['accuracy']*100, label='Train Accuracy',\n",
    "             color='navy')\n",
    "plt.legend(loc='best')\n",
    "plt.show()"
   ]
  },
  {
   "cell_type": "code",
   "execution_count": 60,
   "metadata": {},
   "outputs": [
    {
     "data": {
      "image/png": "[encoded data removed]",
      "text/plain": [
       "<Figure size 1080x360 with 2 Axes>"
      ]
     },
     "metadata": {
      "needs_background": "light"
     },
     "output_type": "display_data"
    }
   ],
   "source": [
    "plt.figure(figsize=(15,5))\n",
    "plt.subplot(1,3,1)\n",
    "plt.title('LSTM Model', fontsize=12)\n",
    "plt.xlabel('Iteration', fontsize=12)\n",
    "plt.ylabel('Accuracy', fontsize=12)\n",
    "plt.plot(alphas, df_history['accuracy']*100, label='Train Accuracy', color='navy')\n",
    "plt.legend(loc='best')\n",
    "plt.subplot(1,3,2)\n",
    "plt.title('Naive Bayes Model', fontsize=12)\n",
    "plt.xlabel('Iteration', fontsize=12)\n",
    "plt.plot(alphas, train_mean_value[1:11], label='Train Accuracy', color='navy')\n",
    "plt.legend(loc='best')\n",
    "plt.show()"
   ]
  },
  {
   "cell_type": "code",
   "execution_count": null,
   "metadata": {},
   "outputs": [],
   "source": []
  }
 ],
 "metadata": {
  "kernelspec": {
   "display_name": "Python 3.7.4 64-bit",
   "language": "python",
   "name": "python3"
  },
  "language_info": {
   "codemirror_mode": {
    "name": "ipython",
    "version": 3
   },
   "file_extension": ".py",
   "mimetype": "text/x-python",
   "name": "python",
   "nbconvert_exporter": "python",
   "pygments_lexer": "ipython3",
   "version": "3.7.4"
  },
  "orig_nbformat": 4,
  "vscode": {
   "interpreter": {
    "hash": "8c2dc7f55a4afb133f9671f18548a683b80d7f864af89313bd9839ac682f147f"
   }
  }
 },
 "nbformat": 4,
 "nbformat_minor": 2
}
