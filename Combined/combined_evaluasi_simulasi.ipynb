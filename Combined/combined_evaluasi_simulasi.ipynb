{
 "cells": [
  {
   "cell_type": "code",
   "execution_count": 65,
   "metadata": {},
   "outputs": [],
   "source": [
    "import pandas as pd \n",
    "import matplotlib.pyplot as plt \n",
    "import seaborn as sn \n",
    "import numpy as np \n",
    "import joblib\n",
    "from keras.models import Sequential\n",
    "from keras.layers import Dense, LSTM, Dropout\n",
    "from sklearn.naive_bayes import GaussianNB, MultinomialNB\n",
    "from sklearn.model_selection import cross_val_score\n",
    "from sklearn.metrics import confusion_matrix\n",
    "from sklearn.metrics import accuracy_score\n",
    "from sklearn.metrics import classification_report\n",
    "from sklearn.metrics import confusion_matrix\n",
    "from sklearn.model_selection import train_test_split\n",
    "from sklearn.preprocessing import LabelEncoder"
   ]
  },
  {
   "cell_type": "code",
   "execution_count": 66,
   "metadata": {},
   "outputs": [
    {
     "name": "stderr",
     "output_type": "stream",
     "text": [
      "c:\\Users\\user\\AppData\\Local\\Programs\\Python\\Python37\\lib\\site-packages\\IPython\\core\\interactiveshell.py:3063: DtypeWarning: Columns (6) have mixed types.Specify dtype option on import or set low_memory=False.\n",
      "  interactivity=interactivity, compiler=compiler, result=result)\n"
     ]
    },
    {
     "data": {
      "text/html": [
       "<div>\n",
       "<style scoped>\n",
       "    .dataframe tbody tr th:only-of-type {\n",
       "        vertical-align: middle;\n",
       "    }\n",
       "\n",
       "    .dataframe tbody tr th {\n",
       "        vertical-align: top;\n",
       "    }\n",
       "\n",
       "    .dataframe thead th {\n",
       "        text-align: right;\n",
       "    }\n",
       "</style>\n",
       "<table border=\"1\" class=\"dataframe\">\n",
       "  <thead>\n",
       "    <tr style=\"text-align: right;\">\n",
       "      <th></th>\n",
       "      <th>time</th>\n",
       "      <th>src</th>\n",
       "      <th>dst</th>\n",
       "      <th>protocol</th>\n",
       "      <th>length</th>\n",
       "      <th>time_tcp</th>\n",
       "      <th>time_previous</th>\n",
       "      <th>frame_length</th>\n",
       "      <th>label</th>\n",
       "    </tr>\n",
       "  </thead>\n",
       "  <tbody>\n",
       "    <tr>\n",
       "      <th>0</th>\n",
       "      <td>694.817.062</td>\n",
       "      <td>10.0.3.3</td>\n",
       "      <td>10.0.1.1</td>\n",
       "      <td>TCP</td>\n",
       "      <td>74</td>\n",
       "      <td>0.000000000</td>\n",
       "      <td>0</td>\n",
       "      <td>74</td>\n",
       "      <td>0</td>\n",
       "    </tr>\n",
       "    <tr>\n",
       "      <th>1</th>\n",
       "      <td>694.834.167</td>\n",
       "      <td>10.0.1.1</td>\n",
       "      <td>10.0.3.3</td>\n",
       "      <td>TCP</td>\n",
       "      <td>74</td>\n",
       "      <td>0.017105000</td>\n",
       "      <td>0.017105</td>\n",
       "      <td>74</td>\n",
       "      <td>0</td>\n",
       "    </tr>\n",
       "    <tr>\n",
       "      <th>2</th>\n",
       "      <td>694.834.210</td>\n",
       "      <td>10.0.3.3</td>\n",
       "      <td>10.0.1.1</td>\n",
       "      <td>TCP</td>\n",
       "      <td>66</td>\n",
       "      <td>0.017148000</td>\n",
       "      <td>4.3e-05</td>\n",
       "      <td>66</td>\n",
       "      <td>0</td>\n",
       "    </tr>\n",
       "    <tr>\n",
       "      <th>3</th>\n",
       "      <td>694.834.358</td>\n",
       "      <td>10.0.3.3</td>\n",
       "      <td>10.0.1.1</td>\n",
       "      <td>TCP</td>\n",
       "      <td>103</td>\n",
       "      <td>0.017296000</td>\n",
       "      <td>0.000148</td>\n",
       "      <td>103</td>\n",
       "      <td>0</td>\n",
       "    </tr>\n",
       "    <tr>\n",
       "      <th>4</th>\n",
       "      <td>694.844.700</td>\n",
       "      <td>10.0.1.1</td>\n",
       "      <td>10.0.3.3</td>\n",
       "      <td>TCP</td>\n",
       "      <td>66</td>\n",
       "      <td>0.027638000</td>\n",
       "      <td>0.010342</td>\n",
       "      <td>66</td>\n",
       "      <td>0</td>\n",
       "    </tr>\n",
       "  </tbody>\n",
       "</table>\n",
       "</div>"
      ],
      "text/plain": [
       "          time       src       dst protocol  length     time_tcp  \\\n",
       "0  694.817.062  10.0.3.3  10.0.1.1      TCP      74  0.000000000   \n",
       "1  694.834.167  10.0.1.1  10.0.3.3      TCP      74  0.017105000   \n",
       "2  694.834.210  10.0.3.3  10.0.1.1      TCP      66  0.017148000   \n",
       "3  694.834.358  10.0.3.3  10.0.1.1      TCP     103  0.017296000   \n",
       "4  694.844.700  10.0.1.1  10.0.3.3      TCP      66  0.027638000   \n",
       "\n",
       "  time_previous  frame_length  label  \n",
       "0             0            74      0  \n",
       "1      0.017105            74      0  \n",
       "2       4.3e-05            66      0  \n",
       "3      0.000148           103      0  \n",
       "4      0.010342            66      0  "
      ]
     },
     "execution_count": 66,
     "metadata": {},
     "output_type": "execute_result"
    }
   ],
   "source": [
    "df_normal = pd.read_csv('../Dataset/Simulasi/Hasil_Sniff_Normal.csv',sep=';')\n",
    "df_normal.head(5)"
   ]
  },
  {
   "cell_type": "code",
   "execution_count": 67,
   "metadata": {},
   "outputs": [
    {
     "data": {
      "text/html": [
       "<div>\n",
       "<style scoped>\n",
       "    .dataframe tbody tr th:only-of-type {\n",
       "        vertical-align: middle;\n",
       "    }\n",
       "\n",
       "    .dataframe tbody tr th {\n",
       "        vertical-align: top;\n",
       "    }\n",
       "\n",
       "    .dataframe thead th {\n",
       "        text-align: right;\n",
       "    }\n",
       "</style>\n",
       "<table border=\"1\" class=\"dataframe\">\n",
       "  <thead>\n",
       "    <tr style=\"text-align: right;\">\n",
       "      <th></th>\n",
       "      <th>time</th>\n",
       "      <th>src</th>\n",
       "      <th>dst</th>\n",
       "      <th>protocol</th>\n",
       "      <th>length</th>\n",
       "      <th>time_tcp</th>\n",
       "      <th>time_previous</th>\n",
       "      <th>frame_length</th>\n",
       "      <th>label</th>\n",
       "    </tr>\n",
       "  </thead>\n",
       "  <tbody>\n",
       "    <tr>\n",
       "      <th>0</th>\n",
       "      <td>0.000000</td>\n",
       "      <td>fe80::4811:aeff:fee3:c505</td>\n",
       "      <td>ff02::fb</td>\n",
       "      <td>MDNS</td>\n",
       "      <td>107</td>\n",
       "      <td>0</td>\n",
       "      <td>0</td>\n",
       "      <td>107</td>\n",
       "      <td>0</td>\n",
       "    </tr>\n",
       "    <tr>\n",
       "      <th>1</th>\n",
       "      <td>8.004.892</td>\n",
       "      <td>fe80::4811:aeff:fee3:c505</td>\n",
       "      <td>ff02::fb</td>\n",
       "      <td>MDNS</td>\n",
       "      <td>107</td>\n",
       "      <td>0</td>\n",
       "      <td>0</td>\n",
       "      <td>107</td>\n",
       "      <td>0</td>\n",
       "    </tr>\n",
       "    <tr>\n",
       "      <th>2</th>\n",
       "      <td>24.021.491</td>\n",
       "      <td>fe80::4811:aeff:fee3:c505</td>\n",
       "      <td>ff02::fb</td>\n",
       "      <td>MDNS</td>\n",
       "      <td>107</td>\n",
       "      <td>0</td>\n",
       "      <td>0</td>\n",
       "      <td>107</td>\n",
       "      <td>0</td>\n",
       "    </tr>\n",
       "    <tr>\n",
       "      <th>3</th>\n",
       "      <td>56.032.198</td>\n",
       "      <td>fe80::4811:aeff:fee3:c505</td>\n",
       "      <td>ff02::fb</td>\n",
       "      <td>MDNS</td>\n",
       "      <td>107</td>\n",
       "      <td>0</td>\n",
       "      <td>0</td>\n",
       "      <td>107</td>\n",
       "      <td>0</td>\n",
       "    </tr>\n",
       "    <tr>\n",
       "      <th>4</th>\n",
       "      <td>120.033.125</td>\n",
       "      <td>fe80::4811:aeff:fee3:c505</td>\n",
       "      <td>ff02::fb</td>\n",
       "      <td>MDNS</td>\n",
       "      <td>107</td>\n",
       "      <td>0</td>\n",
       "      <td>0</td>\n",
       "      <td>107</td>\n",
       "      <td>0</td>\n",
       "    </tr>\n",
       "  </tbody>\n",
       "</table>\n",
       "</div>"
      ],
      "text/plain": [
       "          time                        src       dst protocol  length  \\\n",
       "0     0.000000  fe80::4811:aeff:fee3:c505  ff02::fb     MDNS     107   \n",
       "1    8.004.892  fe80::4811:aeff:fee3:c505  ff02::fb     MDNS     107   \n",
       "2   24.021.491  fe80::4811:aeff:fee3:c505  ff02::fb     MDNS     107   \n",
       "3   56.032.198  fe80::4811:aeff:fee3:c505  ff02::fb     MDNS     107   \n",
       "4  120.033.125  fe80::4811:aeff:fee3:c505  ff02::fb     MDNS     107   \n",
       "\n",
       "   time_tcp  time_previous  frame_length  label  \n",
       "0         0              0           107      0  \n",
       "1         0              0           107      0  \n",
       "2         0              0           107      0  \n",
       "3         0              0           107      0  \n",
       "4         0              0           107      0  "
      ]
     },
     "execution_count": 67,
     "metadata": {},
     "output_type": "execute_result"
    }
   ],
   "source": [
    "df_udp = pd.read_csv('../Dataset/Simulasi/udp_icmp_data.csv',sep=';')\n",
    "df_udp.head(5)"
   ]
  },
  {
   "cell_type": "code",
   "execution_count": 68,
   "metadata": {},
   "outputs": [
    {
     "name": "stderr",
     "output_type": "stream",
     "text": [
      "c:\\Users\\user\\AppData\\Local\\Programs\\Python\\Python37\\lib\\site-packages\\IPython\\core\\interactiveshell.py:3063: DtypeWarning: Columns (0) have mixed types.Specify dtype option on import or set low_memory=False.\n",
      "  interactivity=interactivity, compiler=compiler, result=result)\n"
     ]
    },
    {
     "data": {
      "text/html": [
       "<div>\n",
       "<style scoped>\n",
       "    .dataframe tbody tr th:only-of-type {\n",
       "        vertical-align: middle;\n",
       "    }\n",
       "\n",
       "    .dataframe tbody tr th {\n",
       "        vertical-align: top;\n",
       "    }\n",
       "\n",
       "    .dataframe thead th {\n",
       "        text-align: right;\n",
       "    }\n",
       "</style>\n",
       "<table border=\"1\" class=\"dataframe\">\n",
       "  <thead>\n",
       "    <tr style=\"text-align: right;\">\n",
       "      <th></th>\n",
       "      <th>time</th>\n",
       "      <th>src</th>\n",
       "      <th>dst</th>\n",
       "      <th>protocol</th>\n",
       "      <th>length</th>\n",
       "      <th>time_tcp</th>\n",
       "      <th>time_previous</th>\n",
       "      <th>frame_length</th>\n",
       "      <th>label</th>\n",
       "    </tr>\n",
       "  </thead>\n",
       "  <tbody>\n",
       "    <tr>\n",
       "      <th>0</th>\n",
       "      <td>0</td>\n",
       "      <td>29.29.29.0</td>\n",
       "      <td>10.0.2.2</td>\n",
       "      <td>UDP</td>\n",
       "      <td>42</td>\n",
       "      <td>0</td>\n",
       "      <td>0</td>\n",
       "      <td>42</td>\n",
       "      <td>1</td>\n",
       "    </tr>\n",
       "    <tr>\n",
       "      <th>1</th>\n",
       "      <td>5e-06</td>\n",
       "      <td>29.29.29.0</td>\n",
       "      <td>10.0.2.2</td>\n",
       "      <td>UDP</td>\n",
       "      <td>42</td>\n",
       "      <td>0</td>\n",
       "      <td>0</td>\n",
       "      <td>42</td>\n",
       "      <td>1</td>\n",
       "    </tr>\n",
       "    <tr>\n",
       "      <th>2</th>\n",
       "      <td>1e-05</td>\n",
       "      <td>29.29.29.0</td>\n",
       "      <td>10.0.2.2</td>\n",
       "      <td>UDP</td>\n",
       "      <td>42</td>\n",
       "      <td>0</td>\n",
       "      <td>0</td>\n",
       "      <td>42</td>\n",
       "      <td>1</td>\n",
       "    </tr>\n",
       "    <tr>\n",
       "      <th>3</th>\n",
       "      <td>1.4e-05</td>\n",
       "      <td>29.29.29.0</td>\n",
       "      <td>10.0.2.2</td>\n",
       "      <td>UDP</td>\n",
       "      <td>42</td>\n",
       "      <td>0</td>\n",
       "      <td>0</td>\n",
       "      <td>42</td>\n",
       "      <td>1</td>\n",
       "    </tr>\n",
       "    <tr>\n",
       "      <th>4</th>\n",
       "      <td>1.8e-05</td>\n",
       "      <td>29.29.29.0</td>\n",
       "      <td>10.0.2.2</td>\n",
       "      <td>UDP</td>\n",
       "      <td>42</td>\n",
       "      <td>0</td>\n",
       "      <td>0</td>\n",
       "      <td>42</td>\n",
       "      <td>1</td>\n",
       "    </tr>\n",
       "  </tbody>\n",
       "</table>\n",
       "</div>"
      ],
      "text/plain": [
       "      time         src       dst protocol  length  time_tcp  time_previous  \\\n",
       "0        0  29.29.29.0  10.0.2.2      UDP      42         0              0   \n",
       "1    5e-06  29.29.29.0  10.0.2.2      UDP      42         0              0   \n",
       "2    1e-05  29.29.29.0  10.0.2.2      UDP      42         0              0   \n",
       "3  1.4e-05  29.29.29.0  10.0.2.2      UDP      42         0              0   \n",
       "4  1.8e-05  29.29.29.0  10.0.2.2      UDP      42         0              0   \n",
       "\n",
       "   frame_length  label  \n",
       "0            42      1  \n",
       "1            42      1  \n",
       "2            42      1  \n",
       "3            42      1  \n",
       "4            42      1  "
      ]
     },
     "execution_count": 68,
     "metadata": {},
     "output_type": "execute_result"
    }
   ],
   "source": [
    "df_attack =  pd.read_csv('../Dataset/Simulasi/udp_attack_dataset.csv',sep=';')\n",
    "df_attack.head(5)"
   ]
  },
  {
   "cell_type": "code",
   "execution_count": 69,
   "metadata": {},
   "outputs": [
    {
     "data": {
      "text/html": [
       "<div>\n",
       "<style scoped>\n",
       "    .dataframe tbody tr th:only-of-type {\n",
       "        vertical-align: middle;\n",
       "    }\n",
       "\n",
       "    .dataframe tbody tr th {\n",
       "        vertical-align: top;\n",
       "    }\n",
       "\n",
       "    .dataframe thead th {\n",
       "        text-align: right;\n",
       "    }\n",
       "</style>\n",
       "<table border=\"1\" class=\"dataframe\">\n",
       "  <thead>\n",
       "    <tr style=\"text-align: right;\">\n",
       "      <th></th>\n",
       "      <th>time</th>\n",
       "      <th>src</th>\n",
       "      <th>dst</th>\n",
       "      <th>protocol</th>\n",
       "      <th>length</th>\n",
       "      <th>time_tcp</th>\n",
       "      <th>time_previous</th>\n",
       "      <th>frame_length</th>\n",
       "      <th>label</th>\n",
       "    </tr>\n",
       "  </thead>\n",
       "  <tbody>\n",
       "    <tr>\n",
       "      <th>0</th>\n",
       "      <td>694.817.062</td>\n",
       "      <td>10.0.3.3</td>\n",
       "      <td>10.0.1.1</td>\n",
       "      <td>TCP</td>\n",
       "      <td>74</td>\n",
       "      <td>0.000000000</td>\n",
       "      <td>0</td>\n",
       "      <td>74</td>\n",
       "      <td>0</td>\n",
       "    </tr>\n",
       "    <tr>\n",
       "      <th>1</th>\n",
       "      <td>694.834.167</td>\n",
       "      <td>10.0.1.1</td>\n",
       "      <td>10.0.3.3</td>\n",
       "      <td>TCP</td>\n",
       "      <td>74</td>\n",
       "      <td>0.017105000</td>\n",
       "      <td>0.017105</td>\n",
       "      <td>74</td>\n",
       "      <td>0</td>\n",
       "    </tr>\n",
       "    <tr>\n",
       "      <th>2</th>\n",
       "      <td>694.834.210</td>\n",
       "      <td>10.0.3.3</td>\n",
       "      <td>10.0.1.1</td>\n",
       "      <td>TCP</td>\n",
       "      <td>66</td>\n",
       "      <td>0.017148000</td>\n",
       "      <td>4.3e-05</td>\n",
       "      <td>66</td>\n",
       "      <td>0</td>\n",
       "    </tr>\n",
       "    <tr>\n",
       "      <th>3</th>\n",
       "      <td>694.834.358</td>\n",
       "      <td>10.0.3.3</td>\n",
       "      <td>10.0.1.1</td>\n",
       "      <td>TCP</td>\n",
       "      <td>103</td>\n",
       "      <td>0.017296000</td>\n",
       "      <td>0.000148</td>\n",
       "      <td>103</td>\n",
       "      <td>0</td>\n",
       "    </tr>\n",
       "    <tr>\n",
       "      <th>4</th>\n",
       "      <td>694.844.700</td>\n",
       "      <td>10.0.1.1</td>\n",
       "      <td>10.0.3.3</td>\n",
       "      <td>TCP</td>\n",
       "      <td>66</td>\n",
       "      <td>0.027638000</td>\n",
       "      <td>0.010342</td>\n",
       "      <td>66</td>\n",
       "      <td>0</td>\n",
       "    </tr>\n",
       "  </tbody>\n",
       "</table>\n",
       "</div>"
      ],
      "text/plain": [
       "          time       src       dst protocol  length     time_tcp  \\\n",
       "0  694.817.062  10.0.3.3  10.0.1.1      TCP      74  0.000000000   \n",
       "1  694.834.167  10.0.1.1  10.0.3.3      TCP      74  0.017105000   \n",
       "2  694.834.210  10.0.3.3  10.0.1.1      TCP      66  0.017148000   \n",
       "3  694.834.358  10.0.3.3  10.0.1.1      TCP     103  0.017296000   \n",
       "4  694.844.700  10.0.1.1  10.0.3.3      TCP      66  0.027638000   \n",
       "\n",
       "  time_previous  frame_length  label  \n",
       "0             0            74      0  \n",
       "1      0.017105            74      0  \n",
       "2       4.3e-05            66      0  \n",
       "3      0.000148           103      0  \n",
       "4      0.010342            66      0  "
      ]
     },
     "execution_count": 69,
     "metadata": {},
     "output_type": "execute_result"
    }
   ],
   "source": [
    "df_train = df_normal.append(df_udp)\n",
    "df_train = df_train.append(df_attack)\n",
    "df_train.head(5)"
   ]
  },
  {
   "cell_type": "code",
   "execution_count": 70,
   "metadata": {},
   "outputs": [
    {
     "data": {
      "text/plain": [
       "time             object\n",
       "src              object\n",
       "dst              object\n",
       "protocol         object\n",
       "length            int64\n",
       "time_tcp         object\n",
       "time_previous    object\n",
       "frame_length      int64\n",
       "label             int64\n",
       "dtype: object"
      ]
     },
     "execution_count": 70,
     "metadata": {},
     "output_type": "execute_result"
    }
   ],
   "source": [
    "df_train.dtypes"
   ]
  },
  {
   "cell_type": "code",
   "execution_count": 71,
   "metadata": {},
   "outputs": [
    {
     "data": {
      "text/plain": [
       "array(['10.0.3.3', '10.0.1.1', 'fe80::3808:c8ff:fe4b:16a8',\n",
       "       'fe80::4811:aeff:fee3:c505', '10.0.2.2', '29.29.29.0'],\n",
       "      dtype=object)"
      ]
     },
     "execution_count": 71,
     "metadata": {},
     "output_type": "execute_result"
    }
   ],
   "source": [
    "df_train.src.unique()"
   ]
  },
  {
   "cell_type": "code",
   "execution_count": 72,
   "metadata": {},
   "outputs": [
    {
     "data": {
      "text/plain": [
       "array(['10.0.1.1', '10.0.3.3', 'ff02::2', 'ff02::fb', '10.0.2.2'],\n",
       "      dtype=object)"
      ]
     },
     "execution_count": 72,
     "metadata": {},
     "output_type": "execute_result"
    }
   ],
   "source": [
    "df_train.dst.unique()"
   ]
  },
  {
   "cell_type": "code",
   "execution_count": 73,
   "metadata": {},
   "outputs": [
    {
     "data": {
      "text/plain": [
       "array([3, 1, 2, 4, 0])"
      ]
     },
     "execution_count": 73,
     "metadata": {},
     "output_type": "execute_result"
    }
   ],
   "source": [
    "le = LabelEncoder()\n",
    "le.fit(df_train.protocol)\n",
    "df_train['protocol'] = le.transform(df_train['protocol'])\n",
    "df_train.protocol.unique()"
   ]
  },
  {
   "cell_type": "code",
   "execution_count": 74,
   "metadata": {},
   "outputs": [
    {
     "data": {
      "text/plain": [
       "array([2, 0, 4, 5, 1, 3])"
      ]
     },
     "execution_count": 74,
     "metadata": {},
     "output_type": "execute_result"
    }
   ],
   "source": [
    "le.fit(df_train.src)\n",
    "df_train['src'] = le.transform(df_train['src'])\n",
    "df_train.src.unique()"
   ]
  },
  {
   "cell_type": "code",
   "execution_count": 75,
   "metadata": {},
   "outputs": [
    {
     "data": {
      "text/plain": [
       "array([0, 2, 3, 4, 1])"
      ]
     },
     "execution_count": 75,
     "metadata": {},
     "output_type": "execute_result"
    }
   ],
   "source": [
    "le.fit(df_train.dst)\n",
    "df_train['dst'] = le.transform(df_train['dst'])\n",
    "df_train.dst.unique()"
   ]
  },
  {
   "cell_type": "code",
   "execution_count": 76,
   "metadata": {},
   "outputs": [],
   "source": [
    "x = df_train[['src','dst','protocol','length']]\n",
    "y = df_train[df_train.columns[-1:]]"
   ]
  },
  {
   "cell_type": "code",
   "execution_count": 77,
   "metadata": {},
   "outputs": [
    {
     "data": {
      "text/plain": [
       "(1512069, 4, 1)"
      ]
     },
     "execution_count": 77,
     "metadata": {},
     "output_type": "execute_result"
    }
   ],
   "source": [
    "x_train,x_test,y_train,y_test = train_test_split(x,y,test_size=0.30,random_state=10)\n",
    "\n",
    "x_train_awal = x_train\n",
    "x_test_awal = x_test\n",
    "y_train_awal = y_train\n",
    "y_test_awal = y_test\n",
    "\n",
    "x_train = x_train.to_numpy()\n",
    "x_test = x_test.to_numpy()\n",
    "x_train = np.reshape(x_train, (x_train.shape[0], x_train.shape[1], 1))\n",
    "x_test = np.reshape(x_test, (x_test.shape[0], x_test.shape[1], 1))\n",
    "x_train.shape"
   ]
  },
  {
   "cell_type": "code",
   "execution_count": 78,
   "metadata": {},
   "outputs": [],
   "source": [
    "x_train = np.asarray(x_train).astype(np.float32)"
   ]
  },
  {
   "cell_type": "code",
   "execution_count": 79,
   "metadata": {},
   "outputs": [
    {
     "name": "stdout",
     "output_type": "stream",
     "text": [
      "Epoch 1/20\n",
      "47253/47253 [==============================] - 600s 13ms/step - loss: 0.0043 - accuracy: 0.9989 - mean_squared_error: 0.4981 - mean_absolute_error: 0.500012s - loss: 0.0043 - accuracy: 0.9988 - mean_squared_error: 0.4981 - m - - ETA: 9s - loss: 0.0043 - accuracy: 0.9988 - mean_squared_error: 0. - ETA: 3s - loss: 0.0043 - accuracy: 0.9988 - mean_squa - ETA: 2s - loss: 0.0043 - accuracy: 0.\n",
      "Epoch 2/20\n",
      "47253/47253 [==============================] - 498s 11ms/step - loss: 2.0081e-04 - accuracy: 1.0000 - mean_squared_error: 0.5000 - mean_absolute_error: 0.5000\n",
      "Epoch 3/20\n",
      "47253/47253 [==============================] - 524s 11ms/step - loss: 1.0603e-04 - accuracy: 1.0000 - mean_squared_error: 0.5000 - mean_absolute_error: 0.500011s - loss: 1.0633e-04 - accuracy: 1.0000 - mean_squared_error: 0.5000 - mean_absolu - ETA: 11s - loss: 1.0632e-04 - accuracy: 1. - ETA: 9s - loss: 1.0626e-04 - accuracy: 1.0000 - mean_squared_error: 0.5000 - - ETA: 8s - loss: 1.0622e-04 - accuracy: 1.0000 - mean_squared_error: 0 - ETA: 7s - loss: 1.0615e-04 - accuracy: 1.0000 - mean_squared_error: 0.5000 - m - ETA: 5s - loss: 1.0611e-04 - accuracy: 1.0000 - mean_squared_error: 0.5000 - mean_absolute_e - ETA: 5\n",
      "Epoch 4/20\n",
      "47253/47253 [==============================] - 581s 12ms/step - loss: 5.9788e-05 - accuracy: 1.0000 - mean_squared_error: 0.5000 - mean_absolute_error: 0.50004s - loss: 5.9801e-05 - accuracy: 1.0000 - mean_squared_error: 0.5000  - ETA: 3s - loss: 5.9798e-05 - accuracy: 1.0000 - mean_squared_ - ETA: 1s - loss: 5.9793e-05 - accuracy: 1.0000 - mean_squared_error: 0.50\n",
      "Epoch 5/20\n",
      "47253/47253 [==============================] - 570s 12ms/step - loss: 1.5567e-05 - accuracy: 1.0000 - mean_squared_error: 0.5000 - mean_absolute_error: 0.5000\n",
      "Epoch 6/20\n",
      "47253/47253 [==============================] - 516s 11ms/step - loss: 2.1514e-05 - accuracy: 1.0000 - mean_squared_error: 0.5000 - mean_absolute_error: 0.50008 - ETA: 3s - loss: 2.1422e-05 - accuracy: 1.0000 - mean_s\n",
      "Epoch 7/20\n",
      "47253/47253 [==============================] - 544s 12ms/step - loss: 2.5389e-05 - accuracy: 1.0000 - mean_squared_error: 0.5000 - mean_absolute_error: 0.500010s - loss: 2.\n",
      "Epoch 8/20\n",
      "47253/47253 [==============================] - 544s 12ms/step - loss: 1.7889e-06 - accuracy: 1.0000 - mean_squared_error: 0.5000 - mean_absolute_error: 0.50009s - loss: 1.6476e-06 - accuracy: 1.0000 - ETA: 6s - loss: 1.6909e-06 - accuracy: 1.0000 - mean_squared_error: 0.5000 - mean_abs - ETA: 5s - loss\n",
      "Epoch 9/20\n",
      "47253/47253 [==============================] - 525s 11ms/step - loss: 1.6598e-08 - accuracy: 1.0000 - mean_squared_error: 0.5000 - mean_absolute_error: 0.5000\n",
      "Epoch 10/20\n",
      "47253/47253 [==============================] - 546s 12ms/step - loss: 4.1600e-05 - accuracy: 1.0000 - mean_squared_error: 0.5000 - mean_absolute_error: 0.5000\n",
      "Epoch 11/20\n",
      "47253/47253 [==============================] - 370s 8ms/step - loss: 5.4507e-12 - accuracy: 1.0000 - mean_squared_error: 0.5000 - mean_absolute_error: 0.5000\n",
      "Epoch 12/20\n",
      "47253/47253 [==============================] - 618s 13ms/step - loss: 4.9812e-07 - accuracy: 1.0000 - mean_squared_error: 0.5000 - mean_absolute_error: 0.5000: 6:12 - loss: 0.0000e+00 - accuracy: - ETA: 6:09 - loss: 3.0900e-13 - accuracy: 1.0000 - mean_squared_er - ETA: 6:10 - loss: 3.9787e-13 - accuracy: 1.0000 - mean_squared_error: 0.5000 - mean_absolute_error: 0.5 - ETA: 6:10 - loss: 4.0461e-13 - accuracy: - ETA: 6:09 - loss: 5.4946e-13 - accura - ETA: 6:08 - loss: 6.9540e-13 - accuracy: 1.0000 - mean_squar - ETA: 6:13 - loss: 1.2391e-12 - accuracy: 1.0000 - mean_squared_error: 0.5000 - mean_absolute_e - ETA: 6:13 - loss: 1.2549e-12 - accuracy: 1.0000 - mean_squared_error: 0.5000 - mean_absol - ETA: 6:13 - loss: 1.2765e-12 - accuracy: 1.0000 - mean_squared_e - ETA: 6:13 - loss: 1.3264e-12 - accuracy: 1.0000 - mean_squared_erro - ETA: 6:15 - loss: - ETA: 6:15 - loss: 1.4639e-12 - accuracy: 1.0 - ETA: 6:18 - loss: 1.6146e-12 - accuracy: 1.0000 - mean_squared_error: 0.500 - ETA: 6:18 - loss: 1.6403e-12 - accurac - ETA: 6:17 - loss: 1.7020e-12 - accuracy: 1.0000 -  - ETA: 6:17 - loss: 1.7481e-12 - - ETA: 6:21 - loss: 2.1188e-12 - accuracy: 1.0000 - mean_squared_error: 0. - ETA: 6:21 - loss: 2.1357e-12 - accuracy: 1.0000 - mean_squared_error: 0.5000 - mean_absolu - ETA: 6:21 - loss: 2.1436e-12 - accuracy: 1.0000 - mean_squared_error: 0.5000 - mean_abso - ETA: 6:21 - loss: 2.1511e-12 - accuracy: 1.0000 - me - ETA: 6:21 - l - ETA: 6:22 - loss: 2.2161e-12 - accuracy: 1.0000 - mean_squared_error: 0.5000 - me - ETA: 6:21 - loss: 2.2785e-12 - accuracy: 1.0000 - mean_squared_error: 0.5000 - \n",
      "Epoch 13/20\n",
      "47253/47253 [==============================] - 583s 12ms/step - loss: 1.9713e-09 - accuracy: 1.0000 - mean_squared_error: 0.5000 - mean_absolute_error: 0.5000: 6:08 - l - ETA: 6:05 - loss: 3.7155e-09 - accuracy: 1.0000 - mean_squared_error: 0.5000 - mea - ETA: 6:04 - loss: 3.7075e-09 - accuracy: 1.0000 - me - ETA - ETA: 2:12 - loss: 2.3207e-09 - accuracy: 1.0000 - mean_squared_error: 0.5000 - mean_ - ETA: 19s - loss: 2.0141e\n",
      "Epoch 14/20\n",
      "47253/47253 [==============================] - 546s 12ms/step - loss: 2.8738e-12 - accuracy: 1.0000 - mean_squared_error: 0.5000 - mean_absolute_error: 0.5000: 6:06 - loss: 5.4806e-12 - accuracy: 1.0000 - mean_squared - ETA: 6:06 - loss: 5.4553e-12 - accuracy: 1.0000 - mean_squared_error: 0.5000 - mean_absolute_error:  - ETA: 6:06 - loss: 5.4517e-12 - accuracy: 1.0000 - mean_squared_error: 0.5000 - mean - ETA: 6:06 - loss: 5.4386e-12 - accura - ETA: 1:31 - loss: 3.1706e-12 - accuracy: 1.0000 - mean_squared_error: 0.5000 - mean_absolute_erro - ETA: 1:30 - loss: 3.1689e-12 - accuracy: 1.0000 - mean_squared_error: 0.5000 - mean_absolut - ETA: 1:30 - loss: 3.1662e-12 - accuracy: 1.0000 - mean_squared_error: 0.5000 - mean_a - ETA: 1:29 - loss: 3.1630e-12 - accuracy: 1.0000 - me - ETA: 1:26 - loss: 3.1537e-12 - accuracy: 1.0000 - mean_squared_error: 0.5000 - mean_absolute_error - ETA: 1:26 - loss: 3.1522e-12 - accuracy: 1.0000 - mea - ETA: 1:19 - loss: 3.1236e-12 - accuracy: 1.0000 - mean_squared_error: 0.5000 - mean_absolute_error: 0 - ETA: 1:18 - loss: 3.1228e-12 - accuracy:  - ETA: 1:16 - los\n",
      "Epoch 15/20\n",
      "47253/47253 [==============================] - 411s 9ms/step - loss: 8.8616e-11 - accuracy: 1.0000 - mean_squared_error: 0.5000 - mean_absolute_error: 0.5000\n",
      "Epoch 16/20\n",
      "47253/47253 [==============================] - 688s 15ms/step - loss: 6.6762e-15 - accuracy: 1.0000 - mean_squared_error: 0.5000 - mean_absolute_error: 0.5000\n",
      "Epoch 17/20\n",
      "47253/47253 [==============================] - 544s 12ms/step - loss: 0.0000e+00 - accuracy: 1.0000 - mean_squared_error: 0.5000 - mean_absolute_error: 0.50004s - loss: 0.0000e+00 - accuracy: 1.0000 - mean_squared_error: 0.5000 - mean_absolute_error: 0 - ETA: 4s - loss: 0.0000e+0\n",
      "Epoch 18/20\n",
      "47253/47253 [==============================] - 603s 13ms/step - loss: 3.2299e-13 - accuracy: 1.0000 - mean_squared_error: 0.5000 - mean_absolute_error: 0.5000: 2:06 - loss: 3.9020e-13 - accuracy: 1.0000 - mean_squared_error: 0.5000 - mean_absolute_er - ETA: 2:05 - loss: 3.8977e-13 - accuracy: 1.0000 - mean_squared_error: 0.5000 - mean_absolute_error: 0 - ETA: 2:05 - loss: 3.8959e-13 - accuracy: 1.0000 - mean_squared_erro - ETA: 2:03 - loss: 3.8817e-13 - accuracy: 1.0000 - mean_squared_error: 0.5000 - mean_absolute_erro - ETA: 2:02 - loss: 3.8789e-13 - accuracy:\n",
      "Epoch 19/20\n",
      "47253/47253 [==============================] - 594s 13ms/step - loss: 8.1907e-14 - accuracy: 1.0000 - mean_squared_error: 0.5000 - mean_absolute_error: 0.5000\n",
      "Epoch 20/20\n",
      "47253/47253 [==============================] - 527s 11ms/step - loss: 0.0000e+00 - accuracy: 1.0000 - mean_squared_error: 0.5000 - mean_absolute_error: 0.5000\n"
     ]
    },
    {
     "data": {
      "text/plain": [
       "<tensorflow.python.keras.callbacks.History at 0x1e1967c1d88>"
      ]
     },
     "execution_count": 79,
     "metadata": {},
     "output_type": "execute_result"
    }
   ],
   "source": [
    "model_full = Sequential()\n",
    "model_full.add(LSTM(100, input_shape=(x_train.shape[1],1), return_sequences=True))\n",
    "model_full.add(Dropout(0.5))\n",
    "model_full.add(LSTM(32, return_sequences=False))\n",
    "model_full.add(Dense(10, activation='relu'))\n",
    "model_full.add(Dense(2, activation='softmax'))\n",
    "\n",
    "model_full.compile(optimizer=\"adam\",loss=\"sparse_categorical_crossentropy\", metrics=['accuracy','MeanSquaredError', 'MeanAbsoluteError'])\n",
    "model_full.fit(x_train, y_train, epochs=20)\n"
   ]
  },
  {
   "cell_type": "code",
   "execution_count": 80,
   "metadata": {},
   "outputs": [],
   "source": [
    "def calculate_precision(TP, FP):\n",
    "    return TP/(TP+FP)\n",
    "\n",
    "\n",
    "def calculate_fnr(TP, FP, FN):\n",
    "    return FN/(TP+FP)"
   ]
  },
  {
   "cell_type": "code",
   "execution_count": 81,
   "metadata": {},
   "outputs": [
    {
     "data": {
      "text/plain": [
       "array([[0.05173271, 0.94826734],\n",
       "       [0.99361527, 0.00638468],\n",
       "       [0.05173271, 0.94826734],\n",
       "       ...,\n",
       "       [0.05173271, 0.94826734],\n",
       "       [0.05173271, 0.94826734],\n",
       "       [0.99361527, 0.00638468]], dtype=float32)"
      ]
     },
     "execution_count": 81,
     "metadata": {},
     "output_type": "execute_result"
    }
   ],
   "source": [
    "y_pred_train = lstm_model.predict(x_train)\n",
    "y_pred_train"
   ]
  },
  {
   "cell_type": "code",
   "execution_count": 82,
   "metadata": {},
   "outputs": [
    {
     "data": {
      "text/plain": [
       "[0.051732708,\n",
       " 0.99361527,\n",
       " 0.051732708,\n",
       " 0.99361527,\n",
       " 0.99361527,\n",
       " 0.051732708,\n",
       " 0.99361527,\n",
       " 0.051732708,\n",
       " 0.99361527,\n",
       " 0.051732708]"
      ]
     },
     "execution_count": 82,
     "metadata": {},
     "output_type": "execute_result"
    }
   ],
   "source": [
    "y_pred_train_1 = [x[0] for x in y_pred_train]\n",
    "y_pred_train_2 = [x[1] for x in y_pred_train]\n",
    "\n",
    "y_pred_train_1[:10]"
   ]
  },
  {
   "cell_type": "code",
   "execution_count": 83,
   "metadata": {},
   "outputs": [
    {
     "name": "stderr",
     "output_type": "stream",
     "text": [
      "c:\\Users\\user\\AppData\\Local\\Programs\\Python\\Python37\\lib\\site-packages\\ipykernel_launcher.py:2: SettingWithCopyWarning: \n",
      "A value is trying to be set on a copy of a slice from a DataFrame.\n",
      "Try using .loc[row_indexer,col_indexer] = value instead\n",
      "\n",
      "See the caveats in the documentation: https://pandas.pydata.org/pandas-docs/stable/user_guide/indexing.html#returning-a-view-versus-a-copy\n",
      "  \n",
      "c:\\Users\\user\\AppData\\Local\\Programs\\Python\\Python37\\lib\\site-packages\\ipykernel_launcher.py:3: SettingWithCopyWarning: \n",
      "A value is trying to be set on a copy of a slice from a DataFrame.\n",
      "Try using .loc[row_indexer,col_indexer] = value instead\n",
      "\n",
      "See the caveats in the documentation: https://pandas.pydata.org/pandas-docs/stable/user_guide/indexing.html#returning-a-view-versus-a-copy\n",
      "  This is separate from the ipykernel package so we can avoid doing imports until\n",
      "c:\\Users\\user\\AppData\\Local\\Programs\\Python\\Python37\\lib\\site-packages\\ipykernel_launcher.py:4: SettingWithCopyWarning: \n",
      "A value is trying to be set on a copy of a slice from a DataFrame.\n",
      "Try using .loc[row_indexer,col_indexer] = value instead\n",
      "\n",
      "See the caveats in the documentation: https://pandas.pydata.org/pandas-docs/stable/user_guide/indexing.html#returning-a-view-versus-a-copy\n",
      "  after removing the cwd from sys.path.\n"
     ]
    },
    {
     "data": {
      "text/html": [
       "<div>\n",
       "<style scoped>\n",
       "    .dataframe tbody tr th:only-of-type {\n",
       "        vertical-align: middle;\n",
       "    }\n",
       "\n",
       "    .dataframe tbody tr th {\n",
       "        vertical-align: top;\n",
       "    }\n",
       "\n",
       "    .dataframe thead th {\n",
       "        text-align: right;\n",
       "    }\n",
       "</style>\n",
       "<table border=\"1\" class=\"dataframe\">\n",
       "  <thead>\n",
       "    <tr style=\"text-align: right;\">\n",
       "      <th></th>\n",
       "      <th>src</th>\n",
       "      <th>dst</th>\n",
       "      <th>protocol</th>\n",
       "      <th>length</th>\n",
       "      <th>lstm_result_1</th>\n",
       "      <th>lstm_result_2</th>\n",
       "      <th>label</th>\n",
       "    </tr>\n",
       "  </thead>\n",
       "  <tbody>\n",
       "    <tr>\n",
       "      <th>85493</th>\n",
       "      <td>3</td>\n",
       "      <td>1</td>\n",
       "      <td>4</td>\n",
       "      <td>42</td>\n",
       "      <td>0.051733</td>\n",
       "      <td>0.948267</td>\n",
       "      <td>1</td>\n",
       "    </tr>\n",
       "    <tr>\n",
       "      <th>78093</th>\n",
       "      <td>2</td>\n",
       "      <td>0</td>\n",
       "      <td>3</td>\n",
       "      <td>1514</td>\n",
       "      <td>0.993615</td>\n",
       "      <td>0.006385</td>\n",
       "      <td>0</td>\n",
       "    </tr>\n",
       "    <tr>\n",
       "      <th>651799</th>\n",
       "      <td>3</td>\n",
       "      <td>1</td>\n",
       "      <td>4</td>\n",
       "      <td>42</td>\n",
       "      <td>0.051733</td>\n",
       "      <td>0.948267</td>\n",
       "      <td>1</td>\n",
       "    </tr>\n",
       "    <tr>\n",
       "      <th>375523</th>\n",
       "      <td>2</td>\n",
       "      <td>0</td>\n",
       "      <td>3</td>\n",
       "      <td>1514</td>\n",
       "      <td>0.993615</td>\n",
       "      <td>0.006385</td>\n",
       "      <td>0</td>\n",
       "    </tr>\n",
       "    <tr>\n",
       "      <th>745608</th>\n",
       "      <td>2</td>\n",
       "      <td>0</td>\n",
       "      <td>3</td>\n",
       "      <td>1514</td>\n",
       "      <td>0.993615</td>\n",
       "      <td>0.006385</td>\n",
       "      <td>0</td>\n",
       "    </tr>\n",
       "    <tr>\n",
       "      <th>...</th>\n",
       "      <td>...</td>\n",
       "      <td>...</td>\n",
       "      <td>...</td>\n",
       "      <td>...</td>\n",
       "      <td>...</td>\n",
       "      <td>...</td>\n",
       "      <td>...</td>\n",
       "    </tr>\n",
       "    <tr>\n",
       "      <th>804336</th>\n",
       "      <td>0</td>\n",
       "      <td>2</td>\n",
       "      <td>3</td>\n",
       "      <td>66</td>\n",
       "      <td>0.063403</td>\n",
       "      <td>0.936597</td>\n",
       "      <td>0</td>\n",
       "    </tr>\n",
       "    <tr>\n",
       "      <th>236793</th>\n",
       "      <td>3</td>\n",
       "      <td>1</td>\n",
       "      <td>4</td>\n",
       "      <td>42</td>\n",
       "      <td>0.051733</td>\n",
       "      <td>0.948267</td>\n",
       "      <td>1</td>\n",
       "    </tr>\n",
       "    <tr>\n",
       "      <th>864757</th>\n",
       "      <td>3</td>\n",
       "      <td>1</td>\n",
       "      <td>4</td>\n",
       "      <td>42</td>\n",
       "      <td>0.051733</td>\n",
       "      <td>0.948267</td>\n",
       "      <td>1</td>\n",
       "    </tr>\n",
       "    <tr>\n",
       "      <th>818219</th>\n",
       "      <td>3</td>\n",
       "      <td>1</td>\n",
       "      <td>4</td>\n",
       "      <td>42</td>\n",
       "      <td>0.051733</td>\n",
       "      <td>0.948267</td>\n",
       "      <td>1</td>\n",
       "    </tr>\n",
       "    <tr>\n",
       "      <th>1048548</th>\n",
       "      <td>2</td>\n",
       "      <td>0</td>\n",
       "      <td>3</td>\n",
       "      <td>1514</td>\n",
       "      <td>0.993615</td>\n",
       "      <td>0.006385</td>\n",
       "      <td>0</td>\n",
       "    </tr>\n",
       "  </tbody>\n",
       "</table>\n",
       "<p>1512069 rows × 7 columns</p>\n",
       "</div>"
      ],
      "text/plain": [
       "         src  dst  protocol  length  lstm_result_1  lstm_result_2  label\n",
       "85493      3    1         4      42       0.051733       0.948267      1\n",
       "78093      2    0         3    1514       0.993615       0.006385      0\n",
       "651799     3    1         4      42       0.051733       0.948267      1\n",
       "375523     2    0         3    1514       0.993615       0.006385      0\n",
       "745608     2    0         3    1514       0.993615       0.006385      0\n",
       "...      ...  ...       ...     ...            ...            ...    ...\n",
       "804336     0    2         3      66       0.063403       0.936597      0\n",
       "236793     3    1         4      42       0.051733       0.948267      1\n",
       "864757     3    1         4      42       0.051733       0.948267      1\n",
       "818219     3    1         4      42       0.051733       0.948267      1\n",
       "1048548    2    0         3    1514       0.993615       0.006385      0\n",
       "\n",
       "[1512069 rows x 7 columns]"
      ]
     },
     "execution_count": 83,
     "metadata": {},
     "output_type": "execute_result"
    }
   ],
   "source": [
    "df_x_train = x_train_awal\n",
    "df_x_train['lstm_result_1'] = y_pred_train_1\n",
    "df_x_train['lstm_result_2'] = y_pred_train_2\n",
    "df_x_train['label'] = y_train\n",
    "df_x_train"
   ]
  },
  {
   "cell_type": "code",
   "execution_count": 84,
   "metadata": {},
   "outputs": [
    {
     "data": {
      "text/plain": [
       "array([[0.05173271, 0.94826734],\n",
       "       [0.05173271, 0.94826734],\n",
       "       [0.99361527, 0.00638468],\n",
       "       ...,\n",
       "       [0.99361527, 0.00638468],\n",
       "       [0.06340321, 0.9365968 ],\n",
       "       [0.99361527, 0.00638468]], dtype=float32)"
      ]
     },
     "execution_count": 84,
     "metadata": {},
     "output_type": "execute_result"
    }
   ],
   "source": [
    "y_test_pred = lstm_model.predict(x_test)\n",
    "y_test_pred_1 = [x[0] for x in y_test_pred]\n",
    "y_test_pred_2 = [x[1] for x in y_test_pred]\n",
    "\n",
    "y_test_pred"
   ]
  },
  {
   "cell_type": "code",
   "execution_count": 85,
   "metadata": {},
   "outputs": [
    {
     "name": "stderr",
     "output_type": "stream",
     "text": [
      "c:\\Users\\user\\AppData\\Local\\Programs\\Python\\Python37\\lib\\site-packages\\ipykernel_launcher.py:2: SettingWithCopyWarning: \n",
      "A value is trying to be set on a copy of a slice from a DataFrame.\n",
      "Try using .loc[row_indexer,col_indexer] = value instead\n",
      "\n",
      "See the caveats in the documentation: https://pandas.pydata.org/pandas-docs/stable/user_guide/indexing.html#returning-a-view-versus-a-copy\n",
      "  \n",
      "c:\\Users\\user\\AppData\\Local\\Programs\\Python\\Python37\\lib\\site-packages\\ipykernel_launcher.py:3: SettingWithCopyWarning: \n",
      "A value is trying to be set on a copy of a slice from a DataFrame.\n",
      "Try using .loc[row_indexer,col_indexer] = value instead\n",
      "\n",
      "See the caveats in the documentation: https://pandas.pydata.org/pandas-docs/stable/user_guide/indexing.html#returning-a-view-versus-a-copy\n",
      "  This is separate from the ipykernel package so we can avoid doing imports until\n",
      "c:\\Users\\user\\AppData\\Local\\Programs\\Python\\Python37\\lib\\site-packages\\ipykernel_launcher.py:4: SettingWithCopyWarning: \n",
      "A value is trying to be set on a copy of a slice from a DataFrame.\n",
      "Try using .loc[row_indexer,col_indexer] = value instead\n",
      "\n",
      "See the caveats in the documentation: https://pandas.pydata.org/pandas-docs/stable/user_guide/indexing.html#returning-a-view-versus-a-copy\n",
      "  after removing the cwd from sys.path.\n"
     ]
    },
    {
     "data": {
      "text/html": [
       "<div>\n",
       "<style scoped>\n",
       "    .dataframe tbody tr th:only-of-type {\n",
       "        vertical-align: middle;\n",
       "    }\n",
       "\n",
       "    .dataframe tbody tr th {\n",
       "        vertical-align: top;\n",
       "    }\n",
       "\n",
       "    .dataframe thead th {\n",
       "        text-align: right;\n",
       "    }\n",
       "</style>\n",
       "<table border=\"1\" class=\"dataframe\">\n",
       "  <thead>\n",
       "    <tr style=\"text-align: right;\">\n",
       "      <th></th>\n",
       "      <th>src</th>\n",
       "      <th>dst</th>\n",
       "      <th>protocol</th>\n",
       "      <th>length</th>\n",
       "      <th>lstm_result_1</th>\n",
       "      <th>lstm_result_2</th>\n",
       "      <th>label</th>\n",
       "    </tr>\n",
       "  </thead>\n",
       "  <tbody>\n",
       "    <tr>\n",
       "      <th>363240</th>\n",
       "      <td>3</td>\n",
       "      <td>1</td>\n",
       "      <td>4</td>\n",
       "      <td>42</td>\n",
       "      <td>0.051733</td>\n",
       "      <td>0.948267</td>\n",
       "      <td>1</td>\n",
       "    </tr>\n",
       "    <tr>\n",
       "      <th>613282</th>\n",
       "      <td>3</td>\n",
       "      <td>1</td>\n",
       "      <td>4</td>\n",
       "      <td>42</td>\n",
       "      <td>0.051733</td>\n",
       "      <td>0.948267</td>\n",
       "      <td>1</td>\n",
       "    </tr>\n",
       "    <tr>\n",
       "      <th>748046</th>\n",
       "      <td>2</td>\n",
       "      <td>0</td>\n",
       "      <td>3</td>\n",
       "      <td>1514</td>\n",
       "      <td>0.993615</td>\n",
       "      <td>0.006385</td>\n",
       "      <td>0</td>\n",
       "    </tr>\n",
       "    <tr>\n",
       "      <th>517583</th>\n",
       "      <td>3</td>\n",
       "      <td>1</td>\n",
       "      <td>4</td>\n",
       "      <td>42</td>\n",
       "      <td>0.051733</td>\n",
       "      <td>0.948267</td>\n",
       "      <td>1</td>\n",
       "    </tr>\n",
       "    <tr>\n",
       "      <th>180702</th>\n",
       "      <td>3</td>\n",
       "      <td>1</td>\n",
       "      <td>4</td>\n",
       "      <td>42</td>\n",
       "      <td>0.051733</td>\n",
       "      <td>0.948267</td>\n",
       "      <td>1</td>\n",
       "    </tr>\n",
       "    <tr>\n",
       "      <th>...</th>\n",
       "      <td>...</td>\n",
       "      <td>...</td>\n",
       "      <td>...</td>\n",
       "      <td>...</td>\n",
       "      <td>...</td>\n",
       "      <td>...</td>\n",
       "      <td>...</td>\n",
       "    </tr>\n",
       "    <tr>\n",
       "      <th>839824</th>\n",
       "      <td>2</td>\n",
       "      <td>0</td>\n",
       "      <td>3</td>\n",
       "      <td>1514</td>\n",
       "      <td>0.993615</td>\n",
       "      <td>0.006385</td>\n",
       "      <td>0</td>\n",
       "    </tr>\n",
       "    <tr>\n",
       "      <th>941804</th>\n",
       "      <td>0</td>\n",
       "      <td>2</td>\n",
       "      <td>3</td>\n",
       "      <td>66</td>\n",
       "      <td>0.063403</td>\n",
       "      <td>0.936597</td>\n",
       "      <td>0</td>\n",
       "    </tr>\n",
       "    <tr>\n",
       "      <th>521766</th>\n",
       "      <td>2</td>\n",
       "      <td>0</td>\n",
       "      <td>3</td>\n",
       "      <td>1514</td>\n",
       "      <td>0.993615</td>\n",
       "      <td>0.006385</td>\n",
       "      <td>0</td>\n",
       "    </tr>\n",
       "    <tr>\n",
       "      <th>615980</th>\n",
       "      <td>0</td>\n",
       "      <td>2</td>\n",
       "      <td>3</td>\n",
       "      <td>66</td>\n",
       "      <td>0.063403</td>\n",
       "      <td>0.936597</td>\n",
       "      <td>0</td>\n",
       "    </tr>\n",
       "    <tr>\n",
       "      <th>741273</th>\n",
       "      <td>2</td>\n",
       "      <td>0</td>\n",
       "      <td>3</td>\n",
       "      <td>1514</td>\n",
       "      <td>0.993615</td>\n",
       "      <td>0.006385</td>\n",
       "      <td>0</td>\n",
       "    </tr>\n",
       "  </tbody>\n",
       "</table>\n",
       "<p>648030 rows × 7 columns</p>\n",
       "</div>"
      ],
      "text/plain": [
       "        src  dst  protocol  length  lstm_result_1  lstm_result_2  label\n",
       "363240    3    1         4      42       0.051733       0.948267      1\n",
       "613282    3    1         4      42       0.051733       0.948267      1\n",
       "748046    2    0         3    1514       0.993615       0.006385      0\n",
       "517583    3    1         4      42       0.051733       0.948267      1\n",
       "180702    3    1         4      42       0.051733       0.948267      1\n",
       "...     ...  ...       ...     ...            ...            ...    ...\n",
       "839824    2    0         3    1514       0.993615       0.006385      0\n",
       "941804    0    2         3      66       0.063403       0.936597      0\n",
       "521766    2    0         3    1514       0.993615       0.006385      0\n",
       "615980    0    2         3      66       0.063403       0.936597      0\n",
       "741273    2    0         3    1514       0.993615       0.006385      0\n",
       "\n",
       "[648030 rows x 7 columns]"
      ]
     },
     "execution_count": 85,
     "metadata": {},
     "output_type": "execute_result"
    }
   ],
   "source": [
    "df_x_test = x_test_awal\n",
    "df_x_test['lstm_result_1'] = y_test_pred_1\n",
    "df_x_test['lstm_result_2'] = y_test_pred_2\n",
    "df_x_test['label'] = y_test\n",
    "df_x_test"
   ]
  },
  {
   "cell_type": "code",
   "execution_count": 86,
   "metadata": {},
   "outputs": [],
   "source": [
    "df_x_train.to_csv('data_latih_simulation.csv', sep=',', index=False)\n",
    "df_x_test.to_csv('data_test_simulation.csv',sep=',', index=False)"
   ]
  },
  {
   "cell_type": "markdown",
   "metadata": {},
   "source": [
    "## Naive Bayes"
   ]
  },
  {
   "cell_type": "code",
   "execution_count": 87,
   "metadata": {},
   "outputs": [
    {
     "data": {
      "text/plain": [
       "GaussianNB()"
      ]
     },
     "execution_count": 87,
     "metadata": {},
     "output_type": "execute_result"
    }
   ],
   "source": [
    "nb_classifier = GaussianNB()\n",
    "nb_classifier\n"
   ]
  },
  {
   "cell_type": "code",
   "execution_count": 88,
   "metadata": {},
   "outputs": [
    {
     "data": {
      "text/html": [
       "<div>\n",
       "<style scoped>\n",
       "    .dataframe tbody tr th:only-of-type {\n",
       "        vertical-align: middle;\n",
       "    }\n",
       "\n",
       "    .dataframe tbody tr th {\n",
       "        vertical-align: top;\n",
       "    }\n",
       "\n",
       "    .dataframe thead th {\n",
       "        text-align: right;\n",
       "    }\n",
       "</style>\n",
       "<table border=\"1\" class=\"dataframe\">\n",
       "  <thead>\n",
       "    <tr style=\"text-align: right;\">\n",
       "      <th></th>\n",
       "      <th>src</th>\n",
       "      <th>dst</th>\n",
       "      <th>protocol</th>\n",
       "      <th>length</th>\n",
       "      <th>lstm_result_1</th>\n",
       "      <th>lstm_result_2</th>\n",
       "      <th>label</th>\n",
       "    </tr>\n",
       "  </thead>\n",
       "  <tbody>\n",
       "    <tr>\n",
       "      <th>0</th>\n",
       "      <td>3</td>\n",
       "      <td>1</td>\n",
       "      <td>4</td>\n",
       "      <td>42</td>\n",
       "      <td>0.051733</td>\n",
       "      <td>0.948267</td>\n",
       "      <td>1</td>\n",
       "    </tr>\n",
       "    <tr>\n",
       "      <th>1</th>\n",
       "      <td>2</td>\n",
       "      <td>0</td>\n",
       "      <td>3</td>\n",
       "      <td>1514</td>\n",
       "      <td>0.993615</td>\n",
       "      <td>0.006385</td>\n",
       "      <td>0</td>\n",
       "    </tr>\n",
       "    <tr>\n",
       "      <th>2</th>\n",
       "      <td>3</td>\n",
       "      <td>1</td>\n",
       "      <td>4</td>\n",
       "      <td>42</td>\n",
       "      <td>0.051733</td>\n",
       "      <td>0.948267</td>\n",
       "      <td>1</td>\n",
       "    </tr>\n",
       "    <tr>\n",
       "      <th>3</th>\n",
       "      <td>2</td>\n",
       "      <td>0</td>\n",
       "      <td>3</td>\n",
       "      <td>1514</td>\n",
       "      <td>0.993615</td>\n",
       "      <td>0.006385</td>\n",
       "      <td>0</td>\n",
       "    </tr>\n",
       "    <tr>\n",
       "      <th>4</th>\n",
       "      <td>2</td>\n",
       "      <td>0</td>\n",
       "      <td>3</td>\n",
       "      <td>1514</td>\n",
       "      <td>0.993615</td>\n",
       "      <td>0.006385</td>\n",
       "      <td>0</td>\n",
       "    </tr>\n",
       "    <tr>\n",
       "      <th>...</th>\n",
       "      <td>...</td>\n",
       "      <td>...</td>\n",
       "      <td>...</td>\n",
       "      <td>...</td>\n",
       "      <td>...</td>\n",
       "      <td>...</td>\n",
       "      <td>...</td>\n",
       "    </tr>\n",
       "    <tr>\n",
       "      <th>1512064</th>\n",
       "      <td>0</td>\n",
       "      <td>2</td>\n",
       "      <td>3</td>\n",
       "      <td>66</td>\n",
       "      <td>0.063403</td>\n",
       "      <td>0.936597</td>\n",
       "      <td>0</td>\n",
       "    </tr>\n",
       "    <tr>\n",
       "      <th>1512065</th>\n",
       "      <td>3</td>\n",
       "      <td>1</td>\n",
       "      <td>4</td>\n",
       "      <td>42</td>\n",
       "      <td>0.051733</td>\n",
       "      <td>0.948267</td>\n",
       "      <td>1</td>\n",
       "    </tr>\n",
       "    <tr>\n",
       "      <th>1512066</th>\n",
       "      <td>3</td>\n",
       "      <td>1</td>\n",
       "      <td>4</td>\n",
       "      <td>42</td>\n",
       "      <td>0.051733</td>\n",
       "      <td>0.948267</td>\n",
       "      <td>1</td>\n",
       "    </tr>\n",
       "    <tr>\n",
       "      <th>1512067</th>\n",
       "      <td>3</td>\n",
       "      <td>1</td>\n",
       "      <td>4</td>\n",
       "      <td>42</td>\n",
       "      <td>0.051733</td>\n",
       "      <td>0.948267</td>\n",
       "      <td>1</td>\n",
       "    </tr>\n",
       "    <tr>\n",
       "      <th>1512068</th>\n",
       "      <td>2</td>\n",
       "      <td>0</td>\n",
       "      <td>3</td>\n",
       "      <td>1514</td>\n",
       "      <td>0.993615</td>\n",
       "      <td>0.006385</td>\n",
       "      <td>0</td>\n",
       "    </tr>\n",
       "  </tbody>\n",
       "</table>\n",
       "<p>1512069 rows × 7 columns</p>\n",
       "</div>"
      ],
      "text/plain": [
       "         src  dst  protocol  length  lstm_result_1  lstm_result_2  label\n",
       "0          3    1         4      42       0.051733       0.948267      1\n",
       "1          2    0         3    1514       0.993615       0.006385      0\n",
       "2          3    1         4      42       0.051733       0.948267      1\n",
       "3          2    0         3    1514       0.993615       0.006385      0\n",
       "4          2    0         3    1514       0.993615       0.006385      0\n",
       "...      ...  ...       ...     ...            ...            ...    ...\n",
       "1512064    0    2         3      66       0.063403       0.936597      0\n",
       "1512065    3    1         4      42       0.051733       0.948267      1\n",
       "1512066    3    1         4      42       0.051733       0.948267      1\n",
       "1512067    3    1         4      42       0.051733       0.948267      1\n",
       "1512068    2    0         3    1514       0.993615       0.006385      0\n",
       "\n",
       "[1512069 rows x 7 columns]"
      ]
     },
     "execution_count": 88,
     "metadata": {},
     "output_type": "execute_result"
    }
   ],
   "source": [
    "df_train = pd.read_csv('data_latih_simulation.csv', sep=',')\n",
    "df_test = pd.read_csv('data_test_simulation.csv', sep=',')\n",
    "df_train"
   ]
  },
  {
   "cell_type": "code",
   "execution_count": 91,
   "metadata": {},
   "outputs": [
    {
     "data": {
      "text/html": [
       "<div>\n",
       "<style scoped>\n",
       "    .dataframe tbody tr th:only-of-type {\n",
       "        vertical-align: middle;\n",
       "    }\n",
       "\n",
       "    .dataframe tbody tr th {\n",
       "        vertical-align: top;\n",
       "    }\n",
       "\n",
       "    .dataframe thead th {\n",
       "        text-align: right;\n",
       "    }\n",
       "</style>\n",
       "<table border=\"1\" class=\"dataframe\">\n",
       "  <thead>\n",
       "    <tr style=\"text-align: right;\">\n",
       "      <th></th>\n",
       "      <th>protocol</th>\n",
       "      <th>lstm_result_1</th>\n",
       "      <th>lstm_result_2</th>\n",
       "      <th>label</th>\n",
       "    </tr>\n",
       "  </thead>\n",
       "  <tbody>\n",
       "    <tr>\n",
       "      <th>0</th>\n",
       "      <td>4</td>\n",
       "      <td>0.051733</td>\n",
       "      <td>0.948267</td>\n",
       "      <td>1</td>\n",
       "    </tr>\n",
       "    <tr>\n",
       "      <th>1</th>\n",
       "      <td>3</td>\n",
       "      <td>0.993615</td>\n",
       "      <td>0.006385</td>\n",
       "      <td>0</td>\n",
       "    </tr>\n",
       "    <tr>\n",
       "      <th>2</th>\n",
       "      <td>4</td>\n",
       "      <td>0.051733</td>\n",
       "      <td>0.948267</td>\n",
       "      <td>1</td>\n",
       "    </tr>\n",
       "    <tr>\n",
       "      <th>3</th>\n",
       "      <td>3</td>\n",
       "      <td>0.993615</td>\n",
       "      <td>0.006385</td>\n",
       "      <td>0</td>\n",
       "    </tr>\n",
       "    <tr>\n",
       "      <th>4</th>\n",
       "      <td>3</td>\n",
       "      <td>0.993615</td>\n",
       "      <td>0.006385</td>\n",
       "      <td>0</td>\n",
       "    </tr>\n",
       "    <tr>\n",
       "      <th>...</th>\n",
       "      <td>...</td>\n",
       "      <td>...</td>\n",
       "      <td>...</td>\n",
       "      <td>...</td>\n",
       "    </tr>\n",
       "    <tr>\n",
       "      <th>1512064</th>\n",
       "      <td>3</td>\n",
       "      <td>0.063403</td>\n",
       "      <td>0.936597</td>\n",
       "      <td>0</td>\n",
       "    </tr>\n",
       "    <tr>\n",
       "      <th>1512065</th>\n",
       "      <td>4</td>\n",
       "      <td>0.051733</td>\n",
       "      <td>0.948267</td>\n",
       "      <td>1</td>\n",
       "    </tr>\n",
       "    <tr>\n",
       "      <th>1512066</th>\n",
       "      <td>4</td>\n",
       "      <td>0.051733</td>\n",
       "      <td>0.948267</td>\n",
       "      <td>1</td>\n",
       "    </tr>\n",
       "    <tr>\n",
       "      <th>1512067</th>\n",
       "      <td>4</td>\n",
       "      <td>0.051733</td>\n",
       "      <td>0.948267</td>\n",
       "      <td>1</td>\n",
       "    </tr>\n",
       "    <tr>\n",
       "      <th>1512068</th>\n",
       "      <td>3</td>\n",
       "      <td>0.993615</td>\n",
       "      <td>0.006385</td>\n",
       "      <td>0</td>\n",
       "    </tr>\n",
       "  </tbody>\n",
       "</table>\n",
       "<p>1512069 rows × 4 columns</p>\n",
       "</div>"
      ],
      "text/plain": [
       "         protocol  lstm_result_1  lstm_result_2  label\n",
       "0               4       0.051733       0.948267      1\n",
       "1               3       0.993615       0.006385      0\n",
       "2               4       0.051733       0.948267      1\n",
       "3               3       0.993615       0.006385      0\n",
       "4               3       0.993615       0.006385      0\n",
       "...           ...            ...            ...    ...\n",
       "1512064         3       0.063403       0.936597      0\n",
       "1512065         4       0.051733       0.948267      1\n",
       "1512066         4       0.051733       0.948267      1\n",
       "1512067         4       0.051733       0.948267      1\n",
       "1512068         3       0.993615       0.006385      0\n",
       "\n",
       "[1512069 rows x 4 columns]"
      ]
     },
     "execution_count": 91,
     "metadata": {},
     "output_type": "execute_result"
    }
   ],
   "source": [
    "df_train = df_train[['protocol','lstm_result_1','lstm_result_2','label']]\n",
    "df_test = df_test[['protocol','lstm_result_1','lstm_result_2','label']]\n",
    "df_train"
   ]
  },
  {
   "cell_type": "code",
   "execution_count": 92,
   "metadata": {},
   "outputs": [
    {
     "data": {
      "image/png": "[encoded data removed]",
      "text/plain": [
       "<Figure size 1440x720 with 2 Axes>"
      ]
     },
     "metadata": {
      "needs_background": "light"
     },
     "output_type": "display_data"
    }
   ],
   "source": [
    "#Heatmap\n",
    "\n",
    "fig = plt.figure(figsize=(20,10))\n",
    "corrMatrix = df_train.corr()\n",
    "sn.heatmap(corrMatrix,annot=True,cmap ='RdYlGn')\n",
    "plt.show()"
   ]
  },
  {
   "cell_type": "code",
   "execution_count": 93,
   "metadata": {},
   "outputs": [],
   "source": [
    "import joblib\n",
    "from sklearn.model_selection import GridSearchCV, StratifiedKFold"
   ]
  },
  {
   "cell_type": "code",
   "execution_count": 95,
   "metadata": {},
   "outputs": [
    {
     "data": {
      "text/html": [
       "<div>\n",
       "<style scoped>\n",
       "    .dataframe tbody tr th:only-of-type {\n",
       "        vertical-align: middle;\n",
       "    }\n",
       "\n",
       "    .dataframe tbody tr th {\n",
       "        vertical-align: top;\n",
       "    }\n",
       "\n",
       "    .dataframe thead th {\n",
       "        text-align: right;\n",
       "    }\n",
       "</style>\n",
       "<table border=\"1\" class=\"dataframe\">\n",
       "  <thead>\n",
       "    <tr style=\"text-align: right;\">\n",
       "      <th></th>\n",
       "      <th>protocol</th>\n",
       "      <th>lstm_result_1</th>\n",
       "      <th>lstm_result_2</th>\n",
       "    </tr>\n",
       "  </thead>\n",
       "  <tbody>\n",
       "    <tr>\n",
       "      <th>0</th>\n",
       "      <td>4</td>\n",
       "      <td>0.051733</td>\n",
       "      <td>0.948267</td>\n",
       "    </tr>\n",
       "    <tr>\n",
       "      <th>1</th>\n",
       "      <td>3</td>\n",
       "      <td>0.993615</td>\n",
       "      <td>0.006385</td>\n",
       "    </tr>\n",
       "    <tr>\n",
       "      <th>2</th>\n",
       "      <td>4</td>\n",
       "      <td>0.051733</td>\n",
       "      <td>0.948267</td>\n",
       "    </tr>\n",
       "    <tr>\n",
       "      <th>3</th>\n",
       "      <td>3</td>\n",
       "      <td>0.993615</td>\n",
       "      <td>0.006385</td>\n",
       "    </tr>\n",
       "    <tr>\n",
       "      <th>4</th>\n",
       "      <td>3</td>\n",
       "      <td>0.993615</td>\n",
       "      <td>0.006385</td>\n",
       "    </tr>\n",
       "    <tr>\n",
       "      <th>...</th>\n",
       "      <td>...</td>\n",
       "      <td>...</td>\n",
       "      <td>...</td>\n",
       "    </tr>\n",
       "    <tr>\n",
       "      <th>1512064</th>\n",
       "      <td>3</td>\n",
       "      <td>0.063403</td>\n",
       "      <td>0.936597</td>\n",
       "    </tr>\n",
       "    <tr>\n",
       "      <th>1512065</th>\n",
       "      <td>4</td>\n",
       "      <td>0.051733</td>\n",
       "      <td>0.948267</td>\n",
       "    </tr>\n",
       "    <tr>\n",
       "      <th>1512066</th>\n",
       "      <td>4</td>\n",
       "      <td>0.051733</td>\n",
       "      <td>0.948267</td>\n",
       "    </tr>\n",
       "    <tr>\n",
       "      <th>1512067</th>\n",
       "      <td>4</td>\n",
       "      <td>0.051733</td>\n",
       "      <td>0.948267</td>\n",
       "    </tr>\n",
       "    <tr>\n",
       "      <th>1512068</th>\n",
       "      <td>3</td>\n",
       "      <td>0.993615</td>\n",
       "      <td>0.006385</td>\n",
       "    </tr>\n",
       "  </tbody>\n",
       "</table>\n",
       "<p>1512069 rows × 3 columns</p>\n",
       "</div>"
      ],
      "text/plain": [
       "         protocol  lstm_result_1  lstm_result_2\n",
       "0               4       0.051733       0.948267\n",
       "1               3       0.993615       0.006385\n",
       "2               4       0.051733       0.948267\n",
       "3               3       0.993615       0.006385\n",
       "4               3       0.993615       0.006385\n",
       "...           ...            ...            ...\n",
       "1512064         3       0.063403       0.936597\n",
       "1512065         4       0.051733       0.948267\n",
       "1512066         4       0.051733       0.948267\n",
       "1512067         4       0.051733       0.948267\n",
       "1512068         3       0.993615       0.006385\n",
       "\n",
       "[1512069 rows x 3 columns]"
      ]
     },
     "execution_count": 95,
     "metadata": {},
     "output_type": "execute_result"
    }
   ],
   "source": [
    "x_train = df_train[['protocol','lstm_result_1','lstm_result_2']]\n",
    "y_train = df_train['label']\n",
    "\n",
    "x_test = df_test[['protocol','lstm_result_1','lstm_result_2','label']]\n",
    "y_test = df_test['label']\n",
    "x_train"
   ]
  },
  {
   "cell_type": "code",
   "execution_count": 96,
   "metadata": {},
   "outputs": [
    {
     "data": {
      "text/html": [
       "<div>\n",
       "<style scoped>\n",
       "    .dataframe tbody tr th:only-of-type {\n",
       "        vertical-align: middle;\n",
       "    }\n",
       "\n",
       "    .dataframe tbody tr th {\n",
       "        vertical-align: top;\n",
       "    }\n",
       "\n",
       "    .dataframe thead th {\n",
       "        text-align: right;\n",
       "    }\n",
       "</style>\n",
       "<table border=\"1\" class=\"dataframe\">\n",
       "  <thead>\n",
       "    <tr style=\"text-align: right;\">\n",
       "      <th></th>\n",
       "      <th>protocol</th>\n",
       "      <th>lstm_result_1</th>\n",
       "      <th>lstm_result_2</th>\n",
       "    </tr>\n",
       "  </thead>\n",
       "  <tbody>\n",
       "    <tr>\n",
       "      <th>0</th>\n",
       "      <td>4</td>\n",
       "      <td>0.051733</td>\n",
       "      <td>0.948267</td>\n",
       "    </tr>\n",
       "    <tr>\n",
       "      <th>1</th>\n",
       "      <td>3</td>\n",
       "      <td>0.993615</td>\n",
       "      <td>0.006385</td>\n",
       "    </tr>\n",
       "    <tr>\n",
       "      <th>2</th>\n",
       "      <td>4</td>\n",
       "      <td>0.051733</td>\n",
       "      <td>0.948267</td>\n",
       "    </tr>\n",
       "    <tr>\n",
       "      <th>3</th>\n",
       "      <td>3</td>\n",
       "      <td>0.993615</td>\n",
       "      <td>0.006385</td>\n",
       "    </tr>\n",
       "    <tr>\n",
       "      <th>4</th>\n",
       "      <td>3</td>\n",
       "      <td>0.993615</td>\n",
       "      <td>0.006385</td>\n",
       "    </tr>\n",
       "    <tr>\n",
       "      <th>...</th>\n",
       "      <td>...</td>\n",
       "      <td>...</td>\n",
       "      <td>...</td>\n",
       "    </tr>\n",
       "    <tr>\n",
       "      <th>1512064</th>\n",
       "      <td>3</td>\n",
       "      <td>0.063403</td>\n",
       "      <td>0.936597</td>\n",
       "    </tr>\n",
       "    <tr>\n",
       "      <th>1512065</th>\n",
       "      <td>4</td>\n",
       "      <td>0.051733</td>\n",
       "      <td>0.948267</td>\n",
       "    </tr>\n",
       "    <tr>\n",
       "      <th>1512066</th>\n",
       "      <td>4</td>\n",
       "      <td>0.051733</td>\n",
       "      <td>0.948267</td>\n",
       "    </tr>\n",
       "    <tr>\n",
       "      <th>1512067</th>\n",
       "      <td>4</td>\n",
       "      <td>0.051733</td>\n",
       "      <td>0.948267</td>\n",
       "    </tr>\n",
       "    <tr>\n",
       "      <th>1512068</th>\n",
       "      <td>3</td>\n",
       "      <td>0.993615</td>\n",
       "      <td>0.006385</td>\n",
       "    </tr>\n",
       "  </tbody>\n",
       "</table>\n",
       "<p>1512069 rows × 3 columns</p>\n",
       "</div>"
      ],
      "text/plain": [
       "         protocol  lstm_result_1  lstm_result_2\n",
       "0               4       0.051733       0.948267\n",
       "1               3       0.993615       0.006385\n",
       "2               4       0.051733       0.948267\n",
       "3               3       0.993615       0.006385\n",
       "4               3       0.993615       0.006385\n",
       "...           ...            ...            ...\n",
       "1512064         3       0.063403       0.936597\n",
       "1512065         4       0.051733       0.948267\n",
       "1512066         4       0.051733       0.948267\n",
       "1512067         4       0.051733       0.948267\n",
       "1512068         3       0.993615       0.006385\n",
       "\n",
       "[1512069 rows x 3 columns]"
      ]
     },
     "execution_count": 96,
     "metadata": {},
     "output_type": "execute_result"
    }
   ],
   "source": [
    "x_train = df_train[['protocol','lstm_result_1','lstm_result_2']]\n",
    "y_train =  df_train['label']\n",
    "\n",
    "x_test = df_test[['protocol','lstm_result_1','lstm_result_2']]\n",
    "y_test = df_test['label']\n",
    "\n",
    "x_train"
   ]
  },
  {
   "cell_type": "code",
   "execution_count": 97,
   "metadata": {},
   "outputs": [
    {
     "name": "stdout",
     "output_type": "stream",
     "text": [
      "Fitting 10 folds for each of 1000 candidates, totalling 10000 fits\n"
     ]
    },
    {
     "name": "stderr",
     "output_type": "stream",
     "text": [
      "[Parallel(n_jobs=1)]: Using backend SequentialBackend with 1 concurrent workers.\n",
      "[Parallel(n_jobs=1)]: Done 10000 out of 10000 | elapsed: 77.6min finished\n"
     ]
    },
    {
     "name": "stdout",
     "output_type": "stream",
     "text": [
      "GaussianNB(var_smoothing=0.00021544346900318845)\n"
     ]
    }
   ],
   "source": [
    "param_grid_nb = {\n",
    "    'var_smoothing': np.logspace(0,-9, num=1000)\n",
    "}\n",
    "\n",
    "NB_Feature_Grid = GridSearchCV(estimator=GaussianNB(), param_grid=param_grid_nb, scoring='accuracy' ,verbose=1, cv=10, n_jobs=1)\n",
    "NB_Feature_Grid.fit(x_train, y_train)\n",
    "print(NB_Feature_Grid.best_estimator_)\n"
   ]
  },
  {
   "cell_type": "code",
   "execution_count": 98,
   "metadata": {},
   "outputs": [
    {
     "name": "stdout",
     "output_type": "stream",
     "text": [
      "1.0\n"
     ]
    }
   ],
   "source": [
    "print(NB_Feature_Grid.best_score_)"
   ]
  },
  {
   "cell_type": "code",
   "execution_count": 99,
   "metadata": {},
   "outputs": [
    {
     "data": {
      "text/plain": [
       "GaussianNB(var_smoothing=0.00021544346900318845)"
      ]
     },
     "execution_count": 99,
     "metadata": {},
     "output_type": "execute_result"
    }
   ],
   "source": [
    "best_estimator = NB_Feature_Grid.best_estimator_\n",
    "best_estimator"
   ]
  },
  {
   "cell_type": "code",
   "execution_count": 100,
   "metadata": {},
   "outputs": [
    {
     "data": {
      "text/plain": [
       "['naive_bayes_simulation_final.pkl']"
      ]
     },
     "execution_count": 100,
     "metadata": {},
     "output_type": "execute_result"
    }
   ],
   "source": [
    "#Save Best Estimator \n",
    "joblib.dump(best_estimator, 'naive_bayes_simulation_final.pkl')"
   ]
  },
  {
   "cell_type": "code",
   "execution_count": 102,
   "metadata": {},
   "outputs": [],
   "source": [
    "nb_classifier = best_estimator"
   ]
  },
  {
   "cell_type": "code",
   "execution_count": 103,
   "metadata": {},
   "outputs": [
    {
     "data": {
      "text/plain": [
       "GaussianNB(var_smoothing=0.00021544346900318845)"
      ]
     },
     "execution_count": 103,
     "metadata": {},
     "output_type": "execute_result"
    }
   ],
   "source": [
    "nb_classifier.fit(x_train, y_train)"
   ]
  },
  {
   "cell_type": "code",
   "execution_count": 104,
   "metadata": {},
   "outputs": [],
   "source": [
    "train_pred = nb_classifier.predict(x_train)\n",
    "test_pred = nb_classifier.predict(x_test)"
   ]
  },
  {
   "cell_type": "code",
   "execution_count": 105,
   "metadata": {},
   "outputs": [
    {
     "name": "stdout",
     "output_type": "stream",
     "text": [
      "[[734017      0]\n",
      " [     0 778052]]\n",
      "              precision    recall  f1-score   support\n",
      "\n",
      "           0       1.00      1.00      1.00    778052\n",
      "           1       1.00      1.00      1.00    734017\n",
      "\n",
      "    accuracy                           1.00   1512069\n",
      "   macro avg       1.00      1.00      1.00   1512069\n",
      "weighted avg       1.00      1.00      1.00   1512069\n",
      "\n",
      "Accuracy: 100.0\n",
      "Precision 100.0\n",
      "False Negative Rate 0.0\n"
     ]
    }
   ],
   "source": [
    "cm = confusion_matrix(y_train, train_pred, labels=[1,0])\n",
    "TP = cm[0][0]\n",
    "FP = cm[1][0]\n",
    "FN = cm[0][1]\n",
    "TN = cm[1][1]\n",
    "\n",
    "print(cm)\n",
    "print(classification_report(y_train, train_pred))\n",
    "print(\"Accuracy:\",accuracy_score(y_train, train_pred)*100)\n",
    "print(\"Precision\",(calculate_precision(TP,FP))*100)\n",
    "print(\"False Negative Rate\", (calculate_fnr(TP,FP,FN))*100)"
   ]
  },
  {
   "cell_type": "code",
   "execution_count": 106,
   "metadata": {},
   "outputs": [
    {
     "name": "stdout",
     "output_type": "stream",
     "text": [
      "[[314558      0]\n",
      " [     0 333472]]\n",
      "              precision    recall  f1-score   support\n",
      "\n",
      "           0       1.00      1.00      1.00    333472\n",
      "           1       1.00      1.00      1.00    314558\n",
      "\n",
      "    accuracy                           1.00    648030\n",
      "   macro avg       1.00      1.00      1.00    648030\n",
      "weighted avg       1.00      1.00      1.00    648030\n",
      "\n",
      "Accuracy: 100.0\n",
      "Precision 100.0\n",
      "False Negative Rate 0.0\n"
     ]
    }
   ],
   "source": [
    "cm = confusion_matrix(y_test, test_pred, labels=[1,0])\n",
    "TP = cm[0][0]\n",
    "FP = cm[1][0]\n",
    "FN = cm[0][1]\n",
    "TN = cm[1][1]\n",
    "\n",
    "print(cm)\n",
    "print(classification_report(y_test, test_pred))\n",
    "print(\"Accuracy:\",accuracy_score(y_test, test_pred)*100)\n",
    "print(\"Precision\",(calculate_precision(TP,FP))*100)\n",
    "print(\"False Negative Rate\", (calculate_fnr(TP,FP,FN))*100)"
   ]
  },
  {
   "cell_type": "code",
   "execution_count": null,
   "metadata": {},
   "outputs": [],
   "source": []
  }
 ],
 "metadata": {
  "kernelspec": {
   "display_name": "Python 3.7.4 64-bit",
   "language": "python",
   "name": "python3"
  },
  "language_info": {
   "codemirror_mode": {
    "name": "ipython",
    "version": 3
   },
   "file_extension": ".py",
   "mimetype": "text/x-python",
   "name": "python",
   "nbconvert_exporter": "python",
   "pygments_lexer": "ipython3",
   "version": "3.7.4"
  },
  "orig_nbformat": 4,
  "vscode": {
   "interpreter": {
    "hash": "8c2dc7f55a4afb133f9671f18548a683b80d7f864af89313bd9839ac682f147f"
   }
  }
 },
 "nbformat": 4,
 "nbformat_minor": 2
}
