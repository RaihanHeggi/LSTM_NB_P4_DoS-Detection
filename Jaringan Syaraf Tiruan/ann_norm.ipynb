{
 "cells": [
  {
   "cell_type": "code",
   "execution_count": 1,
   "metadata": {},
   "outputs": [],
   "source": [
    "import pandas as pd \n",
    "import matplotlib.pyplot as plt \n",
    "import seaborn as sn \n",
    "import numpy as np \n",
    "from tensorflow.keras import datasets, layers , models \n",
    "from sklearn.model_selection import cross_val_score\n",
    "from sklearn.metrics import confusion_matrix\n",
    "from sklearn.metrics import accuracy_score\n",
    "from sklearn.metrics import classification_report\n",
    "from sklearn.metrics import confusion_matrix\n",
    "from sklearn.model_selection import train_test_split"
   ]
  },
  {
   "cell_type": "markdown",
   "metadata": {},
   "source": [
    "### Loading Dataset "
   ]
  },
  {
   "cell_type": "code",
   "execution_count": 2,
   "metadata": {},
   "outputs": [],
   "source": [
    "df_full_feature = pd.read_csv('../Dataset/Normalisasi/processed_dataset_10_norm.csv',sep=',')\n",
    "df_chi_square = pd.read_csv('../Dataset/Normalisasi/processed_dataset_chi_square_norm.csv', sep=',')\n",
    "df_feature_selection = pd.read_csv('../Dataset/Normalisasi/processed_dataset_5_norm.csv',sep=',')\n",
    "df_slice = pd.read_csv('../Dataset/Normalisasi/processed_dataset_slice_norm.csv',sep=',')"
   ]
  },
  {
   "cell_type": "markdown",
   "metadata": {},
   "source": [
    "### Splitting Variable "
   ]
  },
  {
   "cell_type": "code",
   "execution_count": 3,
   "metadata": {},
   "outputs": [
    {
     "data": {
      "text/html": [
       "<div>\n",
       "<style scoped>\n",
       "    .dataframe tbody tr th:only-of-type {\n",
       "        vertical-align: middle;\n",
       "    }\n",
       "\n",
       "    .dataframe tbody tr th {\n",
       "        vertical-align: top;\n",
       "    }\n",
       "\n",
       "    .dataframe thead th {\n",
       "        text-align: right;\n",
       "    }\n",
       "</style>\n",
       "<table border=\"1\" class=\"dataframe\">\n",
       "  <thead>\n",
       "    <tr style=\"text-align: right;\">\n",
       "      <th></th>\n",
       "      <th>src</th>\n",
       "      <th>dst</th>\n",
       "      <th>Protocol</th>\n",
       "      <th>pktrate</th>\n",
       "      <th>pktperflow</th>\n",
       "      <th>dur</th>\n",
       "      <th>dur_nsec</th>\n",
       "      <th>bytecount</th>\n",
       "      <th>pktcount</th>\n",
       "    </tr>\n",
       "  </thead>\n",
       "  <tbody>\n",
       "    <tr>\n",
       "      <th>0</th>\n",
       "      <td>0.055556</td>\n",
       "      <td>0.647059</td>\n",
       "      <td>0.0</td>\n",
       "      <td>0.000000</td>\n",
       "      <td>0.001511</td>\n",
       "      <td>0.522594</td>\n",
       "      <td>0.235235</td>\n",
       "      <td>0.000640</td>\n",
       "      <td>0.003696</td>\n",
       "    </tr>\n",
       "    <tr>\n",
       "      <th>1</th>\n",
       "      <td>0.333333</td>\n",
       "      <td>0.705882</td>\n",
       "      <td>0.5</td>\n",
       "      <td>0.799687</td>\n",
       "      <td>0.799583</td>\n",
       "      <td>0.204147</td>\n",
       "      <td>0.114114</td>\n",
       "      <td>0.081254</td>\n",
       "      <td>0.851453</td>\n",
       "    </tr>\n",
       "    <tr>\n",
       "      <th>2</th>\n",
       "      <td>0.555556</td>\n",
       "      <td>0.882353</td>\n",
       "      <td>0.0</td>\n",
       "      <td>0.001565</td>\n",
       "      <td>0.001563</td>\n",
       "      <td>0.436470</td>\n",
       "      <td>0.243243</td>\n",
       "      <td>0.000534</td>\n",
       "      <td>0.003081</td>\n",
       "    </tr>\n",
       "    <tr>\n",
       "      <th>3</th>\n",
       "      <td>0.833333</td>\n",
       "      <td>0.941176</td>\n",
       "      <td>0.5</td>\n",
       "      <td>0.516432</td>\n",
       "      <td>0.516884</td>\n",
       "      <td>0.052100</td>\n",
       "      <td>0.622623</td>\n",
       "      <td>0.014585</td>\n",
       "      <td>0.125043</td>\n",
       "    </tr>\n",
       "    <tr>\n",
       "      <th>4</th>\n",
       "      <td>0.111111</td>\n",
       "      <td>0.647059</td>\n",
       "      <td>1.0</td>\n",
       "      <td>0.428795</td>\n",
       "      <td>0.428504</td>\n",
       "      <td>0.152578</td>\n",
       "      <td>0.579580</td>\n",
       "      <td>0.618070</td>\n",
       "      <td>0.335646</td>\n",
       "    </tr>\n",
       "  </tbody>\n",
       "</table>\n",
       "</div>"
      ],
      "text/plain": [
       "        src       dst  Protocol   pktrate  pktperflow       dur  dur_nsec  \\\n",
       "0  0.055556  0.647059       0.0  0.000000    0.001511  0.522594  0.235235   \n",
       "1  0.333333  0.705882       0.5  0.799687    0.799583  0.204147  0.114114   \n",
       "2  0.555556  0.882353       0.0  0.001565    0.001563  0.436470  0.243243   \n",
       "3  0.833333  0.941176       0.5  0.516432    0.516884  0.052100  0.622623   \n",
       "4  0.111111  0.647059       1.0  0.428795    0.428504  0.152578  0.579580   \n",
       "\n",
       "   bytecount  pktcount  \n",
       "0   0.000640  0.003696  \n",
       "1   0.081254  0.851453  \n",
       "2   0.000534  0.003081  \n",
       "3   0.014585  0.125043  \n",
       "4   0.618070  0.335646  "
      ]
     },
     "execution_count": 3,
     "metadata": {},
     "output_type": "execute_result"
    }
   ],
   "source": [
    "# Dataset Full Feature\n",
    "full_feature_x = df_full_feature[df_full_feature.columns[:9]]\n",
    "full_feature_y = df_full_feature['label']\n",
    "\n",
    "full_feature_x.head(5)"
   ]
  },
  {
   "cell_type": "code",
   "execution_count": 4,
   "metadata": {},
   "outputs": [
    {
     "data": {
      "text/html": [
       "<div>\n",
       "<style scoped>\n",
       "    .dataframe tbody tr th:only-of-type {\n",
       "        vertical-align: middle;\n",
       "    }\n",
       "\n",
       "    .dataframe tbody tr th {\n",
       "        vertical-align: top;\n",
       "    }\n",
       "\n",
       "    .dataframe thead th {\n",
       "        text-align: right;\n",
       "    }\n",
       "</style>\n",
       "<table border=\"1\" class=\"dataframe\">\n",
       "  <thead>\n",
       "    <tr style=\"text-align: right;\">\n",
       "      <th></th>\n",
       "      <th>dst</th>\n",
       "      <th>src</th>\n",
       "      <th>Protocol</th>\n",
       "      <th>pktcount</th>\n",
       "      <th>pktcount.1</th>\n",
       "    </tr>\n",
       "  </thead>\n",
       "  <tbody>\n",
       "    <tr>\n",
       "      <th>0</th>\n",
       "      <td>0.647059</td>\n",
       "      <td>0.055556</td>\n",
       "      <td>0.0</td>\n",
       "      <td>0.003696</td>\n",
       "      <td>0.003696</td>\n",
       "    </tr>\n",
       "    <tr>\n",
       "      <th>1</th>\n",
       "      <td>0.705882</td>\n",
       "      <td>0.333333</td>\n",
       "      <td>0.5</td>\n",
       "      <td>0.851453</td>\n",
       "      <td>0.851453</td>\n",
       "    </tr>\n",
       "    <tr>\n",
       "      <th>2</th>\n",
       "      <td>0.882353</td>\n",
       "      <td>0.555556</td>\n",
       "      <td>0.0</td>\n",
       "      <td>0.003081</td>\n",
       "      <td>0.003081</td>\n",
       "    </tr>\n",
       "    <tr>\n",
       "      <th>3</th>\n",
       "      <td>0.941176</td>\n",
       "      <td>0.833333</td>\n",
       "      <td>0.5</td>\n",
       "      <td>0.125043</td>\n",
       "      <td>0.125043</td>\n",
       "    </tr>\n",
       "    <tr>\n",
       "      <th>4</th>\n",
       "      <td>0.647059</td>\n",
       "      <td>0.111111</td>\n",
       "      <td>1.0</td>\n",
       "      <td>0.335646</td>\n",
       "      <td>0.335646</td>\n",
       "    </tr>\n",
       "  </tbody>\n",
       "</table>\n",
       "</div>"
      ],
      "text/plain": [
       "        dst       src  Protocol  pktcount  pktcount.1\n",
       "0  0.647059  0.055556       0.0  0.003696    0.003696\n",
       "1  0.705882  0.333333       0.5  0.851453    0.851453\n",
       "2  0.882353  0.555556       0.0  0.003081    0.003081\n",
       "3  0.941176  0.833333       0.5  0.125043    0.125043\n",
       "4  0.647059  0.111111       1.0  0.335646    0.335646"
      ]
     },
     "execution_count": 4,
     "metadata": {},
     "output_type": "execute_result"
    }
   ],
   "source": [
    "# Dataset Chi Square \n",
    "chi_square_x = df_chi_square[df_chi_square.columns[:5]]\n",
    "chi_square_y = df_chi_square['label']\n",
    "\n",
    "chi_square_x.head(5)"
   ]
  },
  {
   "cell_type": "code",
   "execution_count": 5,
   "metadata": {},
   "outputs": [
    {
     "data": {
      "text/html": [
       "<div>\n",
       "<style scoped>\n",
       "    .dataframe tbody tr th:only-of-type {\n",
       "        vertical-align: middle;\n",
       "    }\n",
       "\n",
       "    .dataframe tbody tr th {\n",
       "        vertical-align: top;\n",
       "    }\n",
       "\n",
       "    .dataframe thead th {\n",
       "        text-align: right;\n",
       "    }\n",
       "</style>\n",
       "<table border=\"1\" class=\"dataframe\">\n",
       "  <thead>\n",
       "    <tr style=\"text-align: right;\">\n",
       "      <th></th>\n",
       "      <th>pktrate</th>\n",
       "      <th>pktperflow</th>\n",
       "      <th>Protocol</th>\n",
       "      <th>src</th>\n",
       "      <th>dst</th>\n",
       "    </tr>\n",
       "  </thead>\n",
       "  <tbody>\n",
       "    <tr>\n",
       "      <th>0</th>\n",
       "      <td>0.000000</td>\n",
       "      <td>0.001511</td>\n",
       "      <td>0.0</td>\n",
       "      <td>0.055556</td>\n",
       "      <td>0.647059</td>\n",
       "    </tr>\n",
       "    <tr>\n",
       "      <th>1</th>\n",
       "      <td>0.799687</td>\n",
       "      <td>0.799583</td>\n",
       "      <td>0.5</td>\n",
       "      <td>0.333333</td>\n",
       "      <td>0.705882</td>\n",
       "    </tr>\n",
       "    <tr>\n",
       "      <th>2</th>\n",
       "      <td>0.001565</td>\n",
       "      <td>0.001563</td>\n",
       "      <td>0.0</td>\n",
       "      <td>0.555556</td>\n",
       "      <td>0.882353</td>\n",
       "    </tr>\n",
       "    <tr>\n",
       "      <th>3</th>\n",
       "      <td>0.516432</td>\n",
       "      <td>0.516884</td>\n",
       "      <td>0.5</td>\n",
       "      <td>0.833333</td>\n",
       "      <td>0.941176</td>\n",
       "    </tr>\n",
       "    <tr>\n",
       "      <th>4</th>\n",
       "      <td>0.428795</td>\n",
       "      <td>0.428504</td>\n",
       "      <td>1.0</td>\n",
       "      <td>0.111111</td>\n",
       "      <td>0.647059</td>\n",
       "    </tr>\n",
       "  </tbody>\n",
       "</table>\n",
       "</div>"
      ],
      "text/plain": [
       "    pktrate  pktperflow  Protocol       src       dst\n",
       "0  0.000000    0.001511       0.0  0.055556  0.647059\n",
       "1  0.799687    0.799583       0.5  0.333333  0.705882\n",
       "2  0.001565    0.001563       0.0  0.555556  0.882353\n",
       "3  0.516432    0.516884       0.5  0.833333  0.941176\n",
       "4  0.428795    0.428504       1.0  0.111111  0.647059"
      ]
     },
     "execution_count": 5,
     "metadata": {},
     "output_type": "execute_result"
    }
   ],
   "source": [
    "# Dataset Feature Selection\n",
    "feature_selection_x = df_feature_selection[df_feature_selection.columns[:5]]\n",
    "feature_selection_y = df_feature_selection['label']\n",
    "\n",
    "feature_selection_x.head(5)"
   ]
  },
  {
   "cell_type": "code",
   "execution_count": 6,
   "metadata": {},
   "outputs": [
    {
     "data": {
      "text/html": [
       "<div>\n",
       "<style scoped>\n",
       "    .dataframe tbody tr th:only-of-type {\n",
       "        vertical-align: middle;\n",
       "    }\n",
       "\n",
       "    .dataframe tbody tr th {\n",
       "        vertical-align: top;\n",
       "    }\n",
       "\n",
       "    .dataframe thead th {\n",
       "        text-align: right;\n",
       "    }\n",
       "</style>\n",
       "<table border=\"1\" class=\"dataframe\">\n",
       "  <thead>\n",
       "    <tr style=\"text-align: right;\">\n",
       "      <th></th>\n",
       "      <th>dst</th>\n",
       "      <th>src</th>\n",
       "      <th>Protocol</th>\n",
       "      <th>bytecount</th>\n",
       "    </tr>\n",
       "  </thead>\n",
       "  <tbody>\n",
       "    <tr>\n",
       "      <th>0</th>\n",
       "      <td>0.647059</td>\n",
       "      <td>0.055556</td>\n",
       "      <td>0.0</td>\n",
       "      <td>0.000640</td>\n",
       "    </tr>\n",
       "    <tr>\n",
       "      <th>1</th>\n",
       "      <td>0.705882</td>\n",
       "      <td>0.333333</td>\n",
       "      <td>0.5</td>\n",
       "      <td>0.081254</td>\n",
       "    </tr>\n",
       "    <tr>\n",
       "      <th>2</th>\n",
       "      <td>0.882353</td>\n",
       "      <td>0.555556</td>\n",
       "      <td>0.0</td>\n",
       "      <td>0.000534</td>\n",
       "    </tr>\n",
       "    <tr>\n",
       "      <th>3</th>\n",
       "      <td>0.941176</td>\n",
       "      <td>0.833333</td>\n",
       "      <td>0.5</td>\n",
       "      <td>0.014585</td>\n",
       "    </tr>\n",
       "    <tr>\n",
       "      <th>4</th>\n",
       "      <td>0.647059</td>\n",
       "      <td>0.111111</td>\n",
       "      <td>1.0</td>\n",
       "      <td>0.618070</td>\n",
       "    </tr>\n",
       "  </tbody>\n",
       "</table>\n",
       "</div>"
      ],
      "text/plain": [
       "        dst       src  Protocol  bytecount\n",
       "0  0.647059  0.055556       0.0   0.000640\n",
       "1  0.705882  0.333333       0.5   0.081254\n",
       "2  0.882353  0.555556       0.0   0.000534\n",
       "3  0.941176  0.833333       0.5   0.014585\n",
       "4  0.647059  0.111111       1.0   0.618070"
      ]
     },
     "execution_count": 6,
     "metadata": {},
     "output_type": "execute_result"
    }
   ],
   "source": [
    "# Dataset Slice\n",
    "slice_x = df_slice[df_slice.columns[:4]]\n",
    "slice_y= df_slice['label']\n",
    "\n",
    "slice_x.head(5)"
   ]
  },
  {
   "cell_type": "markdown",
   "metadata": {},
   "source": [
    "### Full Model"
   ]
  },
  {
   "cell_type": "code",
   "execution_count": 7,
   "metadata": {},
   "outputs": [],
   "source": [
    "#Splitting Data \n",
    "\n",
    "x_train,x_test,y_train,y_test = train_test_split(full_feature_x,full_feature_y,test_size=0.30,random_state=9)"
   ]
  },
  {
   "cell_type": "code",
   "execution_count": 8,
   "metadata": {},
   "outputs": [
    {
     "name": "stdout",
     "output_type": "stream",
     "text": [
      "Epoch 1/10\n",
      "1580/1580 [==============================] - 33s 20ms/step - loss: 0.6173 - accuracy: 0.65450s - loss: 0.6179 - accuracy: \n",
      "Epoch 2/10\n",
      "1580/1580 [==============================] - 32s 21ms/step - loss: 0.2704 - accuracy: 0.8765\n",
      "Epoch 3/10\n",
      "1580/1580 [==============================] - ETA: 0s - loss: 0.2172 - accuracy: 0.8864 E - 33s 21ms/step - loss: 0.2172 - accuracy: 0.8864\n",
      "Epoch 4/10\n",
      "1580/1580 [==============================] - 33s 21ms/step - loss: 0.1913 - accuracy: 0.8997\n",
      "Epoch 5/10\n",
      "1580/1580 [==============================] - 32s 20ms/step - loss: 0.1752 - accuracy: 0.9175\n",
      "Epoch 6/10\n",
      "1580/1580 [==============================] - 33s 21ms/step - loss: 0.1658 - accuracy: 0.9238\n",
      "Epoch 7/10\n",
      "1580/1580 [==============================] - 33s 21ms/step - loss: 0.1618 - accuracy: 0.9270\n",
      "Epoch 8/10\n",
      "1580/1580 [==============================] - 33s 21ms/step - loss: 0.1610 - accuracy: 0.9265\n",
      "Epoch 9/10\n",
      "1580/1580 [==============================] - 34s 21ms/step - loss: 0.1530 - accuracy: 0.9313\n",
      "Epoch 10/10\n",
      "1580/1580 [==============================] - 36s 23ms/step - loss: 0.1554 - accuracy: 0.9305\n"
     ]
    },
    {
     "data": {
      "text/plain": [
       "<tensorflow.python.keras.callbacks.History at 0x22798e65048>"
      ]
     },
     "execution_count": 8,
     "metadata": {},
     "output_type": "execute_result"
    }
   ],
   "source": [
    "model_full = models.Sequential([\n",
    "    layers.Dense(2000, input_dim=9, activation='sigmoid'),\n",
    "    layers.Dense(1000, activation='sigmoid'),\n",
    "    layers.Dense(500, activation='sigmoid'),\n",
    "    layers.Dense(2, activation='softmax')\n",
    "])\n",
    "model_full.compile(optimizer=\"adam\",loss=\"sparse_categorical_crossentropy\",metrics=['accuracy'])\n",
    "model_full.fit(x_train, y_train, epochs=10)"
   ]
  },
  {
   "cell_type": "code",
   "execution_count": 9,
   "metadata": {},
   "outputs": [],
   "source": [
    "y_pred_train = model_full.predict(x_train)\n",
    "y_pred_test = model_full.predict(x_test)"
   ]
  },
  {
   "cell_type": "markdown",
   "metadata": {},
   "source": [
    "#### Training "
   ]
  },
  {
   "cell_type": "code",
   "execution_count": 10,
   "metadata": {},
   "outputs": [
    {
     "name": "stdout",
     "output_type": "stream",
     "text": [
      "[[28957  1832]\n",
      " [ 1727 18024]]\n",
      "              precision    recall  f1-score   support\n",
      "\n",
      "           0       0.94      0.94      0.94     30789\n",
      "           1       0.91      0.91      0.91     19751\n",
      "\n",
      "    accuracy                           0.93     50540\n",
      "   macro avg       0.93      0.93      0.93     50540\n",
      "weighted avg       0.93      0.93      0.93     50540\n",
      "\n",
      "Accuracy: 92.95805302730511\n"
     ]
    }
   ],
   "source": [
    "import warnings\n",
    "warnings.filterwarnings('ignore')\n",
    "y_pred_train = [np.argmax(element) for element in y_pred_train]\n",
    "print(confusion_matrix(y_train, y_pred_train))\n",
    "print(classification_report(y_train, y_pred_train))\n",
    "print(\"Accuracy:\",accuracy_score(y_train, y_pred_train)*100)\n"
   ]
  },
  {
   "cell_type": "markdown",
   "metadata": {},
   "source": [
    "#### Testing "
   ]
  },
  {
   "cell_type": "code",
   "execution_count": 11,
   "metadata": {},
   "outputs": [
    {
     "name": "stdout",
     "output_type": "stream",
     "text": [
      "[[12433   797]\n",
      " [  751  7680]]\n",
      "              precision    recall  f1-score   support\n",
      "\n",
      "           0       0.94      0.94      0.94     13230\n",
      "           1       0.91      0.91      0.91      8431\n",
      "\n",
      "    accuracy                           0.93     21661\n",
      "   macro avg       0.92      0.93      0.92     21661\n",
      "weighted avg       0.93      0.93      0.93     21661\n",
      "\n",
      "Accuracy: 92.85351553483218\n"
     ]
    }
   ],
   "source": [
    "warnings.filterwarnings('ignore')\n",
    "y_pred_test = [np.argmax(element) for element in y_pred_test]\n",
    "print(confusion_matrix(y_test, y_pred_test))\n",
    "print(classification_report(y_test, y_pred_test))\n",
    "print(\"Accuracy:\",accuracy_score(y_test, y_pred_test)*100)"
   ]
  },
  {
   "cell_type": "code",
   "execution_count": 12,
   "metadata": {},
   "outputs": [],
   "source": [
    "model_full.save('ann_full.h5')"
   ]
  },
  {
   "cell_type": "markdown",
   "metadata": {},
   "source": [
    "### Chi Model "
   ]
  },
  {
   "cell_type": "code",
   "execution_count": 13,
   "metadata": {},
   "outputs": [],
   "source": [
    "#Splitting Data \n",
    "\n",
    "x_train,x_test,y_train,y_test = train_test_split(chi_square_x,chi_square_y,test_size=0.30,random_state=10)"
   ]
  },
  {
   "cell_type": "code",
   "execution_count": 14,
   "metadata": {},
   "outputs": [
    {
     "name": "stdout",
     "output_type": "stream",
     "text": [
      "Epoch 1/10\n",
      "1580/1580 [==============================] - 20s 12ms/step - loss: 0.6272 - accuracy: 0.6187\n",
      "Epoch 2/10\n",
      "1580/1580 [==============================] - 22s 14ms/step - loss: 0.5020 - accuracy: 0.6757\n",
      "Epoch 3/10\n",
      "1580/1580 [==============================] - 23s 15ms/step - loss: 0.4945 - accuracy: 0.67690s - loss: 0.494\n",
      "Epoch 4/10\n",
      "1580/1580 [==============================] - 25s 16ms/step - loss: 0.4892 - accuracy: 0.6775\n",
      "Epoch 5/10\n",
      "1580/1580 [==============================] - 25s 16ms/step - loss: 0.4796 - accuracy: 0.6818\n",
      "Epoch 6/10\n",
      "1580/1580 [==============================] - 23s 15ms/step - loss: 0.4783 - accuracy: 0.6877\n",
      "Epoch 7/10\n",
      "1580/1580 [==============================] - 22s 14ms/step - loss: 0.4749 - accuracy: 0.6862\n",
      "Epoch 8/10\n",
      "1580/1580 [==============================] - 22s 14ms/step - loss: 0.4449 - accuracy: 0.6971\n",
      "Epoch 9/10\n",
      "1580/1580 [==============================] - 20s 12ms/step - loss: 0.4265 - accuracy: 0.7005\n",
      "Epoch 10/10\n",
      "1580/1580 [==============================] - 19s 12ms/step - loss: 0.4247 - accuracy: 0.7024\n"
     ]
    },
    {
     "data": {
      "text/plain": [
       "<tensorflow.python.keras.callbacks.History at 0x227996b1a88>"
      ]
     },
     "execution_count": 14,
     "metadata": {},
     "output_type": "execute_result"
    }
   ],
   "source": [
    "model_chi = models.Sequential([\n",
    "    layers.Dense(2000, input_dim=5, activation='sigmoid'),\n",
    "    layers.Dense(500, activation='sigmoid'),\n",
    "    layers.Dense(500, activation='sigmoid'),\n",
    "    layers.Dense(2, activation='softmax')\n",
    "])\n",
    "model_chi.compile(optimizer=\"adam\",loss=\"sparse_categorical_crossentropy\",metrics=['accuracy'])\n",
    "model_chi.fit(x_train, y_train, epochs=10)"
   ]
  },
  {
   "cell_type": "code",
   "execution_count": 15,
   "metadata": {},
   "outputs": [],
   "source": [
    "y_pred_train = model_chi.predict(x_train)\n",
    "y_pred_test = model_chi.predict(x_test)"
   ]
  },
  {
   "cell_type": "markdown",
   "metadata": {},
   "source": [
    "#### Training "
   ]
  },
  {
   "cell_type": "code",
   "execution_count": 16,
   "metadata": {},
   "outputs": [
    {
     "name": "stdout",
     "output_type": "stream",
     "text": [
      "[[15425 15344]\n",
      " [   33 19738]]\n",
      "              precision    recall  f1-score   support\n",
      "\n",
      "           0       1.00      0.50      0.67     30769\n",
      "           1       0.56      1.00      0.72     19771\n",
      "\n",
      "    accuracy                           0.70     50540\n",
      "   macro avg       0.78      0.75      0.69     50540\n",
      "weighted avg       0.83      0.70      0.69     50540\n",
      "\n",
      "Accuracy: 69.57459438068855\n"
     ]
    }
   ],
   "source": [
    "import warnings\n",
    "warnings.filterwarnings('ignore')\n",
    "y_pred_train = [np.argmax(element) for element in y_pred_train]\n",
    "print(confusion_matrix(y_train, y_pred_train))\n",
    "print(classification_report(y_train, y_pred_train))\n",
    "print(\"Accuracy:\",accuracy_score(y_train, y_pred_train)*100)\n"
   ]
  },
  {
   "cell_type": "markdown",
   "metadata": {},
   "source": [
    "#### Testing "
   ]
  },
  {
   "cell_type": "code",
   "execution_count": 17,
   "metadata": {},
   "outputs": [
    {
     "name": "stdout",
     "output_type": "stream",
     "text": [
      "[[6609 6641]\n",
      " [  10 8401]]\n",
      "              precision    recall  f1-score   support\n",
      "\n",
      "           0       1.00      0.50      0.67     13250\n",
      "           1       0.56      1.00      0.72      8411\n",
      "\n",
      "    accuracy                           0.69     21661\n",
      "   macro avg       0.78      0.75      0.69     21661\n",
      "weighted avg       0.83      0.69      0.69     21661\n",
      "\n",
      "Accuracy: 69.29504639674991\n"
     ]
    }
   ],
   "source": [
    "warnings.filterwarnings('ignore')\n",
    "y_pred_test = [np.argmax(element) for element in y_pred_test]\n",
    "print(confusion_matrix(y_test, y_pred_test))\n",
    "print(classification_report(y_test, y_pred_test))\n",
    "print(\"Accuracy:\",accuracy_score(y_test, y_pred_test)*100)"
   ]
  },
  {
   "cell_type": "code",
   "execution_count": 18,
   "metadata": {},
   "outputs": [],
   "source": [
    "model_chi.save('ann_chi.h5')"
   ]
  },
  {
   "cell_type": "markdown",
   "metadata": {},
   "source": [
    "### Feature Selection Model "
   ]
  },
  {
   "cell_type": "code",
   "execution_count": 19,
   "metadata": {},
   "outputs": [],
   "source": [
    "#Splitting Data \n",
    "\n",
    "x_train,x_test,y_train,y_test = train_test_split(feature_selection_x,feature_selection_y,test_size=0.30,random_state=5)"
   ]
  },
  {
   "cell_type": "code",
   "execution_count": 20,
   "metadata": {},
   "outputs": [
    {
     "name": "stdout",
     "output_type": "stream",
     "text": [
      "Epoch 1/10\n",
      "1580/1580 [==============================] - 18s 11ms/step - loss: 0.3860 - accuracy: 0.8225\n",
      "Epoch 2/10\n",
      "1580/1580 [==============================] - 17s 11ms/step - loss: 0.2460 - accuracy: 0.8996\n",
      "Epoch 3/10\n",
      "1580/1580 [==============================] - 17s 11ms/step - loss: 0.2377 - accuracy: 0.9048\n",
      "Epoch 4/10\n",
      "1580/1580 [==============================] - 19s 12ms/step - loss: 0.2221 - accuracy: 0.9098\n",
      "Epoch 5/10\n",
      "1580/1580 [==============================] - 18s 11ms/step - loss: 0.2191 - accuracy: 0.9122\n",
      "Epoch 6/10\n",
      "1580/1580 [==============================] - 20s 12ms/step - loss: 0.2158 - accuracy: 0.9147\n",
      "Epoch 7/10\n",
      "1580/1580 [==============================] - 21s 13ms/step - loss: 0.2052 - accuracy: 0.9203\n",
      "Epoch 8/10\n",
      "1580/1580 [==============================] - 21s 13ms/step - loss: 0.2039 - accuracy: 0.9243\n",
      "Epoch 9/10\n",
      "1580/1580 [==============================] - 22s 14ms/step - loss: 0.1962 - accuracy: 0.9283\n",
      "Epoch 10/10\n",
      "1580/1580 [==============================] - 23s 15ms/step - loss: 0.1875 - accuracy: 0.9336\n"
     ]
    },
    {
     "data": {
      "text/plain": [
       "<tensorflow.python.keras.callbacks.History at 0x22799b217c8>"
      ]
     },
     "execution_count": 20,
     "metadata": {},
     "output_type": "execute_result"
    }
   ],
   "source": [
    "model_feature_selection = models.Sequential([\n",
    "    layers.Dense(2000, input_dim=5, activation='relu'),\n",
    "    layers.Dense(500, activation='sigmoid'),\n",
    "    layers.Dense(500, activation='relu'),\n",
    "    layers.Dense(2, activation='softmax')\n",
    "])\n",
    "model_feature_selection.compile(optimizer=\"adam\",loss=\"sparse_categorical_crossentropy\",metrics=['accuracy'])\n",
    "model_feature_selection.fit(x_train, y_train, epochs=10)"
   ]
  },
  {
   "cell_type": "code",
   "execution_count": 21,
   "metadata": {},
   "outputs": [],
   "source": [
    "y_pred_train = model_feature_selection.predict(x_train)\n",
    "y_pred_test = model_feature_selection.predict(x_test)"
   ]
  },
  {
   "cell_type": "markdown",
   "metadata": {},
   "source": [
    "#### Training"
   ]
  },
  {
   "cell_type": "code",
   "execution_count": 22,
   "metadata": {},
   "outputs": [
    {
     "name": "stdout",
     "output_type": "stream",
     "text": [
      "[[29678  1232]\n",
      " [ 1895 17735]]\n",
      "              precision    recall  f1-score   support\n",
      "\n",
      "           0       0.94      0.96      0.95     30910\n",
      "           1       0.94      0.90      0.92     19630\n",
      "\n",
      "    accuracy                           0.94     50540\n",
      "   macro avg       0.94      0.93      0.93     50540\n",
      "weighted avg       0.94      0.94      0.94     50540\n",
      "\n",
      "Accuracy: 93.81282152750296\n"
     ]
    }
   ],
   "source": [
    "import warnings\n",
    "warnings.filterwarnings('ignore')\n",
    "y_pred_train = [np.argmax(element) for element in y_pred_train]\n",
    "print(confusion_matrix(y_train, y_pred_train))\n",
    "print(classification_report(y_train, y_pred_train))\n",
    "print(\"Accuracy:\",accuracy_score(y_train, y_pred_train)*100)\n"
   ]
  },
  {
   "cell_type": "markdown",
   "metadata": {},
   "source": [
    "#### Testing "
   ]
  },
  {
   "cell_type": "code",
   "execution_count": 23,
   "metadata": {},
   "outputs": [
    {
     "name": "stdout",
     "output_type": "stream",
     "text": [
      "[[12591   518]\n",
      " [  808  7744]]\n",
      "              precision    recall  f1-score   support\n",
      "\n",
      "           0       0.94      0.96      0.95     13109\n",
      "           1       0.94      0.91      0.92      8552\n",
      "\n",
      "    accuracy                           0.94     21661\n",
      "   macro avg       0.94      0.93      0.94     21661\n",
      "weighted avg       0.94      0.94      0.94     21661\n",
      "\n",
      "Accuracy: 93.87839896588338\n"
     ]
    }
   ],
   "source": [
    "warnings.filterwarnings('ignore')\n",
    "y_pred_test = [np.argmax(element) for element in y_pred_test]\n",
    "print(confusion_matrix(y_test, y_pred_test))\n",
    "print(classification_report(y_test, y_pred_test))\n",
    "print(\"Accuracy:\",accuracy_score(y_test, y_pred_test)*100)"
   ]
  },
  {
   "cell_type": "code",
   "execution_count": 25,
   "metadata": {},
   "outputs": [],
   "source": [
    "model_feature_selection.save('ann_feature.h5')"
   ]
  },
  {
   "cell_type": "markdown",
   "metadata": {},
   "source": [
    "### Slice Model "
   ]
  },
  {
   "cell_type": "code",
   "execution_count": 26,
   "metadata": {},
   "outputs": [],
   "source": [
    "#Splitting Data \n",
    "\n",
    "x_train,x_test,y_train,y_test = train_test_split(slice_x,slice_y,test_size=0.20,random_state=4)"
   ]
  },
  {
   "cell_type": "code",
   "execution_count": 27,
   "metadata": {},
   "outputs": [
    {
     "name": "stdout",
     "output_type": "stream",
     "text": [
      "Epoch 1/20\n",
      "1805/1805 [==============================] - 19s 10ms/step - loss: 0.4644 - accuracy: 0.7164\n",
      "Epoch 2/20\n",
      "1805/1805 [==============================] - 18s 10ms/step - loss: 0.3773 - accuracy: 0.7772\n",
      "Epoch 3/20\n",
      "1805/1805 [==============================] - 18s 10ms/step - loss: 0.3584 - accuracy: 0.7971\n",
      "Epoch 4/20\n",
      "1805/1805 [==============================] - 18s 10ms/step - loss: 0.3433 - accuracy: 0.8048\n",
      "Epoch 5/20\n",
      "1805/1805 [==============================] - 18s 10ms/step - loss: 0.3302 - accuracy: 0.8111\n",
      "Epoch 6/20\n",
      "1805/1805 [==============================] - 18s 10ms/step - loss: 0.3184 - accuracy: 0.8223\n",
      "Epoch 7/20\n",
      "1805/1805 [==============================] - 18s 10ms/step - loss: 0.3070 - accuracy: 0.8287\n",
      "Epoch 8/20\n",
      "1805/1805 [==============================] - 18s 10ms/step - loss: 0.2939 - accuracy: 0.8328\n",
      "Epoch 9/20\n",
      "1805/1805 [==============================] - 17s 10ms/step - loss: 0.2818 - accuracy: 0.8431\n",
      "Epoch 10/20\n",
      "1805/1805 [==============================] - 18s 10ms/step - loss: 0.2814 - accuracy: 0.8429\n",
      "Epoch 11/20\n",
      "1805/1805 [==============================] - 18s 10ms/step - loss: 0.2777 - accuracy: 0.8437\n",
      "Epoch 12/20\n",
      "1805/1805 [==============================] - 18s 10ms/step - loss: 0.2732 - accuracy: 0.8436\n",
      "Epoch 13/20\n",
      "1805/1805 [==============================] - 18s 10ms/step - loss: 0.2687 - accuracy: 0.8498\n",
      "Epoch 14/20\n",
      "1805/1805 [==============================] - 18s 10ms/step - loss: 0.2635 - accuracy: 0.8500\n",
      "Epoch 15/20\n",
      "1805/1805 [==============================] - 18s 10ms/step - loss: 0.2651 - accuracy: 0.8514\n",
      "Epoch 16/20\n",
      "1805/1805 [==============================] - 18s 10ms/step - loss: 0.2633 - accuracy: 0.8503\n",
      "Epoch 17/20\n",
      "1805/1805 [==============================] - 19s 11ms/step - loss: 0.2558 - accuracy: 0.8562\n",
      "Epoch 18/20\n",
      "1805/1805 [==============================] - 21s 11ms/step - loss: 0.2559 - accuracy: 0.8560\n",
      "Epoch 19/20\n",
      "1805/1805 [==============================] - 22s 12ms/step - loss: 0.2502 - accuracy: 0.8596\n",
      "Epoch 20/20\n",
      "1805/1805 [==============================] - 24s 13ms/step - loss: 0.2491 - accuracy: 0.8620\n"
     ]
    },
    {
     "data": {
      "text/plain": [
       "<tensorflow.python.keras.callbacks.History at 0x227a1077888>"
      ]
     },
     "execution_count": 27,
     "metadata": {},
     "output_type": "execute_result"
    }
   ],
   "source": [
    "model_slice = models.Sequential([\n",
    "    layers.Dense(2000, input_dim=4, activation='relu'),\n",
    "    layers.Dense(500, activation='sigmoid'),\n",
    "    layers.Dense(50, activation='relu'),\n",
    "    layers.Dense(2, activation='softmax')\n",
    "])\n",
    "model_slice.compile(optimizer=\"adam\",loss=\"sparse_categorical_crossentropy\",metrics=['accuracy'])\n",
    "model_slice.fit(x_train, y_train, epochs=20)"
   ]
  },
  {
   "cell_type": "code",
   "execution_count": 28,
   "metadata": {},
   "outputs": [],
   "source": [
    "y_pred_train = model_slice.predict(x_train)\n",
    "y_pred_test = model_slice.predict(x_test)"
   ]
  },
  {
   "cell_type": "markdown",
   "metadata": {},
   "source": [
    "#### Training "
   ]
  },
  {
   "cell_type": "code",
   "execution_count": 29,
   "metadata": {},
   "outputs": [
    {
     "name": "stdout",
     "output_type": "stream",
     "text": [
      "[[28954  6287]\n",
      " [ 2379 20140]]\n",
      "              precision    recall  f1-score   support\n",
      "\n",
      "           0       0.92      0.82      0.87     35241\n",
      "           1       0.76      0.89      0.82     22519\n",
      "\n",
      "    accuracy                           0.85     57760\n",
      "   macro avg       0.84      0.86      0.85     57760\n",
      "weighted avg       0.86      0.85      0.85     57760\n",
      "\n",
      "Accuracy: 84.99653739612188\n"
     ]
    }
   ],
   "source": [
    "import warnings\n",
    "warnings.filterwarnings('ignore')\n",
    "y_pred_train = [np.argmax(element) for element in y_pred_train]\n",
    "print(confusion_matrix(y_train, y_pred_train))\n",
    "print(classification_report(y_train, y_pred_train))\n",
    "print(\"Accuracy:\",accuracy_score(y_train, y_pred_train)*100)\n"
   ]
  },
  {
   "cell_type": "markdown",
   "metadata": {},
   "source": [
    "#### Testing "
   ]
  },
  {
   "cell_type": "code",
   "execution_count": 30,
   "metadata": {},
   "outputs": [
    {
     "name": "stdout",
     "output_type": "stream",
     "text": [
      "[[7201 1577]\n",
      " [ 574 5089]]\n",
      "              precision    recall  f1-score   support\n",
      "\n",
      "           0       0.93      0.82      0.87      8778\n",
      "           1       0.76      0.90      0.83      5663\n",
      "\n",
      "    accuracy                           0.85     14441\n",
      "   macro avg       0.84      0.86      0.85     14441\n",
      "weighted avg       0.86      0.85      0.85     14441\n",
      "\n",
      "Accuracy: 85.10490963229694\n"
     ]
    }
   ],
   "source": [
    "warnings.filterwarnings('ignore')\n",
    "y_pred_test = [np.argmax(element) for element in y_pred_test]\n",
    "print(confusion_matrix(y_test, y_pred_test))\n",
    "print(classification_report(y_test, y_pred_test))\n",
    "print(\"Accuracy:\",accuracy_score(y_test, y_pred_test)*100)"
   ]
  },
  {
   "cell_type": "code",
   "execution_count": 31,
   "metadata": {},
   "outputs": [],
   "source": [
    "model_slice.save('ann_slice.h5')"
   ]
  }
 ],
 "metadata": {
  "interpreter": {
   "hash": "5d87b42201e74ac320bc00dce267d44f5f134edfec9046f67f672f289707ff6a"
  },
  "kernelspec": {
   "display_name": "Python 3.7.4 64-bit",
   "language": "python",
   "name": "python3"
  },
  "language_info": {
   "codemirror_mode": {
    "name": "ipython",
    "version": 3
   },
   "file_extension": ".py",
   "mimetype": "text/x-python",
   "name": "python",
   "nbconvert_exporter": "python",
   "pygments_lexer": "ipython3",
   "version": "3.7.4"
  },
  "orig_nbformat": 4
 },
 "nbformat": 4,
 "nbformat_minor": 2
}
