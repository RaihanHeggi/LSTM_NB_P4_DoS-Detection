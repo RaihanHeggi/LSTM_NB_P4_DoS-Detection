{
 "cells": [
  {
   "cell_type": "code",
   "execution_count": 1,
   "metadata": {},
   "outputs": [],
   "source": [
    "import pandas as pd \n",
    "import matplotlib.pyplot as plt \n",
    "import seaborn as sn \n",
    "import numpy as np \n",
    "from tensorflow.keras import datasets, layers , models \n",
    "from sklearn.model_selection import cross_val_score\n",
    "from sklearn.metrics import confusion_matrix\n",
    "from sklearn.metrics import accuracy_score\n",
    "from sklearn.metrics import classification_report\n",
    "from sklearn.metrics import confusion_matrix\n",
    "from sklearn.model_selection import train_test_split"
   ]
  },
  {
   "cell_type": "markdown",
   "metadata": {},
   "source": [
    "### Loading Dataset "
   ]
  },
  {
   "cell_type": "code",
   "execution_count": 2,
   "metadata": {},
   "outputs": [],
   "source": [
    "df_full_feature = pd.read_csv('../Dataset/Normalisasi/processed_dataset_10_norm.csv',sep=',')\n",
    "df_chi_square = pd.read_csv('../Dataset/Normalisasi/processed_dataset_chi_square_norm.csv', sep=',')\n",
    "df_feature_selection = pd.read_csv('../Dataset/Normalisasi/processed_dataset_5_norm.csv',sep=',')\n",
    "df_slice = pd.read_csv('../Dataset/Normalisasi/processed_dataset_slice_norm.csv',sep=',')"
   ]
  },
  {
   "cell_type": "markdown",
   "metadata": {},
   "source": [
    "### Splitting Variable "
   ]
  },
  {
   "cell_type": "code",
   "execution_count": 3,
   "metadata": {},
   "outputs": [
    {
     "data": {
      "text/html": [
       "<div>\n",
       "<style scoped>\n",
       "    .dataframe tbody tr th:only-of-type {\n",
       "        vertical-align: middle;\n",
       "    }\n",
       "\n",
       "    .dataframe tbody tr th {\n",
       "        vertical-align: top;\n",
       "    }\n",
       "\n",
       "    .dataframe thead th {\n",
       "        text-align: right;\n",
       "    }\n",
       "</style>\n",
       "<table border=\"1\" class=\"dataframe\">\n",
       "  <thead>\n",
       "    <tr style=\"text-align: right;\">\n",
       "      <th></th>\n",
       "      <th>src</th>\n",
       "      <th>dst</th>\n",
       "      <th>Protocol</th>\n",
       "      <th>pktrate</th>\n",
       "      <th>pktperflow</th>\n",
       "      <th>dur</th>\n",
       "      <th>dur_nsec</th>\n",
       "      <th>bytecount</th>\n",
       "      <th>pktcount</th>\n",
       "    </tr>\n",
       "  </thead>\n",
       "  <tbody>\n",
       "    <tr>\n",
       "      <th>0</th>\n",
       "      <td>0.055556</td>\n",
       "      <td>0.647059</td>\n",
       "      <td>0.0</td>\n",
       "      <td>0.000000</td>\n",
       "      <td>0.001511</td>\n",
       "      <td>0.522594</td>\n",
       "      <td>0.235235</td>\n",
       "      <td>0.000640</td>\n",
       "      <td>0.003696</td>\n",
       "    </tr>\n",
       "    <tr>\n",
       "      <th>1</th>\n",
       "      <td>0.333333</td>\n",
       "      <td>0.705882</td>\n",
       "      <td>0.5</td>\n",
       "      <td>0.799687</td>\n",
       "      <td>0.799583</td>\n",
       "      <td>0.204147</td>\n",
       "      <td>0.114114</td>\n",
       "      <td>0.081254</td>\n",
       "      <td>0.851453</td>\n",
       "    </tr>\n",
       "    <tr>\n",
       "      <th>2</th>\n",
       "      <td>0.555556</td>\n",
       "      <td>0.882353</td>\n",
       "      <td>0.0</td>\n",
       "      <td>0.001565</td>\n",
       "      <td>0.001563</td>\n",
       "      <td>0.436470</td>\n",
       "      <td>0.243243</td>\n",
       "      <td>0.000534</td>\n",
       "      <td>0.003081</td>\n",
       "    </tr>\n",
       "    <tr>\n",
       "      <th>3</th>\n",
       "      <td>0.833333</td>\n",
       "      <td>0.941176</td>\n",
       "      <td>0.5</td>\n",
       "      <td>0.516432</td>\n",
       "      <td>0.516884</td>\n",
       "      <td>0.052100</td>\n",
       "      <td>0.622623</td>\n",
       "      <td>0.014585</td>\n",
       "      <td>0.125043</td>\n",
       "    </tr>\n",
       "    <tr>\n",
       "      <th>4</th>\n",
       "      <td>0.111111</td>\n",
       "      <td>0.647059</td>\n",
       "      <td>1.0</td>\n",
       "      <td>0.428795</td>\n",
       "      <td>0.428504</td>\n",
       "      <td>0.152578</td>\n",
       "      <td>0.579580</td>\n",
       "      <td>0.618070</td>\n",
       "      <td>0.335646</td>\n",
       "    </tr>\n",
       "  </tbody>\n",
       "</table>\n",
       "</div>"
      ],
      "text/plain": [
       "        src       dst  Protocol   pktrate  pktperflow       dur  dur_nsec  \\\n",
       "0  0.055556  0.647059       0.0  0.000000    0.001511  0.522594  0.235235   \n",
       "1  0.333333  0.705882       0.5  0.799687    0.799583  0.204147  0.114114   \n",
       "2  0.555556  0.882353       0.0  0.001565    0.001563  0.436470  0.243243   \n",
       "3  0.833333  0.941176       0.5  0.516432    0.516884  0.052100  0.622623   \n",
       "4  0.111111  0.647059       1.0  0.428795    0.428504  0.152578  0.579580   \n",
       "\n",
       "   bytecount  pktcount  \n",
       "0   0.000640  0.003696  \n",
       "1   0.081254  0.851453  \n",
       "2   0.000534  0.003081  \n",
       "3   0.014585  0.125043  \n",
       "4   0.618070  0.335646  "
      ]
     },
     "execution_count": 3,
     "metadata": {},
     "output_type": "execute_result"
    }
   ],
   "source": [
    "# Dataset Full Feature\n",
    "full_feature_x = df_full_feature[df_full_feature.columns[:9]]\n",
    "full_feature_y = df_full_feature['label']\n",
    "\n",
    "full_feature_x.head(5)"
   ]
  },
  {
   "cell_type": "code",
   "execution_count": 4,
   "metadata": {},
   "outputs": [
    {
     "data": {
      "text/html": [
       "<div>\n",
       "<style scoped>\n",
       "    .dataframe tbody tr th:only-of-type {\n",
       "        vertical-align: middle;\n",
       "    }\n",
       "\n",
       "    .dataframe tbody tr th {\n",
       "        vertical-align: top;\n",
       "    }\n",
       "\n",
       "    .dataframe thead th {\n",
       "        text-align: right;\n",
       "    }\n",
       "</style>\n",
       "<table border=\"1\" class=\"dataframe\">\n",
       "  <thead>\n",
       "    <tr style=\"text-align: right;\">\n",
       "      <th></th>\n",
       "      <th>dst</th>\n",
       "      <th>src</th>\n",
       "      <th>Protocol</th>\n",
       "      <th>pktcount</th>\n",
       "      <th>pktcount.1</th>\n",
       "    </tr>\n",
       "  </thead>\n",
       "  <tbody>\n",
       "    <tr>\n",
       "      <th>0</th>\n",
       "      <td>0.647059</td>\n",
       "      <td>0.055556</td>\n",
       "      <td>0.0</td>\n",
       "      <td>0.003696</td>\n",
       "      <td>0.003696</td>\n",
       "    </tr>\n",
       "    <tr>\n",
       "      <th>1</th>\n",
       "      <td>0.705882</td>\n",
       "      <td>0.333333</td>\n",
       "      <td>0.5</td>\n",
       "      <td>0.851453</td>\n",
       "      <td>0.851453</td>\n",
       "    </tr>\n",
       "    <tr>\n",
       "      <th>2</th>\n",
       "      <td>0.882353</td>\n",
       "      <td>0.555556</td>\n",
       "      <td>0.0</td>\n",
       "      <td>0.003081</td>\n",
       "      <td>0.003081</td>\n",
       "    </tr>\n",
       "    <tr>\n",
       "      <th>3</th>\n",
       "      <td>0.941176</td>\n",
       "      <td>0.833333</td>\n",
       "      <td>0.5</td>\n",
       "      <td>0.125043</td>\n",
       "      <td>0.125043</td>\n",
       "    </tr>\n",
       "    <tr>\n",
       "      <th>4</th>\n",
       "      <td>0.647059</td>\n",
       "      <td>0.111111</td>\n",
       "      <td>1.0</td>\n",
       "      <td>0.335646</td>\n",
       "      <td>0.335646</td>\n",
       "    </tr>\n",
       "  </tbody>\n",
       "</table>\n",
       "</div>"
      ],
      "text/plain": [
       "        dst       src  Protocol  pktcount  pktcount.1\n",
       "0  0.647059  0.055556       0.0  0.003696    0.003696\n",
       "1  0.705882  0.333333       0.5  0.851453    0.851453\n",
       "2  0.882353  0.555556       0.0  0.003081    0.003081\n",
       "3  0.941176  0.833333       0.5  0.125043    0.125043\n",
       "4  0.647059  0.111111       1.0  0.335646    0.335646"
      ]
     },
     "execution_count": 4,
     "metadata": {},
     "output_type": "execute_result"
    }
   ],
   "source": [
    "# Dataset Chi Square \n",
    "chi_square_x = df_chi_square[df_chi_square.columns[:5]]\n",
    "chi_square_y = df_chi_square['label']\n",
    "\n",
    "chi_square_x.head(5)"
   ]
  },
  {
   "cell_type": "code",
   "execution_count": 5,
   "metadata": {},
   "outputs": [
    {
     "data": {
      "text/html": [
       "<div>\n",
       "<style scoped>\n",
       "    .dataframe tbody tr th:only-of-type {\n",
       "        vertical-align: middle;\n",
       "    }\n",
       "\n",
       "    .dataframe tbody tr th {\n",
       "        vertical-align: top;\n",
       "    }\n",
       "\n",
       "    .dataframe thead th {\n",
       "        text-align: right;\n",
       "    }\n",
       "</style>\n",
       "<table border=\"1\" class=\"dataframe\">\n",
       "  <thead>\n",
       "    <tr style=\"text-align: right;\">\n",
       "      <th></th>\n",
       "      <th>pktrate</th>\n",
       "      <th>pktperflow</th>\n",
       "      <th>Protocol</th>\n",
       "      <th>src</th>\n",
       "      <th>dst</th>\n",
       "    </tr>\n",
       "  </thead>\n",
       "  <tbody>\n",
       "    <tr>\n",
       "      <th>0</th>\n",
       "      <td>0.000000</td>\n",
       "      <td>0.001511</td>\n",
       "      <td>0.0</td>\n",
       "      <td>0.055556</td>\n",
       "      <td>0.647059</td>\n",
       "    </tr>\n",
       "    <tr>\n",
       "      <th>1</th>\n",
       "      <td>0.799687</td>\n",
       "      <td>0.799583</td>\n",
       "      <td>0.5</td>\n",
       "      <td>0.333333</td>\n",
       "      <td>0.705882</td>\n",
       "    </tr>\n",
       "    <tr>\n",
       "      <th>2</th>\n",
       "      <td>0.001565</td>\n",
       "      <td>0.001563</td>\n",
       "      <td>0.0</td>\n",
       "      <td>0.555556</td>\n",
       "      <td>0.882353</td>\n",
       "    </tr>\n",
       "    <tr>\n",
       "      <th>3</th>\n",
       "      <td>0.516432</td>\n",
       "      <td>0.516884</td>\n",
       "      <td>0.5</td>\n",
       "      <td>0.833333</td>\n",
       "      <td>0.941176</td>\n",
       "    </tr>\n",
       "    <tr>\n",
       "      <th>4</th>\n",
       "      <td>0.428795</td>\n",
       "      <td>0.428504</td>\n",
       "      <td>1.0</td>\n",
       "      <td>0.111111</td>\n",
       "      <td>0.647059</td>\n",
       "    </tr>\n",
       "  </tbody>\n",
       "</table>\n",
       "</div>"
      ],
      "text/plain": [
       "    pktrate  pktperflow  Protocol       src       dst\n",
       "0  0.000000    0.001511       0.0  0.055556  0.647059\n",
       "1  0.799687    0.799583       0.5  0.333333  0.705882\n",
       "2  0.001565    0.001563       0.0  0.555556  0.882353\n",
       "3  0.516432    0.516884       0.5  0.833333  0.941176\n",
       "4  0.428795    0.428504       1.0  0.111111  0.647059"
      ]
     },
     "execution_count": 5,
     "metadata": {},
     "output_type": "execute_result"
    }
   ],
   "source": [
    "# Dataset Feature Selection\n",
    "feature_selection_x = df_feature_selection[df_feature_selection.columns[:5]]\n",
    "feature_selection_y = df_feature_selection['label']\n",
    "\n",
    "feature_selection_x.head(5)"
   ]
  },
  {
   "cell_type": "code",
   "execution_count": 6,
   "metadata": {},
   "outputs": [
    {
     "data": {
      "text/html": [
       "<div>\n",
       "<style scoped>\n",
       "    .dataframe tbody tr th:only-of-type {\n",
       "        vertical-align: middle;\n",
       "    }\n",
       "\n",
       "    .dataframe tbody tr th {\n",
       "        vertical-align: top;\n",
       "    }\n",
       "\n",
       "    .dataframe thead th {\n",
       "        text-align: right;\n",
       "    }\n",
       "</style>\n",
       "<table border=\"1\" class=\"dataframe\">\n",
       "  <thead>\n",
       "    <tr style=\"text-align: right;\">\n",
       "      <th></th>\n",
       "      <th>dst</th>\n",
       "      <th>src</th>\n",
       "      <th>Protocol</th>\n",
       "      <th>bytecount</th>\n",
       "    </tr>\n",
       "  </thead>\n",
       "  <tbody>\n",
       "    <tr>\n",
       "      <th>0</th>\n",
       "      <td>0.647059</td>\n",
       "      <td>0.055556</td>\n",
       "      <td>0.0</td>\n",
       "      <td>0.000640</td>\n",
       "    </tr>\n",
       "    <tr>\n",
       "      <th>1</th>\n",
       "      <td>0.705882</td>\n",
       "      <td>0.333333</td>\n",
       "      <td>0.5</td>\n",
       "      <td>0.081254</td>\n",
       "    </tr>\n",
       "    <tr>\n",
       "      <th>2</th>\n",
       "      <td>0.882353</td>\n",
       "      <td>0.555556</td>\n",
       "      <td>0.0</td>\n",
       "      <td>0.000534</td>\n",
       "    </tr>\n",
       "    <tr>\n",
       "      <th>3</th>\n",
       "      <td>0.941176</td>\n",
       "      <td>0.833333</td>\n",
       "      <td>0.5</td>\n",
       "      <td>0.014585</td>\n",
       "    </tr>\n",
       "    <tr>\n",
       "      <th>4</th>\n",
       "      <td>0.647059</td>\n",
       "      <td>0.111111</td>\n",
       "      <td>1.0</td>\n",
       "      <td>0.618070</td>\n",
       "    </tr>\n",
       "  </tbody>\n",
       "</table>\n",
       "</div>"
      ],
      "text/plain": [
       "        dst       src  Protocol  bytecount\n",
       "0  0.647059  0.055556       0.0   0.000640\n",
       "1  0.705882  0.333333       0.5   0.081254\n",
       "2  0.882353  0.555556       0.0   0.000534\n",
       "3  0.941176  0.833333       0.5   0.014585\n",
       "4  0.647059  0.111111       1.0   0.618070"
      ]
     },
     "execution_count": 6,
     "metadata": {},
     "output_type": "execute_result"
    }
   ],
   "source": [
    "# Dataset Slice\n",
    "slice_x = df_slice[df_slice.columns[:4]]\n",
    "slice_y= df_slice['label']\n",
    "\n",
    "slice_x.head(5)"
   ]
  },
  {
   "cell_type": "markdown",
   "metadata": {},
   "source": [
    "### Full Model"
   ]
  },
  {
   "cell_type": "code",
   "execution_count": 7,
   "metadata": {},
   "outputs": [],
   "source": [
    "#Splitting Data \n",
    "\n",
    "x_train,x_test,y_train,y_test = train_test_split(full_feature_x,full_feature_y,test_size=0.30,random_state=9)"
   ]
  },
  {
   "cell_type": "code",
   "execution_count": 8,
   "metadata": {},
   "outputs": [
    {
     "name": "stdout",
     "output_type": "stream",
     "text": [
      "Epoch 1/10\n",
      "1580/1580 [==============================] - 37s 23ms/step - loss: 0.6143 - accuracy: 0.64530s - loss: 0.6147 - accuracy: \n",
      "Epoch 2/10\n",
      "1580/1580 [==============================] - 41s 26ms/step - loss: 0.3019 - accuracy: 0.8736\n",
      "Epoch 3/10\n",
      "1580/1580 [==============================] - 36s 23ms/step - loss: 0.2306 - accuracy: 0.8741\n",
      "Epoch 4/10\n",
      "1580/1580 [==============================] - 34s 22ms/step - loss: 0.2142 - accuracy: 0.8791\n",
      "Epoch 5/10\n",
      "1580/1580 [==============================] - ETA: 0s - loss: 0.2007 - accuracy: 0.88 - 34s 22ms/step - loss: 0.2007 - accuracy: 0.8872\n",
      "Epoch 6/10\n",
      "1580/1580 [==============================] - 34s 21ms/step - loss: 0.1840 - accuracy: 0.9044\n",
      "Epoch 7/10\n",
      "1580/1580 [==============================] - 34s 22ms/step - loss: 0.1782 - accuracy: 0.91161s - loss: 0.1783 - accuracy\n",
      "Epoch 8/10\n",
      "1580/1580 [==============================] - 35s 22ms/step - loss: 0.1729 - accuracy: 0.9165\n",
      "Epoch 9/10\n",
      "1580/1580 [==============================] - 34s 22ms/step - loss: 0.1685 - accuracy: 0.9234\n",
      "Epoch 10/10\n",
      "1580/1580 [==============================] - 36s 23ms/step - loss: 0.1642 - accuracy: 0.9266\n"
     ]
    },
    {
     "data": {
      "text/plain": [
       "<tensorflow.python.keras.callbacks.History at 0x24d1ca40fc8>"
      ]
     },
     "execution_count": 8,
     "metadata": {},
     "output_type": "execute_result"
    }
   ],
   "source": [
    "model_full = models.Sequential([\n",
    "    layers.Dense(2000, input_dim=9, activation='sigmoid'),\n",
    "    layers.Dense(1000, activation='sigmoid'),\n",
    "    layers.Dense(500, activation='sigmoid'),\n",
    "    layers.Dense(2, activation='softmax')\n",
    "])\n",
    "model_full.compile(optimizer=\"adam\",loss=\"sparse_categorical_crossentropy\",metrics=['accuracy'])\n",
    "model_full.fit(x_train, y_train, epochs=10)"
   ]
  },
  {
   "cell_type": "code",
   "execution_count": 9,
   "metadata": {},
   "outputs": [],
   "source": [
    "y_pred_train = model_full.predict(x_train)\n",
    "y_pred_test = model_full.predict(x_test)"
   ]
  },
  {
   "cell_type": "markdown",
   "metadata": {},
   "source": [
    "#### Training "
   ]
  },
  {
   "cell_type": "code",
   "execution_count": 10,
   "metadata": {},
   "outputs": [
    {
     "name": "stdout",
     "output_type": "stream",
     "text": [
      "[[28159  2630]\n",
      " [  622 19129]]\n",
      "              precision    recall  f1-score   support\n",
      "\n",
      "           0       0.98      0.91      0.95     30789\n",
      "           1       0.88      0.97      0.92     19751\n",
      "\n",
      "    accuracy                           0.94     50540\n",
      "   macro avg       0.93      0.94      0.93     50540\n",
      "weighted avg       0.94      0.94      0.94     50540\n",
      "\n",
      "Accuracy: 93.56549267906608\n"
     ]
    }
   ],
   "source": [
    "import warnings\n",
    "warnings.filterwarnings('ignore')\n",
    "y_pred_train = [np.argmax(element) for element in y_pred_train]\n",
    "print(confusion_matrix(y_train, y_pred_train))\n",
    "print(classification_report(y_train, y_pred_train))\n",
    "print(\"Accuracy:\",accuracy_score(y_train, y_pred_train)*100)\n"
   ]
  },
  {
   "cell_type": "markdown",
   "metadata": {},
   "source": [
    "#### Testing "
   ]
  },
  {
   "cell_type": "code",
   "execution_count": 11,
   "metadata": {},
   "outputs": [
    {
     "name": "stdout",
     "output_type": "stream",
     "text": [
      "[[12095  1135]\n",
      " [  266  8165]]\n",
      "              precision    recall  f1-score   support\n",
      "\n",
      "           0       0.98      0.91      0.95     13230\n",
      "           1       0.88      0.97      0.92      8431\n",
      "\n",
      "    accuracy                           0.94     21661\n",
      "   macro avg       0.93      0.94      0.93     21661\n",
      "weighted avg       0.94      0.94      0.94     21661\n",
      "\n",
      "Accuracy: 93.53215456350122\n"
     ]
    }
   ],
   "source": [
    "warnings.filterwarnings('ignore')\n",
    "y_pred_test = [np.argmax(element) for element in y_pred_test]\n",
    "print(confusion_matrix(y_test, y_pred_test))\n",
    "print(classification_report(y_test, y_pred_test))\n",
    "print(\"Accuracy:\",accuracy_score(y_test, y_pred_test)*100)"
   ]
  },
  {
   "cell_type": "markdown",
   "metadata": {},
   "source": [
    "### Chi Model "
   ]
  },
  {
   "cell_type": "code",
   "execution_count": 12,
   "metadata": {},
   "outputs": [],
   "source": [
    "#Splitting Data \n",
    "\n",
    "x_train,x_test,y_train,y_test = train_test_split(chi_square_x,chi_square_y,test_size=0.30,random_state=10)"
   ]
  },
  {
   "cell_type": "code",
   "execution_count": 14,
   "metadata": {},
   "outputs": [
    {
     "name": "stdout",
     "output_type": "stream",
     "text": [
      "Epoch 1/10\n",
      "1580/1580 [==============================] - 21s 13ms/step - loss: 0.6356 - accuracy: 0.6132\n",
      "Epoch 2/10\n",
      "1580/1580 [==============================] - 23s 14ms/step - loss: 0.5056 - accuracy: 0.6677\n",
      "Epoch 3/10\n",
      "1580/1580 [==============================] - 21s 13ms/step - loss: 0.4963 - accuracy: 0.6682\n",
      "Epoch 4/10\n",
      "1580/1580 [==============================] - 20s 12ms/step - loss: 0.4937 - accuracy: 0.6739\n",
      "Epoch 5/10\n",
      "1580/1580 [==============================] - 21s 13ms/step - loss: 0.4914 - accuracy: 0.67820s - los\n",
      "Epoch 6/10\n",
      "1580/1580 [==============================] - 19s 12ms/step - loss: 0.4844 - accuracy: 0.6855\n",
      "Epoch 7/10\n",
      "1580/1580 [==============================] - 19s 12ms/step - loss: 0.4731 - accuracy: 0.7007\n",
      "Epoch 8/10\n",
      "1580/1580 [==============================] - 19s 12ms/step - loss: 0.4509 - accuracy: 0.7189\n",
      "Epoch 9/10\n",
      "1580/1580 [==============================] - 18s 12ms/step - loss: 0.4224 - accuracy: 0.72671s - l - ETA: 0s - loss: 0.4224 - accura\n",
      "Epoch 10/10\n",
      "1580/1580 [==============================] - 19s 12ms/step - loss: 0.4155 - accuracy: 0.7265\n"
     ]
    },
    {
     "data": {
      "text/plain": [
       "<tensorflow.python.keras.callbacks.History at 0x24d23e20a48>"
      ]
     },
     "execution_count": 14,
     "metadata": {},
     "output_type": "execute_result"
    }
   ],
   "source": [
    "model_chi = models.Sequential([\n",
    "    layers.Dense(2000, input_dim=5, activation='sigmoid'),\n",
    "    layers.Dense(500, activation='sigmoid'),\n",
    "    layers.Dense(500, activation='sigmoid'),\n",
    "    layers.Dense(2, activation='softmax')\n",
    "])\n",
    "model_chi.compile(optimizer=\"adam\",loss=\"sparse_categorical_crossentropy\",metrics=['accuracy'])\n",
    "model_chi.fit(x_train, y_train, epochs=10)"
   ]
  },
  {
   "cell_type": "code",
   "execution_count": null,
   "metadata": {},
   "outputs": [],
   "source": [
    "y_pred_train = model_chi.predict(x_train)\n",
    "y_pred_test = model_chi.predict(x_test)"
   ]
  },
  {
   "cell_type": "markdown",
   "metadata": {},
   "source": [
    "#### Training "
   ]
  },
  {
   "cell_type": "code",
   "execution_count": null,
   "metadata": {},
   "outputs": [
    {
     "name": "stdout",
     "output_type": "stream",
     "text": [
      "[[40255  3640]\n",
      " [  872 27434]]\n",
      "              precision    recall  f1-score   support\n",
      "\n",
      "           0       0.98      0.92      0.95     43895\n",
      "           1       0.88      0.97      0.92     28306\n",
      "\n",
      "    accuracy                           0.94     72201\n",
      "   macro avg       0.93      0.94      0.94     72201\n",
      "weighted avg       0.94      0.94      0.94     72201\n",
      "\n",
      "Accuracy: 93.75077907508206\n"
     ]
    }
   ],
   "source": [
    "import warnings\n",
    "warnings.filterwarnings('ignore')\n",
    "y_pred_train = [np.argmax(element) for element in y_pred_train]\n",
    "print(confusion_matrix(y_train, y_pred_train))\n",
    "print(classification_report(y_train, y_pred_train))\n",
    "print(\"Accuracy:\",accuracy_score(y_train, y_pred_train)*100)\n"
   ]
  },
  {
   "cell_type": "markdown",
   "metadata": {},
   "source": [
    "#### Testing "
   ]
  },
  {
   "cell_type": "code",
   "execution_count": null,
   "metadata": {},
   "outputs": [
    {
     "name": "stdout",
     "output_type": "stream",
     "text": [
      "[[17286  1614]\n",
      " [  369 11675]]\n",
      "              precision    recall  f1-score   support\n",
      "\n",
      "           0       0.98      0.91      0.95     18900\n",
      "           1       0.88      0.97      0.92     12044\n",
      "\n",
      "    accuracy                           0.94     30944\n",
      "   macro avg       0.93      0.94      0.93     30944\n",
      "weighted avg       0.94      0.94      0.94     30944\n",
      "\n",
      "Accuracy: 93.5916494312306\n"
     ]
    }
   ],
   "source": [
    "warnings.filterwarnings('ignore')\n",
    "y_pred_test = [np.argmax(element) for element in y_pred_test]\n",
    "print(confusion_matrix(y_test, y_pred_test))\n",
    "print(classification_report(y_test, y_pred_test))\n",
    "print(\"Accuracy:\",accuracy_score(y_test, y_pred_test)*100)"
   ]
  },
  {
   "cell_type": "markdown",
   "metadata": {},
   "source": [
    "### Feature Selection Model "
   ]
  },
  {
   "cell_type": "code",
   "execution_count": null,
   "metadata": {},
   "outputs": [],
   "source": [
    "#Splitting Data \n",
    "\n",
    "x_train,x_test,y_train,y_test = train_test_split(feature_selection_x,feature_selection_y,test_size=0.30,random_state=5)"
   ]
  },
  {
   "cell_type": "code",
   "execution_count": null,
   "metadata": {},
   "outputs": [
    {
     "name": "stdout",
     "output_type": "stream",
     "text": [
      "Epoch 1/10\n",
      "2257/2257 [==============================] - 25s 11ms/step - loss: 0.3661 - accuracy: 0.8359\n",
      "Epoch 2/10\n",
      "2257/2257 [==============================] - 25s 11ms/step - loss: 0.2414 - accuracy: 0.9028\n",
      "Epoch 3/10\n",
      "2257/2257 [==============================] - 27s 12ms/step - loss: 0.2300 - accuracy: 0.9069\n",
      "Epoch 4/10\n",
      "2257/2257 [==============================] - 28s 12ms/step - loss: 0.2235 - accuracy: 0.9091\n",
      "Epoch 5/10\n",
      "2257/2257 [==============================] - 32s 14ms/step - loss: 0.2126 - accuracy: 0.9159\n",
      "Epoch 6/10\n",
      "2257/2257 [==============================] - 32s 14ms/step - loss: 0.2049 - accuracy: 0.9231\n",
      "Epoch 7/10\n",
      "2257/2257 [==============================] - 28s 13ms/step - loss: 0.1934 - accuracy: 0.93000s - - ETA: 0s - loss: 0.1934 - accuracy: \n",
      "Epoch 8/10\n",
      "2257/2257 [==============================] - 31s 14ms/step - loss: 0.1815 - accuracy: 0.9339\n",
      "Epoch 9/10\n",
      "2257/2257 [==============================] - 27s 12ms/step - loss: 0.1834 - accuracy: 0.9331\n",
      "Epoch 10/10\n",
      "2257/2257 [==============================] - 31s 14ms/step - loss: 0.1745 - accuracy: 0.9356\n"
     ]
    },
    {
     "data": {
      "text/plain": [
       "<tensorflow.python.keras.callbacks.History at 0x2079740c5c8>"
      ]
     },
     "execution_count": 25,
     "metadata": {},
     "output_type": "execute_result"
    }
   ],
   "source": [
    "model_feature_selection = models.Sequential([\n",
    "    layers.Dense(2000, input_dim=5, activation='relu'),\n",
    "    layers.Dense(500, activation='sigmoid'),\n",
    "    layers.Dense(500, activation='relu'),\n",
    "    layers.Dense(2, activation='softmax')\n",
    "])\n",
    "model_feature_selection.compile(optimizer=\"adam\",loss=\"sparse_categorical_crossentropy\",metrics=['accuracy'])\n",
    "model_feature_selection.fit(x_train, y_train, epochs=10)"
   ]
  },
  {
   "cell_type": "code",
   "execution_count": null,
   "metadata": {},
   "outputs": [],
   "source": [
    "y_pred_train = model_feature_selection.predict(x_train)\n",
    "y_pred_test = model_feature_selection.predict(x_test)"
   ]
  },
  {
   "cell_type": "markdown",
   "metadata": {},
   "source": [
    "#### Training"
   ]
  },
  {
   "cell_type": "code",
   "execution_count": null,
   "metadata": {},
   "outputs": [
    {
     "name": "stdout",
     "output_type": "stream",
     "text": [
      "[[42358  1693]\n",
      " [ 2517 25633]]\n",
      "              precision    recall  f1-score   support\n",
      "\n",
      "           0       0.94      0.96      0.95     44051\n",
      "           1       0.94      0.91      0.92     28150\n",
      "\n",
      "    accuracy                           0.94     72201\n",
      "   macro avg       0.94      0.94      0.94     72201\n",
      "weighted avg       0.94      0.94      0.94     72201\n",
      "\n",
      "Accuracy: 94.16905583025166\n"
     ]
    }
   ],
   "source": [
    "import warnings\n",
    "warnings.filterwarnings('ignore')\n",
    "y_pred_train = [np.argmax(element) for element in y_pred_train]\n",
    "print(confusion_matrix(y_train, y_pred_train))\n",
    "print(classification_report(y_train, y_pred_train))\n",
    "print(\"Accuracy:\",accuracy_score(y_train, y_pred_train)*100)\n"
   ]
  },
  {
   "cell_type": "markdown",
   "metadata": {},
   "source": [
    "#### Testing "
   ]
  },
  {
   "cell_type": "code",
   "execution_count": null,
   "metadata": {},
   "outputs": [
    {
     "name": "stdout",
     "output_type": "stream",
     "text": [
      "[[18046   698]\n",
      " [ 1062 11138]]\n",
      "              precision    recall  f1-score   support\n",
      "\n",
      "           0       0.94      0.96      0.95     18744\n",
      "           1       0.94      0.91      0.93     12200\n",
      "\n",
      "    accuracy                           0.94     30944\n",
      "   macro avg       0.94      0.94      0.94     30944\n",
      "weighted avg       0.94      0.94      0.94     30944\n",
      "\n",
      "Accuracy: 94.31230610134436\n"
     ]
    }
   ],
   "source": [
    "warnings.filterwarnings('ignore')\n",
    "y_pred_test = [np.argmax(element) for element in y_pred_test]\n",
    "print(confusion_matrix(y_test, y_pred_test))\n",
    "print(classification_report(y_test, y_pred_test))\n",
    "print(\"Accuracy:\",accuracy_score(y_test, y_pred_test)*100)"
   ]
  },
  {
   "cell_type": "markdown",
   "metadata": {},
   "source": [
    "### Slice Model "
   ]
  },
  {
   "cell_type": "code",
   "execution_count": null,
   "metadata": {},
   "outputs": [],
   "source": [
    "#Splitting Data \n",
    "\n",
    "x_train,x_test,y_train,y_test = train_test_split(slice_x,slice_y,test_size=0.20,random_state=4)"
   ]
  },
  {
   "cell_type": "code",
   "execution_count": null,
   "metadata": {},
   "outputs": [
    {
     "name": "stdout",
     "output_type": "stream",
     "text": [
      "Epoch 1/20\n",
      "2579/2579 [==============================] - 21s 8ms/step - loss: 0.4456 - accuracy: 0.7245\n",
      "Epoch 2/20\n",
      "2579/2579 [==============================] - 23s 9ms/step - loss: 0.3702 - accuracy: 0.7846\n",
      "Epoch 3/20\n",
      "2579/2579 [==============================] - 22s 9ms/step - loss: 0.3488 - accuracy: 0.8004\n",
      "Epoch 4/20\n",
      "2579/2579 [==============================] - 23s 9ms/step - loss: 0.3366 - accuracy: 0.8034\n",
      "Epoch 5/20\n",
      "2579/2579 [==============================] - 23s 9ms/step - loss: 0.3144 - accuracy: 0.8181\n",
      "Epoch 6/20\n",
      "2579/2579 [==============================] - 23s 9ms/step - loss: 0.3021 - accuracy: 0.8275\n",
      "Epoch 7/20\n",
      "2579/2579 [==============================] - 24s 9ms/step - loss: 0.2857 - accuracy: 0.8353\n",
      "Epoch 8/20\n",
      "2579/2579 [==============================] - 24s 9ms/step - loss: 0.2802 - accuracy: 0.8364\n",
      "Epoch 9/20\n",
      "2579/2579 [==============================] - 25s 10ms/step - loss: 0.2703 - accuracy: 0.8402\n",
      "Epoch 10/20\n",
      "2579/2579 [==============================] - 25s 10ms/step - loss: 0.2595 - accuracy: 0.8447\n",
      "Epoch 11/20\n",
      "2579/2579 [==============================] - 26s 10ms/step - loss: 0.2674 - accuracy: 0.8427\n",
      "Epoch 12/20\n",
      "2579/2579 [==============================] - 26s 10ms/step - loss: 0.2624 - accuracy: 0.8422\n",
      "Epoch 13/20\n",
      "2579/2579 [==============================] - 27s 10ms/step - loss: 0.2538 - accuracy: 0.8454\n",
      "Epoch 14/20\n",
      "2579/2579 [==============================] - 27s 11ms/step - loss: 0.2597 - accuracy: 0.8462\n",
      "Epoch 15/20\n",
      "2579/2579 [==============================] - 29s 11ms/step - loss: 0.2531 - accuracy: 0.8492\n",
      "Epoch 16/20\n",
      "2579/2579 [==============================] - 30s 12ms/step - loss: 0.2506 - accuracy: 0.8542\n",
      "Epoch 17/20\n",
      "2579/2579 [==============================] - 32s 12ms/step - loss: 0.2496 - accuracy: 0.85630s - loss: 0.2497 - ac\n",
      "Epoch 18/20\n",
      "2579/2579 [==============================] - 34s 13ms/step - loss: 0.2486 - accuracy: 0.8577\n",
      "Epoch 19/20\n",
      "2579/2579 [==============================] - 34s 13ms/step - loss: 0.2457 - accuracy: 0.8592\n",
      "Epoch 20/20\n",
      "2579/2579 [==============================] - 32s 12ms/step - loss: 0.2449 - accuracy: 0.8632\n"
     ]
    },
    {
     "data": {
      "text/plain": [
       "<tensorflow.python.keras.callbacks.History at 0x2079a8fd948>"
      ]
     },
     "execution_count": 42,
     "metadata": {},
     "output_type": "execute_result"
    }
   ],
   "source": [
    "model_slice = models.Sequential([\n",
    "    layers.Dense(2000, input_dim=4, activation='relu'),\n",
    "    layers.Dense(500, activation='sigmoid'),\n",
    "    layers.Dense(50, activation='relu'),\n",
    "    layers.Dense(2, activation='softmax')\n",
    "])\n",
    "model_slice.compile(optimizer=\"adam\",loss=\"sparse_categorical_crossentropy\",metrics=['accuracy'])\n",
    "model_slice.fit(x_train, y_train, epochs=20)"
   ]
  },
  {
   "cell_type": "code",
   "execution_count": null,
   "metadata": {},
   "outputs": [],
   "source": [
    "y_pred_train = model_slice.predict(x_train)\n",
    "y_pred_test = model_slice.predict(x_test)"
   ]
  },
  {
   "cell_type": "markdown",
   "metadata": {},
   "source": [
    "#### Training "
   ]
  },
  {
   "cell_type": "code",
   "execution_count": null,
   "metadata": {},
   "outputs": [
    {
     "name": "stdout",
     "output_type": "stream",
     "text": [
      "[[38366  5685]\n",
      " [ 3022 25128]]\n",
      "              precision    recall  f1-score   support\n",
      "\n",
      "           0       0.93      0.87      0.90     44051\n",
      "           1       0.82      0.89      0.85     28150\n",
      "\n",
      "    accuracy                           0.88     72201\n",
      "   macro avg       0.87      0.88      0.88     72201\n",
      "weighted avg       0.88      0.88      0.88     72201\n",
      "\n",
      "Accuracy: 87.94061024085539\n"
     ]
    }
   ],
   "source": [
    "import warnings\n",
    "warnings.filterwarnings('ignore')\n",
    "y_pred_train = [np.argmax(element) for element in y_pred_train]\n",
    "print(confusion_matrix(y_train, y_pred_train))\n",
    "print(classification_report(y_train, y_pred_train))\n",
    "print(\"Accuracy:\",accuracy_score(y_train, y_pred_train)*100)\n"
   ]
  },
  {
   "cell_type": "markdown",
   "metadata": {},
   "source": [
    "#### Testing "
   ]
  },
  {
   "cell_type": "code",
   "execution_count": null,
   "metadata": {},
   "outputs": [
    {
     "name": "stdout",
     "output_type": "stream",
     "text": [
      "[[15643  3101]\n",
      " [  809 11391]]\n",
      "              precision    recall  f1-score   support\n",
      "\n",
      "           0       0.95      0.83      0.89     18744\n",
      "           1       0.79      0.93      0.85     12200\n",
      "\n",
      "    accuracy                           0.87     30944\n",
      "   macro avg       0.87      0.88      0.87     30944\n",
      "weighted avg       0.89      0.87      0.87     30944\n",
      "\n",
      "Accuracy: 87.36427094105481\n"
     ]
    }
   ],
   "source": [
    "warnings.filterwarnings('ignore')\n",
    "y_pred_test = [np.argmax(element) for element in y_pred_test]\n",
    "print(confusion_matrix(y_test, y_pred_test))\n",
    "print(classification_report(y_test, y_pred_test))\n",
    "print(\"Accuracy:\",accuracy_score(y_test, y_pred_test)*100)"
   ]
  }
 ],
 "metadata": {
  "interpreter": {
   "hash": "5d87b42201e74ac320bc00dce267d44f5f134edfec9046f67f672f289707ff6a"
  },
  "kernelspec": {
   "display_name": "Python 3.7.4 64-bit",
   "language": "python",
   "name": "python3"
  },
  "language_info": {
   "codemirror_mode": {
    "name": "ipython",
    "version": 3
   },
   "file_extension": ".py",
   "mimetype": "text/x-python",
   "name": "python",
   "nbconvert_exporter": "python",
   "pygments_lexer": "ipython3",
   "version": "3.7.4"
  },
  "orig_nbformat": 4
 },
 "nbformat": 4,
 "nbformat_minor": 2
}
