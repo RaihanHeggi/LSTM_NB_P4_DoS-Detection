{
 "cells": [
  {
   "cell_type": "code",
   "execution_count": 1,
   "metadata": {},
   "outputs": [],
   "source": [
    "import pandas as pd \n",
    "import matplotlib.pyplot as plt \n",
    "import seaborn as sn \n",
    "import numpy as np \n",
    "from tensorflow.keras import datasets, layers , models \n",
    "from sklearn.model_selection import cross_val_score\n",
    "from sklearn.metrics import confusion_matrix\n",
    "from sklearn.metrics import accuracy_score\n",
    "from sklearn.metrics import classification_report\n",
    "from sklearn.metrics import confusion_matrix\n",
    "from sklearn.model_selection import train_test_split"
   ]
  },
  {
   "cell_type": "code",
   "execution_count": 2,
   "metadata": {},
   "outputs": [],
   "source": [
    "df_full_feature = pd.read_csv('../Dataset/Normalisasi/processed_dataset_10_norm.csv',sep=',')\n",
    "df_chi_square = pd.read_csv('../Dataset/Normalisasi/processed_dataset_chi_square_norm.csv', sep=',')\n",
    "df_feature_selection = pd.read_csv('../Dataset/Normalisasi/processed_dataset_5_norm.csv',sep=',')\n",
    "df_slice = pd.read_csv('../Dataset/Normalisasi/processed_dataset_slice_norm.csv',sep=',')"
   ]
  },
  {
   "cell_type": "code",
   "execution_count": 3,
   "metadata": {},
   "outputs": [
    {
     "data": {
      "text/html": [
       "<div>\n",
       "<style scoped>\n",
       "    .dataframe tbody tr th:only-of-type {\n",
       "        vertical-align: middle;\n",
       "    }\n",
       "\n",
       "    .dataframe tbody tr th {\n",
       "        vertical-align: top;\n",
       "    }\n",
       "\n",
       "    .dataframe thead th {\n",
       "        text-align: right;\n",
       "    }\n",
       "</style>\n",
       "<table border=\"1\" class=\"dataframe\">\n",
       "  <thead>\n",
       "    <tr style=\"text-align: right;\">\n",
       "      <th></th>\n",
       "      <th>src</th>\n",
       "      <th>dst</th>\n",
       "      <th>Protocol</th>\n",
       "      <th>pktrate</th>\n",
       "      <th>pktperflow</th>\n",
       "      <th>dur</th>\n",
       "      <th>dur_nsec</th>\n",
       "      <th>bytecount</th>\n",
       "      <th>pktcount</th>\n",
       "    </tr>\n",
       "  </thead>\n",
       "  <tbody>\n",
       "    <tr>\n",
       "      <th>0</th>\n",
       "      <td>0.000000</td>\n",
       "      <td>0.941176</td>\n",
       "      <td>1.0</td>\n",
       "      <td>0.70579</td>\n",
       "      <td>0.705315</td>\n",
       "      <td>0.053163</td>\n",
       "      <td>0.716717</td>\n",
       "      <td>0.328245</td>\n",
       "      <td>0.174242</td>\n",
       "    </tr>\n",
       "    <tr>\n",
       "      <th>1</th>\n",
       "      <td>0.000000</td>\n",
       "      <td>0.941176</td>\n",
       "      <td>1.0</td>\n",
       "      <td>0.70579</td>\n",
       "      <td>0.705107</td>\n",
       "      <td>0.148857</td>\n",
       "      <td>0.734735</td>\n",
       "      <td>0.915781</td>\n",
       "      <td>0.486123</td>\n",
       "    </tr>\n",
       "    <tr>\n",
       "      <th>2</th>\n",
       "      <td>0.555556</td>\n",
       "      <td>0.941176</td>\n",
       "      <td>1.0</td>\n",
       "      <td>0.70579</td>\n",
       "      <td>0.705263</td>\n",
       "      <td>0.106326</td>\n",
       "      <td>0.744745</td>\n",
       "      <td>0.654498</td>\n",
       "      <td>0.347427</td>\n",
       "    </tr>\n",
       "    <tr>\n",
       "      <th>3</th>\n",
       "      <td>0.555556</td>\n",
       "      <td>0.941176</td>\n",
       "      <td>1.0</td>\n",
       "      <td>0.70579</td>\n",
       "      <td>0.705263</td>\n",
       "      <td>0.106326</td>\n",
       "      <td>0.744745</td>\n",
       "      <td>0.654498</td>\n",
       "      <td>0.347427</td>\n",
       "    </tr>\n",
       "    <tr>\n",
       "      <th>4</th>\n",
       "      <td>0.555556</td>\n",
       "      <td>0.941176</td>\n",
       "      <td>1.0</td>\n",
       "      <td>0.70579</td>\n",
       "      <td>0.705263</td>\n",
       "      <td>0.106326</td>\n",
       "      <td>0.744745</td>\n",
       "      <td>0.654498</td>\n",
       "      <td>0.347427</td>\n",
       "    </tr>\n",
       "  </tbody>\n",
       "</table>\n",
       "</div>"
      ],
      "text/plain": [
       "        src       dst  Protocol  pktrate  pktperflow       dur  dur_nsec  \\\n",
       "0  0.000000  0.941176       1.0  0.70579    0.705315  0.053163  0.716717   \n",
       "1  0.000000  0.941176       1.0  0.70579    0.705107  0.148857  0.734735   \n",
       "2  0.555556  0.941176       1.0  0.70579    0.705263  0.106326  0.744745   \n",
       "3  0.555556  0.941176       1.0  0.70579    0.705263  0.106326  0.744745   \n",
       "4  0.555556  0.941176       1.0  0.70579    0.705263  0.106326  0.744745   \n",
       "\n",
       "   bytecount  pktcount  \n",
       "0   0.328245  0.174242  \n",
       "1   0.915781  0.486123  \n",
       "2   0.654498  0.347427  \n",
       "3   0.654498  0.347427  \n",
       "4   0.654498  0.347427  "
      ]
     },
     "execution_count": 3,
     "metadata": {},
     "output_type": "execute_result"
    }
   ],
   "source": [
    "# Dataset Full Feature\n",
    "full_feature_x = df_full_feature[df_full_feature.columns[:9]]\n",
    "full_feature_y = df_full_feature['label']\n",
    "\n",
    "full_feature_x.head(5)"
   ]
  },
  {
   "cell_type": "code",
   "execution_count": 4,
   "metadata": {},
   "outputs": [
    {
     "data": {
      "text/html": [
       "<div>\n",
       "<style scoped>\n",
       "    .dataframe tbody tr th:only-of-type {\n",
       "        vertical-align: middle;\n",
       "    }\n",
       "\n",
       "    .dataframe tbody tr th {\n",
       "        vertical-align: top;\n",
       "    }\n",
       "\n",
       "    .dataframe thead th {\n",
       "        text-align: right;\n",
       "    }\n",
       "</style>\n",
       "<table border=\"1\" class=\"dataframe\">\n",
       "  <thead>\n",
       "    <tr style=\"text-align: right;\">\n",
       "      <th></th>\n",
       "      <th>dst</th>\n",
       "      <th>src</th>\n",
       "      <th>Protocol</th>\n",
       "      <th>pktcount</th>\n",
       "      <th>pktcount.1</th>\n",
       "    </tr>\n",
       "  </thead>\n",
       "  <tbody>\n",
       "    <tr>\n",
       "      <th>0</th>\n",
       "      <td>0.941176</td>\n",
       "      <td>0.000000</td>\n",
       "      <td>1.0</td>\n",
       "      <td>0.174242</td>\n",
       "      <td>0.174242</td>\n",
       "    </tr>\n",
       "    <tr>\n",
       "      <th>1</th>\n",
       "      <td>0.941176</td>\n",
       "      <td>0.000000</td>\n",
       "      <td>1.0</td>\n",
       "      <td>0.486123</td>\n",
       "      <td>0.486123</td>\n",
       "    </tr>\n",
       "    <tr>\n",
       "      <th>2</th>\n",
       "      <td>0.941176</td>\n",
       "      <td>0.555556</td>\n",
       "      <td>1.0</td>\n",
       "      <td>0.347427</td>\n",
       "      <td>0.347427</td>\n",
       "    </tr>\n",
       "    <tr>\n",
       "      <th>3</th>\n",
       "      <td>0.941176</td>\n",
       "      <td>0.555556</td>\n",
       "      <td>1.0</td>\n",
       "      <td>0.347427</td>\n",
       "      <td>0.347427</td>\n",
       "    </tr>\n",
       "    <tr>\n",
       "      <th>4</th>\n",
       "      <td>0.941176</td>\n",
       "      <td>0.555556</td>\n",
       "      <td>1.0</td>\n",
       "      <td>0.347427</td>\n",
       "      <td>0.347427</td>\n",
       "    </tr>\n",
       "  </tbody>\n",
       "</table>\n",
       "</div>"
      ],
      "text/plain": [
       "        dst       src  Protocol  pktcount  pktcount.1\n",
       "0  0.941176  0.000000       1.0  0.174242    0.174242\n",
       "1  0.941176  0.000000       1.0  0.486123    0.486123\n",
       "2  0.941176  0.555556       1.0  0.347427    0.347427\n",
       "3  0.941176  0.555556       1.0  0.347427    0.347427\n",
       "4  0.941176  0.555556       1.0  0.347427    0.347427"
      ]
     },
     "execution_count": 4,
     "metadata": {},
     "output_type": "execute_result"
    }
   ],
   "source": [
    "# Dataset Chi Square \n",
    "chi_square_x = df_chi_square[df_chi_square.columns[:5]]\n",
    "chi_square_y = df_chi_square['label']\n",
    "\n",
    "chi_square_x.head(5)"
   ]
  },
  {
   "cell_type": "code",
   "execution_count": 5,
   "metadata": {},
   "outputs": [
    {
     "data": {
      "text/html": [
       "<div>\n",
       "<style scoped>\n",
       "    .dataframe tbody tr th:only-of-type {\n",
       "        vertical-align: middle;\n",
       "    }\n",
       "\n",
       "    .dataframe tbody tr th {\n",
       "        vertical-align: top;\n",
       "    }\n",
       "\n",
       "    .dataframe thead th {\n",
       "        text-align: right;\n",
       "    }\n",
       "</style>\n",
       "<table border=\"1\" class=\"dataframe\">\n",
       "  <thead>\n",
       "    <tr style=\"text-align: right;\">\n",
       "      <th></th>\n",
       "      <th>pktrate</th>\n",
       "      <th>pktperflow</th>\n",
       "      <th>Protocol</th>\n",
       "      <th>src</th>\n",
       "      <th>dst</th>\n",
       "    </tr>\n",
       "  </thead>\n",
       "  <tbody>\n",
       "    <tr>\n",
       "      <th>0</th>\n",
       "      <td>0.70579</td>\n",
       "      <td>0.705315</td>\n",
       "      <td>1.0</td>\n",
       "      <td>0.000000</td>\n",
       "      <td>0.941176</td>\n",
       "    </tr>\n",
       "    <tr>\n",
       "      <th>1</th>\n",
       "      <td>0.70579</td>\n",
       "      <td>0.705107</td>\n",
       "      <td>1.0</td>\n",
       "      <td>0.000000</td>\n",
       "      <td>0.941176</td>\n",
       "    </tr>\n",
       "    <tr>\n",
       "      <th>2</th>\n",
       "      <td>0.70579</td>\n",
       "      <td>0.705263</td>\n",
       "      <td>1.0</td>\n",
       "      <td>0.555556</td>\n",
       "      <td>0.941176</td>\n",
       "    </tr>\n",
       "    <tr>\n",
       "      <th>3</th>\n",
       "      <td>0.70579</td>\n",
       "      <td>0.705263</td>\n",
       "      <td>1.0</td>\n",
       "      <td>0.555556</td>\n",
       "      <td>0.941176</td>\n",
       "    </tr>\n",
       "    <tr>\n",
       "      <th>4</th>\n",
       "      <td>0.70579</td>\n",
       "      <td>0.705263</td>\n",
       "      <td>1.0</td>\n",
       "      <td>0.555556</td>\n",
       "      <td>0.941176</td>\n",
       "    </tr>\n",
       "  </tbody>\n",
       "</table>\n",
       "</div>"
      ],
      "text/plain": [
       "   pktrate  pktperflow  Protocol       src       dst\n",
       "0  0.70579    0.705315       1.0  0.000000  0.941176\n",
       "1  0.70579    0.705107       1.0  0.000000  0.941176\n",
       "2  0.70579    0.705263       1.0  0.555556  0.941176\n",
       "3  0.70579    0.705263       1.0  0.555556  0.941176\n",
       "4  0.70579    0.705263       1.0  0.555556  0.941176"
      ]
     },
     "execution_count": 5,
     "metadata": {},
     "output_type": "execute_result"
    }
   ],
   "source": [
    "# Dataset Feature Selection\n",
    "feature_selection_x = df_feature_selection[df_feature_selection.columns[:5]]\n",
    "feature_selection_y = df_feature_selection['label']\n",
    "\n",
    "feature_selection_x.head(5)"
   ]
  },
  {
   "cell_type": "code",
   "execution_count": 6,
   "metadata": {},
   "outputs": [
    {
     "data": {
      "text/html": [
       "<div>\n",
       "<style scoped>\n",
       "    .dataframe tbody tr th:only-of-type {\n",
       "        vertical-align: middle;\n",
       "    }\n",
       "\n",
       "    .dataframe tbody tr th {\n",
       "        vertical-align: top;\n",
       "    }\n",
       "\n",
       "    .dataframe thead th {\n",
       "        text-align: right;\n",
       "    }\n",
       "</style>\n",
       "<table border=\"1\" class=\"dataframe\">\n",
       "  <thead>\n",
       "    <tr style=\"text-align: right;\">\n",
       "      <th></th>\n",
       "      <th>dst</th>\n",
       "      <th>src</th>\n",
       "      <th>Protocol</th>\n",
       "      <th>bytecount</th>\n",
       "    </tr>\n",
       "  </thead>\n",
       "  <tbody>\n",
       "    <tr>\n",
       "      <th>0</th>\n",
       "      <td>0.941176</td>\n",
       "      <td>0.000000</td>\n",
       "      <td>1.0</td>\n",
       "      <td>0.328245</td>\n",
       "    </tr>\n",
       "    <tr>\n",
       "      <th>1</th>\n",
       "      <td>0.941176</td>\n",
       "      <td>0.000000</td>\n",
       "      <td>1.0</td>\n",
       "      <td>0.915781</td>\n",
       "    </tr>\n",
       "    <tr>\n",
       "      <th>2</th>\n",
       "      <td>0.941176</td>\n",
       "      <td>0.555556</td>\n",
       "      <td>1.0</td>\n",
       "      <td>0.654498</td>\n",
       "    </tr>\n",
       "    <tr>\n",
       "      <th>3</th>\n",
       "      <td>0.941176</td>\n",
       "      <td>0.555556</td>\n",
       "      <td>1.0</td>\n",
       "      <td>0.654498</td>\n",
       "    </tr>\n",
       "    <tr>\n",
       "      <th>4</th>\n",
       "      <td>0.941176</td>\n",
       "      <td>0.555556</td>\n",
       "      <td>1.0</td>\n",
       "      <td>0.654498</td>\n",
       "    </tr>\n",
       "  </tbody>\n",
       "</table>\n",
       "</div>"
      ],
      "text/plain": [
       "        dst       src  Protocol  bytecount\n",
       "0  0.941176  0.000000       1.0   0.328245\n",
       "1  0.941176  0.000000       1.0   0.915781\n",
       "2  0.941176  0.555556       1.0   0.654498\n",
       "3  0.941176  0.555556       1.0   0.654498\n",
       "4  0.941176  0.555556       1.0   0.654498"
      ]
     },
     "execution_count": 6,
     "metadata": {},
     "output_type": "execute_result"
    }
   ],
   "source": [
    "# Dataset Slice\n",
    "slice_x = df_slice[df_slice.columns[:4]]\n",
    "slice_y= df_slice['label']\n",
    "\n",
    "slice_x.head(5)"
   ]
  },
  {
   "cell_type": "markdown",
   "metadata": {},
   "source": [
    "### Full Model"
   ]
  },
  {
   "cell_type": "code",
   "execution_count": 7,
   "metadata": {},
   "outputs": [],
   "source": [
    "#Splitting Data \n",
    "\n",
    "x_train,x_test,y_train,y_test = train_test_split(full_feature_x,full_feature_y,test_size=0.30,random_state=9)"
   ]
  },
  {
   "cell_type": "code",
   "execution_count": 8,
   "metadata": {},
   "outputs": [
    {
     "name": "stdout",
     "output_type": "stream",
     "text": [
      "Epoch 1/10\n",
      "2257/2257 [==============================] - 50s 22ms/step - loss: 0.5684 - accuracy: 0.6783\n",
      "Epoch 2/10\n",
      "2257/2257 [==============================] - 52s 23ms/step - loss: 0.2461 - accuracy: 0.8882\n",
      "Epoch 3/10\n",
      "2257/2257 [==============================] - 48s 21ms/step - loss: 0.2005 - accuracy: 0.9123\n",
      "Epoch 4/10\n",
      "2257/2257 [==============================] - 46s 21ms/step - loss: 0.1837 - accuracy: 0.91772s - los\n",
      "Epoch 5/10\n",
      "2257/2257 [==============================] - 52s 23ms/step - loss: 0.1727 - accuracy: 0.92330s - loss: 0.1727 - accu\n",
      "Epoch 6/10\n",
      "2257/2257 [==============================] - 51s 23ms/step - loss: 0.1628 - accuracy: 0.9275\n",
      "Epoch 7/10\n",
      "2257/2257 [==============================] - 49s 22ms/step - loss: 0.1592 - accuracy: 0.9283\n",
      "Epoch 8/10\n",
      "2257/2257 [==============================] - 48s 21ms/step - loss: 0.1577 - accuracy: 0.9299\n",
      "Epoch 9/10\n",
      "2257/2257 [==============================] - 52s 23ms/step - loss: 0.1529 - accuracy: 0.9308\n",
      "Epoch 10/10\n",
      "2257/2257 [==============================] - 53s 24ms/step - loss: 0.1512 - accuracy: 0.9313\n"
     ]
    },
    {
     "data": {
      "text/plain": [
       "<tensorflow.python.keras.callbacks.History at 0x1aa76e7f088>"
      ]
     },
     "execution_count": 8,
     "metadata": {},
     "output_type": "execute_result"
    }
   ],
   "source": [
    "model_full = models.Sequential([\n",
    "    layers.Dense(2000, input_dim=9, activation='sigmoid'),\n",
    "    layers.Dense(1000, activation='sigmoid'),\n",
    "    layers.Dense(500, activation='sigmoid'),\n",
    "    layers.Dense(2, activation='softmax')\n",
    "])\n",
    "model_full.compile(optimizer=\"adam\",loss=\"sparse_categorical_crossentropy\",metrics=['accuracy'])\n",
    "model_full.fit(x_train, y_train, epochs=10)"
   ]
  },
  {
   "cell_type": "code",
   "execution_count": 9,
   "metadata": {},
   "outputs": [],
   "source": [
    "y_pred_train = model_full.predict(x_train)\n",
    "y_pred_test = model_full.predict(x_test)"
   ]
  },
  {
   "cell_type": "code",
   "execution_count": 10,
   "metadata": {},
   "outputs": [
    {
     "name": "stdout",
     "output_type": "stream",
     "text": [
      "[[41740  2155]\n",
      " [ 2841 25465]]\n",
      "              precision    recall  f1-score   support\n",
      "\n",
      "           0       0.94      0.95      0.94     43895\n",
      "           1       0.92      0.90      0.91     28306\n",
      "\n",
      "    accuracy                           0.93     72201\n",
      "   macro avg       0.93      0.93      0.93     72201\n",
      "weighted avg       0.93      0.93      0.93     72201\n",
      "\n",
      "Accuracy: 93.08042824891622\n"
     ]
    }
   ],
   "source": [
    "import warnings\n",
    "warnings.filterwarnings('ignore')\n",
    "y_pred_train = [np.argmax(element) for element in y_pred_train]\n",
    "print(confusion_matrix(y_train, y_pred_train))\n",
    "print(classification_report(y_train, y_pred_train))\n",
    "print(\"Accuracy:\",accuracy_score(y_train, y_pred_train)*100)\n"
   ]
  },
  {
   "cell_type": "code",
   "execution_count": 11,
   "metadata": {},
   "outputs": [
    {
     "name": "stdout",
     "output_type": "stream",
     "text": [
      "[[17908   992]\n",
      " [ 1207 10837]]\n",
      "              precision    recall  f1-score   support\n",
      "\n",
      "           0       0.94      0.95      0.94     18900\n",
      "           1       0.92      0.90      0.91     12044\n",
      "\n",
      "    accuracy                           0.93     30944\n",
      "   macro avg       0.93      0.92      0.93     30944\n",
      "weighted avg       0.93      0.93      0.93     30944\n",
      "\n",
      "Accuracy: 92.89361427094104\n"
     ]
    }
   ],
   "source": [
    "warnings.filterwarnings('ignore')\n",
    "y_pred_test = [np.argmax(element) for element in y_pred_test]\n",
    "print(confusion_matrix(y_test, y_pred_test))\n",
    "print(classification_report(y_test, y_pred_test))\n",
    "print(\"Accuracy:\",accuracy_score(y_test, y_pred_test)*100)"
   ]
  }
 ],
 "metadata": {
  "interpreter": {
   "hash": "5d87b42201e74ac320bc00dce267d44f5f134edfec9046f67f672f289707ff6a"
  },
  "kernelspec": {
   "display_name": "Python 3.7.4 64-bit",
   "language": "python",
   "name": "python3"
  },
  "language_info": {
   "codemirror_mode": {
    "name": "ipython",
    "version": 3
   },
   "file_extension": ".py",
   "mimetype": "text/x-python",
   "name": "python",
   "nbconvert_exporter": "python",
   "pygments_lexer": "ipython3",
   "version": "3.7.4"
  },
  "orig_nbformat": 4
 },
 "nbformat": 4,
 "nbformat_minor": 2
}
