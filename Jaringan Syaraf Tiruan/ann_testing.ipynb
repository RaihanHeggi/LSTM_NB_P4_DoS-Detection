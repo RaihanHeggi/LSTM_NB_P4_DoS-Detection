{
 "cells": [
  {
   "cell_type": "code",
   "execution_count": 1,
   "metadata": {},
   "outputs": [],
   "source": [
    "import pandas as pd \n",
    "import matplotlib.pyplot as plt \n",
    "import seaborn as sn \n",
    "import numpy as np \n",
    "from keras.models import load_model\n",
    "from sklearn.model_selection import cross_val_score\n",
    "from sklearn.metrics import confusion_matrix\n",
    "from sklearn.metrics import accuracy_score, precision_score\n",
    "from sklearn.metrics import classification_report\n",
    "from sklearn.metrics import confusion_matrix\n",
    "from sklearn.model_selection import train_test_split\n",
    "from sklearn.preprocessing import LabelEncoder"
   ]
  },
  {
   "cell_type": "code",
   "execution_count": 2,
   "metadata": {},
   "outputs": [],
   "source": [
    "df_full_feature = pd.read_csv('../Dataset/Normalisasi/processed_dataset_slice_norm.csv',sep=',')"
   ]
  },
  {
   "cell_type": "code",
   "execution_count": 3,
   "metadata": {},
   "outputs": [
    {
     "data": {
      "text/plain": [
       "<tensorflow.python.keras.engine.sequential.Sequential at 0x20efc9ff688>"
      ]
     },
     "execution_count": 3,
     "metadata": {},
     "output_type": "execute_result"
    }
   ],
   "source": [
    "ann_full_model = load_model('ann_slice.h5')\n",
    "ann_full_model"
   ]
  },
  {
   "cell_type": "code",
   "execution_count": 4,
   "metadata": {},
   "outputs": [
    {
     "data": {
      "text/html": [
       "<div>\n",
       "<style scoped>\n",
       "    .dataframe tbody tr th:only-of-type {\n",
       "        vertical-align: middle;\n",
       "    }\n",
       "\n",
       "    .dataframe tbody tr th {\n",
       "        vertical-align: top;\n",
       "    }\n",
       "\n",
       "    .dataframe thead th {\n",
       "        text-align: right;\n",
       "    }\n",
       "</style>\n",
       "<table border=\"1\" class=\"dataframe\">\n",
       "  <thead>\n",
       "    <tr style=\"text-align: right;\">\n",
       "      <th></th>\n",
       "      <th>dst</th>\n",
       "      <th>src</th>\n",
       "      <th>Protocol</th>\n",
       "      <th>bytecount</th>\n",
       "    </tr>\n",
       "  </thead>\n",
       "  <tbody>\n",
       "    <tr>\n",
       "      <th>0</th>\n",
       "      <td>0.647059</td>\n",
       "      <td>0.055556</td>\n",
       "      <td>0.0</td>\n",
       "      <td>0.000640</td>\n",
       "    </tr>\n",
       "    <tr>\n",
       "      <th>1</th>\n",
       "      <td>0.705882</td>\n",
       "      <td>0.333333</td>\n",
       "      <td>0.5</td>\n",
       "      <td>0.081254</td>\n",
       "    </tr>\n",
       "    <tr>\n",
       "      <th>2</th>\n",
       "      <td>0.882353</td>\n",
       "      <td>0.555556</td>\n",
       "      <td>0.0</td>\n",
       "      <td>0.000534</td>\n",
       "    </tr>\n",
       "    <tr>\n",
       "      <th>3</th>\n",
       "      <td>0.941176</td>\n",
       "      <td>0.833333</td>\n",
       "      <td>0.5</td>\n",
       "      <td>0.014585</td>\n",
       "    </tr>\n",
       "    <tr>\n",
       "      <th>4</th>\n",
       "      <td>0.647059</td>\n",
       "      <td>0.111111</td>\n",
       "      <td>1.0</td>\n",
       "      <td>0.618070</td>\n",
       "    </tr>\n",
       "  </tbody>\n",
       "</table>\n",
       "</div>"
      ],
      "text/plain": [
       "        dst       src  Protocol  bytecount\n",
       "0  0.647059  0.055556       0.0   0.000640\n",
       "1  0.705882  0.333333       0.5   0.081254\n",
       "2  0.882353  0.555556       0.0   0.000534\n",
       "3  0.941176  0.833333       0.5   0.014585\n",
       "4  0.647059  0.111111       1.0   0.618070"
      ]
     },
     "execution_count": 4,
     "metadata": {},
     "output_type": "execute_result"
    }
   ],
   "source": [
    "# Dataset Full Feature\n",
    "full_feature_x = df_full_feature[df_full_feature.columns[:4]]\n",
    "full_feature_y = df_full_feature['label']\n",
    "\n",
    "full_feature_x.head(5)"
   ]
  },
  {
   "cell_type": "markdown",
   "metadata": {},
   "source": [
    "## Training Phase"
   ]
  },
  {
   "cell_type": "code",
   "execution_count": 5,
   "metadata": {},
   "outputs": [],
   "source": [
    "#Splitting Data \n",
    "\n",
    "x_train,x_test,y_train,y_test = train_test_split(full_feature_x,full_feature_y,test_size=0.30,random_state=6)"
   ]
  },
  {
   "cell_type": "code",
   "execution_count": 8,
   "metadata": {},
   "outputs": [
    {
     "name": "stdout",
     "output_type": "stream",
     "text": [
      "Epoch 1/10\n",
      "1580/1580 [==============================] - 15s 9ms/step - loss: 0.2471 - accuracy: 0.8626\n",
      "Epoch 2/10\n",
      "1580/1580 [==============================] - 15s 9ms/step - loss: 0.2419 - accuracy: 0.8660\n",
      "Epoch 3/10\n",
      "1580/1580 [==============================] - 15s 9ms/step - loss: 0.2429 - accuracy: 0.8667\n",
      "Epoch 4/10\n",
      "1580/1580 [==============================] - 15s 10ms/step - loss: 0.2387 - accuracy: 0.86851s - loss: 0.2388  - E\n",
      "Epoch 5/10\n",
      "1580/1580 [==============================] - 19s 12ms/step - loss: 0.2357 - accuracy: 0.8691\n",
      "Epoch 6/10\n",
      "1580/1580 [==============================] - 19s 12ms/step - loss: 0.2348 - accuracy: 0.8685\n",
      "Epoch 7/10\n",
      "1580/1580 [==============================] - 19s 12ms/step - loss: 0.2314 - accuracy: 0.8690\n",
      "Epoch 8/10\n",
      "1580/1580 [==============================] - 18s 12ms/step - loss: 0.2364 - accuracy: 0.8621\n",
      "Epoch 9/10\n",
      "1580/1580 [==============================] - 19s 12ms/step - loss: 0.2372 - accuracy: 0.8653\n",
      "Epoch 10/10\n",
      "1580/1580 [==============================] - ETA: 0s - loss: 0.2302 - accuracy: 0.86 - 19s 12ms/step - loss: 0.2302 - accuracy: 0.8695\n"
     ]
    },
    {
     "data": {
      "text/plain": [
       "<tensorflow.python.keras.callbacks.History at 0x20ea47ac8c8>"
      ]
     },
     "execution_count": 8,
     "metadata": {},
     "output_type": "execute_result"
    }
   ],
   "source": [
    "ann_full_model.fit(x_train, y_train, epochs=10)"
   ]
  },
  {
   "cell_type": "code",
   "execution_count": 9,
   "metadata": {},
   "outputs": [
    {
     "data": {
      "text/plain": [
       "array([[1.0000000e+00, 3.9406616e-09],\n",
       "       [9.9997497e-01, 2.5016901e-05],\n",
       "       [1.0000000e+00, 8.4463014e-10],\n",
       "       ...,\n",
       "       [6.2134489e-02, 9.3786556e-01],\n",
       "       [5.4947257e-01, 4.5052734e-01],\n",
       "       [4.5711792e-01, 5.4288208e-01]], dtype=float32)"
      ]
     },
     "execution_count": 9,
     "metadata": {},
     "output_type": "execute_result"
    }
   ],
   "source": [
    "y_pred_train = ann_full_model.predict(x_train)\n",
    "y_pred_train"
   ]
  },
  {
   "cell_type": "code",
   "execution_count": 10,
   "metadata": {},
   "outputs": [],
   "source": [
    "def calculate_precision(TP, FP):\n",
    "    return TP/(TP+FP)\n",
    "\n",
    "\n",
    "def calculate_fnr(TP, FP, FN):\n",
    "    return FN/(TP+FP)"
   ]
  },
  {
   "cell_type": "markdown",
   "metadata": {},
   "source": [
    "### Training Evaluation Result"
   ]
  },
  {
   "cell_type": "code",
   "execution_count": 11,
   "metadata": {},
   "outputs": [
    {
     "name": "stdout",
     "output_type": "stream",
     "text": [
      "[[16812  2845]\n",
      " [ 3372 27511]]\n",
      "              precision    recall  f1-score   support\n",
      "\n",
      "           0       0.91      0.89      0.90     30883\n",
      "           1       0.83      0.86      0.84     19657\n",
      "\n",
      "    accuracy                           0.88     50540\n",
      "   macro avg       0.87      0.87      0.87     50540\n",
      "weighted avg       0.88      0.88      0.88     50540\n",
      "\n",
      "Accuracy: 87.69885239414326\n",
      "Precision 83.29369797859691\n",
      "False Negative Rate 14.095323028141102\n"
     ]
    }
   ],
   "source": [
    "y_pred_train = [np.argmax(element) for element in y_pred_train]\n",
    "cm = confusion_matrix(y_train, y_pred_train, labels=[1,0])\n",
    "TP = cm[0][0]\n",
    "FP = cm[1][0]\n",
    "FN = cm[0][1]\n",
    "TN = cm[1][1]\n",
    "\n",
    "print(cm)\n",
    "print(classification_report(y_train, y_pred_train))\n",
    "print(\"Accuracy:\",accuracy_score(y_train, y_pred_train)*100)\n",
    "print(\"Precision\",(calculate_precision(TP,FP))*100)\n",
    "print(\"False Negative Rate\", (calculate_fnr(TP,FP,FN))*100)\n"
   ]
  },
  {
   "cell_type": "markdown",
   "metadata": {},
   "source": [
    "### Validation Evaluation Result"
   ]
  },
  {
   "cell_type": "code",
   "execution_count": 16,
   "metadata": {},
   "outputs": [
    {
     "data": {
      "text/plain": [
       "array([[2.4821980e-01, 7.5178021e-01],\n",
       "       [1.0000000e+00, 2.3931531e-08],\n",
       "       [0.0000000e+00, 1.0000000e+00],\n",
       "       ...,\n",
       "       [1.6554326e-38, 1.0000000e+00],\n",
       "       [9.9996734e-01, 3.2615993e-05],\n",
       "       [2.5211072e-01, 7.4788928e-01]], dtype=float32)"
      ]
     },
     "execution_count": 16,
     "metadata": {},
     "output_type": "execute_result"
    }
   ],
   "source": [
    "y_pred_test = ann_full_model.predict(x_test)\n",
    "y_pred_test"
   ]
  },
  {
   "cell_type": "code",
   "execution_count": 17,
   "metadata": {},
   "outputs": [
    {
     "name": "stdout",
     "output_type": "stream",
     "text": [
      "[[ 7294  1231]\n",
      " [ 1440 11696]]\n",
      "              precision    recall  f1-score   support\n",
      "\n",
      "           0       0.90      0.89      0.90     13136\n",
      "           1       0.84      0.86      0.85      8525\n",
      "\n",
      "    accuracy                           0.88     21661\n",
      "   macro avg       0.87      0.87      0.87     21661\n",
      "weighted avg       0.88      0.88      0.88     21661\n",
      "\n",
      "Accuracy: 87.6690826831633\n",
      "Precision 83.512708953515\n",
      "False Negative Rate 14.094343943210442\n"
     ]
    }
   ],
   "source": [
    "y_pred_test = [np.argmax(element) for element in y_pred_test]\n",
    "cm = confusion_matrix(y_test, y_pred_test, labels=[1,0])\n",
    "TP = cm[0][0]\n",
    "FP = cm[1][0]\n",
    "FN = cm[0][1]\n",
    "TN = cm[1][1]\n",
    "\n",
    "print(cm)\n",
    "print(classification_report(y_test, y_pred_test))\n",
    "print(\"Accuracy:\",accuracy_score(y_test, y_pred_test)*100)\n",
    "print(\"Precision\",(calculate_precision(TP,FP))*100)\n",
    "print(\"False Negative Rate\", (calculate_fnr(TP,FP,FN))*100)\n"
   ]
  },
  {
   "cell_type": "markdown",
   "metadata": {},
   "source": [
    "## Testing Phase"
   ]
  },
  {
   "cell_type": "code",
   "execution_count": 18,
   "metadata": {},
   "outputs": [],
   "source": [
    "test_full_feature = pd.read_csv('../Dataset/Normalisasi/test_processed_dataset_slice_norm.csv',sep=',')"
   ]
  },
  {
   "cell_type": "code",
   "execution_count": 19,
   "metadata": {},
   "outputs": [
    {
     "data": {
      "text/html": [
       "<div>\n",
       "<style scoped>\n",
       "    .dataframe tbody tr th:only-of-type {\n",
       "        vertical-align: middle;\n",
       "    }\n",
       "\n",
       "    .dataframe tbody tr th {\n",
       "        vertical-align: top;\n",
       "    }\n",
       "\n",
       "    .dataframe thead th {\n",
       "        text-align: right;\n",
       "    }\n",
       "</style>\n",
       "<table border=\"1\" class=\"dataframe\">\n",
       "  <thead>\n",
       "    <tr style=\"text-align: right;\">\n",
       "      <th></th>\n",
       "      <th>dst</th>\n",
       "      <th>src</th>\n",
       "      <th>Protocol</th>\n",
       "      <th>bytecount</th>\n",
       "    </tr>\n",
       "  </thead>\n",
       "  <tbody>\n",
       "    <tr>\n",
       "      <th>0</th>\n",
       "      <td>0.647059</td>\n",
       "      <td>0.055556</td>\n",
       "      <td>0.0</td>\n",
       "      <td>0.000640</td>\n",
       "    </tr>\n",
       "    <tr>\n",
       "      <th>1</th>\n",
       "      <td>0.705882</td>\n",
       "      <td>0.333333</td>\n",
       "      <td>0.5</td>\n",
       "      <td>0.081254</td>\n",
       "    </tr>\n",
       "    <tr>\n",
       "      <th>2</th>\n",
       "      <td>0.882353</td>\n",
       "      <td>0.555556</td>\n",
       "      <td>0.0</td>\n",
       "      <td>0.000534</td>\n",
       "    </tr>\n",
       "    <tr>\n",
       "      <th>3</th>\n",
       "      <td>0.941176</td>\n",
       "      <td>0.833333</td>\n",
       "      <td>0.5</td>\n",
       "      <td>0.014585</td>\n",
       "    </tr>\n",
       "    <tr>\n",
       "      <th>4</th>\n",
       "      <td>0.647059</td>\n",
       "      <td>0.111111</td>\n",
       "      <td>1.0</td>\n",
       "      <td>0.618070</td>\n",
       "    </tr>\n",
       "  </tbody>\n",
       "</table>\n",
       "</div>"
      ],
      "text/plain": [
       "        dst       src  Protocol  bytecount\n",
       "0  0.647059  0.055556       0.0   0.000640\n",
       "1  0.705882  0.333333       0.5   0.081254\n",
       "2  0.882353  0.555556       0.0   0.000534\n",
       "3  0.941176  0.833333       0.5   0.014585\n",
       "4  0.647059  0.111111       1.0   0.618070"
      ]
     },
     "execution_count": 19,
     "metadata": {},
     "output_type": "execute_result"
    }
   ],
   "source": [
    "# Dataset Full Feature\n",
    "full_feature_x = df_full_feature[df_full_feature.columns[:4]]\n",
    "full_feature_y = df_full_feature['label']\n",
    "\n",
    "full_feature_x.head(5)"
   ]
  },
  {
   "cell_type": "code",
   "execution_count": 20,
   "metadata": {},
   "outputs": [
    {
     "data": {
      "text/plain": [
       "array([[1.0000000e+00, 2.8555014e-08],\n",
       "       [4.9333233e-02, 9.5066684e-01],\n",
       "       [1.0000000e+00, 2.1839659e-09],\n",
       "       ...,\n",
       "       [1.0000000e+00, 1.4936516e-08],\n",
       "       [5.5650502e-01, 4.4349501e-01],\n",
       "       [9.9476212e-01, 5.2378653e-03]], dtype=float32)"
      ]
     },
     "execution_count": 20,
     "metadata": {},
     "output_type": "execute_result"
    }
   ],
   "source": [
    "test_pred = ann_full_model.predict(full_feature_x)\n",
    "test_pred"
   ]
  },
  {
   "cell_type": "code",
   "execution_count": 21,
   "metadata": {},
   "outputs": [
    {
     "name": "stdout",
     "output_type": "stream",
     "text": [
      "[[24106  4076]\n",
      " [ 4812 39207]]\n",
      "              precision    recall  f1-score   support\n",
      "\n",
      "           0       0.91      0.89      0.90     44019\n",
      "           1       0.83      0.86      0.84     28182\n",
      "\n",
      "    accuracy                           0.88     72201\n",
      "   macro avg       0.87      0.87      0.87     72201\n",
      "weighted avg       0.88      0.88      0.88     72201\n",
      "\n",
      "Accuracy: 87.68992119222725\n",
      "Precision 83.35984507918943\n",
      "False Negative Rate 14.095027318625078\n"
     ]
    }
   ],
   "source": [
    "pred_test = [np.argmax(element) for element in test_pred]\n",
    "cm = confusion_matrix(full_feature_y, pred_test, labels=[1,0])\n",
    "TP = cm[0][0]\n",
    "FP = cm[1][0]\n",
    "FN = cm[0][1]\n",
    "TN = cm[1][1]\n",
    "\n",
    "print(cm)\n",
    "print(classification_report(full_feature_y, pred_test))\n",
    "print(\"Accuracy:\",accuracy_score(full_feature_y, pred_test)*100)\n",
    "print(\"Precision\",(calculate_precision(TP,FP))*100)\n",
    "print(\"False Negative Rate\", (calculate_fnr(TP,FP,FN))*100)"
   ]
  },
  {
   "cell_type": "code",
   "execution_count": null,
   "metadata": {},
   "outputs": [],
   "source": []
  }
 ],
 "metadata": {
  "interpreter": {
   "hash": "5d87b42201e74ac320bc00dce267d44f5f134edfec9046f67f672f289707ff6a"
  },
  "kernelspec": {
   "display_name": "Python 3.7.4 64-bit",
   "language": "python",
   "name": "python3"
  },
  "language_info": {
   "codemirror_mode": {
    "name": "ipython",
    "version": 3
   },
   "file_extension": ".py",
   "mimetype": "text/x-python",
   "name": "python",
   "nbconvert_exporter": "python",
   "pygments_lexer": "ipython3",
   "version": "3.7.4"
  },
  "orig_nbformat": 4
 },
 "nbformat": 4,
 "nbformat_minor": 2
}
